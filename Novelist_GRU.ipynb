{
  "nbformat": 4,
  "nbformat_minor": 0,
  "metadata": {
    "accelerator": "GPU",
    "colab": {
      "name": "Novelist_GRU",
      "provenance": [],
      "collapsed_sections": [],
      "include_colab_link": true
    },
    "kernelspec": {
      "display_name": "Python 3",
      "name": "python3"
    },
    "language_info": {
      "name": "python"
    }
  },
  "cells": [
    {
      "cell_type": "markdown",
      "metadata": {
        "id": "view-in-github",
        "colab_type": "text"
      },
      "source": [
        "<a href=\"https://colab.research.google.com/github/TitusChoi/Novelist_Classification/blob/titus/Novelist_GRU.ipynb\" target=\"_parent\"><img src=\"https://colab.research.google.com/assets/colab-badge.svg\" alt=\"Open In Colab\"/></a>"
      ]
    },
    {
      "cell_type": "code",
      "metadata": {
        "colab": {
          "base_uri": "https://localhost:8080/"
        },
        "id": "PJZJ7Yr-FUOn",
        "outputId": "04b7c797-f400-4f12-d16f-46ef7bff6b67"
      },
      "source": [
        "from google.colab import drive\n",
        "drive.mount('/content/drive')"
      ],
      "execution_count": 1,
      "outputs": [
        {
          "output_type": "stream",
          "text": [
            "Mounted at /content/drive\n"
          ],
          "name": "stdout"
        }
      ]
    },
    {
      "cell_type": "code",
      "metadata": {
        "id": "Pv_Wml_wFeJD"
      },
      "source": [
        "import pandas as pd\n",
        "import warnings \n",
        "warnings.filterwarnings(action='ignore')\n",
        "import numpy as np\n",
        "import tensorflow as tf\n",
        "from tensorflow.keras.preprocessing.sequence import pad_sequences\n",
        "from tensorflow.keras.preprocessing.text import Tokenizer\n",
        "import re\n",
        "import random"
      ],
      "execution_count": 3,
      "outputs": []
    },
    {
      "cell_type": "code",
      "metadata": {
        "id": "OoX1-VGQFfg1"
      },
      "source": [
        "#경로 설정\n",
        "import os\n",
        "os.chdir('./')"
      ],
      "execution_count": 4,
      "outputs": []
    },
    {
      "cell_type": "code",
      "metadata": {
        "id": "OEZtMdB5CaDG"
      },
      "source": [
        "#파일 불러오기\n",
        "train = pd.read_csv('/content/drive/MyDrive/Novelist_Classification/datasets/train.csv', encoding = 'utf-8')\n",
        "train_new = pd.read_csv('/content/drive/MyDrive/Novelist_Classification/datasets/new_train.csv', encoding = 'utf-8')\n",
        "test = pd.read_csv('/content/drive/MyDrive/Novelist_Classification/datasets/test_x.csv', encoding = 'utf-8')\n",
        "test_new = pd.read_csv('/content/drive/MyDrive/Novelist_Classification/datasets/new_test.csv', encoding = 'utf-8')\n",
        "sample_submission = pd.read_csv('/content/drive/MyDrive/Novelist_Classification/datasets/sample_submission.csv', encoding = 'utf-8')\n",
        "sample_submission_new = pd.read_csv('/content/drive/MyDrive/Novelist_Classification/datasets/new_sample_submission.csv', encoding = 'utf-8')"
      ],
      "execution_count": 5,
      "outputs": []
    },
    {
      "cell_type": "code",
      "metadata": {
        "colab": {
          "base_uri": "https://localhost:8080/",
          "height": 399
        },
        "id": "SvX_U2ETC7vA",
        "outputId": "1159ee1d-ef61-414b-d75b-8c1a5ab903cc"
      },
      "source": [
        "#train 데이터 살펴보기\n",
        "train"
      ],
      "execution_count": 6,
      "outputs": [
        {
          "output_type": "execute_result",
          "data": {
            "text/html": [
              "<div>\n",
              "<style scoped>\n",
              "    .dataframe tbody tr th:only-of-type {\n",
              "        vertical-align: middle;\n",
              "    }\n",
              "\n",
              "    .dataframe tbody tr th {\n",
              "        vertical-align: top;\n",
              "    }\n",
              "\n",
              "    .dataframe thead th {\n",
              "        text-align: right;\n",
              "    }\n",
              "</style>\n",
              "<table border=\"1\" class=\"dataframe\">\n",
              "  <thead>\n",
              "    <tr style=\"text-align: right;\">\n",
              "      <th></th>\n",
              "      <th>index</th>\n",
              "      <th>text</th>\n",
              "      <th>author</th>\n",
              "    </tr>\n",
              "  </thead>\n",
              "  <tbody>\n",
              "    <tr>\n",
              "      <th>0</th>\n",
              "      <td>0</td>\n",
              "      <td>He was almost choking. There was so much, so m...</td>\n",
              "      <td>3</td>\n",
              "    </tr>\n",
              "    <tr>\n",
              "      <th>1</th>\n",
              "      <td>1</td>\n",
              "      <td>“Your sister asked for it, I suppose?”</td>\n",
              "      <td>2</td>\n",
              "    </tr>\n",
              "    <tr>\n",
              "      <th>2</th>\n",
              "      <td>2</td>\n",
              "      <td>She was engaged one day as she walked, in per...</td>\n",
              "      <td>1</td>\n",
              "    </tr>\n",
              "    <tr>\n",
              "      <th>3</th>\n",
              "      <td>3</td>\n",
              "      <td>The captain was in the porch, keeping himself ...</td>\n",
              "      <td>4</td>\n",
              "    </tr>\n",
              "    <tr>\n",
              "      <th>4</th>\n",
              "      <td>4</td>\n",
              "      <td>“Have mercy, gentlemen!” odin flung up his han...</td>\n",
              "      <td>3</td>\n",
              "    </tr>\n",
              "    <tr>\n",
              "      <th>...</th>\n",
              "      <td>...</td>\n",
              "      <td>...</td>\n",
              "      <td>...</td>\n",
              "    </tr>\n",
              "    <tr>\n",
              "      <th>54874</th>\n",
              "      <td>54874</td>\n",
              "      <td>“Is that you, Mr. Smith?” odin whispered. “I h...</td>\n",
              "      <td>2</td>\n",
              "    </tr>\n",
              "    <tr>\n",
              "      <th>54875</th>\n",
              "      <td>54875</td>\n",
              "      <td>I told my plan to the captain, and between us ...</td>\n",
              "      <td>4</td>\n",
              "    </tr>\n",
              "    <tr>\n",
              "      <th>54876</th>\n",
              "      <td>54876</td>\n",
              "      <td>\"Your sincere well-wisher, friend, and sister...</td>\n",
              "      <td>1</td>\n",
              "    </tr>\n",
              "    <tr>\n",
              "      <th>54877</th>\n",
              "      <td>54877</td>\n",
              "      <td>“Then you wanted me to lend you money?”</td>\n",
              "      <td>3</td>\n",
              "    </tr>\n",
              "    <tr>\n",
              "      <th>54878</th>\n",
              "      <td>54878</td>\n",
              "      <td>It certainly had not occurred to me before, bu...</td>\n",
              "      <td>0</td>\n",
              "    </tr>\n",
              "  </tbody>\n",
              "</table>\n",
              "<p>54879 rows × 3 columns</p>\n",
              "</div>"
            ],
            "text/plain": [
              "       index                                               text  author\n",
              "0          0  He was almost choking. There was so much, so m...       3\n",
              "1          1             “Your sister asked for it, I suppose?”       2\n",
              "2          2   She was engaged one day as she walked, in per...       1\n",
              "3          3  The captain was in the porch, keeping himself ...       4\n",
              "4          4  “Have mercy, gentlemen!” odin flung up his han...       3\n",
              "...      ...                                                ...     ...\n",
              "54874  54874  “Is that you, Mr. Smith?” odin whispered. “I h...       2\n",
              "54875  54875  I told my plan to the captain, and between us ...       4\n",
              "54876  54876   \"Your sincere well-wisher, friend, and sister...       1\n",
              "54877  54877            “Then you wanted me to lend you money?”       3\n",
              "54878  54878  It certainly had not occurred to me before, bu...       0\n",
              "\n",
              "[54879 rows x 3 columns]"
            ]
          },
          "metadata": {
            "tags": []
          },
          "execution_count": 6
        }
      ]
    },
    {
      "cell_type": "code",
      "metadata": {
        "colab": {
          "base_uri": "https://localhost:8080/",
          "height": 399
        },
        "id": "avAxy9OeJEUf",
        "outputId": "1e79b7e0-b4ee-442c-c977-7dbc017e4fd5"
      },
      "source": [
        "train_new"
      ],
      "execution_count": 7,
      "outputs": [
        {
          "output_type": "execute_result",
          "data": {
            "text/html": [
              "<div>\n",
              "<style scoped>\n",
              "    .dataframe tbody tr th:only-of-type {\n",
              "        vertical-align: middle;\n",
              "    }\n",
              "\n",
              "    .dataframe tbody tr th {\n",
              "        vertical-align: top;\n",
              "    }\n",
              "\n",
              "    .dataframe thead th {\n",
              "        text-align: right;\n",
              "    }\n",
              "</style>\n",
              "<table border=\"1\" class=\"dataframe\">\n",
              "  <thead>\n",
              "    <tr style=\"text-align: right;\">\n",
              "      <th></th>\n",
              "      <th>Unnamed: 0</th>\n",
              "      <th>text</th>\n",
              "      <th>author</th>\n",
              "    </tr>\n",
              "  </thead>\n",
              "  <tbody>\n",
              "    <tr>\n",
              "      <th>0</th>\n",
              "      <td>0</td>\n",
              "      <td>It is hard to forget repulsive things. I remem...</td>\n",
              "      <td>6</td>\n",
              "    </tr>\n",
              "    <tr>\n",
              "      <th>1</th>\n",
              "      <td>1</td>\n",
              "      <td>It would be tedious if given in the beadle’s w...</td>\n",
              "      <td>7</td>\n",
              "    </tr>\n",
              "    <tr>\n",
              "      <th>2</th>\n",
              "      <td>2</td>\n",
              "      <td>“Very good. Shall we argue about it here in p...</td>\n",
              "      <td>2</td>\n",
              "    </tr>\n",
              "    <tr>\n",
              "      <th>3</th>\n",
              "      <td>3</td>\n",
              "      <td>“What! and I as high as a tree and as big as a...</td>\n",
              "      <td>6</td>\n",
              "    </tr>\n",
              "    <tr>\n",
              "      <th>4</th>\n",
              "      <td>4</td>\n",
              "      <td>\"Isn't it enough, Vanya?\" she cried, seeing hi...</td>\n",
              "      <td>3</td>\n",
              "    </tr>\n",
              "    <tr>\n",
              "      <th>...</th>\n",
              "      <td>...</td>\n",
              "      <td>...</td>\n",
              "      <td>...</td>\n",
              "    </tr>\n",
              "    <tr>\n",
              "      <th>83215</th>\n",
              "      <td>83215</td>\n",
              "      <td>What with the birthday visitors, and what with...</td>\n",
              "      <td>7</td>\n",
              "    </tr>\n",
              "    <tr>\n",
              "      <th>83216</th>\n",
              "      <td>83216</td>\n",
              "      <td>It was an old rickety door and gave at once be...</td>\n",
              "      <td>2</td>\n",
              "    </tr>\n",
              "    <tr>\n",
              "      <th>83217</th>\n",
              "      <td>83217</td>\n",
              "      <td>“Well then you can go to the devil,” said odin...</td>\n",
              "      <td>3</td>\n",
              "    </tr>\n",
              "    <tr>\n",
              "      <th>83218</th>\n",
              "      <td>83218</td>\n",
              "      <td>“Don’t know?”</td>\n",
              "      <td>7</td>\n",
              "    </tr>\n",
              "    <tr>\n",
              "      <th>83219</th>\n",
              "      <td>83219</td>\n",
              "      <td>“Not go to town!” cried Mrs. Palmer, with a la...</td>\n",
              "      <td>5</td>\n",
              "    </tr>\n",
              "  </tbody>\n",
              "</table>\n",
              "<p>83220 rows × 3 columns</p>\n",
              "</div>"
            ],
            "text/plain": [
              "       Unnamed: 0                                               text  author\n",
              "0               0  It is hard to forget repulsive things. I remem...       6\n",
              "1               1  It would be tedious if given in the beadle’s w...       7\n",
              "2               2   “Very good. Shall we argue about it here in p...       2\n",
              "3               3  “What! and I as high as a tree and as big as a...       6\n",
              "4               4  \"Isn't it enough, Vanya?\" she cried, seeing hi...       3\n",
              "...           ...                                                ...     ...\n",
              "83215       83215  What with the birthday visitors, and what with...       7\n",
              "83216       83216  It was an old rickety door and gave at once be...       2\n",
              "83217       83217  “Well then you can go to the devil,” said odin...       3\n",
              "83218       83218                                      “Don’t know?”       7\n",
              "83219       83219  “Not go to town!” cried Mrs. Palmer, with a la...       5\n",
              "\n",
              "[83220 rows x 3 columns]"
            ]
          },
          "metadata": {
            "tags": []
          },
          "execution_count": 7
        }
      ]
    },
    {
      "cell_type": "code",
      "metadata": {
        "colab": {
          "base_uri": "https://localhost:8080/",
          "height": 399
        },
        "id": "8MxZsr6yCshr",
        "outputId": "cf956466-1a77-4bc1-8d07-541c4a9f72eb"
      },
      "source": [
        "#test 데이터 살펴보기\n",
        "del test_new['Unnamed: 0']\n",
        "test_new"
      ],
      "execution_count": 8,
      "outputs": [
        {
          "output_type": "execute_result",
          "data": {
            "text/html": [
              "<div>\n",
              "<style scoped>\n",
              "    .dataframe tbody tr th:only-of-type {\n",
              "        vertical-align: middle;\n",
              "    }\n",
              "\n",
              "    .dataframe tbody tr th {\n",
              "        vertical-align: top;\n",
              "    }\n",
              "\n",
              "    .dataframe thead th {\n",
              "        text-align: right;\n",
              "    }\n",
              "</style>\n",
              "<table border=\"1\" class=\"dataframe\">\n",
              "  <thead>\n",
              "    <tr style=\"text-align: right;\">\n",
              "      <th></th>\n",
              "      <th>index</th>\n",
              "      <th>text</th>\n",
              "    </tr>\n",
              "  </thead>\n",
              "  <tbody>\n",
              "    <tr>\n",
              "      <th>0</th>\n",
              "      <td>0</td>\n",
              "      <td>About thirty years ago Miss Maria Ward, of Hun...</td>\n",
              "    </tr>\n",
              "    <tr>\n",
              "      <th>1</th>\n",
              "      <td>1</td>\n",
              "      <td>Their homes were so distant, and the circles i...</td>\n",
              "    </tr>\n",
              "    <tr>\n",
              "      <th>2</th>\n",
              "      <td>2</td>\n",
              "      <td>The letter was not unproductive. It re-establi...</td>\n",
              "    </tr>\n",
              "    <tr>\n",
              "      <th>3</th>\n",
              "      <td>3</td>\n",
              "      <td>Such were its immediate effects, and within a ...</td>\n",
              "    </tr>\n",
              "    <tr>\n",
              "      <th>4</th>\n",
              "      <td>4</td>\n",
              "      <td>Sir Thomas could not give so instantaneous and...</td>\n",
              "    </tr>\n",
              "    <tr>\n",
              "      <th>...</th>\n",
              "      <td>...</td>\n",
              "      <td>...</td>\n",
              "    </tr>\n",
              "    <tr>\n",
              "      <th>27313</th>\n",
              "      <td>27313</td>\n",
              "      <td>At the end of another day or two, odin growing...</td>\n",
              "    </tr>\n",
              "    <tr>\n",
              "      <th>27314</th>\n",
              "      <td>27314</td>\n",
              "      <td>All afternoon we sat together, mostly in silen...</td>\n",
              "    </tr>\n",
              "    <tr>\n",
              "      <th>27315</th>\n",
              "      <td>27315</td>\n",
              "      <td>odin, having carried his thanks to odin, proc...</td>\n",
              "    </tr>\n",
              "    <tr>\n",
              "      <th>27316</th>\n",
              "      <td>27316</td>\n",
              "      <td>Soon after this, upon odin's leaving the room,...</td>\n",
              "    </tr>\n",
              "    <tr>\n",
              "      <th>27317</th>\n",
              "      <td>27317</td>\n",
              "      <td>And all the worse for the doomed man, that the...</td>\n",
              "    </tr>\n",
              "  </tbody>\n",
              "</table>\n",
              "<p>27318 rows × 2 columns</p>\n",
              "</div>"
            ],
            "text/plain": [
              "       index                                               text\n",
              "0          0  About thirty years ago Miss Maria Ward, of Hun...\n",
              "1          1  Their homes were so distant, and the circles i...\n",
              "2          2  The letter was not unproductive. It re-establi...\n",
              "3          3  Such were its immediate effects, and within a ...\n",
              "4          4  Sir Thomas could not give so instantaneous and...\n",
              "...      ...                                                ...\n",
              "27313  27313  At the end of another day or two, odin growing...\n",
              "27314  27314  All afternoon we sat together, mostly in silen...\n",
              "27315  27315   odin, having carried his thanks to odin, proc...\n",
              "27316  27316  Soon after this, upon odin's leaving the room,...\n",
              "27317  27317  And all the worse for the doomed man, that the...\n",
              "\n",
              "[27318 rows x 2 columns]"
            ]
          },
          "metadata": {
            "tags": []
          },
          "execution_count": 8
        }
      ]
    },
    {
      "cell_type": "code",
      "metadata": {
        "colab": {
          "base_uri": "https://localhost:8080/",
          "height": 399
        },
        "id": "WOpmyyX_77Op",
        "outputId": "55fd3966-aaf2-4706-bdf0-55ebe76b883c"
      },
      "source": [
        "#sample_submission\n",
        "del sample_submission_new['Unnamed: 0']\n",
        "sample_submission_new = sample_submission_new.drop(sample_submission_new.index[27318])\n",
        "sample_submission_new"
      ],
      "execution_count": 9,
      "outputs": [
        {
          "output_type": "execute_result",
          "data": {
            "text/html": [
              "<div>\n",
              "<style scoped>\n",
              "    .dataframe tbody tr th:only-of-type {\n",
              "        vertical-align: middle;\n",
              "    }\n",
              "\n",
              "    .dataframe tbody tr th {\n",
              "        vertical-align: top;\n",
              "    }\n",
              "\n",
              "    .dataframe thead th {\n",
              "        text-align: right;\n",
              "    }\n",
              "</style>\n",
              "<table border=\"1\" class=\"dataframe\">\n",
              "  <thead>\n",
              "    <tr style=\"text-align: right;\">\n",
              "      <th></th>\n",
              "      <th>index</th>\n",
              "      <th>0</th>\n",
              "      <th>1</th>\n",
              "      <th>2</th>\n",
              "      <th>3</th>\n",
              "      <th>4</th>\n",
              "      <th>5</th>\n",
              "      <th>6</th>\n",
              "      <th>7</th>\n",
              "    </tr>\n",
              "  </thead>\n",
              "  <tbody>\n",
              "    <tr>\n",
              "      <th>0</th>\n",
              "      <td>0</td>\n",
              "      <td>0</td>\n",
              "      <td>0</td>\n",
              "      <td>0</td>\n",
              "      <td>0</td>\n",
              "      <td>0</td>\n",
              "      <td>0</td>\n",
              "      <td>0</td>\n",
              "      <td>0</td>\n",
              "    </tr>\n",
              "    <tr>\n",
              "      <th>1</th>\n",
              "      <td>1</td>\n",
              "      <td>0</td>\n",
              "      <td>0</td>\n",
              "      <td>0</td>\n",
              "      <td>0</td>\n",
              "      <td>0</td>\n",
              "      <td>0</td>\n",
              "      <td>0</td>\n",
              "      <td>0</td>\n",
              "    </tr>\n",
              "    <tr>\n",
              "      <th>2</th>\n",
              "      <td>2</td>\n",
              "      <td>0</td>\n",
              "      <td>0</td>\n",
              "      <td>0</td>\n",
              "      <td>0</td>\n",
              "      <td>0</td>\n",
              "      <td>0</td>\n",
              "      <td>0</td>\n",
              "      <td>0</td>\n",
              "    </tr>\n",
              "    <tr>\n",
              "      <th>3</th>\n",
              "      <td>3</td>\n",
              "      <td>0</td>\n",
              "      <td>0</td>\n",
              "      <td>0</td>\n",
              "      <td>0</td>\n",
              "      <td>0</td>\n",
              "      <td>0</td>\n",
              "      <td>0</td>\n",
              "      <td>0</td>\n",
              "    </tr>\n",
              "    <tr>\n",
              "      <th>4</th>\n",
              "      <td>4</td>\n",
              "      <td>0</td>\n",
              "      <td>0</td>\n",
              "      <td>0</td>\n",
              "      <td>0</td>\n",
              "      <td>0</td>\n",
              "      <td>0</td>\n",
              "      <td>0</td>\n",
              "      <td>0</td>\n",
              "    </tr>\n",
              "    <tr>\n",
              "      <th>...</th>\n",
              "      <td>...</td>\n",
              "      <td>...</td>\n",
              "      <td>...</td>\n",
              "      <td>...</td>\n",
              "      <td>...</td>\n",
              "      <td>...</td>\n",
              "      <td>...</td>\n",
              "      <td>...</td>\n",
              "      <td>...</td>\n",
              "    </tr>\n",
              "    <tr>\n",
              "      <th>27313</th>\n",
              "      <td>27313</td>\n",
              "      <td>0</td>\n",
              "      <td>0</td>\n",
              "      <td>0</td>\n",
              "      <td>0</td>\n",
              "      <td>0</td>\n",
              "      <td>0</td>\n",
              "      <td>0</td>\n",
              "      <td>0</td>\n",
              "    </tr>\n",
              "    <tr>\n",
              "      <th>27314</th>\n",
              "      <td>27314</td>\n",
              "      <td>0</td>\n",
              "      <td>0</td>\n",
              "      <td>0</td>\n",
              "      <td>0</td>\n",
              "      <td>0</td>\n",
              "      <td>0</td>\n",
              "      <td>0</td>\n",
              "      <td>0</td>\n",
              "    </tr>\n",
              "    <tr>\n",
              "      <th>27315</th>\n",
              "      <td>27315</td>\n",
              "      <td>0</td>\n",
              "      <td>0</td>\n",
              "      <td>0</td>\n",
              "      <td>0</td>\n",
              "      <td>0</td>\n",
              "      <td>0</td>\n",
              "      <td>0</td>\n",
              "      <td>0</td>\n",
              "    </tr>\n",
              "    <tr>\n",
              "      <th>27316</th>\n",
              "      <td>27316</td>\n",
              "      <td>0</td>\n",
              "      <td>0</td>\n",
              "      <td>0</td>\n",
              "      <td>0</td>\n",
              "      <td>0</td>\n",
              "      <td>0</td>\n",
              "      <td>0</td>\n",
              "      <td>0</td>\n",
              "    </tr>\n",
              "    <tr>\n",
              "      <th>27317</th>\n",
              "      <td>27317</td>\n",
              "      <td>0</td>\n",
              "      <td>0</td>\n",
              "      <td>0</td>\n",
              "      <td>0</td>\n",
              "      <td>0</td>\n",
              "      <td>0</td>\n",
              "      <td>0</td>\n",
              "      <td>0</td>\n",
              "    </tr>\n",
              "  </tbody>\n",
              "</table>\n",
              "<p>27318 rows × 9 columns</p>\n",
              "</div>"
            ],
            "text/plain": [
              "       index  0  1  2  3  4  5  6  7\n",
              "0          0  0  0  0  0  0  0  0  0\n",
              "1          1  0  0  0  0  0  0  0  0\n",
              "2          2  0  0  0  0  0  0  0  0\n",
              "3          3  0  0  0  0  0  0  0  0\n",
              "4          4  0  0  0  0  0  0  0  0\n",
              "...      ... .. .. .. .. .. .. .. ..\n",
              "27313  27313  0  0  0  0  0  0  0  0\n",
              "27314  27314  0  0  0  0  0  0  0  0\n",
              "27315  27315  0  0  0  0  0  0  0  0\n",
              "27316  27316  0  0  0  0  0  0  0  0\n",
              "27317  27317  0  0  0  0  0  0  0  0\n",
              "\n",
              "[27318 rows x 9 columns]"
            ]
          },
          "metadata": {
            "tags": []
          },
          "execution_count": 9
        }
      ]
    },
    {
      "cell_type": "markdown",
      "metadata": {
        "id": "PPq0vxJVDS3R"
      },
      "source": [
        "# **전처리**"
      ]
    },
    {
      "cell_type": "code",
      "metadata": {
        "id": "tMUMcInsD80p"
      },
      "source": [
        "#부호를 제거해주는 함수\n",
        "def alpha_num(text):\n",
        "    return re.sub(r'[^A-Za-z0-9 ]', '', text)\n",
        "\n",
        "train['text']=train['text'].apply(alpha_num)"
      ],
      "execution_count": 10,
      "outputs": []
    },
    {
      "cell_type": "code",
      "metadata": {
        "id": "vf_TGrbKCaDK"
      },
      "source": [
        "# 불용어 제거해주는 함수\n",
        "def remove_stopwords(text):\n",
        "    final_text = []\n",
        "    for i in text.split():\n",
        "        if i.strip().lower() not in base_stopwords:\n",
        "            final_text.append(i.strip())\n",
        "    return \" \".join(final_text)\n",
        "\n",
        "# 불용어\n",
        "base_stopwords = [ \"a\", \"about\", \"above\", \"after\", \"again\", \"against\", \"all\", \"am\", \"an\", \"and\", \"any\", \"are\", \"as\", \n",
        "             \"at\", \"be\", \"because\", \"been\", \"before\", \"being\", \"below\", \"between\", \"both\", \"but\", \"by\", \"could\", \n",
        "             \"did\", \"do\", \"does\", \"doing\", \"down\", \"during\", \"each\", \"few\", \"for\", \"from\", \"further\", \"had\", \"has\", \n",
        "             \"have\", \"having\", \"he\", \"he'd\", \"he'll\", \"he's\", \"her\", \"here\", \"here's\", \"hers\", \"herself\", \"him\", \"himself\", \n",
        "             \"his\", \"how\", \"how's\", \"i\", \"i'd\", \"i'll\", \"i'm\", \"i've\", \"if\", \"in\", \"into\", \"is\", \"it\", \"it's\", \"its\", \"itself\", \n",
        "             \"let's\", \"me\", \"more\", \"most\", \"my\", \"myself\", \"nor\", \"of\", \"on\", \"once\", \"only\", \"or\", \"other\", \"ought\", \"our\", \"ours\", \n",
        "             \"ourselves\", \"out\", \"over\", \"own\", \"same\", \"she\", \"she'd\", \"she'll\", \"she's\", \"should\", \"so\", \"some\", \"such\", \"than\", \"that\", \n",
        "             \"that's\", \"the\", \"their\", \"theirs\", \"them\", \"themselves\", \"then\", \"there\", \"there's\", \"these\", \"they\", \"they'd\", \"they'll\", \n",
        "             \"they're\", \"they've\", \"this\", \"those\", \"through\", \"to\", \"too\", \"under\", \"until\", \"up\", \"very\", \"was\", \"we\", \"we'd\", \"we'll\", \n",
        "             \"we're\", \"we've\", \"were\", \"what\", \"what's\", \"when\", \"when's\", \"where\", \"where's\", \"which\", \"while\", \"who\", \"who's\", \"whom\", \n",
        "             \"why\", \"why's\", \"with\", \"would\", \"you\", \"you'd\", \"you'll\", \"you're\", \"you've\", \"your\", \"yours\", \"yourself\", \"yourselves\" ]"
      ],
      "execution_count": 11,
      "outputs": []
    },
    {
      "cell_type": "code",
      "metadata": {
        "id": "sUgcc07ADiiU"
      },
      "source": [
        "#전처리 적용\n",
        "train['text'] = train['text'].str.lower()\n",
        "test['text'] = test['text'].str.lower()\n",
        "train['text'] = train['text'].apply(alpha_num).apply(remove_stopwords)\n",
        "test['text'] = test['text'].apply(alpha_num).apply(remove_stopwords)\n",
        "\n",
        "\n",
        "train_new['text'] = train_new['text'].str.lower()\n",
        "test_new['text'] = test_new['text'].str.lower()\n",
        "train_new['text'] = train_new['text'].apply(alpha_num).apply(remove_stopwords)\n",
        "test_new['text'] = test_new['text'].apply(alpha_num).apply(remove_stopwords)"
      ],
      "execution_count": 12,
      "outputs": []
    },
    {
      "cell_type": "code",
      "metadata": {
        "id": "DZdWzRkCDovd"
      },
      "source": [
        "# train test 분리\n",
        "X_train = np.array([x for x in train['text']])\n",
        "X_test = np.array([x for x in test['text']])\n",
        "y_train = np.array([x for x in train['author']])\n",
        "\n",
        "X_train_new = np.array([x for x in train_new['text']])\n",
        "X_test_new = np.array([x for x in test_new['text']])\n",
        "y_train_new = np.array([x for x in train_new['author']])"
      ],
      "execution_count": 13,
      "outputs": []
    },
    {
      "cell_type": "markdown",
      "metadata": {
        "id": "Ks1FhSNUHrke"
      },
      "source": [
        "# **모델링**"
      ]
    },
    {
      "cell_type": "code",
      "metadata": {
        "id": "cJ54B-XsJY9y"
      },
      "source": [
        "# FastText 사용\n",
        "import gensim\n",
        "from gensim.models.keyedvectors import KeyedVectors"
      ],
      "execution_count": 14,
      "outputs": []
    },
    {
      "cell_type": "code",
      "metadata": {
        "colab": {
          "base_uri": "https://localhost:8080/",
          "height": 302
        },
        "id": "APPwGz_k9bf0",
        "outputId": "55bf7b63-c8a0-4f7d-e285-c970e7b960e1"
      },
      "source": [
        "pip install -U gensim"
      ],
      "execution_count": 15,
      "outputs": [
        {
          "output_type": "stream",
          "text": [
            "Collecting gensim\n",
            "\u001b[?25l  Downloading https://files.pythonhosted.org/packages/44/52/f1417772965652d4ca6f901515debcd9d6c5430969e8c02ee7737e6de61c/gensim-4.0.1-cp37-cp37m-manylinux1_x86_64.whl (23.9MB)\n",
            "\u001b[K     |████████████████████████████████| 23.9MB 63.5MB/s \n",
            "\u001b[?25hRequirement already satisfied, skipping upgrade: numpy>=1.11.3 in /usr/local/lib/python3.7/dist-packages (from gensim) (1.19.5)\n",
            "Requirement already satisfied, skipping upgrade: scipy>=0.18.1 in /usr/local/lib/python3.7/dist-packages (from gensim) (1.4.1)\n",
            "Requirement already satisfied, skipping upgrade: smart-open>=1.8.1 in /usr/local/lib/python3.7/dist-packages (from gensim) (5.0.0)\n",
            "Installing collected packages: gensim\n",
            "  Found existing installation: gensim 3.6.0\n",
            "    Uninstalling gensim-3.6.0:\n",
            "      Successfully uninstalled gensim-3.6.0\n",
            "Successfully installed gensim-4.0.1\n"
          ],
          "name": "stdout"
        },
        {
          "output_type": "display_data",
          "data": {
            "application/vnd.colab-display-data+json": {
              "pip_warning": {
                "packages": [
                  "gensim"
                ]
              }
            }
          },
          "metadata": {
            "tags": []
          }
        }
      ]
    },
    {
      "cell_type": "code",
      "metadata": {
        "id": "-2jbc-II80YC",
        "colab": {
          "base_uri": "https://localhost:8080/",
          "height": 229
        },
        "outputId": "cb2449c0-e130-4503-af06-5d15aa17bb42"
      },
      "source": [
        "FastText = KeyedVectors.load_word2vec_format('/content/drive/MyDrive/Novelist_Classification/embbeding/fasttext.vec')"
      ],
      "execution_count": 17,
      "outputs": [
        {
          "output_type": "error",
          "ename": "ValueError",
          "evalue": "ignored",
          "traceback": [
            "\u001b[0;31m---------------------------------------------------------------------------\u001b[0m",
            "\u001b[0;31mValueError\u001b[0m                                Traceback (most recent call last)",
            "\u001b[0;32m<ipython-input-17-0a6dfb7ceab5>\u001b[0m in \u001b[0;36m<module>\u001b[0;34m()\u001b[0m\n\u001b[0;32m----> 1\u001b[0;31m \u001b[0mFastText\u001b[0m \u001b[0;34m=\u001b[0m \u001b[0mKeyedVectors\u001b[0m\u001b[0;34m.\u001b[0m\u001b[0mload_word2vec_format\u001b[0m\u001b[0;34m(\u001b[0m\u001b[0;34m'/content/drive/MyDrive/Novelist_Classification/embbeding/fasttext.vec'\u001b[0m\u001b[0;34m)\u001b[0m\u001b[0;34m\u001b[0m\u001b[0;34m\u001b[0m\u001b[0m\n\u001b[0m",
            "\u001b[0;32m/usr/local/lib/python3.7/dist-packages/gensim/models/keyedvectors.py\u001b[0m in \u001b[0;36mload_word2vec_format\u001b[0;34m(cls, fname, fvocab, binary, encoding, unicode_errors, limit, datatype)\u001b[0m\n\u001b[1;32m   1436\u001b[0m \u001b[0;34m\u001b[0m\u001b[0m\n\u001b[1;32m   1437\u001b[0m     @deprecated(\n\u001b[0;32m-> 1438\u001b[0;31m         \u001b[0;34m\"Use fill_norms() instead. \"\u001b[0m\u001b[0;34m\u001b[0m\u001b[0;34m\u001b[0m\u001b[0m\n\u001b[0m\u001b[1;32m   1439\u001b[0m         \u001b[0;34m\"See https://github.com/RaRe-Technologies/gensim/wiki/Migrating-from-Gensim-3.x-to-4\"\u001b[0m\u001b[0;34m\u001b[0m\u001b[0;34m\u001b[0m\u001b[0m\n\u001b[1;32m   1440\u001b[0m     )\n",
            "\u001b[0;32m/usr/local/lib/python3.7/dist-packages/gensim/models/utils_any2vec.py\u001b[0m in \u001b[0;36m_load_word2vec_format\u001b[0;34m(cls, fname, fvocab, binary, encoding, unicode_errors, limit, datatype)\u001b[0m\n",
            "\u001b[0;31mValueError\u001b[0m: invalid vector on line 316699 (is this really the text format?)"
          ]
        }
      ]
    },
    {
      "cell_type": "code",
      "metadata": {
        "id": "um6uZK5EDzAm"
      },
      "source": [
        "#파라미터 설정\n",
        "vocab_size = 47136\n",
        "vocab_size_new = 63727\n",
        "embedding_dim = 16\n",
        "max_length = 500\n",
        "padding_type='post'\n",
        "#oov_tok = \"<OOV>\""
      ],
      "execution_count": 21,
      "outputs": []
    },
    {
      "cell_type": "code",
      "metadata": {
        "id": "UvR9_VnTD8L9"
      },
      "source": [
        "#tokenizer에 fit\n",
        "# 작가 5명\n",
        "tokenizer = Tokenizer(num_words = vocab_size)#, oov_token=oov_tok)\n",
        "tokenizer.fit_on_texts(X_train)\n",
        "word_index = tokenizer.word_index\n",
        "\n",
        "# 작가 8명\n",
        "tokenizer_new = Tokenizer(num_words = vocab_size_new)#, oov_token=oov_tok)\n",
        "tokenizer_new.fit_on_texts(X_train_new)\n",
        "word_index_new = tokenizer_new.word_index"
      ],
      "execution_count": 22,
      "outputs": []
    },
    {
      "cell_type": "code",
      "metadata": {
        "colab": {
          "base_uri": "https://localhost:8080/"
        },
        "id": "joBtTgCYavk1",
        "outputId": "f0225985-2815-4d46-f47d-4eb656cb81ee"
      },
      "source": [
        "len(word_index_new)"
      ],
      "execution_count": 23,
      "outputs": [
        {
          "output_type": "execute_result",
          "data": {
            "text/plain": [
              "63727"
            ]
          },
          "metadata": {
            "tags": []
          },
          "execution_count": 23
        }
      ]
    },
    {
      "cell_type": "code",
      "metadata": {
        "id": "Moj2gUdDPgxY",
        "colab": {
          "base_uri": "https://localhost:8080/",
          "height": 365
        },
        "outputId": "e1c25999-6d32-407b-fbea-4be7e696ba39"
      },
      "source": [
        "# Fasttext 임베딩 과정\n",
        "FT_embedding_matrix = np.zeros((vocab_size,100))\n",
        "FT_embedding_matrix_new = np.zeros((vocab_size_new,100))\n",
        "\n",
        "def get_vector(word):\n",
        "    if word in FastText:\n",
        "        return FastText[word]\n",
        "    else:\n",
        "        return None\n",
        "\n",
        "# 작가5명\n",
        "for word, idx in word_index.items():\n",
        "    temp = get_vector(word)\n",
        "    if temp is not None:\n",
        "        FT_embedding_matrix[idx] = temp\n",
        "\n",
        "# 작가8명\n",
        "for word, idx in word_index_new.items():\n",
        "    temp = get_vector(word)\n",
        "    if temp is not None:\n",
        "        FT_embedding_matrix_new[idx] = temp"
      ],
      "execution_count": 24,
      "outputs": [
        {
          "output_type": "error",
          "ename": "NameError",
          "evalue": "ignored",
          "traceback": [
            "\u001b[0;31m---------------------------------------------------------------------------\u001b[0m",
            "\u001b[0;31mNameError\u001b[0m                                 Traceback (most recent call last)",
            "\u001b[0;32m<ipython-input-24-3ea59763d948>\u001b[0m in \u001b[0;36m<module>\u001b[0;34m()\u001b[0m\n\u001b[1;32m     11\u001b[0m \u001b[0;31m# 작가5명\u001b[0m\u001b[0;34m\u001b[0m\u001b[0;34m\u001b[0m\u001b[0;34m\u001b[0m\u001b[0m\n\u001b[1;32m     12\u001b[0m \u001b[0;32mfor\u001b[0m \u001b[0mword\u001b[0m\u001b[0;34m,\u001b[0m \u001b[0midx\u001b[0m \u001b[0;32min\u001b[0m \u001b[0mword_index\u001b[0m\u001b[0;34m.\u001b[0m\u001b[0mitems\u001b[0m\u001b[0;34m(\u001b[0m\u001b[0;34m)\u001b[0m\u001b[0;34m:\u001b[0m\u001b[0;34m\u001b[0m\u001b[0;34m\u001b[0m\u001b[0m\n\u001b[0;32m---> 13\u001b[0;31m     \u001b[0mtemp\u001b[0m \u001b[0;34m=\u001b[0m \u001b[0mget_vector\u001b[0m\u001b[0;34m(\u001b[0m\u001b[0mword\u001b[0m\u001b[0;34m)\u001b[0m\u001b[0;34m\u001b[0m\u001b[0;34m\u001b[0m\u001b[0m\n\u001b[0m\u001b[1;32m     14\u001b[0m     \u001b[0;32mif\u001b[0m \u001b[0mtemp\u001b[0m \u001b[0;32mis\u001b[0m \u001b[0;32mnot\u001b[0m \u001b[0;32mNone\u001b[0m\u001b[0;34m:\u001b[0m\u001b[0;34m\u001b[0m\u001b[0;34m\u001b[0m\u001b[0m\n\u001b[1;32m     15\u001b[0m         \u001b[0mFT_embedding_matrix\u001b[0m\u001b[0;34m[\u001b[0m\u001b[0midx\u001b[0m\u001b[0;34m]\u001b[0m \u001b[0;34m=\u001b[0m \u001b[0mtemp\u001b[0m\u001b[0;34m\u001b[0m\u001b[0;34m\u001b[0m\u001b[0m\n",
            "\u001b[0;32m<ipython-input-24-3ea59763d948>\u001b[0m in \u001b[0;36mget_vector\u001b[0;34m(word)\u001b[0m\n\u001b[1;32m      4\u001b[0m \u001b[0;34m\u001b[0m\u001b[0m\n\u001b[1;32m      5\u001b[0m \u001b[0;32mdef\u001b[0m \u001b[0mget_vector\u001b[0m\u001b[0;34m(\u001b[0m\u001b[0mword\u001b[0m\u001b[0;34m)\u001b[0m\u001b[0;34m:\u001b[0m\u001b[0;34m\u001b[0m\u001b[0;34m\u001b[0m\u001b[0m\n\u001b[0;32m----> 6\u001b[0;31m     \u001b[0;32mif\u001b[0m \u001b[0mword\u001b[0m \u001b[0;32min\u001b[0m \u001b[0mFastText\u001b[0m\u001b[0;34m:\u001b[0m\u001b[0;34m\u001b[0m\u001b[0;34m\u001b[0m\u001b[0m\n\u001b[0m\u001b[1;32m      7\u001b[0m         \u001b[0;32mreturn\u001b[0m \u001b[0mFastText\u001b[0m\u001b[0;34m[\u001b[0m\u001b[0mword\u001b[0m\u001b[0;34m]\u001b[0m\u001b[0;34m\u001b[0m\u001b[0;34m\u001b[0m\u001b[0m\n\u001b[1;32m      8\u001b[0m     \u001b[0;32melse\u001b[0m\u001b[0;34m:\u001b[0m\u001b[0;34m\u001b[0m\u001b[0;34m\u001b[0m\u001b[0m\n",
            "\u001b[0;31mNameError\u001b[0m: name 'FastText' is not defined"
          ]
        }
      ]
    },
    {
      "cell_type": "code",
      "metadata": {
        "id": "2q36KuG3Ona8"
      },
      "source": [
        "# 사전 학습된 glove 불러오고 임베딩 층에 적용시키기 \n",
        "embedding_dict= dict()\n",
        "f = open('/content/drive/MyDrive/Novelist_Classification/embbeding/glove.txt', encoding='utf8')\n",
        "\n",
        "for line in f:\n",
        "    word_vector = line.split()\n",
        "    word = word_vector[0]\n",
        "    word_vector_arr = np.asarray(word_vector[1:], dtype='float32')\n",
        "    embedding_dict[word] = word_vector_arr\n",
        "f.close\n",
        "\n",
        "g_embedding_matrix = np.zeros((vocab_size, 50))\n",
        "g_embedding_matrix_new = np.zeros((vocab_size_new+1, 50))\n",
        "\n",
        "# 작가5명\n",
        "for word, i in word_index.items():\n",
        "    temp = embedding_dict.get(word)\n",
        "    if temp is not None:\n",
        "        g_embedding_matrix[i] = temp\n",
        "\n",
        "# 작가8명\n",
        "for word, i in word_index_new.items():\n",
        "    temp = embedding_dict.get(word)\n",
        "    if temp is not None:\n",
        "        g_embedding_matrix_new[i] = temp"
      ],
      "execution_count": 25,
      "outputs": []
    },
    {
      "cell_type": "markdown",
      "metadata": {
        "id": "tMRmE-4gEVfv"
      },
      "source": [
        "#GRU 모델"
      ]
    },
    {
      "cell_type": "code",
      "metadata": {
        "id": "lCFMYE3KEXU6"
      },
      "source": [
        "#데이터를 sequence로 변환해주고 padding 해줍니다.\n",
        "train_sequences = tokenizer.texts_to_sequences(X_train)\n",
        "train_padded = pad_sequences(train_sequences, padding=padding_type, maxlen=max_length)\n",
        "\n",
        "test_sequences = tokenizer.texts_to_sequences(X_test)\n",
        "test_padded = pad_sequences(test_sequences, padding=padding_type, maxlen=max_length)\n",
        "\n",
        "train_sequences_new = tokenizer.texts_to_sequences(X_train_new)\n",
        "train_padded_new = pad_sequences(train_sequences_new, padding=padding_type, maxlen=max_length)\n",
        "\n",
        "test_sequences_new = tokenizer.texts_to_sequences(X_test_new)\n",
        "test_padded_new = pad_sequences(test_sequences_new, padding=padding_type, maxlen=max_length)"
      ],
      "execution_count": 26,
      "outputs": []
    },
    {
      "cell_type": "code",
      "metadata": {
        "id": "nNJ6qbCiEYrz"
      },
      "source": [
        "import tensorflow as tf\n",
        "from tensorflow.keras import preprocessing\n",
        "from tensorflow.keras.models import Model\n",
        "from tensorflow.keras.layers import Input, Embedding, Dropout,Dense, Conv1D, GlobalMaxPool1D, concatenate, MaxPool1D\n",
        "import time\n",
        "import matplotlib.pyplot as plt"
      ],
      "execution_count": 27,
      "outputs": []
    },
    {
      "cell_type": "code",
      "metadata": {
        "id": "QMzc8qtwG81l"
      },
      "source": [
        "# 하이퍼파라미터 설정\n",
        "dropout_prob = 0.5\n",
        "EMB_SIZE = 128\n",
        "EPOCH = 30\n",
        "VOCAB_SIZE = vocab_size\n",
        "VOCAB_SIZE_new = vocab_size_new"
      ],
      "execution_count": 28,
      "outputs": []
    },
    {
      "cell_type": "markdown",
      "metadata": {
        "id": "y4Fr3IEYPMJ7"
      },
      "source": [
        "커널 사이즈 3,4,5를 각각 거친후 GlobalMaxPool1D 실행후 concat으로 합치기<br>\n",
        "FaseText 작가 5명"
      ]
    },
    {
      "cell_type": "code",
      "metadata": {
        "id": "RsZQCIOtEmpf"
      },
      "source": [
        "input_layer = Input(shape=(max_length,))\n",
        "embedding_layer = Embedding(vocab_size, 100,weights = [FT_embedding_matrix], input_length=max_length)(input_layer)\n",
        "dropout_emb = Dropout(rate=dropout_prob)(embedding_layer)"
      ],
      "execution_count": 29,
      "outputs": []
    },
    {
      "cell_type": "code",
      "metadata": {
        "id": "7rKjZDB_GnFT"
      },
      "source": [
        "conv1 = Conv1D(filters=128, kernel_size=3, padding='valid', activation=tf.nn.relu)(dropout_emb)\n",
        "pool1 = GlobalMaxPool1D()(conv1)\n",
        "conv2 = Conv1D(filters=128, kernel_size=4, padding='valid', activation=tf.nn.relu)(dropout_emb)\n",
        "pool2 = GlobalMaxPool1D()(conv2)\n",
        "conv3 = Conv1D(filters=128, kernel_size=5, padding='valid', activation=tf.nn.relu)(dropout_emb)\n",
        "pool3 = GlobalMaxPool1D()(conv3)"
      ],
      "execution_count": 30,
      "outputs": []
    },
    {
      "cell_type": "code",
      "metadata": {
        "id": "tR4UXd1zHIB1"
      },
      "source": [
        "# 3, 4, 5 - gram 이후 합치기\n",
        "concat = concatenate([pool1, pool2, pool3])\n",
        "hidden = Dense(128, activation=tf.nn.relu)(concat)\n",
        "dropout_hidden = Dropout(rate=dropout_prob)(hidden)\n",
        "logits = Dense(5, name='logits')(dropout_hidden)\n",
        "predictions = Dense(5, activation=tf.nn.softmax)(logits)"
      ],
      "execution_count": 31,
      "outputs": []
    },
    {
      "cell_type": "code",
      "metadata": {
        "id": "0_YL6Bg1HJsD"
      },
      "source": [
        "model_fast_org = Model(inputs=input_layer,outputs=predictions)\n",
        "model_fast_org.compile(optimizer='adam', loss='sparse_categorical_crossentropy',metrics=['accuracy'])"
      ],
      "execution_count": 32,
      "outputs": []
    },
    {
      "cell_type": "code",
      "metadata": {
        "colab": {
          "base_uri": "https://localhost:8080/"
        },
        "id": "9gIfEQGyHLRg",
        "outputId": "1bc5f8b9-fa27-4415-dec5-96539dae709e"
      },
      "source": [
        "early_stopping = tf.keras.callbacks.EarlyStopping(monitor='val_loss', mode='min', patience=5, verbose=1)\n",
        "hist_fast_org = model_fast_org.fit(train_padded,y_train,verbose=2, epochs=EPOCH,validation_split=0.2,callbacks = [early_stopping])"
      ],
      "execution_count": 33,
      "outputs": [
        {
          "output_type": "stream",
          "text": [
            "Epoch 1/30\n",
            "1372/1372 - 108s - loss: 1.5728 - accuracy: 0.2734 - val_loss: 1.5715 - val_accuracy: 0.2680\n",
            "Epoch 2/30\n",
            "1372/1372 - 77s - loss: 1.5702 - accuracy: 0.2761 - val_loss: 1.5715 - val_accuracy: 0.2680\n",
            "Epoch 3/30\n",
            "1372/1372 - 75s - loss: 1.5702 - accuracy: 0.2761 - val_loss: 1.5714 - val_accuracy: 0.2680\n",
            "Epoch 4/30\n",
            "1372/1372 - 74s - loss: 1.5702 - accuracy: 0.2761 - val_loss: 1.5715 - val_accuracy: 0.2680\n",
            "Epoch 5/30\n",
            "1372/1372 - 74s - loss: 1.5702 - accuracy: 0.2761 - val_loss: 1.5719 - val_accuracy: 0.2680\n",
            "Epoch 6/30\n",
            "1372/1372 - 75s - loss: 1.5701 - accuracy: 0.2761 - val_loss: 1.5711 - val_accuracy: 0.2680\n",
            "Epoch 7/30\n",
            "1372/1372 - 75s - loss: 1.5700 - accuracy: 0.2761 - val_loss: 1.5714 - val_accuracy: 0.2680\n",
            "Epoch 8/30\n",
            "1372/1372 - 75s - loss: 1.5702 - accuracy: 0.2761 - val_loss: 1.5714 - val_accuracy: 0.2680\n",
            "Epoch 9/30\n",
            "1372/1372 - 74s - loss: 1.5702 - accuracy: 0.2761 - val_loss: 1.5714 - val_accuracy: 0.2680\n",
            "Epoch 10/30\n",
            "1372/1372 - 75s - loss: 1.5702 - accuracy: 0.2761 - val_loss: 1.5714 - val_accuracy: 0.2680\n",
            "Epoch 11/30\n",
            "1372/1372 - 74s - loss: 1.5702 - accuracy: 0.2761 - val_loss: 1.5713 - val_accuracy: 0.2680\n",
            "Epoch 00011: early stopping\n"
          ],
          "name": "stdout"
        }
      ]
    },
    {
      "cell_type": "code",
      "metadata": {
        "colab": {
          "base_uri": "https://localhost:8080/",
          "height": 573
        },
        "id": "gR36GPZ_GrZO",
        "outputId": "a9282b44-f6ad-4c2a-db70-6bb2a43e58b8"
      },
      "source": [
        "plt.plot(hist_fast_org.history['accuracy'])\n",
        "plt.plot(hist_fast_org.history['val_accuracy'])\n",
        "plt.title('Model FastText 5Novel accuracy')\n",
        "plt.xlabel('Epoch')\n",
        "plt.ylabel('Accuracy')\n",
        "plt.legend(['train', 'val'], loc='upper left')\n",
        "plt.show()\n",
        "\n",
        "plt.plot(hist_fast_org.history['loss'])\n",
        "plt.plot(hist_fast_org.history['val_loss'])\n",
        "plt.title('Model FastText 5Novel loss')\n",
        "plt.xlabel('Epoch')\n",
        "plt.ylabel('Loss')\n",
        "plt.legend(['train', 'val'], loc='upper left')\n",
        "plt.show()\n"
      ],
      "execution_count": 34,
      "outputs": [
        {
          "output_type": "display_data",
          "data": {
            "image/png": "[encoded data removed]",
            "text/plain": [
              "<Figure size 432x288 with 1 Axes>"
            ]
          },
          "metadata": {
            "tags": [],
            "needs_background": "light"
          }
        },
        {
          "output_type": "display_data",
          "data": {
            "image/png": "[encoded data removed]",
            "text/plain": [
              "<Figure size 432x288 with 1 Axes>"
            ]
          },
          "metadata": {
            "tags": [],
            "needs_background": "light"
          }
        }
      ]
    },
    {
      "cell_type": "code",
      "metadata": {
        "colab": {
          "base_uri": "https://localhost:8080/",
          "height": 399
        },
        "id": "g4cB83Pm2l-C",
        "outputId": "7e2569bc-3677-4c3e-8af7-f0e96f84cabb"
      },
      "source": [
        "pred_fast_org = model_fast_org.predict(test_padded)\n",
        "sample_submission[['0','1','2','3','4']] = pred_fast_org\n",
        "sample_submission"
      ],
      "execution_count": 35,
      "outputs": [
        {
          "output_type": "execute_result",
          "data": {
            "text/html": [
              "<div>\n",
              "<style scoped>\n",
              "    .dataframe tbody tr th:only-of-type {\n",
              "        vertical-align: middle;\n",
              "    }\n",
              "\n",
              "    .dataframe tbody tr th {\n",
              "        vertical-align: top;\n",
              "    }\n",
              "\n",
              "    .dataframe thead th {\n",
              "        text-align: right;\n",
              "    }\n",
              "</style>\n",
              "<table border=\"1\" class=\"dataframe\">\n",
              "  <thead>\n",
              "    <tr style=\"text-align: right;\">\n",
              "      <th></th>\n",
              "      <th>index</th>\n",
              "      <th>0</th>\n",
              "      <th>1</th>\n",
              "      <th>2</th>\n",
              "      <th>3</th>\n",
              "      <th>4</th>\n",
              "    </tr>\n",
              "  </thead>\n",
              "  <tbody>\n",
              "    <tr>\n",
              "      <th>0</th>\n",
              "      <td>0</td>\n",
              "      <td>0.240228</td>\n",
              "      <td>0.13298</td>\n",
              "      <td>0.212198</td>\n",
              "      <td>0.267359</td>\n",
              "      <td>0.147236</td>\n",
              "    </tr>\n",
              "    <tr>\n",
              "      <th>1</th>\n",
              "      <td>1</td>\n",
              "      <td>0.240228</td>\n",
              "      <td>0.13298</td>\n",
              "      <td>0.212198</td>\n",
              "      <td>0.267359</td>\n",
              "      <td>0.147236</td>\n",
              "    </tr>\n",
              "    <tr>\n",
              "      <th>2</th>\n",
              "      <td>2</td>\n",
              "      <td>0.240228</td>\n",
              "      <td>0.13298</td>\n",
              "      <td>0.212198</td>\n",
              "      <td>0.267359</td>\n",
              "      <td>0.147236</td>\n",
              "    </tr>\n",
              "    <tr>\n",
              "      <th>3</th>\n",
              "      <td>3</td>\n",
              "      <td>0.240228</td>\n",
              "      <td>0.13298</td>\n",
              "      <td>0.212198</td>\n",
              "      <td>0.267359</td>\n",
              "      <td>0.147236</td>\n",
              "    </tr>\n",
              "    <tr>\n",
              "      <th>4</th>\n",
              "      <td>4</td>\n",
              "      <td>0.240228</td>\n",
              "      <td>0.13298</td>\n",
              "      <td>0.212198</td>\n",
              "      <td>0.267359</td>\n",
              "      <td>0.147236</td>\n",
              "    </tr>\n",
              "    <tr>\n",
              "      <th>...</th>\n",
              "      <td>...</td>\n",
              "      <td>...</td>\n",
              "      <td>...</td>\n",
              "      <td>...</td>\n",
              "      <td>...</td>\n",
              "      <td>...</td>\n",
              "    </tr>\n",
              "    <tr>\n",
              "      <th>19612</th>\n",
              "      <td>19612</td>\n",
              "      <td>0.240228</td>\n",
              "      <td>0.13298</td>\n",
              "      <td>0.212198</td>\n",
              "      <td>0.267359</td>\n",
              "      <td>0.147236</td>\n",
              "    </tr>\n",
              "    <tr>\n",
              "      <th>19613</th>\n",
              "      <td>19613</td>\n",
              "      <td>0.240228</td>\n",
              "      <td>0.13298</td>\n",
              "      <td>0.212198</td>\n",
              "      <td>0.267359</td>\n",
              "      <td>0.147236</td>\n",
              "    </tr>\n",
              "    <tr>\n",
              "      <th>19614</th>\n",
              "      <td>19614</td>\n",
              "      <td>0.240228</td>\n",
              "      <td>0.13298</td>\n",
              "      <td>0.212198</td>\n",
              "      <td>0.267359</td>\n",
              "      <td>0.147236</td>\n",
              "    </tr>\n",
              "    <tr>\n",
              "      <th>19615</th>\n",
              "      <td>19615</td>\n",
              "      <td>0.240228</td>\n",
              "      <td>0.13298</td>\n",
              "      <td>0.212198</td>\n",
              "      <td>0.267359</td>\n",
              "      <td>0.147236</td>\n",
              "    </tr>\n",
              "    <tr>\n",
              "      <th>19616</th>\n",
              "      <td>19616</td>\n",
              "      <td>0.240228</td>\n",
              "      <td>0.13298</td>\n",
              "      <td>0.212198</td>\n",
              "      <td>0.267359</td>\n",
              "      <td>0.147236</td>\n",
              "    </tr>\n",
              "  </tbody>\n",
              "</table>\n",
              "<p>19617 rows × 6 columns</p>\n",
              "</div>"
            ],
            "text/plain": [
              "       index         0        1         2         3         4\n",
              "0          0  0.240228  0.13298  0.212198  0.267359  0.147236\n",
              "1          1  0.240228  0.13298  0.212198  0.267359  0.147236\n",
              "2          2  0.240228  0.13298  0.212198  0.267359  0.147236\n",
              "3          3  0.240228  0.13298  0.212198  0.267359  0.147236\n",
              "4          4  0.240228  0.13298  0.212198  0.267359  0.147236\n",
              "...      ...       ...      ...       ...       ...       ...\n",
              "19612  19612  0.240228  0.13298  0.212198  0.267359  0.147236\n",
              "19613  19613  0.240228  0.13298  0.212198  0.267359  0.147236\n",
              "19614  19614  0.240228  0.13298  0.212198  0.267359  0.147236\n",
              "19615  19615  0.240228  0.13298  0.212198  0.267359  0.147236\n",
              "19616  19616  0.240228  0.13298  0.212198  0.267359  0.147236\n",
              "\n",
              "[19617 rows x 6 columns]"
            ]
          },
          "metadata": {
            "tags": []
          },
          "execution_count": 35
        }
      ]
    },
    {
      "cell_type": "code",
      "metadata": {
        "id": "_T4h68gvnIOL"
      },
      "source": [
        "model_fast_org.save('/content/drive/MyDrive/Novelist_Classification/model/CNN/cnn_fast_org.h5')"
      ],
      "execution_count": null,
      "outputs": []
    },
    {
      "cell_type": "markdown",
      "metadata": {
        "id": "IBtsFud1nN6A"
      },
      "source": [
        "커널 사이즈 3,4,5를 각각 거친후 GlobalMaxPool1D 실행후 concat으로 합치기 <br>\n",
        "FastText 작가 8명\n"
      ]
    },
    {
      "cell_type": "code",
      "metadata": {
        "id": "FJn0gSwcnN6H"
      },
      "source": [
        "input_layer = Input(shape=(max_length,))\n",
        "embedding_layer = Embedding(vocab_size_new, 100,weights = [FT_embedding_matrix_new], input_length=max_length)(input_layer)\n",
        "dropout_emb = Dropout(rate=dropout_prob)(embedding_layer)"
      ],
      "execution_count": null,
      "outputs": []
    },
    {
      "cell_type": "code",
      "metadata": {
        "id": "3Q4SmDUCnN6H"
      },
      "source": [
        "conv1 = Conv1D(filters=128, kernel_size=3, padding='valid', activation=tf.nn.relu)(dropout_emb)\n",
        "pool1 = GlobalMaxPool1D()(conv1)\n",
        "conv2 = Conv1D(filters=128, kernel_size=4, padding='valid', activation=tf.nn.relu)(dropout_emb)\n",
        "pool2 = GlobalMaxPool1D()(conv2)\n",
        "conv3 = Conv1D(filters=128, kernel_size=5, padding='valid', activation=tf.nn.relu)(dropout_emb)\n",
        "pool3 = GlobalMaxPool1D()(conv3)"
      ],
      "execution_count": null,
      "outputs": []
    },
    {
      "cell_type": "code",
      "metadata": {
        "id": "aL2cq5YXnN6H"
      },
      "source": [
        "# 3, 4, 5 - gram 이후 합치기\n",
        "concat = concatenate([pool1, pool2, pool3])\n",
        "hidden = Dense(128, activation=tf.nn.relu)(concat)\n",
        "dropout_hidden = Dropout(rate=dropout_prob)(hidden)\n",
        "logits = Dense(8, name='logits')(dropout_hidden)\n",
        "predictions = Dense(8, activation=tf.nn.softmax)(logits)"
      ],
      "execution_count": null,
      "outputs": []
    },
    {
      "cell_type": "code",
      "metadata": {
        "id": "3nwOClWgnN6H"
      },
      "source": [
        "model_fast_new = Model(inputs=input_layer,outputs=predictions)\n",
        "model_fast_new.compile(optimizer='adam', loss='sparse_categorical_crossentropy',metrics=['accuracy'])"
      ],
      "execution_count": null,
      "outputs": []
    },
    {
      "cell_type": "code",
      "metadata": {
        "colab": {
          "base_uri": "https://localhost:8080/"
        },
        "id": "u6spFCzlnN6I",
        "outputId": "28af94ce-0101-4099-f4a6-1063eee4c57d"
      },
      "source": [
        "early_stopping = tf.keras.callbacks.EarlyStopping(monitor='val_loss', mode='min', patience=5, verbose=1)\n",
        "hist_fast_new = model_fast_new.fit(train_padded_new,y_train_new, epochs=EPOCH, verbose=2,validation_split=0.2,callbacks = [early_stopping])"
      ],
      "execution_count": null,
      "outputs": [
        {
          "output_type": "stream",
          "text": [
            "Epoch 1/30\n",
            "2081/2081 - 130s - loss: 1.9868 - accuracy: 0.2168 - val_loss: 1.6920 - val_accuracy: 0.3522\n",
            "Epoch 2/30\n",
            "2081/2081 - 129s - loss: 1.5603 - accuracy: 0.4053 - val_loss: 1.2979 - val_accuracy: 0.5135\n",
            "Epoch 3/30\n",
            "2081/2081 - 129s - loss: 1.2362 - accuracy: 0.5330 - val_loss: 1.1415 - val_accuracy: 0.5676\n",
            "Epoch 4/30\n",
            "2081/2081 - 129s - loss: 1.0423 - accuracy: 0.6057 - val_loss: 1.0664 - val_accuracy: 0.5928\n",
            "Epoch 5/30\n",
            "2081/2081 - 127s - loss: 0.9253 - accuracy: 0.6501 - val_loss: 1.0296 - val_accuracy: 0.6191\n",
            "Epoch 6/30\n",
            "2081/2081 - 127s - loss: 0.8364 - accuracy: 0.6800 - val_loss: 1.0280 - val_accuracy: 0.6248\n",
            "Epoch 7/30\n",
            "2081/2081 - 126s - loss: 0.7706 - accuracy: 0.7049 - val_loss: 0.9979 - val_accuracy: 0.6372\n",
            "Epoch 8/30\n",
            "2081/2081 - 126s - loss: 0.7264 - accuracy: 0.7181 - val_loss: 1.0382 - val_accuracy: 0.6182\n",
            "Epoch 9/30\n",
            "2081/2081 - 126s - loss: 0.6840 - accuracy: 0.7336 - val_loss: 1.0904 - val_accuracy: 0.6147\n",
            "Epoch 10/30\n",
            "2081/2081 - 126s - loss: 0.6530 - accuracy: 0.7425 - val_loss: 1.0694 - val_accuracy: 0.6307\n",
            "Epoch 11/30\n",
            "2081/2081 - 127s - loss: 0.6209 - accuracy: 0.7534 - val_loss: 1.1023 - val_accuracy: 0.6267\n",
            "Epoch 12/30\n",
            "2081/2081 - 126s - loss: 0.5977 - accuracy: 0.7627 - val_loss: 1.1648 - val_accuracy: 0.6312\n",
            "Epoch 00012: early stopping\n"
          ],
          "name": "stdout"
        }
      ]
    },
    {
      "cell_type": "code",
      "metadata": {
        "colab": {
          "base_uri": "https://localhost:8080/",
          "height": 573
        },
        "id": "r6ZpMHULXP8B",
        "outputId": "4bf06ec2-ea6d-4854-db60-ef30f36d7016"
      },
      "source": [
        "plt.plot(hist_fast_new.history['accuracy'])\n",
        "plt.plot(hist_fast_new.history['val_accuracy'])\n",
        "plt.title('Model FastText 8Novel accuracy')\n",
        "plt.xlabel('Epoch')\n",
        "plt.ylabel('Accuracy')\n",
        "plt.legend(['train', 'val'], loc='upper left')\n",
        "plt.show()\n",
        "\n",
        "plt.plot(hist_fast_new.history['loss'])\n",
        "plt.plot(hist_fast_new.history['val_loss'])\n",
        "plt.title('Model FastText 8Novel loss')\n",
        "plt.xlabel('Epoch')\n",
        "plt.ylabel('Loss')\n",
        "plt.legend(['train', 'val'], loc='upper left')\n",
        "plt.show()\n"
      ],
      "execution_count": null,
      "outputs": [
        {
          "output_type": "display_data",
          "data": {
            "image/png": "[encoded data removed]",
            "text/plain": [
              "<Figure size 432x288 with 1 Axes>"
            ]
          },
          "metadata": {
            "tags": [],
            "needs_background": "light"
          }
        },
        {
          "output_type": "display_data",
          "data": {
            "image/png": "[encoded data removed]",
            "text/plain": [
              "<Figure size 432x288 with 1 Axes>"
            ]
          },
          "metadata": {
            "tags": [],
            "needs_background": "light"
          }
        }
      ]
    },
    {
      "cell_type": "code",
      "metadata": {
        "colab": {
          "base_uri": "https://localhost:8080/",
          "height": 419
        },
        "id": "4Tk30GOSXP8C",
        "outputId": "12714494-0120-4f13-fa44-adb0fc40675e"
      },
      "source": [
        "pred_fast_new = model_fast_new.predict(test_padded_new)\n",
        "sample_submission_new[['0','1','2','3','4','5','6','7']] = pred_fast_new\n",
        "sample_submission_new"
      ],
      "execution_count": null,
      "outputs": [
        {
          "output_type": "execute_result",
          "data": {
            "text/html": [
              "<div>\n",
              "<style scoped>\n",
              "    .dataframe tbody tr th:only-of-type {\n",
              "        vertical-align: middle;\n",
              "    }\n",
              "\n",
              "    .dataframe tbody tr th {\n",
              "        vertical-align: top;\n",
              "    }\n",
              "\n",
              "    .dataframe thead th {\n",
              "        text-align: right;\n",
              "    }\n",
              "</style>\n",
              "<table border=\"1\" class=\"dataframe\">\n",
              "  <thead>\n",
              "    <tr style=\"text-align: right;\">\n",
              "      <th></th>\n",
              "      <th>index</th>\n",
              "      <th>0</th>\n",
              "      <th>1</th>\n",
              "      <th>2</th>\n",
              "      <th>3</th>\n",
              "      <th>4</th>\n",
              "      <th>5</th>\n",
              "      <th>6</th>\n",
              "      <th>7</th>\n",
              "    </tr>\n",
              "  </thead>\n",
              "  <tbody>\n",
              "    <tr>\n",
              "      <th>0</th>\n",
              "      <td>0</td>\n",
              "      <td>1.660067e-09</td>\n",
              "      <td>2.153196e-01</td>\n",
              "      <td>3.452292e-07</td>\n",
              "      <td>3.982781e-08</td>\n",
              "      <td>4.391035e-10</td>\n",
              "      <td>7.846782e-01</td>\n",
              "      <td>1.701444e-06</td>\n",
              "      <td>4.018415e-08</td>\n",
              "    </tr>\n",
              "    <tr>\n",
              "      <th>1</th>\n",
              "      <td>1</td>\n",
              "      <td>1.159880e-05</td>\n",
              "      <td>6.064726e-01</td>\n",
              "      <td>5.901470e-02</td>\n",
              "      <td>7.813841e-03</td>\n",
              "      <td>6.348841e-05</td>\n",
              "      <td>3.114192e-01</td>\n",
              "      <td>1.515305e-02</td>\n",
              "      <td>5.174567e-05</td>\n",
              "    </tr>\n",
              "    <tr>\n",
              "      <th>2</th>\n",
              "      <td>2</td>\n",
              "      <td>2.688417e-07</td>\n",
              "      <td>5.133784e-02</td>\n",
              "      <td>1.070626e-07</td>\n",
              "      <td>1.749263e-07</td>\n",
              "      <td>3.748618e-09</td>\n",
              "      <td>9.486498e-01</td>\n",
              "      <td>5.208918e-06</td>\n",
              "      <td>6.566359e-06</td>\n",
              "    </tr>\n",
              "    <tr>\n",
              "      <th>3</th>\n",
              "      <td>3</td>\n",
              "      <td>1.223216e-06</td>\n",
              "      <td>6.182856e-02</td>\n",
              "      <td>1.352993e-06</td>\n",
              "      <td>8.501377e-07</td>\n",
              "      <td>5.710002e-08</td>\n",
              "      <td>9.380985e-01</td>\n",
              "      <td>4.326327e-05</td>\n",
              "      <td>2.620064e-05</td>\n",
              "    </tr>\n",
              "    <tr>\n",
              "      <th>4</th>\n",
              "      <td>4</td>\n",
              "      <td>1.683798e-02</td>\n",
              "      <td>2.597826e-05</td>\n",
              "      <td>3.343221e-06</td>\n",
              "      <td>5.737178e-07</td>\n",
              "      <td>5.740763e-05</td>\n",
              "      <td>1.422555e-03</td>\n",
              "      <td>7.708211e-03</td>\n",
              "      <td>9.739439e-01</td>\n",
              "    </tr>\n",
              "    <tr>\n",
              "      <th>...</th>\n",
              "      <td>...</td>\n",
              "      <td>...</td>\n",
              "      <td>...</td>\n",
              "      <td>...</td>\n",
              "      <td>...</td>\n",
              "      <td>...</td>\n",
              "      <td>...</td>\n",
              "      <td>...</td>\n",
              "      <td>...</td>\n",
              "    </tr>\n",
              "    <tr>\n",
              "      <th>27313</th>\n",
              "      <td>27313</td>\n",
              "      <td>3.173018e-08</td>\n",
              "      <td>9.999992e-01</td>\n",
              "      <td>1.111385e-08</td>\n",
              "      <td>8.630598e-07</td>\n",
              "      <td>6.164220e-10</td>\n",
              "      <td>4.883155e-08</td>\n",
              "      <td>2.082737e-17</td>\n",
              "      <td>2.424035e-13</td>\n",
              "    </tr>\n",
              "    <tr>\n",
              "      <th>27314</th>\n",
              "      <td>27314</td>\n",
              "      <td>3.004895e-07</td>\n",
              "      <td>1.114529e-14</td>\n",
              "      <td>1.203667e-05</td>\n",
              "      <td>5.643258e-12</td>\n",
              "      <td>9.936978e-01</td>\n",
              "      <td>2.245320e-15</td>\n",
              "      <td>6.281432e-03</td>\n",
              "      <td>8.478477e-06</td>\n",
              "    </tr>\n",
              "    <tr>\n",
              "      <th>27315</th>\n",
              "      <td>27315</td>\n",
              "      <td>5.644668e-11</td>\n",
              "      <td>9.999964e-01</td>\n",
              "      <td>2.571731e-10</td>\n",
              "      <td>4.593483e-09</td>\n",
              "      <td>1.223635e-12</td>\n",
              "      <td>3.614564e-06</td>\n",
              "      <td>7.067808e-17</td>\n",
              "      <td>1.416254e-14</td>\n",
              "    </tr>\n",
              "    <tr>\n",
              "      <th>27316</th>\n",
              "      <td>27316</td>\n",
              "      <td>4.883537e-04</td>\n",
              "      <td>9.993437e-01</td>\n",
              "      <td>1.764535e-05</td>\n",
              "      <td>1.401769e-04</td>\n",
              "      <td>9.592385e-06</td>\n",
              "      <td>5.206282e-07</td>\n",
              "      <td>4.187831e-13</td>\n",
              "      <td>1.387022e-08</td>\n",
              "    </tr>\n",
              "    <tr>\n",
              "      <th>27317</th>\n",
              "      <td>27317</td>\n",
              "      <td>2.265557e-01</td>\n",
              "      <td>1.641241e-06</td>\n",
              "      <td>6.853471e-04</td>\n",
              "      <td>5.053191e-05</td>\n",
              "      <td>1.704391e-01</td>\n",
              "      <td>1.636458e-06</td>\n",
              "      <td>1.075513e-02</td>\n",
              "      <td>5.915110e-01</td>\n",
              "    </tr>\n",
              "  </tbody>\n",
              "</table>\n",
              "<p>27318 rows × 9 columns</p>\n",
              "</div>"
            ],
            "text/plain": [
              "       index             0  ...             6             7\n",
              "0          0  1.660067e-09  ...  1.701444e-06  4.018415e-08\n",
              "1          1  1.159880e-05  ...  1.515305e-02  5.174567e-05\n",
              "2          2  2.688417e-07  ...  5.208918e-06  6.566359e-06\n",
              "3          3  1.223216e-06  ...  4.326327e-05  2.620064e-05\n",
              "4          4  1.683798e-02  ...  7.708211e-03  9.739439e-01\n",
              "...      ...           ...  ...           ...           ...\n",
              "27313  27313  3.173018e-08  ...  2.082737e-17  2.424035e-13\n",
              "27314  27314  3.004895e-07  ...  6.281432e-03  8.478477e-06\n",
              "27315  27315  5.644668e-11  ...  7.067808e-17  1.416254e-14\n",
              "27316  27316  4.883537e-04  ...  4.187831e-13  1.387022e-08\n",
              "27317  27317  2.265557e-01  ...  1.075513e-02  5.915110e-01\n",
              "\n",
              "[27318 rows x 9 columns]"
            ]
          },
          "metadata": {
            "tags": []
          },
          "execution_count": 38
        }
      ]
    },
    {
      "cell_type": "code",
      "metadata": {
        "id": "LgOSnaRfnk9b"
      },
      "source": [
        "model_fast_new.save('/content/drive/MyDrive/Novelist_Classification/model/CNN/cnn_fast_new.h5')"
      ],
      "execution_count": null,
      "outputs": []
    },
    {
      "cell_type": "markdown",
      "metadata": {
        "id": "xBZ0RIWMH0gg"
      },
      "source": [
        "커널 사이즈 3,4,5를 각각 거친후 GlobalMaxPool1D 실행후 concat으로 합치기<br>\n",
        "glove 작가 5명\n"
      ]
    },
    {
      "cell_type": "code",
      "metadata": {
        "id": "jUv4aOWlH0gg"
      },
      "source": [
        "input_layer = Input(shape=(max_length,))\n",
        "embedding_layer = Embedding(vocab_size, 50,weights = [g_embedding_matrix], input_length=max_length)(input_layer)\n",
        "dropout_emb = Dropout(rate=dropout_prob)(embedding_layer)"
      ],
      "execution_count": null,
      "outputs": []
    },
    {
      "cell_type": "code",
      "metadata": {
        "id": "1sT5v6yEH0gg"
      },
      "source": [
        "conv1 = Conv1D(filters=128, kernel_size=3, padding='valid', activation=tf.nn.relu)(dropout_emb)\n",
        "pool1 = GlobalMaxPool1D()(conv1)\n",
        "conv2 = Conv1D(filters=128, kernel_size=4, padding='valid', activation=tf.nn.relu)(dropout_emb)\n",
        "pool2 = GlobalMaxPool1D()(conv2)\n",
        "conv3 = Conv1D(filters=128, kernel_size=5, padding='valid', activation=tf.nn.relu)(dropout_emb)\n",
        "pool3 = GlobalMaxPool1D()(conv3)"
      ],
      "execution_count": null,
      "outputs": []
    },
    {
      "cell_type": "code",
      "metadata": {
        "id": "fTvq680hH0gg"
      },
      "source": [
        "# 3, 4, 5 - gram 이후 합치기\n",
        "concat = concatenate([pool1, pool2, pool3])\n",
        "hidden = Dense(128, activation=tf.nn.relu)(concat)\n",
        "dropout_hidden = Dropout(rate=dropout_prob)(hidden)\n",
        "logits = Dense(5, name='logits')(dropout_hidden)\n",
        "predictions = Dense(5, activation=tf.nn.softmax)(logits)"
      ],
      "execution_count": null,
      "outputs": []
    },
    {
      "cell_type": "code",
      "metadata": {
        "id": "ZUgCIGw9H0gi"
      },
      "source": [
        "model_glove_org = Model(inputs=input_layer,outputs=predictions)\n",
        "model_glove_org.compile(optimizer='adam', loss='sparse_categorical_crossentropy',metrics=['accuracy'])"
      ],
      "execution_count": null,
      "outputs": []
    },
    {
      "cell_type": "code",
      "metadata": {
        "colab": {
          "base_uri": "https://localhost:8080/"
        },
        "id": "kdu7QGgpH0gj",
        "outputId": "a0d947a3-5daf-42da-a7c8-3f3c1c3d9c6b"
      },
      "source": [
        "early_stopping = tf.keras.callbacks.EarlyStopping(monitor='val_loss', mode='min', patience=5, verbose=1)\n",
        "hist_glove_org = model_glove_org.fit(train_padded,y_train, epochs=EPOCH, verbose=2,validation_split=0.2,callbacks = [early_stopping])"
      ],
      "execution_count": null,
      "outputs": [
        {
          "output_type": "stream",
          "text": [
            "Epoch 1/30\n",
            "1372/1372 - 36s - loss: 1.5201 - accuracy: 0.3268 - val_loss: 1.3280 - val_accuracy: 0.4455\n",
            "Epoch 2/30\n",
            "1372/1372 - 34s - loss: 1.3222 - accuracy: 0.4530 - val_loss: 1.1072 - val_accuracy: 0.5714\n",
            "Epoch 3/30\n",
            "1372/1372 - 34s - loss: 1.1739 - accuracy: 0.5309 - val_loss: 1.0081 - val_accuracy: 0.6060\n",
            "Epoch 4/30\n",
            "1372/1372 - 34s - loss: 1.0649 - accuracy: 0.5857 - val_loss: 0.9105 - val_accuracy: 0.6529\n",
            "Epoch 5/30\n",
            "1372/1372 - 34s - loss: 0.9795 - accuracy: 0.6244 - val_loss: 0.8596 - val_accuracy: 0.6771\n",
            "Epoch 6/30\n",
            "1372/1372 - 35s - loss: 0.9085 - accuracy: 0.6548 - val_loss: 0.8369 - val_accuracy: 0.6880\n",
            "Epoch 7/30\n",
            "1372/1372 - 34s - loss: 0.8529 - accuracy: 0.6817 - val_loss: 0.8005 - val_accuracy: 0.7034\n",
            "Epoch 8/30\n",
            "1372/1372 - 34s - loss: 0.8040 - accuracy: 0.6995 - val_loss: 0.7654 - val_accuracy: 0.7150\n",
            "Epoch 9/30\n",
            "1372/1372 - 35s - loss: 0.7518 - accuracy: 0.7224 - val_loss: 0.7582 - val_accuracy: 0.7223\n",
            "Epoch 10/30\n",
            "1372/1372 - 37s - loss: 0.7165 - accuracy: 0.7358 - val_loss: 0.7342 - val_accuracy: 0.7301\n",
            "Epoch 11/30\n",
            "1372/1372 - 36s - loss: 0.6749 - accuracy: 0.7520 - val_loss: 0.7251 - val_accuracy: 0.7303\n",
            "Epoch 12/30\n",
            "1372/1372 - 35s - loss: 0.6452 - accuracy: 0.7643 - val_loss: 0.7135 - val_accuracy: 0.7366\n",
            "Epoch 13/30\n",
            "1372/1372 - 36s - loss: 0.6145 - accuracy: 0.7772 - val_loss: 0.7213 - val_accuracy: 0.7298\n",
            "Epoch 14/30\n",
            "1372/1372 - 35s - loss: 0.5920 - accuracy: 0.7853 - val_loss: 0.7143 - val_accuracy: 0.7373\n",
            "Epoch 15/30\n",
            "1372/1372 - 36s - loss: 0.5685 - accuracy: 0.7938 - val_loss: 0.7109 - val_accuracy: 0.7413\n",
            "Epoch 16/30\n",
            "1372/1372 - 34s - loss: 0.5445 - accuracy: 0.8033 - val_loss: 0.7035 - val_accuracy: 0.7444\n",
            "Epoch 17/30\n",
            "1372/1372 - 34s - loss: 0.5306 - accuracy: 0.8084 - val_loss: 0.7175 - val_accuracy: 0.7326\n",
            "Epoch 18/30\n",
            "1372/1372 - 34s - loss: 0.5070 - accuracy: 0.8157 - val_loss: 0.7127 - val_accuracy: 0.7392\n",
            "Epoch 19/30\n",
            "1372/1372 - 34s - loss: 0.4901 - accuracy: 0.8206 - val_loss: 0.7085 - val_accuracy: 0.7419\n",
            "Epoch 20/30\n",
            "1372/1372 - 34s - loss: 0.4762 - accuracy: 0.8296 - val_loss: 0.7067 - val_accuracy: 0.7423\n",
            "Epoch 21/30\n",
            "1372/1372 - 34s - loss: 0.4629 - accuracy: 0.8326 - val_loss: 0.7119 - val_accuracy: 0.7456\n",
            "Epoch 00021: early stopping\n"
          ],
          "name": "stdout"
        }
      ]
    },
    {
      "cell_type": "code",
      "metadata": {
        "colab": {
          "base_uri": "https://localhost:8080/",
          "height": 573
        },
        "id": "pFIpUAqXZ_Cy",
        "outputId": "02e75b7e-a761-496a-cd11-c2824da5a707"
      },
      "source": [
        "plt.plot(hist_glove_org.history['accuracy'])\n",
        "plt.plot(hist_glove_org.history['val_accuracy'])\n",
        "plt.title('Model Glove 5Novel accuracy')\n",
        "plt.xlabel('Epoch')\n",
        "plt.ylabel('Accuracy')\n",
        "plt.legend(['train', 'val'], loc='upper left')\n",
        "plt.show()\n",
        "\n",
        "plt.plot(hist_glove_org.history['loss'])\n",
        "plt.plot(hist_glove_org.history['val_loss'])\n",
        "plt.title('Model Glove 5Novel loss')\n",
        "plt.xlabel('Epoch')\n",
        "plt.ylabel('Loss')\n",
        "plt.legend(['train', 'val'], loc='upper left')\n",
        "plt.show()\n"
      ],
      "execution_count": null,
      "outputs": [
        {
          "output_type": "display_data",
          "data": {
            "image/png": "[encoded data removed]",
            "text/plain": [
              "<Figure size 432x288 with 1 Axes>"
            ]
          },
          "metadata": {
            "tags": [],
            "needs_background": "light"
          }
        },
        {
          "output_type": "display_data",
          "data": {
            "image/png": "[encoded data removed]",
            "text/plain": [
              "<Figure size 432x288 with 1 Axes>"
            ]
          },
          "metadata": {
            "tags": [],
            "needs_background": "light"
          }
        }
      ]
    },
    {
      "cell_type": "code",
      "metadata": {
        "colab": {
          "base_uri": "https://localhost:8080/",
          "height": 419
        },
        "id": "-EwGldVAZ_C4",
        "outputId": "5696a8fe-e811-4c4a-ee39-7fa0942f7896"
      },
      "source": [
        "pred_glove_org = model_glove_org.predict(test_padded)\n",
        "sample_submission[['0','1','2','3','4']] = pred_glove_org\n",
        "sample_submission"
      ],
      "execution_count": null,
      "outputs": [
        {
          "output_type": "execute_result",
          "data": {
            "text/html": [
              "<div>\n",
              "<style scoped>\n",
              "    .dataframe tbody tr th:only-of-type {\n",
              "        vertical-align: middle;\n",
              "    }\n",
              "\n",
              "    .dataframe tbody tr th {\n",
              "        vertical-align: top;\n",
              "    }\n",
              "\n",
              "    .dataframe thead th {\n",
              "        text-align: right;\n",
              "    }\n",
              "</style>\n",
              "<table border=\"1\" class=\"dataframe\">\n",
              "  <thead>\n",
              "    <tr style=\"text-align: right;\">\n",
              "      <th></th>\n",
              "      <th>index</th>\n",
              "      <th>0</th>\n",
              "      <th>1</th>\n",
              "      <th>2</th>\n",
              "      <th>3</th>\n",
              "      <th>4</th>\n",
              "    </tr>\n",
              "  </thead>\n",
              "  <tbody>\n",
              "    <tr>\n",
              "      <th>0</th>\n",
              "      <td>0</td>\n",
              "      <td>0.000247</td>\n",
              "      <td>0.105264</td>\n",
              "      <td>8.913291e-01</td>\n",
              "      <td>2.866752e-03</td>\n",
              "      <td>2.935052e-04</td>\n",
              "    </tr>\n",
              "    <tr>\n",
              "      <th>1</th>\n",
              "      <td>1</td>\n",
              "      <td>0.273320</td>\n",
              "      <td>0.385903</td>\n",
              "      <td>5.065823e-02</td>\n",
              "      <td>2.110658e-01</td>\n",
              "      <td>7.905284e-02</td>\n",
              "    </tr>\n",
              "    <tr>\n",
              "      <th>2</th>\n",
              "      <td>2</td>\n",
              "      <td>0.999999</td>\n",
              "      <td>0.000001</td>\n",
              "      <td>9.459505e-10</td>\n",
              "      <td>7.091916e-09</td>\n",
              "      <td>1.726441e-07</td>\n",
              "    </tr>\n",
              "    <tr>\n",
              "      <th>3</th>\n",
              "      <td>3</td>\n",
              "      <td>0.000767</td>\n",
              "      <td>0.001732</td>\n",
              "      <td>9.839429e-01</td>\n",
              "      <td>1.335452e-02</td>\n",
              "      <td>2.041917e-04</td>\n",
              "    </tr>\n",
              "    <tr>\n",
              "      <th>4</th>\n",
              "      <td>4</td>\n",
              "      <td>0.668627</td>\n",
              "      <td>0.052500</td>\n",
              "      <td>3.184583e-02</td>\n",
              "      <td>2.025210e-01</td>\n",
              "      <td>4.450636e-02</td>\n",
              "    </tr>\n",
              "    <tr>\n",
              "      <th>...</th>\n",
              "      <td>...</td>\n",
              "      <td>...</td>\n",
              "      <td>...</td>\n",
              "      <td>...</td>\n",
              "      <td>...</td>\n",
              "      <td>...</td>\n",
              "    </tr>\n",
              "    <tr>\n",
              "      <th>19612</th>\n",
              "      <td>19612</td>\n",
              "      <td>0.000396</td>\n",
              "      <td>0.999587</td>\n",
              "      <td>9.411846e-08</td>\n",
              "      <td>1.608309e-05</td>\n",
              "      <td>8.553646e-08</td>\n",
              "    </tr>\n",
              "    <tr>\n",
              "      <th>19613</th>\n",
              "      <td>19613</td>\n",
              "      <td>0.001658</td>\n",
              "      <td>0.000147</td>\n",
              "      <td>1.346627e-03</td>\n",
              "      <td>2.087621e-05</td>\n",
              "      <td>9.968281e-01</td>\n",
              "    </tr>\n",
              "    <tr>\n",
              "      <th>19614</th>\n",
              "      <td>19614</td>\n",
              "      <td>0.000001</td>\n",
              "      <td>0.999999</td>\n",
              "      <td>4.078982e-09</td>\n",
              "      <td>2.547574e-07</td>\n",
              "      <td>8.513489e-11</td>\n",
              "    </tr>\n",
              "    <tr>\n",
              "      <th>19615</th>\n",
              "      <td>19615</td>\n",
              "      <td>0.000046</td>\n",
              "      <td>0.999946</td>\n",
              "      <td>6.936438e-07</td>\n",
              "      <td>7.260260e-06</td>\n",
              "      <td>3.336152e-08</td>\n",
              "    </tr>\n",
              "    <tr>\n",
              "      <th>19616</th>\n",
              "      <td>19616</td>\n",
              "      <td>0.835804</td>\n",
              "      <td>0.006158</td>\n",
              "      <td>7.784294e-03</td>\n",
              "      <td>1.334752e-01</td>\n",
              "      <td>1.677846e-02</td>\n",
              "    </tr>\n",
              "  </tbody>\n",
              "</table>\n",
              "<p>19617 rows × 6 columns</p>\n",
              "</div>"
            ],
            "text/plain": [
              "       index         0         1             2             3             4\n",
              "0          0  0.000247  0.105264  8.913291e-01  2.866752e-03  2.935052e-04\n",
              "1          1  0.273320  0.385903  5.065823e-02  2.110658e-01  7.905284e-02\n",
              "2          2  0.999999  0.000001  9.459505e-10  7.091916e-09  1.726441e-07\n",
              "3          3  0.000767  0.001732  9.839429e-01  1.335452e-02  2.041917e-04\n",
              "4          4  0.668627  0.052500  3.184583e-02  2.025210e-01  4.450636e-02\n",
              "...      ...       ...       ...           ...           ...           ...\n",
              "19612  19612  0.000396  0.999587  9.411846e-08  1.608309e-05  8.553646e-08\n",
              "19613  19613  0.001658  0.000147  1.346627e-03  2.087621e-05  9.968281e-01\n",
              "19614  19614  0.000001  0.999999  4.078982e-09  2.547574e-07  8.513489e-11\n",
              "19615  19615  0.000046  0.999946  6.936438e-07  7.260260e-06  3.336152e-08\n",
              "19616  19616  0.835804  0.006158  7.784294e-03  1.334752e-01  1.677846e-02\n",
              "\n",
              "[19617 rows x 6 columns]"
            ]
          },
          "metadata": {
            "tags": []
          },
          "execution_count": 46
        }
      ]
    },
    {
      "cell_type": "code",
      "metadata": {
        "id": "xzDp3wN5H0gk"
      },
      "source": [
        "model_glove_org.save('/content/drive/MyDrive/Novelist_Classification/model/CNN/cnn_glove_org.h5')"
      ],
      "execution_count": null,
      "outputs": []
    },
    {
      "cell_type": "markdown",
      "metadata": {
        "id": "tLCFEKNZH0gk"
      },
      "source": [
        "커널 사이즈 3,4,5를 각각 거친후 GlobalMaxPool1D 실행후 concat으로 합치기 <br>\n",
        "작가 8명\n"
      ]
    },
    {
      "cell_type": "code",
      "metadata": {
        "id": "v8QNX40WH0gk"
      },
      "source": [
        "input_layer = Input(shape=(max_length,))\n",
        "embedding_layer = Embedding(vocab_size_new+1, 50,weights = [g_embedding_matrix_new], input_length=max_length)(input_layer)\n",
        "dropout_emb = Dropout(rate=dropout_prob)(embedding_layer)"
      ],
      "execution_count": null,
      "outputs": []
    },
    {
      "cell_type": "code",
      "metadata": {
        "id": "axcjg-SyH0gk"
      },
      "source": [
        "conv1 = Conv1D(filters=128, kernel_size=3, padding='valid', activation=tf.nn.relu)(dropout_emb)\n",
        "pool1 = GlobalMaxPool1D()(conv1)\n",
        "conv2 = Conv1D(filters=128, kernel_size=4, padding='valid', activation=tf.nn.relu)(dropout_emb)\n",
        "pool2 = GlobalMaxPool1D()(conv2)\n",
        "conv3 = Conv1D(filters=128, kernel_size=5, padding='valid', activation=tf.nn.relu)(dropout_emb)\n",
        "pool3 = GlobalMaxPool1D()(conv3)"
      ],
      "execution_count": null,
      "outputs": []
    },
    {
      "cell_type": "code",
      "metadata": {
        "id": "iQ83MyATH0gl"
      },
      "source": [
        "# 3, 4, 5 - gram 이후 합치기\n",
        "concat = concatenate([pool1, pool2, pool3])\n",
        "hidden = Dense(128, activation=tf.nn.relu)(concat)\n",
        "dropout_hidden = Dropout(rate=dropout_prob)(hidden)\n",
        "logits = Dense(8, name='logits')(dropout_hidden)\n",
        "predictions = Dense(8, activation=tf.nn.softmax)(logits)"
      ],
      "execution_count": null,
      "outputs": []
    },
    {
      "cell_type": "code",
      "metadata": {
        "id": "922q1gHrH0gl"
      },
      "source": [
        "model_glove_new = Model(inputs=input_layer,outputs=predictions)\n",
        "model_glove_new.compile(optimizer='adam', loss='sparse_categorical_crossentropy',metrics=['accuracy'])"
      ],
      "execution_count": null,
      "outputs": []
    },
    {
      "cell_type": "code",
      "metadata": {
        "colab": {
          "base_uri": "https://localhost:8080/"
        },
        "id": "2mvQJon8H0gl",
        "outputId": "6829eb60-0169-4044-d24b-5547e9d441ab"
      },
      "source": [
        "early_stopping = tf.keras.callbacks.EarlyStopping(monitor='val_loss', mode='min', patience=5, verbose=1)\n",
        "hist_glove_new = model_glove_new.fit(train_padded_new,y_train_new, epochs=EPOCH, verbose=2,validation_split=0.2,callbacks = [early_stopping])"
      ],
      "execution_count": null,
      "outputs": [
        {
          "output_type": "stream",
          "text": [
            "Epoch 1/30\n",
            "2081/2081 - 65s - loss: 1.9410 - accuracy: 0.2220 - val_loss: 1.8150 - val_accuracy: 0.2895\n",
            "Epoch 2/30\n",
            "2081/2081 - 62s - loss: 1.8120 - accuracy: 0.2856 - val_loss: 1.6627 - val_accuracy: 0.3619\n",
            "Epoch 3/30\n",
            "2081/2081 - 61s - loss: 1.6822 - accuracy: 0.3413 - val_loss: 1.5080 - val_accuracy: 0.4374\n",
            "Epoch 4/30\n",
            "2081/2081 - 61s - loss: 1.5574 - accuracy: 0.3975 - val_loss: 1.3661 - val_accuracy: 0.4956\n",
            "Epoch 5/30\n",
            "2081/2081 - 61s - loss: 1.4567 - accuracy: 0.4421 - val_loss: 1.2874 - val_accuracy: 0.5178\n",
            "Epoch 6/30\n",
            "2081/2081 - 62s - loss: 1.3894 - accuracy: 0.4651 - val_loss: 1.2401 - val_accuracy: 0.5258\n",
            "Epoch 7/30\n",
            "2081/2081 - 61s - loss: 1.3363 - accuracy: 0.4882 - val_loss: 1.1807 - val_accuracy: 0.5573\n",
            "Epoch 8/30\n",
            "2081/2081 - 62s - loss: 1.2844 - accuracy: 0.5073 - val_loss: 1.1597 - val_accuracy: 0.5622\n",
            "Epoch 9/30\n",
            "2081/2081 - 63s - loss: 1.2404 - accuracy: 0.5211 - val_loss: 1.1451 - val_accuracy: 0.5667\n",
            "Epoch 10/30\n",
            "2081/2081 - 63s - loss: 1.1893 - accuracy: 0.5421 - val_loss: 1.1114 - val_accuracy: 0.5774\n",
            "Epoch 11/30\n",
            "2081/2081 - 63s - loss: 1.1578 - accuracy: 0.5535 - val_loss: 1.0925 - val_accuracy: 0.5856\n",
            "Epoch 12/30\n",
            "2081/2081 - 63s - loss: 1.1177 - accuracy: 0.5693 - val_loss: 1.0713 - val_accuracy: 0.5908\n",
            "Epoch 13/30\n",
            "2081/2081 - 63s - loss: 1.0916 - accuracy: 0.5794 - val_loss: 1.0524 - val_accuracy: 0.6022\n",
            "Epoch 14/30\n",
            "2081/2081 - 64s - loss: 1.0641 - accuracy: 0.5915 - val_loss: 1.0310 - val_accuracy: 0.6105\n",
            "Epoch 15/30\n",
            "2081/2081 - 64s - loss: 1.0349 - accuracy: 0.6006 - val_loss: 1.0199 - val_accuracy: 0.6041\n",
            "Epoch 16/30\n",
            "2081/2081 - 64s - loss: 1.0006 - accuracy: 0.6166 - val_loss: 1.0032 - val_accuracy: 0.6272\n",
            "Epoch 17/30\n",
            "2081/2081 - 65s - loss: 0.9836 - accuracy: 0.6218 - val_loss: 0.9883 - val_accuracy: 0.6374\n",
            "Epoch 18/30\n",
            "2081/2081 - 64s - loss: 0.9586 - accuracy: 0.6340 - val_loss: 0.9841 - val_accuracy: 0.6265\n",
            "Epoch 19/30\n",
            "2081/2081 - 64s - loss: 0.9277 - accuracy: 0.6452 - val_loss: 0.9779 - val_accuracy: 0.6318\n",
            "Epoch 20/30\n",
            "2081/2081 - 64s - loss: 0.9046 - accuracy: 0.6551 - val_loss: 0.9839 - val_accuracy: 0.6176\n",
            "Epoch 21/30\n",
            "2081/2081 - 62s - loss: 0.8820 - accuracy: 0.6616 - val_loss: 0.9711 - val_accuracy: 0.6346\n",
            "Epoch 22/30\n",
            "2081/2081 - 63s - loss: 0.8615 - accuracy: 0.6689 - val_loss: 0.9620 - val_accuracy: 0.6422\n",
            "Epoch 23/30\n",
            "2081/2081 - 63s - loss: 0.8472 - accuracy: 0.6741 - val_loss: 0.9674 - val_accuracy: 0.6399\n",
            "Epoch 24/30\n",
            "2081/2081 - 63s - loss: 0.8237 - accuracy: 0.6840 - val_loss: 0.9666 - val_accuracy: 0.6523\n",
            "Epoch 25/30\n",
            "2081/2081 - 62s - loss: 0.8165 - accuracy: 0.6849 - val_loss: 0.9622 - val_accuracy: 0.6517\n",
            "Epoch 26/30\n",
            "2081/2081 - 62s - loss: 0.8003 - accuracy: 0.6916 - val_loss: 0.9517 - val_accuracy: 0.6471\n",
            "Epoch 27/30\n",
            "2081/2081 - 62s - loss: 0.7808 - accuracy: 0.6975 - val_loss: 0.9414 - val_accuracy: 0.6548\n",
            "Epoch 28/30\n",
            "2081/2081 - 62s - loss: 0.7697 - accuracy: 0.7027 - val_loss: 0.9545 - val_accuracy: 0.6536\n",
            "Epoch 29/30\n",
            "2081/2081 - 63s - loss: 0.7572 - accuracy: 0.7067 - val_loss: 0.9467 - val_accuracy: 0.6530\n",
            "Epoch 30/30\n",
            "2081/2081 - 63s - loss: 0.7460 - accuracy: 0.7102 - val_loss: 0.9482 - val_accuracy: 0.6480\n"
          ],
          "name": "stdout"
        }
      ]
    },
    {
      "cell_type": "code",
      "metadata": {
        "colab": {
          "base_uri": "https://localhost:8080/",
          "height": 573
        },
        "id": "t_7qerCPaiQC",
        "outputId": "de7c9fcf-c743-4bed-98e0-839bc7352dbf"
      },
      "source": [
        "plt.plot(hist_glove_new.history['accuracy'])\n",
        "plt.plot(hist_glove_new.history['val_accuracy'])\n",
        "plt.title('Model Glove 8Novel accuracy')\n",
        "plt.xlabel('Epoch')\n",
        "plt.ylabel('Accuracy')\n",
        "plt.legend(['train', 'val'], loc='upper left')\n",
        "plt.show()\n",
        "\n",
        "plt.plot(hist_glove_new.history['loss'])\n",
        "plt.plot(hist_glove_new.history['val_loss'])\n",
        "plt.title('Model Glove 8Novel loss')\n",
        "plt.xlabel('Epoch')\n",
        "plt.ylabel('Loss')\n",
        "plt.legend(['train', 'val'], loc='upper left')\n",
        "plt.show()\n"
      ],
      "execution_count": null,
      "outputs": [
        {
          "output_type": "display_data",
          "data": {
            "image/png": "[encoded data removed]",
            "text/plain": [
              "<Figure size 432x288 with 1 Axes>"
            ]
          },
          "metadata": {
            "tags": [],
            "needs_background": "light"
          }
        },
        {
          "output_type": "display_data",
          "data": {
            "image/png": "[encoded data removed]",
            "text/plain": [
              "<Figure size 432x288 with 1 Axes>"
            ]
          },
          "metadata": {
            "tags": [],
            "needs_background": "light"
          }
        }
      ]
    },
    {
      "cell_type": "code",
      "metadata": {
        "colab": {
          "base_uri": "https://localhost:8080/",
          "height": 419
        },
        "id": "-oGcmnccaiQo",
        "outputId": "6f636bd6-cdda-4e2c-acde-624dcc82ee20"
      },
      "source": [
        "pred_glove_new = model_glove_new.predict(test_padded_new)\n",
        "sample_submission_new[['0','1','2','3','4','5','6','7']] = pred_glove_new\n",
        "sample_submission_new"
      ],
      "execution_count": null,
      "outputs": [
        {
          "output_type": "execute_result",
          "data": {
            "text/html": [
              "<div>\n",
              "<style scoped>\n",
              "    .dataframe tbody tr th:only-of-type {\n",
              "        vertical-align: middle;\n",
              "    }\n",
              "\n",
              "    .dataframe tbody tr th {\n",
              "        vertical-align: top;\n",
              "    }\n",
              "\n",
              "    .dataframe thead th {\n",
              "        text-align: right;\n",
              "    }\n",
              "</style>\n",
              "<table border=\"1\" class=\"dataframe\">\n",
              "  <thead>\n",
              "    <tr style=\"text-align: right;\">\n",
              "      <th></th>\n",
              "      <th>index</th>\n",
              "      <th>0</th>\n",
              "      <th>1</th>\n",
              "      <th>2</th>\n",
              "      <th>3</th>\n",
              "      <th>4</th>\n",
              "      <th>5</th>\n",
              "      <th>6</th>\n",
              "      <th>7</th>\n",
              "    </tr>\n",
              "  </thead>\n",
              "  <tbody>\n",
              "    <tr>\n",
              "      <th>0</th>\n",
              "      <td>0</td>\n",
              "      <td>0.000103</td>\n",
              "      <td>6.374757e-01</td>\n",
              "      <td>4.259563e-05</td>\n",
              "      <td>1.803017e-04</td>\n",
              "      <td>8.120294e-07</td>\n",
              "      <td>3.621443e-01</td>\n",
              "      <td>1.445226e-06</td>\n",
              "      <td>5.236645e-05</td>\n",
              "    </tr>\n",
              "    <tr>\n",
              "      <th>1</th>\n",
              "      <td>1</td>\n",
              "      <td>0.000048</td>\n",
              "      <td>1.361949e-01</td>\n",
              "      <td>1.126968e-06</td>\n",
              "      <td>1.261667e-05</td>\n",
              "      <td>4.130935e-08</td>\n",
              "      <td>8.634503e-01</td>\n",
              "      <td>7.221441e-06</td>\n",
              "      <td>2.859293e-04</td>\n",
              "    </tr>\n",
              "    <tr>\n",
              "      <th>2</th>\n",
              "      <td>2</td>\n",
              "      <td>0.000272</td>\n",
              "      <td>9.076676e-02</td>\n",
              "      <td>1.641013e-06</td>\n",
              "      <td>1.282083e-05</td>\n",
              "      <td>1.414887e-07</td>\n",
              "      <td>9.058434e-01</td>\n",
              "      <td>4.251874e-05</td>\n",
              "      <td>3.060344e-03</td>\n",
              "    </tr>\n",
              "    <tr>\n",
              "      <th>3</th>\n",
              "      <td>3</td>\n",
              "      <td>0.000030</td>\n",
              "      <td>9.032983e-02</td>\n",
              "      <td>2.273663e-07</td>\n",
              "      <td>2.602938e-06</td>\n",
              "      <td>9.629172e-09</td>\n",
              "      <td>9.092719e-01</td>\n",
              "      <td>5.860762e-06</td>\n",
              "      <td>3.591914e-04</td>\n",
              "    </tr>\n",
              "    <tr>\n",
              "      <th>4</th>\n",
              "      <td>4</td>\n",
              "      <td>0.010061</td>\n",
              "      <td>5.692779e-02</td>\n",
              "      <td>1.229339e-04</td>\n",
              "      <td>3.155888e-04</td>\n",
              "      <td>3.638938e-05</td>\n",
              "      <td>7.609578e-01</td>\n",
              "      <td>8.291190e-03</td>\n",
              "      <td>1.632868e-01</td>\n",
              "    </tr>\n",
              "    <tr>\n",
              "      <th>...</th>\n",
              "      <td>...</td>\n",
              "      <td>...</td>\n",
              "      <td>...</td>\n",
              "      <td>...</td>\n",
              "      <td>...</td>\n",
              "      <td>...</td>\n",
              "      <td>...</td>\n",
              "      <td>...</td>\n",
              "      <td>...</td>\n",
              "    </tr>\n",
              "    <tr>\n",
              "      <th>27313</th>\n",
              "      <td>27313</td>\n",
              "      <td>0.000007</td>\n",
              "      <td>9.999886e-01</td>\n",
              "      <td>7.920163e-08</td>\n",
              "      <td>3.729562e-06</td>\n",
              "      <td>1.133104e-09</td>\n",
              "      <td>3.040618e-07</td>\n",
              "      <td>3.051733e-18</td>\n",
              "      <td>2.866301e-11</td>\n",
              "    </tr>\n",
              "    <tr>\n",
              "      <th>27314</th>\n",
              "      <td>27314</td>\n",
              "      <td>0.002142</td>\n",
              "      <td>1.629217e-08</td>\n",
              "      <td>6.705129e-04</td>\n",
              "      <td>3.813934e-07</td>\n",
              "      <td>8.179168e-01</td>\n",
              "      <td>1.358860e-08</td>\n",
              "      <td>1.756284e-01</td>\n",
              "      <td>3.642051e-03</td>\n",
              "    </tr>\n",
              "    <tr>\n",
              "      <th>27315</th>\n",
              "      <td>27315</td>\n",
              "      <td>0.000011</td>\n",
              "      <td>9.999819e-01</td>\n",
              "      <td>3.027334e-07</td>\n",
              "      <td>6.615356e-06</td>\n",
              "      <td>4.304823e-09</td>\n",
              "      <td>6.486404e-07</td>\n",
              "      <td>3.794256e-17</td>\n",
              "      <td>7.783550e-11</td>\n",
              "    </tr>\n",
              "    <tr>\n",
              "      <th>27316</th>\n",
              "      <td>27316</td>\n",
              "      <td>0.000242</td>\n",
              "      <td>9.997060e-01</td>\n",
              "      <td>5.546931e-06</td>\n",
              "      <td>4.048135e-05</td>\n",
              "      <td>2.754918e-07</td>\n",
              "      <td>5.243317e-06</td>\n",
              "      <td>1.104074e-14</td>\n",
              "      <td>9.279016e-09</td>\n",
              "    </tr>\n",
              "    <tr>\n",
              "      <th>27317</th>\n",
              "      <td>27317</td>\n",
              "      <td>0.107138</td>\n",
              "      <td>6.199379e-09</td>\n",
              "      <td>4.490169e-08</td>\n",
              "      <td>1.032431e-07</td>\n",
              "      <td>6.720275e-04</td>\n",
              "      <td>9.929511e-08</td>\n",
              "      <td>8.066165e-04</td>\n",
              "      <td>8.913836e-01</td>\n",
              "    </tr>\n",
              "  </tbody>\n",
              "</table>\n",
              "<p>27318 rows × 9 columns</p>\n",
              "</div>"
            ],
            "text/plain": [
              "       index         0             1  ...             5             6             7\n",
              "0          0  0.000103  6.374757e-01  ...  3.621443e-01  1.445226e-06  5.236645e-05\n",
              "1          1  0.000048  1.361949e-01  ...  8.634503e-01  7.221441e-06  2.859293e-04\n",
              "2          2  0.000272  9.076676e-02  ...  9.058434e-01  4.251874e-05  3.060344e-03\n",
              "3          3  0.000030  9.032983e-02  ...  9.092719e-01  5.860762e-06  3.591914e-04\n",
              "4          4  0.010061  5.692779e-02  ...  7.609578e-01  8.291190e-03  1.632868e-01\n",
              "...      ...       ...           ...  ...           ...           ...           ...\n",
              "27313  27313  0.000007  9.999886e-01  ...  3.040618e-07  3.051733e-18  2.866301e-11\n",
              "27314  27314  0.002142  1.629217e-08  ...  1.358860e-08  1.756284e-01  3.642051e-03\n",
              "27315  27315  0.000011  9.999819e-01  ...  6.486404e-07  3.794256e-17  7.783550e-11\n",
              "27316  27316  0.000242  9.997060e-01  ...  5.243317e-06  1.104074e-14  9.279016e-09\n",
              "27317  27317  0.107138  6.199379e-09  ...  9.929511e-08  8.066165e-04  8.913836e-01\n",
              "\n",
              "[27318 rows x 9 columns]"
            ]
          },
          "metadata": {
            "tags": []
          },
          "execution_count": 54
        }
      ]
    },
    {
      "cell_type": "code",
      "metadata": {
        "id": "lM8npcswH0gm"
      },
      "source": [
        "model_glove_new.save('/content/drive/MyDrive/Novelist_Classification/model/CNN/cnn_glove_new.h5')"
      ],
      "execution_count": null,
      "outputs": []
    },
    {
      "cell_type": "markdown",
      "metadata": {
        "id": "jdevBGS8bDzE"
      },
      "source": [
        "#GRU 모델 <br>\n",
        "1. 단방향 GRU - fasttext"
      ]
    },
    {
      "cell_type": "code",
      "metadata": {
        "id": "DJp2INTobDzJ"
      },
      "source": [
        "# 하이퍼파라미터 설정\n",
        "dropout_prob = 0.5\n",
        "EMB_SIZE = 128\n",
        "EPOCH = 30\n",
        "VOCAB_SIZE = vocab_size\n",
        "VOCAB_SIZE_new = vocab_size_new"
      ],
      "execution_count": null,
      "outputs": []
    },
    {
      "cell_type": "code",
      "metadata": {
        "id": "NLA15qZZSIKM"
      },
      "source": [
        "# 단방향 GRU - fasttext\n",
        "from keras.optimizers import Adam\n",
        "model_using_GRU_fasttext_one = tf.keras.Sequential([\n",
        "  tf.keras.layers.Embedding(vocab_size, 300, weights = [FT_embedding_matrix], input_length=max_length),\n",
        "  tf.keras.layers.GRU(units=64, activation='relu'), # relu를 활용한 GRU\n",
        "  tf.keras.layers.Dropout(dropout_prob),\n",
        "  tf.keras.layers.Dense(2, activation='softmax'),\n",
        "])\n",
        "\n",
        "model_using_GRU_fasttext_one.compile(optimizer = Adam(learning_rate=0.01), loss='categorical_crossentropy', metrics=['accuracy'])\n",
        "model_using_GRU_fasttext_one.summary()"
      ],
      "execution_count": null,
      "outputs": []
    },
    {
      "cell_type": "code",
      "metadata": {
        "colab": {
          "base_uri": "https://localhost:8080/"
        },
        "id": "aZegZliLbDzL",
        "outputId": "273189fd-8a14-47bb-a383-ca914d4749cf"
      },
      "source": [
        "# 단방향 GRU 학습 - fasttext\n",
        "early_stopping = tf.keras.callbacks.EarlyStopping(monitor='val_loss', mode='min', patience=5, verbose=1)\n",
        "\n",
        "# fit model\n",
        "num_epochs = 20\n",
        "hist_fast_gru_one = model_using_GRU_fasttext_one.fit(train_padded, y_train, \n",
        "                    epochs = num_epochs, verbose = 2,\n",
        "                    validation_split = 0.2, callbacks = [early_stopping])"
      ],
      "execution_count": null,
      "outputs": [
        {
          "output_type": "stream",
          "text": [
            "Epoch 1/30\n",
            "1372/1372 - 67s - loss: 1.5050 - accuracy: 0.3310 - val_loss: 1.3827 - val_accuracy: 0.3982\n",
            "Epoch 2/30\n",
            "1372/1372 - 63s - loss: 1.2246 - accuracy: 0.4786 - val_loss: 1.0830 - val_accuracy: 0.5606\n",
            "Epoch 3/30\n",
            "1372/1372 - 63s - loss: 0.9704 - accuracy: 0.6103 - val_loss: 0.9746 - val_accuracy: 0.6175\n",
            "Epoch 4/30\n",
            "1372/1372 - 62s - loss: 0.8013 - accuracy: 0.6933 - val_loss: 0.9007 - val_accuracy: 0.6589\n",
            "Epoch 5/30\n",
            "1372/1372 - 62s - loss: 0.6833 - accuracy: 0.7441 - val_loss: 0.8794 - val_accuracy: 0.6758\n",
            "Epoch 6/30\n",
            "1372/1372 - 62s - loss: 0.6035 - accuracy: 0.7780 - val_loss: 0.8955 - val_accuracy: 0.6803\n",
            "Epoch 7/30\n",
            "1372/1372 - 62s - loss: 0.5431 - accuracy: 0.7996 - val_loss: 0.9553 - val_accuracy: 0.6829\n",
            "Epoch 8/30\n",
            "1372/1372 - 62s - loss: 0.5024 - accuracy: 0.8164 - val_loss: 0.9141 - val_accuracy: 0.6923\n",
            "Epoch 9/30\n",
            "1372/1372 - 62s - loss: 0.4641 - accuracy: 0.8295 - val_loss: 1.0001 - val_accuracy: 0.6931\n",
            "Epoch 10/30\n",
            "1372/1372 - 62s - loss: 0.4420 - accuracy: 0.8413 - val_loss: 1.0208 - val_accuracy: 0.6973\n",
            "Epoch 00010: early stopping\n"
          ],
          "name": "stdout"
        }
      ]
    },
    {
      "cell_type": "code",
      "metadata": {
        "colab": {
          "base_uri": "https://localhost:8080/",
          "height": 573
        },
        "id": "j6qdu9VMbDzM",
        "outputId": "eb6e52f2-dbb9-4869-a876-e47a97dcead5"
      },
      "source": [
        "plt.plot(hist_fast_gru_one.history['accuracy'])\n",
        "plt.plot(hist_fast_gru_one.history['val_accuracy'])\n",
        "plt.title('Fasttext GRU one-direction accuracy')\n",
        "plt.xlabel('Epoch')\n",
        "plt.ylabel('Accuracy')\n",
        "plt.legend(['train', 'val'], loc='upper left')\n",
        "plt.show()\n",
        "\n",
        "plt.plot(hist_fast_gru_one.history['loss'])\n",
        "plt.plot(hist_fast_gru_one.history['val_loss'])\n",
        "plt.title('Fasttext GRU one-direction loss')\n",
        "plt.xlabel('Epoch')\n",
        "plt.ylabel('Loss')\n",
        "plt.legend(['train', 'val'], loc='upper left')\n",
        "plt.show()"
      ],
      "execution_count": null,
      "outputs": [
        {
          "output_type": "display_data",
          "data": {
            "image/png": "[encoded data removed]",
            "text/plain": [
              "<Figure size 432x288 with 1 Axes>"
            ]
          },
          "metadata": {
            "tags": [],
            "needs_background": "light"
          }
        },
        {
          "output_type": "display_data",
          "data": {
            "image/png": "[encoded data removed]",
            "text/plain": [
              "<Figure size 432x288 with 1 Axes>"
            ]
          },
          "metadata": {
            "tags": [],
            "needs_background": "light"
          }
        }
      ]
    },
    {
      "cell_type": "code",
      "metadata": {
        "id": "A0DFUrWUbDzM"
      },
      "source": [
        "# save GRU\n",
        "model_using_GRU_fasttext_one.save('/content/drive/MyDrive/Novelist_Classification/model/GRU/gru_fast_one.h5')"
      ],
      "execution_count": null,
      "outputs": []
    },
    {
      "cell_type": "markdown",
      "metadata": {
        "id": "HqYsCiW5WDbs"
      },
      "source": [
        "2. 단방향 GRU - glove"
      ]
    },
    {
      "cell_type": "code",
      "metadata": {
        "id": "KR_X8a6_ZeDn"
      },
      "source": [
        "# 하이퍼파라미터 설정\n",
        "dropout_prob = 0.5\n",
        "EMB_SIZE = 128\n",
        "EPOCH = 30\n",
        "VOCAB_SIZE = vocab_size\n",
        "VOCAB_SIZE_new = vocab_size_new"
      ],
      "execution_count": null,
      "outputs": []
    },
    {
      "cell_type": "code",
      "metadata": {
        "id": "AHSUGOFKZeD1"
      },
      "source": [
        "# 단방향 GRU - glove\n",
        "from keras.optimizers import Adam\n",
        "model_using_GRU_glove_one = tf.keras.Sequential([\n",
        "  tf.keras.layers.Embedding(vocab_size, 300, weights = [g_embedding_matrix], input_length=max_length),\n",
        "  tf.keras.layers.GRU(units=64, activation='relu'), # relu를 활용한 GRU\n",
        "  tf.keras.layers.Dropout(dropout_prob),\n",
        "  tf.keras.layers.Dense(2, activation='softmax'),\n",
        "])\n",
        "\n",
        "model_using_GRU_glove_one.compile(optimizer = Adam(learning_rate=0.01), loss='categorical_crossentropy', metrics=['accuracy'])\n",
        "model_using_GRU_glove_one.summary()"
      ],
      "execution_count": null,
      "outputs": []
    },
    {
      "cell_type": "code",
      "metadata": {
        "colab": {
          "base_uri": "https://localhost:8080/"
        },
        "id": "Y00-uY2JZeD2",
        "outputId": "273189fd-8a14-47bb-a383-ca914d4749cf"
      },
      "source": [
        "# 단방향 GRU 학습 - glove\n",
        "early_stopping = tf.keras.callbacks.EarlyStopping(monitor='val_loss', mode='min', patience=5, verbose=1)\n",
        "\n",
        "# fit model\n",
        "num_epochs = 20\n",
        "hist_glove_gru_one = model_using_GRU_glove_one.fit(train_padded, y_train, \n",
        "                    epochs = num_epochs, verbose = 2,\n",
        "                    validation_split = 0.2, callbacks = [early_stopping])"
      ],
      "execution_count": null,
      "outputs": [
        {
          "output_type": "stream",
          "text": [
            "Epoch 1/30\n",
            "1372/1372 - 67s - loss: 1.5050 - accuracy: 0.3310 - val_loss: 1.3827 - val_accuracy: 0.3982\n",
            "Epoch 2/30\n",
            "1372/1372 - 63s - loss: 1.2246 - accuracy: 0.4786 - val_loss: 1.0830 - val_accuracy: 0.5606\n",
            "Epoch 3/30\n",
            "1372/1372 - 63s - loss: 0.9704 - accuracy: 0.6103 - val_loss: 0.9746 - val_accuracy: 0.6175\n",
            "Epoch 4/30\n",
            "1372/1372 - 62s - loss: 0.8013 - accuracy: 0.6933 - val_loss: 0.9007 - val_accuracy: 0.6589\n",
            "Epoch 5/30\n",
            "1372/1372 - 62s - loss: 0.6833 - accuracy: 0.7441 - val_loss: 0.8794 - val_accuracy: 0.6758\n",
            "Epoch 6/30\n",
            "1372/1372 - 62s - loss: 0.6035 - accuracy: 0.7780 - val_loss: 0.8955 - val_accuracy: 0.6803\n",
            "Epoch 7/30\n",
            "1372/1372 - 62s - loss: 0.5431 - accuracy: 0.7996 - val_loss: 0.9553 - val_accuracy: 0.6829\n",
            "Epoch 8/30\n",
            "1372/1372 - 62s - loss: 0.5024 - accuracy: 0.8164 - val_loss: 0.9141 - val_accuracy: 0.6923\n",
            "Epoch 9/30\n",
            "1372/1372 - 62s - loss: 0.4641 - accuracy: 0.8295 - val_loss: 1.0001 - val_accuracy: 0.6931\n",
            "Epoch 10/30\n",
            "1372/1372 - 62s - loss: 0.4420 - accuracy: 0.8413 - val_loss: 1.0208 - val_accuracy: 0.6973\n",
            "Epoch 00010: early stopping\n"
          ],
          "name": "stdout"
        }
      ]
    },
    {
      "cell_type": "code",
      "metadata": {
        "colab": {
          "base_uri": "https://localhost:8080/",
          "height": 573
        },
        "id": "8PFQJXleZeD3",
        "outputId": "eb6e52f2-dbb9-4869-a876-e47a97dcead5"
      },
      "source": [
        "plt.plot(hist_glove_gru_one.history['accuracy'])\n",
        "plt.plot(hist_glove_gru_one.history['val_accuracy'])\n",
        "plt.title('Glove GRU one-direction accuracy')\n",
        "plt.xlabel('Epoch')\n",
        "plt.ylabel('Accuracy')\n",
        "plt.legend(['train', 'val'], loc='upper left')\n",
        "plt.show()\n",
        "\n",
        "plt.plot(hist_glove_gru_one.history['loss'])\n",
        "plt.plot(hist_glove_gru_one.history['val_loss'])\n",
        "plt.title('Glove GRU one-direction loss')\n",
        "plt.xlabel('Epoch')\n",
        "plt.ylabel('Loss')\n",
        "plt.legend(['train', 'val'], loc='upper left')\n",
        "plt.show()"
      ],
      "execution_count": null,
      "outputs": [
        {
          "output_type": "display_data",
          "data": {
            "image/png": "[encoded data removed]",
            "text/plain": [
              "<Figure size 432x288 with 1 Axes>"
            ]
          },
          "metadata": {
            "tags": [],
            "needs_background": "light"
          }
        },
        {
          "output_type": "display_data",
          "data": {
            "image/png": "[encoded data removed]",
            "text/plain": [
              "<Figure size 432x288 with 1 Axes>"
            ]
          },
          "metadata": {
            "tags": [],
            "needs_background": "light"
          }
        }
      ]
    },
    {
      "cell_type": "code",
      "metadata": {
        "id": "np7c7-F_ZeD3"
      },
      "source": [
        "# save GRU\n",
        "model_using_GRU_glove_one.save('/content/drive/MyDrive/Novelist_Classification/model/GRU/gru_glove_one.h5')"
      ],
      "execution_count": null,
      "outputs": []
    },
    {
      "cell_type": "markdown",
      "metadata": {
        "id": "aKyFTORza-1k"
      },
      "source": [
        "3. 양방향 GRU - fasttext"
      ]
    },
    {
      "cell_type": "code",
      "metadata": {
        "id": "p3aiCEDUa3yO"
      },
      "source": [
        "# 하이퍼파라미터 설정\n",
        "dropout_prob = 0.5\n",
        "EMB_SIZE = 128\n",
        "EPOCH = 30\n",
        "VOCAB_SIZE = vocab_size\n",
        "VOCAB_SIZE_new = vocab_size_new"
      ],
      "execution_count": null,
      "outputs": []
    },
    {
      "cell_type": "code",
      "metadata": {
        "id": "nOwNNIdna3yP"
      },
      "source": [
        "# 양방향 GRU - fasttext\n",
        "from keras.optimizers import Adam\n",
        "model_using_GRU_fasttext_bi = Sequential([\n",
        "    Embedding(vocab_size, 300, weights = [FT_embedding_matrix] ,input_length = max_length),\n",
        "    Bidirectional(GRU(64, return_sequences=True)),\n",
        "    Bidirectional(GRU(64)),\n",
        "    tf.keras.layers.Dropout(dropout_prob),\n",
        "    Dense(2, activation='softmax')\n",
        "])\n",
        "    \n",
        "model_using_GRU_fasttext_bi.compile(loss='categorical_crossentropy', optimizer = Adam(learning_rate=0.01))\n",
        "model_using_GRU_fasttext_bi.summary()"
      ],
      "execution_count": null,
      "outputs": []
    },
    {
      "cell_type": "code",
      "metadata": {
        "colab": {
          "base_uri": "https://localhost:8080/"
        },
        "id": "45sf6byka3yP",
        "outputId": "273189fd-8a14-47bb-a383-ca914d4749cf"
      },
      "source": [
        "# 양방향 GRU 학습 - fasttext\n",
        "early_stopping = tf.keras.callbacks.EarlyStopping(monitor='val_loss', mode='min', patience=5, verbose=1)\n",
        "\n",
        "# fit model\n",
        "num_epochs = 20\n",
        "hist_fast_gru_bi = model_using_GRU_fasttext_bi.fit(train_padded, y_train, \n",
        "                    epochs = num_epochs, verbose = 2,\n",
        "                    validation_split = 0.2, callbacks = [early_stopping])"
      ],
      "execution_count": null,
      "outputs": [
        {
          "output_type": "stream",
          "text": [
            "Epoch 1/30\n",
            "1372/1372 - 67s - loss: 1.5050 - accuracy: 0.3310 - val_loss: 1.3827 - val_accuracy: 0.3982\n",
            "Epoch 2/30\n",
            "1372/1372 - 63s - loss: 1.2246 - accuracy: 0.4786 - val_loss: 1.0830 - val_accuracy: 0.5606\n",
            "Epoch 3/30\n",
            "1372/1372 - 63s - loss: 0.9704 - accuracy: 0.6103 - val_loss: 0.9746 - val_accuracy: 0.6175\n",
            "Epoch 4/30\n",
            "1372/1372 - 62s - loss: 0.8013 - accuracy: 0.6933 - val_loss: 0.9007 - val_accuracy: 0.6589\n",
            "Epoch 5/30\n",
            "1372/1372 - 62s - loss: 0.6833 - accuracy: 0.7441 - val_loss: 0.8794 - val_accuracy: 0.6758\n",
            "Epoch 6/30\n",
            "1372/1372 - 62s - loss: 0.6035 - accuracy: 0.7780 - val_loss: 0.8955 - val_accuracy: 0.6803\n",
            "Epoch 7/30\n",
            "1372/1372 - 62s - loss: 0.5431 - accuracy: 0.7996 - val_loss: 0.9553 - val_accuracy: 0.6829\n",
            "Epoch 8/30\n",
            "1372/1372 - 62s - loss: 0.5024 - accuracy: 0.8164 - val_loss: 0.9141 - val_accuracy: 0.6923\n",
            "Epoch 9/30\n",
            "1372/1372 - 62s - loss: 0.4641 - accuracy: 0.8295 - val_loss: 1.0001 - val_accuracy: 0.6931\n",
            "Epoch 10/30\n",
            "1372/1372 - 62s - loss: 0.4420 - accuracy: 0.8413 - val_loss: 1.0208 - val_accuracy: 0.6973\n",
            "Epoch 00010: early stopping\n"
          ],
          "name": "stdout"
        }
      ]
    },
    {
      "cell_type": "code",
      "metadata": {
        "colab": {
          "base_uri": "https://localhost:8080/",
          "height": 573
        },
        "id": "JtbtPWuQa3yQ",
        "outputId": "eb6e52f2-dbb9-4869-a876-e47a97dcead5"
      },
      "source": [
        "plt.plot(hist_fast_gru_bi.history['accuracy'])\n",
        "plt.plot(hist_fast_gru_bi.history['val_accuracy'])\n",
        "plt.title('Fasttext GRU bi-direction accuracy')\n",
        "plt.xlabel('Epoch')\n",
        "plt.ylabel('Accuracy')\n",
        "plt.legend(['train', 'val'], loc='upper left')\n",
        "plt.show()\n",
        "\n",
        "plt.plot(hist_fast_gru_bi.history['loss'])\n",
        "plt.plot(hist_fast_gru_bi.history['val_loss'])\n",
        "plt.title('Fasttext GRU bi-direction loss')\n",
        "plt.xlabel('Epoch')\n",
        "plt.ylabel('Loss')\n",
        "plt.legend(['train', 'val'], loc='upper left')\n",
        "plt.show()"
      ],
      "execution_count": null,
      "outputs": [
        {
          "output_type": "display_data",
          "data": {
            "image/png": "[encoded data removed]",
            "text/plain": [
              "<Figure size 432x288 with 1 Axes>"
            ]
          },
          "metadata": {
            "tags": [],
            "needs_background": "light"
          }
        },
        {
          "output_type": "display_data",
          "data": {
            "image/png": "[encoded data removed]",
            "text/plain": [
              "<Figure size 432x288 with 1 Axes>"
            ]
          },
          "metadata": {
            "tags": [],
            "needs_background": "light"
          }
        }
      ]
    },
    {
      "cell_type": "code",
      "metadata": {
        "id": "XwAcjZrUa3yQ"
      },
      "source": [
        "# save GRU\n",
        "model_using_GRU_fasttext_bi.save('/content/drive/MyDrive/Novelist_Classification/model/GRU/gru_fast_bi.h5')"
      ],
      "execution_count": null,
      "outputs": []
    },
    {
      "cell_type": "markdown",
      "metadata": {
        "id": "EX8MajPda3yS"
      },
      "source": [
        "4. 양방향 GRU - glove"
      ]
    },
    {
      "cell_type": "code",
      "metadata": {
        "id": "NAk_VMs5a3yT"
      },
      "source": [
        "# 하이퍼파라미터 설정\n",
        "dropout_prob = 0.5\n",
        "EMB_SIZE = 128\n",
        "EPOCH = 30\n",
        "VOCAB_SIZE = vocab_size\n",
        "VOCAB_SIZE_new = vocab_size_new"
      ],
      "execution_count": null,
      "outputs": []
    },
    {
      "cell_type": "code",
      "metadata": {
        "id": "i6GXDM1Ya3yT"
      },
      "source": [
        "# 단방향 GRU - glove\n",
        "from keras.optimizers import Adam\n",
        "model_using_GRU_glove_bi = Sequential([\n",
        "    Embedding(vocab_size, 300, weights = [g_embedding_matrix] ,input_length = max_length),\n",
        "    Bidirectional(GRU(64, return_sequences=True)),\n",
        "    Bidirectional(GRU(64)),\n",
        "    tf.keras.layers.Dropout(dropout_prob),\n",
        "    Dense(2, activation='softmax')\n",
        "])\n",
        "    \n",
        "model_using_GRU_glove_bi.compile(loss='categorical_crossentropy', optimizer = Adam(learning_rate=0.01))\n",
        "model_using_GRU_glove_bi.summary()"
      ],
      "execution_count": null,
      "outputs": []
    },
    {
      "cell_type": "code",
      "metadata": {
        "colab": {
          "base_uri": "https://localhost:8080/"
        },
        "id": "ljLHxQfQa3yT",
        "outputId": "273189fd-8a14-47bb-a383-ca914d4749cf"
      },
      "source": [
        "# 단방향 GRU 학습 - glove\n",
        "early_stopping = tf.keras.callbacks.EarlyStopping(monitor='val_loss', mode='min', patience=5, verbose=1)\n",
        "\n",
        "# fit model\n",
        "num_epochs = 20\n",
        "hist_glove_gru_bi = model_using_GRU_glove_bi.fit(train_padded, y_train, \n",
        "                    epochs = num_epochs, verbose = 2,\n",
        "                    validation_split = 0.2, callbacks = [early_stopping])"
      ],
      "execution_count": null,
      "outputs": [
        {
          "output_type": "stream",
          "text": [
            "Epoch 1/30\n",
            "1372/1372 - 67s - loss: 1.5050 - accuracy: 0.3310 - val_loss: 1.3827 - val_accuracy: 0.3982\n",
            "Epoch 2/30\n",
            "1372/1372 - 63s - loss: 1.2246 - accuracy: 0.4786 - val_loss: 1.0830 - val_accuracy: 0.5606\n",
            "Epoch 3/30\n",
            "1372/1372 - 63s - loss: 0.9704 - accuracy: 0.6103 - val_loss: 0.9746 - val_accuracy: 0.6175\n",
            "Epoch 4/30\n",
            "1372/1372 - 62s - loss: 0.8013 - accuracy: 0.6933 - val_loss: 0.9007 - val_accuracy: 0.6589\n",
            "Epoch 5/30\n",
            "1372/1372 - 62s - loss: 0.6833 - accuracy: 0.7441 - val_loss: 0.8794 - val_accuracy: 0.6758\n",
            "Epoch 6/30\n",
            "1372/1372 - 62s - loss: 0.6035 - accuracy: 0.7780 - val_loss: 0.8955 - val_accuracy: 0.6803\n",
            "Epoch 7/30\n",
            "1372/1372 - 62s - loss: 0.5431 - accuracy: 0.7996 - val_loss: 0.9553 - val_accuracy: 0.6829\n",
            "Epoch 8/30\n",
            "1372/1372 - 62s - loss: 0.5024 - accuracy: 0.8164 - val_loss: 0.9141 - val_accuracy: 0.6923\n",
            "Epoch 9/30\n",
            "1372/1372 - 62s - loss: 0.4641 - accuracy: 0.8295 - val_loss: 1.0001 - val_accuracy: 0.6931\n",
            "Epoch 10/30\n",
            "1372/1372 - 62s - loss: 0.4420 - accuracy: 0.8413 - val_loss: 1.0208 - val_accuracy: 0.6973\n",
            "Epoch 00010: early stopping\n"
          ],
          "name": "stdout"
        }
      ]
    },
    {
      "cell_type": "code",
      "metadata": {
        "colab": {
          "base_uri": "https://localhost:8080/",
          "height": 573
        },
        "id": "eXp1V5b_a3yU",
        "outputId": "eb6e52f2-dbb9-4869-a876-e47a97dcead5"
      },
      "source": [
        "plt.plot(hist_glove_gru_bi.history['accuracy'])\n",
        "plt.plot(hist_glove_gru_bi.history['val_accuracy'])\n",
        "plt.title('Glove GRU one-direction accuracy')\n",
        "plt.xlabel('Epoch')\n",
        "plt.ylabel('Accuracy')\n",
        "plt.legend(['train', 'val'], loc='upper left')\n",
        "plt.show()\n",
        "\n",
        "plt.plot(hist_glove_gru_bi.history['loss'])\n",
        "plt.plot(hist_glove_gru_bi.history['val_loss'])\n",
        "plt.title('Glove GRU one-direction loss')\n",
        "plt.xlabel('Epoch')\n",
        "plt.ylabel('Loss')\n",
        "plt.legend(['train', 'val'], loc='upper left')\n",
        "plt.show()"
      ],
      "execution_count": null,
      "outputs": [
        {
          "output_type": "display_data",
          "data": {
            "image/png": "[encoded data removed]",
            "text/plain": [
              "<Figure size 432x288 with 1 Axes>"
            ]
          },
          "metadata": {
            "tags": [],
            "needs_background": "light"
          }
        },
        {
          "output_type": "display_data",
          "data": {
            "image/png": "[encoded data removed]",
            "text/plain": [
              "<Figure size 432x288 with 1 Axes>"
            ]
          },
          "metadata": {
            "tags": [],
            "needs_background": "light"
          }
        }
      ]
    },
    {
      "cell_type": "code",
      "metadata": {
        "id": "Jg3betgEa3yV"
      },
      "source": [
        "# save GRU\n",
        "model_using_GRU_glove_bi.save('/content/drive/MyDrive/Novelist_Classification/model/GRU/gru_glove_bi.h5')"
      ],
      "execution_count": null,
      "outputs": []
    }
  ]
}