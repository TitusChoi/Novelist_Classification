{
  "nbformat": 4,
  "nbformat_minor": 0,
  "metadata": {
    "colab": {
      "name": "Baseline_LSTM2.ipynb",
      "provenance": [],
      "collapsed_sections": [],
      "include_colab_link": true
    },
    "kernelspec": {
      "display_name": "Python 3",
      "language": "python",
      "name": "python3"
    },
    "language_info": {
      "codemirror_mode": {
        "name": "ipython",
        "version": 3
      },
      "file_extension": ".py",
      "mimetype": "text/x-python",
      "name": "python",
      "nbconvert_exporter": "python",
      "pygments_lexer": "ipython3",
      "version": "3.7.1"
    },
    "toc": {
      "base_numbering": 1,
      "nav_menu": {},
      "number_sections": true,
      "sideBar": true,
      "skip_h1_title": false,
      "title_cell": "Table of Contents",
      "title_sidebar": "Contents",
      "toc_cell": false,
      "toc_position": {},
      "toc_section_display": true,
      "toc_window_display": false
    },
    "varInspector": {
      "cols": {
        "lenName": 16,
        "lenType": 16,
        "lenVar": 40
      },
      "kernels_config": {
        "python": {
          "delete_cmd_postfix": "",
          "delete_cmd_prefix": "del ",
          "library": "var_list.py",
          "varRefreshCmd": "print(var_dic_list())"
        },
        "r": {
          "delete_cmd_postfix": ") ",
          "delete_cmd_prefix": "rm(",
          "library": "var_list.r",
          "varRefreshCmd": "cat(var_dic_list()) "
        }
      },
      "types_to_exclude": [
        "module",
        "function",
        "builtin_function_or_method",
        "instance",
        "_Feature"
      ],
      "window_display": false
    },
    "accelerator": "GPU"
  },
  "cells": [
    {
      "cell_type": "markdown",
      "metadata": {
        "id": "view-in-github",
        "colab_type": "text"
      },
      "source": [
        "<a href=\"https://colab.research.google.com/github/TitusChoi/Novelist_Classification/blob/yuls/Baseline_LSTM2.ipynb\" target=\"_parent\"><img src=\"https://colab.research.google.com/assets/colab-badge.svg\" alt=\"Open In Colab\"/></a>"
      ]
    },
    {
      "cell_type": "markdown",
      "metadata": {
        "id": "ufcGB_euCc7M"
      },
      "source": [
        "# **데이터 살펴보기**"
      ]
    },
    {
      "cell_type": "code",
      "metadata": {
        "colab": {
          "base_uri": "https://localhost:8080/"
        },
        "id": "tr1zgWURJc7L",
        "outputId": "218d232f-ca9e-461c-c717-c34f73a3837f"
      },
      "source": [
        "from google.colab import drive\n",
        "drive.mount('/content/drive')"
      ],
      "execution_count": null,
      "outputs": [
        {
          "output_type": "stream",
          "text": [
            "Mounted at /content/drive\n"
          ],
          "name": "stdout"
        }
      ]
    },
    {
      "cell_type": "code",
      "metadata": {
        "ExecuteTime": {
          "end_time": "2021-04-26T12:08:21.080328Z",
          "start_time": "2021-04-26T12:08:12.365611Z"
        },
        "id": "TmA1Au6CCaC7"
      },
      "source": [
        "import pandas as pd\n",
        "import warnings \n",
        "warnings.filterwarnings(action='ignore')\n",
        "import numpy as np\n",
        "import tensorflow as tf\n",
        "from tensorflow.keras.preprocessing.sequence import pad_sequences\n",
        "from tensorflow.keras.preprocessing.text import Tokenizer\n",
        "import re"
      ],
      "execution_count": null,
      "outputs": []
    },
    {
      "cell_type": "code",
      "metadata": {
        "id": "0ZwTCLUOCtUu"
      },
      "source": [
        "#경로 설정\n",
        "import os\n",
        "os.chdir('./')"
      ],
      "execution_count": null,
      "outputs": []
    },
    {
      "cell_type": "code",
      "metadata": {
        "ExecuteTime": {
          "end_time": "2021-04-26T12:36:40.285836Z",
          "start_time": "2021-04-26T12:36:39.649249Z"
        },
        "id": "OEZtMdB5CaDG"
      },
      "source": [
        "#파일 불러오기\n",
        "train = pd.read_csv('/content/drive/MyDrive/Novelist_Classification/datasets/new_train.csv', encoding = 'utf-8')\n",
        "test = pd.read_csv('/content/drive/MyDrive/Novelist_Classification/datasets/new_test.csv', encoding = 'utf-8')\n",
        "sample_submission = pd.read_csv('/content/drive/MyDrive/Novelist_Classification/datasets/sample_submission.csv', encoding = 'utf-8')"
      ],
      "execution_count": null,
      "outputs": []
    },
    {
      "cell_type": "code",
      "metadata": {
        "ExecuteTime": {
          "end_time": "2021-04-26T12:36:44.078071Z",
          "start_time": "2021-04-26T12:36:44.065108Z"
        },
        "colab": {
          "base_uri": "https://localhost:8080/",
          "height": 399
        },
        "id": "fSI61oxAcW0S",
        "outputId": "01b84813-2141-4737-955b-fa1610ecf5da"
      },
      "source": [
        "sample_submission"
      ],
      "execution_count": null,
      "outputs": [
        {
          "output_type": "execute_result",
          "data": {
            "text/html": [
              "<div>\n",
              "<style scoped>\n",
              "    .dataframe tbody tr th:only-of-type {\n",
              "        vertical-align: middle;\n",
              "    }\n",
              "\n",
              "    .dataframe tbody tr th {\n",
              "        vertical-align: top;\n",
              "    }\n",
              "\n",
              "    .dataframe thead th {\n",
              "        text-align: right;\n",
              "    }\n",
              "</style>\n",
              "<table border=\"1\" class=\"dataframe\">\n",
              "  <thead>\n",
              "    <tr style=\"text-align: right;\">\n",
              "      <th></th>\n",
              "      <th>Unnamed: 0</th>\n",
              "      <th>index</th>\n",
              "      <th>0</th>\n",
              "      <th>1</th>\n",
              "      <th>2</th>\n",
              "      <th>3</th>\n",
              "      <th>4</th>\n",
              "      <th>5</th>\n",
              "      <th>6</th>\n",
              "      <th>7</th>\n",
              "    </tr>\n",
              "  </thead>\n",
              "  <tbody>\n",
              "    <tr>\n",
              "      <th>0</th>\n",
              "      <td>0</td>\n",
              "      <td>0</td>\n",
              "      <td>0</td>\n",
              "      <td>0</td>\n",
              "      <td>0</td>\n",
              "      <td>0</td>\n",
              "      <td>0</td>\n",
              "      <td>0</td>\n",
              "      <td>0</td>\n",
              "      <td>0</td>\n",
              "    </tr>\n",
              "    <tr>\n",
              "      <th>1</th>\n",
              "      <td>1</td>\n",
              "      <td>1</td>\n",
              "      <td>0</td>\n",
              "      <td>0</td>\n",
              "      <td>0</td>\n",
              "      <td>0</td>\n",
              "      <td>0</td>\n",
              "      <td>0</td>\n",
              "      <td>0</td>\n",
              "      <td>0</td>\n",
              "    </tr>\n",
              "    <tr>\n",
              "      <th>2</th>\n",
              "      <td>2</td>\n",
              "      <td>2</td>\n",
              "      <td>0</td>\n",
              "      <td>0</td>\n",
              "      <td>0</td>\n",
              "      <td>0</td>\n",
              "      <td>0</td>\n",
              "      <td>0</td>\n",
              "      <td>0</td>\n",
              "      <td>0</td>\n",
              "    </tr>\n",
              "    <tr>\n",
              "      <th>3</th>\n",
              "      <td>3</td>\n",
              "      <td>3</td>\n",
              "      <td>0</td>\n",
              "      <td>0</td>\n",
              "      <td>0</td>\n",
              "      <td>0</td>\n",
              "      <td>0</td>\n",
              "      <td>0</td>\n",
              "      <td>0</td>\n",
              "      <td>0</td>\n",
              "    </tr>\n",
              "    <tr>\n",
              "      <th>4</th>\n",
              "      <td>4</td>\n",
              "      <td>4</td>\n",
              "      <td>0</td>\n",
              "      <td>0</td>\n",
              "      <td>0</td>\n",
              "      <td>0</td>\n",
              "      <td>0</td>\n",
              "      <td>0</td>\n",
              "      <td>0</td>\n",
              "      <td>0</td>\n",
              "    </tr>\n",
              "    <tr>\n",
              "      <th>...</th>\n",
              "      <td>...</td>\n",
              "      <td>...</td>\n",
              "      <td>...</td>\n",
              "      <td>...</td>\n",
              "      <td>...</td>\n",
              "      <td>...</td>\n",
              "      <td>...</td>\n",
              "      <td>...</td>\n",
              "      <td>...</td>\n",
              "      <td>...</td>\n",
              "    </tr>\n",
              "    <tr>\n",
              "      <th>27314</th>\n",
              "      <td>27314</td>\n",
              "      <td>27314</td>\n",
              "      <td>0</td>\n",
              "      <td>0</td>\n",
              "      <td>0</td>\n",
              "      <td>0</td>\n",
              "      <td>0</td>\n",
              "      <td>0</td>\n",
              "      <td>0</td>\n",
              "      <td>0</td>\n",
              "    </tr>\n",
              "    <tr>\n",
              "      <th>27315</th>\n",
              "      <td>27315</td>\n",
              "      <td>27315</td>\n",
              "      <td>0</td>\n",
              "      <td>0</td>\n",
              "      <td>0</td>\n",
              "      <td>0</td>\n",
              "      <td>0</td>\n",
              "      <td>0</td>\n",
              "      <td>0</td>\n",
              "      <td>0</td>\n",
              "    </tr>\n",
              "    <tr>\n",
              "      <th>27316</th>\n",
              "      <td>27316</td>\n",
              "      <td>27316</td>\n",
              "      <td>0</td>\n",
              "      <td>0</td>\n",
              "      <td>0</td>\n",
              "      <td>0</td>\n",
              "      <td>0</td>\n",
              "      <td>0</td>\n",
              "      <td>0</td>\n",
              "      <td>0</td>\n",
              "    </tr>\n",
              "    <tr>\n",
              "      <th>27317</th>\n",
              "      <td>27317</td>\n",
              "      <td>27317</td>\n",
              "      <td>0</td>\n",
              "      <td>0</td>\n",
              "      <td>0</td>\n",
              "      <td>0</td>\n",
              "      <td>0</td>\n",
              "      <td>0</td>\n",
              "      <td>0</td>\n",
              "      <td>0</td>\n",
              "    </tr>\n",
              "    <tr>\n",
              "      <th>27318</th>\n",
              "      <td>27318</td>\n",
              "      <td>27318</td>\n",
              "      <td>0</td>\n",
              "      <td>0</td>\n",
              "      <td>0</td>\n",
              "      <td>0</td>\n",
              "      <td>0</td>\n",
              "      <td>0</td>\n",
              "      <td>0</td>\n",
              "      <td>0</td>\n",
              "    </tr>\n",
              "  </tbody>\n",
              "</table>\n",
              "<p>27319 rows × 10 columns</p>\n",
              "</div>"
            ],
            "text/plain": [
              "       Unnamed: 0  index  0  1  2  3  4  5  6  7\n",
              "0               0      0  0  0  0  0  0  0  0  0\n",
              "1               1      1  0  0  0  0  0  0  0  0\n",
              "2               2      2  0  0  0  0  0  0  0  0\n",
              "3               3      3  0  0  0  0  0  0  0  0\n",
              "4               4      4  0  0  0  0  0  0  0  0\n",
              "...           ...    ... .. .. .. .. .. .. .. ..\n",
              "27314       27314  27314  0  0  0  0  0  0  0  0\n",
              "27315       27315  27315  0  0  0  0  0  0  0  0\n",
              "27316       27316  27316  0  0  0  0  0  0  0  0\n",
              "27317       27317  27317  0  0  0  0  0  0  0  0\n",
              "27318       27318  27318  0  0  0  0  0  0  0  0\n",
              "\n",
              "[27319 rows x 10 columns]"
            ]
          },
          "metadata": {
            "tags": []
          },
          "execution_count": 4
        }
      ]
    },
    {
      "cell_type": "code",
      "metadata": {
        "ExecuteTime": {
          "end_time": "2021-04-26T12:29:16.606718Z",
          "start_time": "2021-04-26T12:29:16.593762Z"
        },
        "id": "SvX_U2ETC7vA",
        "colab": {
          "base_uri": "https://localhost:8080/",
          "height": 399
        },
        "outputId": "243dec12-72cb-4cc7-b913-6cd016306643"
      },
      "source": [
        "#train 데이터 살펴보기\n",
        "train\n",
        "train.rename(columns={'Unnamed: 0':'index'}, inplace = True)\n",
        "train"
      ],
      "execution_count": null,
      "outputs": [
        {
          "output_type": "execute_result",
          "data": {
            "text/html": [
              "<div>\n",
              "<style scoped>\n",
              "    .dataframe tbody tr th:only-of-type {\n",
              "        vertical-align: middle;\n",
              "    }\n",
              "\n",
              "    .dataframe tbody tr th {\n",
              "        vertical-align: top;\n",
              "    }\n",
              "\n",
              "    .dataframe thead th {\n",
              "        text-align: right;\n",
              "    }\n",
              "</style>\n",
              "<table border=\"1\" class=\"dataframe\">\n",
              "  <thead>\n",
              "    <tr style=\"text-align: right;\">\n",
              "      <th></th>\n",
              "      <th>index</th>\n",
              "      <th>text</th>\n",
              "      <th>author</th>\n",
              "    </tr>\n",
              "  </thead>\n",
              "  <tbody>\n",
              "    <tr>\n",
              "      <th>0</th>\n",
              "      <td>0</td>\n",
              "      <td>It is hard to forget repulsive things. I remem...</td>\n",
              "      <td>6</td>\n",
              "    </tr>\n",
              "    <tr>\n",
              "      <th>1</th>\n",
              "      <td>1</td>\n",
              "      <td>It would be tedious if given in the beadle’s w...</td>\n",
              "      <td>7</td>\n",
              "    </tr>\n",
              "    <tr>\n",
              "      <th>2</th>\n",
              "      <td>2</td>\n",
              "      <td>“Very good. Shall we argue about it here in p...</td>\n",
              "      <td>2</td>\n",
              "    </tr>\n",
              "    <tr>\n",
              "      <th>3</th>\n",
              "      <td>3</td>\n",
              "      <td>“What! and I as high as a tree and as big as a...</td>\n",
              "      <td>6</td>\n",
              "    </tr>\n",
              "    <tr>\n",
              "      <th>4</th>\n",
              "      <td>4</td>\n",
              "      <td>\"Isn't it enough, Vanya?\" she cried, seeing hi...</td>\n",
              "      <td>3</td>\n",
              "    </tr>\n",
              "    <tr>\n",
              "      <th>...</th>\n",
              "      <td>...</td>\n",
              "      <td>...</td>\n",
              "      <td>...</td>\n",
              "    </tr>\n",
              "    <tr>\n",
              "      <th>83215</th>\n",
              "      <td>83215</td>\n",
              "      <td>What with the birthday visitors, and what with...</td>\n",
              "      <td>7</td>\n",
              "    </tr>\n",
              "    <tr>\n",
              "      <th>83216</th>\n",
              "      <td>83216</td>\n",
              "      <td>It was an old rickety door and gave at once be...</td>\n",
              "      <td>2</td>\n",
              "    </tr>\n",
              "    <tr>\n",
              "      <th>83217</th>\n",
              "      <td>83217</td>\n",
              "      <td>“Well then you can go to the devil,” said odin...</td>\n",
              "      <td>3</td>\n",
              "    </tr>\n",
              "    <tr>\n",
              "      <th>83218</th>\n",
              "      <td>83218</td>\n",
              "      <td>“Don’t know?”</td>\n",
              "      <td>7</td>\n",
              "    </tr>\n",
              "    <tr>\n",
              "      <th>83219</th>\n",
              "      <td>83219</td>\n",
              "      <td>“Not go to town!” cried Mrs. Palmer, with a la...</td>\n",
              "      <td>5</td>\n",
              "    </tr>\n",
              "  </tbody>\n",
              "</table>\n",
              "<p>83220 rows × 3 columns</p>\n",
              "</div>"
            ],
            "text/plain": [
              "       index                                               text  author\n",
              "0          0  It is hard to forget repulsive things. I remem...       6\n",
              "1          1  It would be tedious if given in the beadle’s w...       7\n",
              "2          2   “Very good. Shall we argue about it here in p...       2\n",
              "3          3  “What! and I as high as a tree and as big as a...       6\n",
              "4          4  \"Isn't it enough, Vanya?\" she cried, seeing hi...       3\n",
              "...      ...                                                ...     ...\n",
              "83215  83215  What with the birthday visitors, and what with...       7\n",
              "83216  83216  It was an old rickety door and gave at once be...       2\n",
              "83217  83217  “Well then you can go to the devil,” said odin...       3\n",
              "83218  83218                                      “Don’t know?”       7\n",
              "83219  83219  “Not go to town!” cried Mrs. Palmer, with a la...       5\n",
              "\n",
              "[83220 rows x 3 columns]"
            ]
          },
          "metadata": {
            "tags": []
          },
          "execution_count": 4
        }
      ]
    },
    {
      "cell_type": "code",
      "metadata": {
        "ExecuteTime": {
          "end_time": "2021-04-26T12:29:42.470377Z",
          "start_time": "2021-04-26T12:29:42.449435Z"
        },
        "id": "8MxZsr6yCshr",
        "colab": {
          "base_uri": "https://localhost:8080/",
          "height": 399
        },
        "outputId": "badf040b-1894-4e9a-81af-e2d67c2c1cb2"
      },
      "source": [
        "#test 데이터 살펴보기\n",
        "test = test[['index', 'text']]\n",
        "test"
      ],
      "execution_count": null,
      "outputs": [
        {
          "output_type": "execute_result",
          "data": {
            "text/html": [
              "<div>\n",
              "<style scoped>\n",
              "    .dataframe tbody tr th:only-of-type {\n",
              "        vertical-align: middle;\n",
              "    }\n",
              "\n",
              "    .dataframe tbody tr th {\n",
              "        vertical-align: top;\n",
              "    }\n",
              "\n",
              "    .dataframe thead th {\n",
              "        text-align: right;\n",
              "    }\n",
              "</style>\n",
              "<table border=\"1\" class=\"dataframe\">\n",
              "  <thead>\n",
              "    <tr style=\"text-align: right;\">\n",
              "      <th></th>\n",
              "      <th>index</th>\n",
              "      <th>text</th>\n",
              "    </tr>\n",
              "  </thead>\n",
              "  <tbody>\n",
              "    <tr>\n",
              "      <th>0</th>\n",
              "      <td>0</td>\n",
              "      <td>About thirty years ago Miss Maria Ward, of Hun...</td>\n",
              "    </tr>\n",
              "    <tr>\n",
              "      <th>1</th>\n",
              "      <td>1</td>\n",
              "      <td>Their homes were so distant, and the circles i...</td>\n",
              "    </tr>\n",
              "    <tr>\n",
              "      <th>2</th>\n",
              "      <td>2</td>\n",
              "      <td>The letter was not unproductive. It re-establi...</td>\n",
              "    </tr>\n",
              "    <tr>\n",
              "      <th>3</th>\n",
              "      <td>3</td>\n",
              "      <td>Such were its immediate effects, and within a ...</td>\n",
              "    </tr>\n",
              "    <tr>\n",
              "      <th>4</th>\n",
              "      <td>4</td>\n",
              "      <td>Sir Thomas could not give so instantaneous and...</td>\n",
              "    </tr>\n",
              "    <tr>\n",
              "      <th>...</th>\n",
              "      <td>...</td>\n",
              "      <td>...</td>\n",
              "    </tr>\n",
              "    <tr>\n",
              "      <th>27313</th>\n",
              "      <td>27313</td>\n",
              "      <td>At the end of another day or two, odin growing...</td>\n",
              "    </tr>\n",
              "    <tr>\n",
              "      <th>27314</th>\n",
              "      <td>27314</td>\n",
              "      <td>All afternoon we sat together, mostly in silen...</td>\n",
              "    </tr>\n",
              "    <tr>\n",
              "      <th>27315</th>\n",
              "      <td>27315</td>\n",
              "      <td>odin, having carried his thanks to odin, proc...</td>\n",
              "    </tr>\n",
              "    <tr>\n",
              "      <th>27316</th>\n",
              "      <td>27316</td>\n",
              "      <td>Soon after this, upon odin's leaving the room,...</td>\n",
              "    </tr>\n",
              "    <tr>\n",
              "      <th>27317</th>\n",
              "      <td>27317</td>\n",
              "      <td>And all the worse for the doomed man, that the...</td>\n",
              "    </tr>\n",
              "  </tbody>\n",
              "</table>\n",
              "<p>27318 rows × 2 columns</p>\n",
              "</div>"
            ],
            "text/plain": [
              "       index                                               text\n",
              "0          0  About thirty years ago Miss Maria Ward, of Hun...\n",
              "1          1  Their homes were so distant, and the circles i...\n",
              "2          2  The letter was not unproductive. It re-establi...\n",
              "3          3  Such were its immediate effects, and within a ...\n",
              "4          4  Sir Thomas could not give so instantaneous and...\n",
              "...      ...                                                ...\n",
              "27313  27313  At the end of another day or two, odin growing...\n",
              "27314  27314  All afternoon we sat together, mostly in silen...\n",
              "27315  27315   odin, having carried his thanks to odin, proc...\n",
              "27316  27316  Soon after this, upon odin's leaving the room,...\n",
              "27317  27317  And all the worse for the doomed man, that the...\n",
              "\n",
              "[27318 rows x 2 columns]"
            ]
          },
          "metadata": {
            "tags": []
          },
          "execution_count": 5
        }
      ]
    },
    {
      "cell_type": "code",
      "metadata": {
        "ExecuteTime": {
          "end_time": "2021-04-26T12:37:42.268176Z",
          "start_time": "2021-04-26T12:37:23.698905Z"
        },
        "id": "WOpmyyX_77Op"
      },
      "source": [
        "#sample_submission\n",
        "sample_submission\n",
        "\n",
        "for i in range(19617, 27318):\n",
        "    sample_submission = sample_submission.append(\n",
        "        {\n",
        "            'index': i,\n",
        "            '0': 0,\n",
        "            '1': 0,\n",
        "            '2': 0,\n",
        "            '3': 0,\n",
        "            '4': 0,\n",
        "            '5': 0,\n",
        "            '6': 0,\n",
        "            '7': 0\n",
        "        },\n",
        "        ignore_index=True)\n",
        "    \n",
        "sample_submission"
      ],
      "execution_count": null,
      "outputs": []
    },
    {
      "cell_type": "code",
      "metadata": {
        "ExecuteTime": {
          "end_time": "2021-04-26T12:38:02.189411Z",
          "start_time": "2021-04-26T12:38:02.065744Z"
        },
        "id": "fEJah2TJcW0V"
      },
      "source": [
        "sample_submission.to_csv('sample_submission.csv')"
      ],
      "execution_count": null,
      "outputs": []
    },
    {
      "cell_type": "markdown",
      "metadata": {
        "id": "PPq0vxJVDS3R"
      },
      "source": [
        "# **전처리**"
      ]
    },
    {
      "cell_type": "code",
      "metadata": {
        "ExecuteTime": {
          "end_time": "2021-04-26T12:45:44.500170Z",
          "start_time": "2021-04-26T12:45:43.838942Z"
        },
        "id": "tMUMcInsD80p"
      },
      "source": [
        "#부호를 제거해주는 함수\n",
        "def alpha_num(text):\n",
        "    return re.sub(r'[^A-Za-z0-9 ]', '', text)\n",
        "\n",
        "train['text']=train['text'].apply(alpha_num)"
      ],
      "execution_count": null,
      "outputs": []
    },
    {
      "cell_type": "code",
      "metadata": {
        "ExecuteTime": {
          "end_time": "2021-04-26T12:45:46.137128Z",
          "start_time": "2021-04-26T12:45:46.120141Z"
        },
        "colab": {
          "base_uri": "https://localhost:8080/",
          "height": 35
        },
        "id": "Zr3z_5S8FvIr",
        "outputId": "bf9d69e5-cd1a-419c-942b-d7eb54baac51"
      },
      "source": [
        "#부호가 사라진 것을 확인할 수 있습니다.\n",
        "train['text'][4]"
      ],
      "execution_count": null,
      "outputs": [
        {
          "output_type": "execute_result",
          "data": {
            "application/vnd.google.colaboratory.intrinsic+json": {
              "type": "string"
            },
            "text/plain": [
              "'Isnt it enough Vanya she cried seeing his grimace Its all Ive got she added plaintively'"
            ]
          },
          "metadata": {
            "tags": []
          },
          "execution_count": 6
        }
      ]
    },
    {
      "cell_type": "markdown",
      "metadata": {
        "id": "gJdoBclqcW0W"
      },
      "source": [
        "#### 불용어 지정해서 지우기"
      ]
    },
    {
      "cell_type": "code",
      "metadata": {
        "ExecuteTime": {
          "end_time": "2021-04-26T12:49:22.089172Z",
          "start_time": "2021-04-26T12:49:22.071220Z"
        },
        "id": "vf_TGrbKCaDK"
      },
      "source": [
        "# 불용어 제거해주는 함수\n",
        "def remove_stopwords(text):\n",
        "    final_text = []\n",
        "    for i in text.split():\n",
        "        if i.strip().lower() not in base_stopwords:\n",
        "            final_text.append(i.strip())\n",
        "    return \" \".join(final_text)\n",
        "\n",
        "# 불용어\n",
        "base_stopwords = [ \"a\", \"about\", \"above\", \"after\", \"again\", \"against\", \"all\", \"am\", \"an\", \"and\", \"any\", \"are\", \"as\", \n",
        "             \"at\", \"be\", \"because\", \"been\", \"before\", \"being\", \"below\", \"between\", \"both\", \"but\", \"by\", \"could\", \n",
        "             \"did\", \"do\", \"does\", \"doing\", \"down\", \"during\", \"each\", \"few\", \"for\", \"from\", \"further\", \"had\", \"has\", \n",
        "             \"have\", \"having\", \"he\", \"he'd\", \"he'll\", \"he's\", \"her\", \"here\", \"here's\", \"hers\", \"herself\", \"him\", \"himself\", \n",
        "             \"his\", \"how\", \"how's\", \"i\", \"i'd\", \"i'll\", \"i'm\", \"i've\", \"if\", \"in\", \"into\", \"is\", \"it\", \"it's\", \"its\", \"itself\", \n",
        "             \"let's\", \"me\", \"more\", \"most\", \"my\", \"myself\", \"nor\", \"of\", \"on\", \"once\", \"only\", \"or\", \"other\", \"ought\", \"our\", \"ours\", \n",
        "             \"ourselves\", \"out\", \"over\", \"own\", \"same\", \"she\", \"she'd\", \"she'll\", \"she's\", \"should\", \"so\", \"some\", \"such\", \"than\", \"that\", \n",
        "             \"that's\", \"the\", \"their\", \"theirs\", \"them\", \"themselves\", \"then\", \"there\", \"there's\", \"these\", \"they\", \"they'd\", \"they'll\", \n",
        "             \"they're\", \"they've\", \"this\", \"those\", \"through\", \"to\", \"too\", \"under\", \"until\", \"up\", \"very\", \"was\", \"we\", \"we'd\", \"we'll\", \n",
        "             \"we're\", \"we've\", \"were\", \"what\", \"what's\", \"when\", \"when's\", \"where\", \"where's\", \"which\", \"while\", \"who\", \"who's\", \"whom\", \n",
        "             \"why\", \"why's\", \"with\", \"would\", \"you\", \"you'd\", \"you'll\", \"you're\", \"you've\", \"your\", \"yours\", \"yourself\", \"yourselves\" ]"
      ],
      "execution_count": null,
      "outputs": []
    },
    {
      "cell_type": "code",
      "metadata": {
        "id": "bAIa0MqOunZH",
        "colab": {
          "base_uri": "https://localhost:8080/"
        },
        "outputId": "9176e2e6-0794-468f-e960-d4e6cd3ed715"
      },
      "source": [
        "len(base_stopwords)"
      ],
      "execution_count": null,
      "outputs": [
        {
          "output_type": "execute_result",
          "data": {
            "text/plain": [
              "153"
            ]
          },
          "metadata": {
            "tags": []
          },
          "execution_count": 12
        }
      ]
    },
    {
      "cell_type": "code",
      "metadata": {
        "ExecuteTime": {
          "end_time": "2021-04-26T12:49:36.895353Z",
          "start_time": "2021-04-26T12:49:24.415751Z"
        },
        "id": "sUgcc07ADiiU"
      },
      "source": [
        "#전처리 적용\n",
        "train['text'] = train['text'].str.lower()\n",
        "test['text'] = test['text'].str.lower()\n",
        "train['text'] = train['text'].apply(alpha_num).apply(remove_stopwords)\n",
        "test['text'] = test['text'].apply(alpha_num).apply(remove_stopwords)"
      ],
      "execution_count": null,
      "outputs": []
    },
    {
      "cell_type": "code",
      "metadata": {
        "ExecuteTime": {
          "end_time": "2021-04-26T12:49:52.563509Z",
          "start_time": "2021-04-26T12:49:51.674889Z"
        },
        "id": "DZdWzRkCDovd"
      },
      "source": [
        "# train test 분리\n",
        "X_train = np.array([x for x in train['text']])\n",
        "X_test = np.array([x for x in test['text']])\n",
        "y_train = np.array([x for x in train['author']])"
      ],
      "execution_count": null,
      "outputs": []
    },
    {
      "cell_type": "code",
      "metadata": {
        "id": "kn5P1SFfcW0Y"
      },
      "source": [
        ""
      ],
      "execution_count": null,
      "outputs": []
    },
    {
      "cell_type": "markdown",
      "metadata": {
        "id": "FIL_KPRfcW0Z"
      },
      "source": [
        "#### nltk 라이브러리를 사용한 불용어 제거"
      ]
    },
    {
      "cell_type": "code",
      "metadata": {
        "ExecuteTime": {
          "end_time": "2021-04-26T12:08:41.246149Z",
          "start_time": "2021-04-26T12:08:35.643424Z"
        },
        "colab": {
          "base_uri": "https://localhost:8080/"
        },
        "id": "kcv2XGIIb62n",
        "outputId": "6110e89b-c3b7-4874-9f15-046ee1c26d83"
      },
      "source": [
        "# nltk 라이브러리를 사용한 불용어 제거\n",
        "import nltk\n",
        "from nltk.corpus import stopwords\n",
        "\n",
        "nltk.download('stopwords')\n",
        "\n",
        "nltk_stopword = set(stopwords.words('english'))\n",
        "\n",
        "# Stopword 만 제거한 결과\n",
        "def remove_stopwords_nltk(text):\n",
        "    final_text = []\n",
        "    for i in text.split():\n",
        "        if i.strip().lower() not in nltk_stopword:\n",
        "            final_text.append(i.strip())\n",
        "    return \" \".join(final_text)\n",
        "\n",
        "\n",
        "# train['text'] = train['text'].str.lower()\n",
        "# test['text'] = test['text'].str.lower()\n",
        "# train['text'] = train['text'].apply(alpha_num).apply(remove_stopwords_nltk)\n",
        "# test['text'] = test['text'].apply(alpha_num).apply(remove_stopwords_nltk)\n",
        "\n",
        "# X_train = np.array([x for x in train['text']])\n",
        "# X_test = np.array([x for x in test['text']])\n",
        "# y_train = np.array([x for x in train['author']])"
      ],
      "execution_count": null,
      "outputs": [
        {
          "output_type": "stream",
          "text": [
            "[nltk_data] Downloading package stopwords to /root/nltk_data...\n",
            "[nltk_data]   Unzipping corpora/stopwords.zip.\n"
          ],
          "name": "stdout"
        }
      ]
    },
    {
      "cell_type": "markdown",
      "metadata": {
        "id": "GFHYlN53cW0a"
      },
      "source": [
        "### Vocab_size 확인"
      ]
    },
    {
      "cell_type": "code",
      "metadata": {
        "ExecuteTime": {
          "end_time": "2021-04-26T12:55:39.641425Z",
          "start_time": "2021-04-26T12:55:36.679088Z"
        },
        "colab": {
          "base_uri": "https://localhost:8080/"
        },
        "id": "ZlUMtMrGcW0b",
        "outputId": "88d33fdb-f201-435f-e290-371a291e3895"
      },
      "source": [
        "tmp = train\n",
        "\n",
        "for i in range(len(tmp['text'])):\n",
        "    tmp['text'][i] = tmp['text'][i].strip().split()\n",
        "\n",
        "vocab = nltk.FreqDist(np.hstack(tmp['text']))\n",
        "print('단어 집합의 크기 : {}'.format(len(vocab)))"
      ],
      "execution_count": null,
      "outputs": [
        {
          "output_type": "stream",
          "text": [
            "단어 집합의 크기 : 63727\n"
          ],
          "name": "stdout"
        }
      ]
    },
    {
      "cell_type": "code",
      "metadata": {
        "id": "f_8hZsDAcW0c"
      },
      "source": [
        ""
      ],
      "execution_count": null,
      "outputs": []
    },
    {
      "cell_type": "markdown",
      "metadata": {
        "id": "Ks1FhSNUHrke"
      },
      "source": [
        "# **모델링**"
      ]
    },
    {
      "cell_type": "code",
      "metadata": {
        "ExecuteTime": {
          "end_time": "2021-04-26T13:05:30.582313Z",
          "start_time": "2021-04-26T13:05:30.214401Z"
        },
        "id": "cJ54B-XsJY9y"
      },
      "source": [
        "# FastText 사용\n",
        "import gensim\n",
        "from gensim.models.keyedvectors import KeyedVectors"
      ],
      "execution_count": null,
      "outputs": []
    },
    {
      "cell_type": "code",
      "metadata": {
        "ExecuteTime": {
          "end_time": "2021-04-26T13:05:38.047476Z",
          "start_time": "2021-04-26T13:05:32.711415Z"
        },
        "colab": {
          "base_uri": "https://localhost:8080/",
          "height": 322
        },
        "id": "APPwGz_k9bf0",
        "outputId": "a63e1ee3-9a67-4a97-d5ab-1b36c1cf3451"
      },
      "source": [
        "pip install -U gensim"
      ],
      "execution_count": null,
      "outputs": [
        {
          "output_type": "stream",
          "text": [
            "Requirement already satisfied: gensim in c:\\users\\gowra\\anaconda3\\envs\\lion\\lib\\site-packages (4.0.1)Note: you may need to restart the kernel to use updated packages.\n",
            "\n",
            "Requirement already satisfied: numpy>=1.11.3 in c:\\users\\gowra\\appdata\\roaming\\python\\python37\\site-packages (from gensim) (1.19.2)\n",
            "Requirement already satisfied: smart-open>=1.8.1 in c:\\users\\gowra\\anaconda3\\envs\\lion\\lib\\site-packages (from gensim) (5.0.0)\n",
            "Requirement already satisfied: Cython==0.29.21 in c:\\users\\gowra\\anaconda3\\envs\\lion\\lib\\site-packages (from gensim) (0.29.21)\n",
            "Requirement already satisfied: scipy>=0.18.1 in c:\\users\\gowra\\anaconda3\\envs\\lion\\lib\\site-packages (from gensim) (1.6.1)\n"
          ],
          "name": "stdout"
        }
      ]
    },
    {
      "cell_type": "code",
      "metadata": {
        "ExecuteTime": {
          "end_time": "2021-04-26T13:11:06.378184Z",
          "start_time": "2021-04-26T13:10:23.893143Z"
        },
        "id": "-2jbc-II80YC"
      },
      "source": [
        "FastText = KeyedVectors.load_word2vec_format('/content/drive/MyDrive/Novelist_Classification/Embedding/fasttext.vec')"
      ],
      "execution_count": null,
      "outputs": []
    },
    {
      "cell_type": "code",
      "metadata": {
        "ExecuteTime": {
          "end_time": "2021-04-26T13:12:53.688390Z",
          "start_time": "2021-04-26T13:11:46.750269Z"
        },
        "id": "qbPvAJRIFoKu"
      },
      "source": [
        "Word2Vec_model = gensim.models.KeyedVectors.load_word2vec_format(\n",
        "    '/content/drive/MyDrive/Novelist_Classification/Embedding/GoogleNews-vectors-negative300.bin.gz', binary=True)"
      ],
      "execution_count": null,
      "outputs": []
    },
    {
      "cell_type": "code",
      "metadata": {
        "ExecuteTime": {
          "end_time": "2021-04-26T13:12:57.163370Z",
          "start_time": "2021-04-26T13:12:57.139435Z"
        },
        "id": "um6uZK5EDzAm"
      },
      "source": [
        "#파라미터 설정\n",
        "vocab_size = 63727\n",
        "embedding_dim = 16\n",
        "max_length = 212\n",
        "padding_type='post'\n",
        "#oov_tok = \"<OOV>\""
      ],
      "execution_count": null,
      "outputs": []
    },
    {
      "cell_type": "code",
      "metadata": {
        "ExecuteTime": {
          "end_time": "2021-04-26T13:13:29.475240Z",
          "start_time": "2021-04-26T13:13:12.330438Z"
        },
        "id": "UvR9_VnTD8L9"
      },
      "source": [
        "#tokenizer에 fit\n",
        "tokenizer = Tokenizer(num_words = vocab_size) #, oov_token=oov_tok)\n",
        "tokenizer.fit_on_texts(X_train)\n",
        "word_index = tokenizer.word_index"
      ],
      "execution_count": null,
      "outputs": []
    },
    {
      "cell_type": "code",
      "metadata": {
        "id": "_jXBtWRd7mD2"
      },
      "source": [
        "#데이터를 sequence로 변환해주고 padding 해줍니다.\n",
        "train_sequences = tokenizer.texts_to_sequences(X_train)\n",
        "# len(train_sequences)\n",
        "idx = []\n",
        "for i in range(len(train_sequences)):\n",
        "    if len(train_sequences[i]) > 213 :\n",
        "        idx.append(i)\n",
        "\n",
        "# len(idx)\n",
        "# type(X_train)\n",
        "# X_train = np.delete(X_train,idx,0)\n",
        "# y_train = np.delete(y_train, idx)\n",
        "\n",
        "train = train.drop(idx)\n",
        "\n"
      ],
      "execution_count": null,
      "outputs": []
    },
    {
      "cell_type": "code",
      "metadata": {
        "colab": {
          "base_uri": "https://localhost:8080/"
        },
        "id": "GnZfvOGfkX3z",
        "outputId": "1ec53a8c-4efd-4fed-ca19-d4e6a9209b2b"
      },
      "source": [
        "tmp = train\n",
        "\n",
        "vocab = nltk.FreqDist(np.hstack(tmp['text']))\n",
        "print('단어 집합의 크기 : {}'.format(len(vocab)))"
      ],
      "execution_count": null,
      "outputs": [
        {
          "output_type": "stream",
          "text": [
            "단어 집합의 크기 : 63162\n"
          ],
          "name": "stdout"
        }
      ]
    },
    {
      "cell_type": "code",
      "metadata": {
        "id": "S550Kxf8kfGY"
      },
      "source": [
        "X_train = np.array([x for x in train['text']])\n",
        "X_test = np.array([x for x in test['text']])\n",
        "y_train = np.array([x for x in train['author']])"
      ],
      "execution_count": null,
      "outputs": []
    },
    {
      "cell_type": "code",
      "metadata": {
        "id": "L2C_YD9skX6Z"
      },
      "source": [
        "#파라미터 설정\n",
        "vocab_size = 63162\n",
        "embedding_dim = 16\n",
        "max_length = 212\n",
        "padding_type='post'\n",
        "#oov_tok = \"<OOV>\""
      ],
      "execution_count": null,
      "outputs": []
    },
    {
      "cell_type": "code",
      "metadata": {
        "id": "mUf1XDQskX9y"
      },
      "source": [
        "#tokenizer에 fit\n",
        "tokenizer = Tokenizer(num_words = vocab_size) #, oov_token=oov_tok)\n",
        "tokenizer.fit_on_texts(X_train)\n",
        "word_index = tokenizer.word_index"
      ],
      "execution_count": null,
      "outputs": []
    },
    {
      "cell_type": "code",
      "metadata": {
        "ExecuteTime": {
          "end_time": "2021-04-26T13:14:22.480261Z",
          "start_time": "2021-04-26T13:14:11.273966Z"
        },
        "id": "-J9gkuvacW0h"
      },
      "source": [
        "#데이터를 sequence로 변환해주고 padding 해줍니다.\n",
        "train_sequences = tokenizer.texts_to_sequences(X_train)\n",
        "\n",
        "# train_sequences\n",
        "train_padded = pad_sequences(train_sequences, padding=padding_type, maxlen=max_length)\n",
        "\n",
        "# train_padded\n",
        "test_sequences = tokenizer.texts_to_sequences(X_test)\n",
        "test_padded = pad_sequences(test_sequences, padding=padding_type, maxlen=max_length)"
      ],
      "execution_count": null,
      "outputs": []
    },
    {
      "cell_type": "code",
      "metadata": {
        "id": "AR75e62UcW0i"
      },
      "source": [
        ""
      ],
      "execution_count": null,
      "outputs": []
    },
    {
      "cell_type": "code",
      "metadata": {
        "id": "Xa9I8Tw5cW0i"
      },
      "source": [
        ""
      ],
      "execution_count": null,
      "outputs": []
    },
    {
      "cell_type": "markdown",
      "metadata": {
        "id": "5I3XJnCUcW0i"
      },
      "source": [
        "#### 1. Word2Vec"
      ]
    },
    {
      "cell_type": "code",
      "metadata": {
        "ExecuteTime": {
          "end_time": "2021-04-26T13:35:41.217811Z",
          "start_time": "2021-04-26T13:35:41.212825Z"
        },
        "id": "xPB-18MKAFQ0"
      },
      "source": [
        "# Word2Vec 임베딩 과정\n",
        "W2V_embedding_matrix = np.zeros((vocab_size,300))\n",
        "\n",
        "def get_vector(word):\n",
        "    if word in Word2Vec_model:\n",
        "        return Word2Vec_model[word]\n",
        "    else:\n",
        "        return None\n"
      ],
      "execution_count": null,
      "outputs": []
    },
    {
      "cell_type": "code",
      "metadata": {
        "ExecuteTime": {
          "end_time": "2021-04-26T13:38:03.682007Z",
          "start_time": "2021-04-26T13:38:00.713979Z"
        },
        "colab": {
          "base_uri": "https://localhost:8080/"
        },
        "id": "Ce3n_Ph4cW0j",
        "outputId": "51085d91-074d-4c11-cd7e-d37f4098c4de"
      },
      "source": [
        "# print(vocab.items())\n",
        "for idx, word in word_index.items():\n",
        "\n",
        "    temp = get_vector(word)\n",
        "    if temp is not None:\n",
        "        W2V_embedding_matrix[idx] = temp\n",
        "        \n",
        "print(W2V_embedding_matrix.shape)"
      ],
      "execution_count": null,
      "outputs": [
        {
          "output_type": "stream",
          "text": [
            "(63727, 300)\n"
          ],
          "name": "stdout"
        }
      ]
    },
    {
      "cell_type": "code",
      "metadata": {
        "id": "ZrhR2TSdcW0j"
      },
      "source": [
        "vocab.items()"
      ],
      "execution_count": null,
      "outputs": []
    },
    {
      "cell_type": "code",
      "metadata": {
        "ExecuteTime": {
          "end_time": "2021-04-26T13:47:14.114289Z",
          "start_time": "2021-04-26T13:42:03.552Z"
        },
        "id": "yxLO188VcW0k"
      },
      "source": [
        "word_index.items()"
      ],
      "execution_count": null,
      "outputs": []
    },
    {
      "cell_type": "code",
      "metadata": {
        "id": "BrdUuykAcW0k"
      },
      "source": [
        ""
      ],
      "execution_count": null,
      "outputs": []
    },
    {
      "cell_type": "markdown",
      "metadata": {
        "id": "POzJpQTGcW0k"
      },
      "source": [
        "#### 2. Fasttext"
      ]
    },
    {
      "cell_type": "code",
      "metadata": {
        "ExecuteTime": {
          "end_time": "2021-04-26T13:40:44.524825Z",
          "start_time": "2021-04-26T13:40:43.091747Z"
        },
        "id": "IXh_V23SGAY2",
        "colab": {
          "base_uri": "https://localhost:8080/",
          "height": 35
        },
        "outputId": "cbd39b19-74e9-4620-9355-eb8655685b78"
      },
      "source": [
        "# Fasttext 임베딩 과정\n",
        "FT_embedding_matrix = np.zeros((vocab_size,100))\n",
        "\n",
        "def get_vector(word):\n",
        "    if word in FastText:\n",
        "        return FastText[word]\n",
        "    else:\n",
        "        return None\n",
        "\n",
        "for word, idx in word_index.items():\n",
        "    temp = get_vector(word)\n",
        "    if temp is not None:\n",
        "        FT_embedding_matrix[idx] = temp\n",
        "'''\n",
        "for idx, word in word_index.items():\n",
        "    if word in FastText:\n",
        "      embedding_vector = FastText[word]\n",
        "      FT_embedding_matrix[idx] = embedding_vector\n",
        "'''"
      ],
      "execution_count": null,
      "outputs": [
        {
          "output_type": "execute_result",
          "data": {
            "application/vnd.google.colaboratory.intrinsic+json": {
              "type": "string"
            },
            "text/plain": [
              "'\\nfor idx, word in word_index.items():\\n    if word in FastText:\\n      embedding_vector = FastText[word]\\n      FT_embedding_matrix[idx] = embedding_vector\\n'"
            ]
          },
          "metadata": {
            "tags": []
          },
          "execution_count": 20
        }
      ]
    },
    {
      "cell_type": "markdown",
      "metadata": {
        "id": "6VDfrd64cW0l"
      },
      "source": [
        "#### 3. glove"
      ]
    },
    {
      "cell_type": "code",
      "metadata": {
        "ExecuteTime": {
          "end_time": "2021-04-26T13:41:06.421887Z",
          "start_time": "2021-04-26T13:40:58.849610Z"
        },
        "id": "8FSCNBIYF-n7"
      },
      "source": [
        "# 사전 학습된 glove 불러오고 임베딩 층에 적용시키기 \n",
        "embedding_dict= dict()\n",
        "f = open('/content/drive/MyDrive/Novelist_Classification/Embedding/glove.txt', encoding='utf8')\n",
        "\n",
        "for line in f:\n",
        "    word_vector = line.split()\n",
        "    word = word_vector[0]\n",
        "    word_vector_arr = np.asarray(word_vector[1:], dtype='float32')\n",
        "    embedding_dict[word] = word_vector_arr\n",
        "f.close\n",
        "\n",
        "glove_embedding_matrix = np.zeros((vocab_size+1, 50))\n",
        "\n",
        "for word, i in word_index.items():\n",
        "    temp = embedding_dict.get(word)\n",
        "    if temp is not None:\n",
        "        glove_embedding_matrix[i] = temp"
      ],
      "execution_count": null,
      "outputs": []
    },
    {
      "cell_type": "code",
      "metadata": {
        "id": "chzEUGZicW0m"
      },
      "source": [
        ""
      ],
      "execution_count": null,
      "outputs": []
    },
    {
      "cell_type": "markdown",
      "metadata": {
        "id": "AYEmilY9cW0m"
      },
      "source": [
        "# Modeling"
      ]
    },
    {
      "cell_type": "code",
      "metadata": {
        "id": "U2CxfUPZEOu0"
      },
      "source": [
        "#가벼운 NLP모델 생성\n",
        "model = tf.keras.Sequential([\n",
        "    tf.keras.layers.Embedding(vocab_size, embedding_dim, input_length=max_length),\n",
        "    tf.keras.layers.GlobalAveragePooling1D(),\n",
        "    tf.keras.layers.Dense(24, activation='relu'),\n",
        "    tf.keras.layers.Dense(8, activation='softmax')\n",
        "])"
      ],
      "execution_count": null,
      "outputs": []
    },
    {
      "cell_type": "code",
      "metadata": {
        "colab": {
          "base_uri": "https://localhost:8080/"
        },
        "id": "wxUTpZnPEXJX",
        "outputId": "273f9bd8-1674-40e8-ba90-d633d09a7135"
      },
      "source": [
        "# compile model\n",
        "model.compile(loss='sparse_categorical_crossentropy',\n",
        "              optimizer='adam',\n",
        "              metrics=['accuracy'])\n",
        "\n",
        "# model summary\n",
        "print(model.summary())\n"
      ],
      "execution_count": null,
      "outputs": [
        {
          "output_type": "stream",
          "text": [
            "Model: \"sequential\"\n",
            "_________________________________________________________________\n",
            "Layer (type)                 Output Shape              Param #   \n",
            "=================================================================\n",
            "embedding (Embedding)        (None, 212, 16)           1019632   \n",
            "_________________________________________________________________\n",
            "global_average_pooling1d (Gl (None, 16)                0         \n",
            "_________________________________________________________________\n",
            "dense (Dense)                (None, 24)                408       \n",
            "_________________________________________________________________\n",
            "dense_1 (Dense)              (None, 8)                 200       \n",
            "=================================================================\n",
            "Total params: 1,020,240\n",
            "Trainable params: 1,020,240\n",
            "Non-trainable params: 0\n",
            "_________________________________________________________________\n",
            "None\n"
          ],
          "name": "stdout"
        }
      ]
    },
    {
      "cell_type": "code",
      "metadata": {
        "colab": {
          "base_uri": "https://localhost:8080/"
        },
        "id": "51YtSBBiEcMv",
        "outputId": "5aac0da8-946c-4c4a-f26e-cfbb028ec639"
      },
      "source": [
        "# fit model\n",
        "num_epochs = 20\n",
        "history = model.fit(train_padded, y_train, \n",
        "                    epochs=num_epochs, verbose=2, \n",
        "                    validation_split=0.2)"
      ],
      "execution_count": null,
      "outputs": [
        {
          "output_type": "stream",
          "text": [
            "Epoch 1/20\n",
            "2079/2079 - 26s - loss: 1.8914 - accuracy: 0.2671 - val_loss: 1.6212 - val_accuracy: 0.3722\n",
            "Epoch 2/20\n",
            "2079/2079 - 25s - loss: 1.4665 - accuracy: 0.4377 - val_loss: 1.4031 - val_accuracy: 0.4725\n",
            "Epoch 3/20\n",
            "2079/2079 - 25s - loss: 1.2703 - accuracy: 0.5178 - val_loss: 1.2690 - val_accuracy: 0.5194\n",
            "Epoch 4/20\n",
            "2079/2079 - 25s - loss: 1.1292 - accuracy: 0.5757 - val_loss: 1.1788 - val_accuracy: 0.5454\n",
            "Epoch 5/20\n",
            "2079/2079 - 25s - loss: 1.0103 - accuracy: 0.6251 - val_loss: 1.0980 - val_accuracy: 0.5854\n",
            "Epoch 6/20\n",
            "2079/2079 - 25s - loss: 0.9142 - accuracy: 0.6597 - val_loss: 1.0595 - val_accuracy: 0.5913\n",
            "Epoch 7/20\n",
            "2079/2079 - 25s - loss: 0.8382 - accuracy: 0.6864 - val_loss: 1.0164 - val_accuracy: 0.6180\n",
            "Epoch 8/20\n",
            "2079/2079 - 25s - loss: 0.7755 - accuracy: 0.7086 - val_loss: 1.0032 - val_accuracy: 0.6115\n",
            "Epoch 9/20\n",
            "2079/2079 - 25s - loss: 0.7229 - accuracy: 0.7265 - val_loss: 0.9615 - val_accuracy: 0.6347\n",
            "Epoch 10/20\n",
            "2079/2079 - 25s - loss: 0.6800 - accuracy: 0.7412 - val_loss: 0.9581 - val_accuracy: 0.6351\n",
            "Epoch 11/20\n",
            "2079/2079 - 25s - loss: 0.6420 - accuracy: 0.7559 - val_loss: 0.9662 - val_accuracy: 0.6398\n",
            "Epoch 12/20\n",
            "2079/2079 - 25s - loss: 0.6114 - accuracy: 0.7650 - val_loss: 0.9536 - val_accuracy: 0.6400\n",
            "Epoch 13/20\n",
            "2079/2079 - 25s - loss: 0.5850 - accuracy: 0.7725 - val_loss: 0.9626 - val_accuracy: 0.6364\n",
            "Epoch 14/20\n",
            "2079/2079 - 25s - loss: 0.5618 - accuracy: 0.7811 - val_loss: 0.9739 - val_accuracy: 0.6396\n",
            "Epoch 15/20\n",
            "2079/2079 - 25s - loss: 0.5408 - accuracy: 0.7890 - val_loss: 0.9853 - val_accuracy: 0.6445\n",
            "Epoch 16/20\n",
            "2079/2079 - 25s - loss: 0.5235 - accuracy: 0.7936 - val_loss: 0.9844 - val_accuracy: 0.6474\n",
            "Epoch 17/20\n",
            "2079/2079 - 25s - loss: 0.5077 - accuracy: 0.7972 - val_loss: 1.0114 - val_accuracy: 0.6406\n",
            "Epoch 18/20\n",
            "2079/2079 - 25s - loss: 0.4927 - accuracy: 0.8028 - val_loss: 1.0202 - val_accuracy: 0.6457\n",
            "Epoch 19/20\n",
            "2079/2079 - 25s - loss: 0.4785 - accuracy: 0.8096 - val_loss: 1.0341 - val_accuracy: 0.6423\n",
            "Epoch 20/20\n",
            "2079/2079 - 25s - loss: 0.4674 - accuracy: 0.8129 - val_loss: 1.0485 - val_accuracy: 0.6396\n"
          ],
          "name": "stdout"
        }
      ]
    },
    {
      "cell_type": "code",
      "metadata": {
        "id": "lb90VOvIX6Py"
      },
      "source": [
        ""
      ],
      "execution_count": null,
      "outputs": []
    },
    {
      "cell_type": "markdown",
      "metadata": {
        "id": "GKuh8rjtX6l8"
      },
      "source": [
        "#Result of Train  \n",
        "## Base stopwords + Keras Embedding  \n",
        "1372/1372 - 7s - loss: 0.4276 - accuracy: 0.8455 - val_loss: 0.7625 - val_accuracy: 0.7305\n",
        "## Base stopwords + FastText  \n",
        "1372/1372 - 78s - loss: 0.4719 - accuracy: 0.8304 - val_loss: 0.7002 - val_accuracy: 0.7514\n",
        "## Base stopwords + Word2Vec\n",
        "1372/1372 - 256s - loss: 0.4028 - accuracy: 0.8531 - val_loss: 0.7596 - val_accuracy: 0.7366\n",
        "\n",
        "\n",
        "\n"
      ]
    },
    {
      "cell_type": "markdown",
      "metadata": {
        "id": "hQhgo9UjuJ_m"
      },
      "source": [
        "# LSTM 모델"
      ]
    },
    {
      "cell_type": "markdown",
      "metadata": {
        "id": "Fhv3jKiXuKTd"
      },
      "source": [
        "### 1.  Fastex 사용\n"
      ]
    },
    {
      "cell_type": "markdown",
      "metadata": {
        "id": "OEyHySIIXA_a"
      },
      "source": [
        "#### unit 30"
      ]
    },
    {
      "cell_type": "code",
      "metadata": {
        "id": "pxQ195bhuXnR",
        "colab": {
          "base_uri": "https://localhost:8080/"
        },
        "outputId": "974c9c90-f02c-4f78-a258-9ac532902c5d"
      },
      "source": [
        "model_FT_lstm_30 = tf.keras.Sequential([\n",
        "    tf.keras.layers.Embedding(vocab_size, 100,weights = [FT_embedding_matrix] ,input_length=max_length),\n",
        "    tf.keras.layers.LSTM(units=30),\n",
        "    \n",
        "    tf.keras.layers.Dense(8, activation='softmax')\n",
        "])\n",
        "\n",
        "# compile model\n",
        "model_FT_lstm_30.compile(loss='sparse_categorical_crossentropy',\n",
        "              optimizer='adam',\n",
        "              metrics=['accuracy'])\n",
        "\n",
        "# model summary\n",
        "print(model_FT_lstm_30.summary())\n",
        "\n",
        "early_stopping = tf.keras.callbacks.EarlyStopping(monitor='val_loss', min_delta=0.001, patience=5, \n",
        "                   verbose=1, mode='min', baseline=None, restore_best_weights=True)\n",
        "# fit model\n",
        "num_epochs = 20\n",
        "history = model_FT_lstm_30.fit(train_padded, y_train, \n",
        "                    epochs=num_epochs, verbose=2, batch_size = 256,\n",
        "                    validation_split=0.2, callbacks = [early_stopping])"
      ],
      "execution_count": null,
      "outputs": [
        {
          "output_type": "stream",
          "text": [
            "Model: \"sequential_9\"\n",
            "_________________________________________________________________\n",
            "Layer (type)                 Output Shape              Param #   \n",
            "=================================================================\n",
            "embedding_9 (Embedding)      (None, 212, 100)          6316200   \n",
            "_________________________________________________________________\n",
            "lstm_13 (LSTM)               (None, 30)                15720     \n",
            "_________________________________________________________________\n",
            "dense_9 (Dense)              (None, 8)                 248       \n",
            "=================================================================\n",
            "Total params: 6,332,168\n",
            "Trainable params: 6,332,168\n",
            "Non-trainable params: 0\n",
            "_________________________________________________________________\n",
            "None\n",
            "Epoch 1/20\n",
            "260/260 - 22s - loss: 2.0415 - accuracy: 0.1784 - val_loss: 2.0355 - val_accuracy: 0.1857\n",
            "Epoch 2/20\n",
            "260/260 - 21s - loss: 2.0388 - accuracy: 0.1810 - val_loss: 2.0349 - val_accuracy: 0.1866\n",
            "Epoch 3/20\n",
            "260/260 - 21s - loss: 2.0373 - accuracy: 0.1815 - val_loss: 2.0339 - val_accuracy: 0.1873\n",
            "Epoch 4/20\n",
            "260/260 - 20s - loss: 2.0353 - accuracy: 0.1829 - val_loss: 2.0301 - val_accuracy: 0.1883\n",
            "Epoch 5/20\n",
            "260/260 - 21s - loss: 1.9229 - accuracy: 0.2366 - val_loss: 1.7961 - val_accuracy: 0.2723\n",
            "Epoch 6/20\n",
            "260/260 - 21s - loss: 1.7435 - accuracy: 0.2968 - val_loss: 1.6922 - val_accuracy: 0.3229\n",
            "Epoch 7/20\n",
            "260/260 - 21s - loss: 1.5484 - accuracy: 0.3832 - val_loss: 1.5351 - val_accuracy: 0.3969\n",
            "Epoch 8/20\n",
            "260/260 - 21s - loss: 1.3395 - accuracy: 0.4610 - val_loss: 1.4048 - val_accuracy: 0.4349\n",
            "Epoch 9/20\n",
            "260/260 - 21s - loss: 1.1813 - accuracy: 0.5271 - val_loss: 1.4354 - val_accuracy: 0.4655\n",
            "Epoch 10/20\n",
            "260/260 - 21s - loss: 1.0412 - accuracy: 0.5861 - val_loss: 1.2658 - val_accuracy: 0.5324\n",
            "Epoch 11/20\n",
            "260/260 - 21s - loss: 0.8764 - accuracy: 0.6689 - val_loss: 1.2079 - val_accuracy: 0.5634\n",
            "Epoch 12/20\n",
            "260/260 - 20s - loss: 0.7630 - accuracy: 0.7123 - val_loss: 1.2136 - val_accuracy: 0.5636\n",
            "Epoch 13/20\n",
            "260/260 - 20s - loss: 0.6667 - accuracy: 0.7456 - val_loss: 1.1735 - val_accuracy: 0.5869\n",
            "Epoch 14/20\n",
            "260/260 - 21s - loss: 0.6043 - accuracy: 0.7676 - val_loss: 1.1993 - val_accuracy: 0.5876\n",
            "Epoch 15/20\n",
            "260/260 - 21s - loss: 0.5524 - accuracy: 0.7847 - val_loss: 1.2164 - val_accuracy: 0.5961\n",
            "Epoch 16/20\n",
            "260/260 - 21s - loss: 0.5081 - accuracy: 0.7971 - val_loss: 1.2671 - val_accuracy: 0.5967\n",
            "Epoch 17/20\n",
            "260/260 - 21s - loss: 0.4779 - accuracy: 0.8090 - val_loss: 1.2905 - val_accuracy: 0.5941\n",
            "Epoch 18/20\n",
            "260/260 - 21s - loss: 0.4538 - accuracy: 0.8156 - val_loss: 1.3361 - val_accuracy: 0.5951\n",
            "Restoring model weights from the end of the best epoch.\n",
            "Epoch 00018: early stopping\n"
          ],
          "name": "stdout"
        }
      ]
    },
    {
      "cell_type": "markdown",
      "metadata": {
        "id": "UWLtAfFuuXql"
      },
      "source": [
        "\n",
        "#### unit 50"
      ]
    },
    {
      "cell_type": "code",
      "metadata": {
        "colab": {
          "base_uri": "https://localhost:8080/"
        },
        "id": "jusf3XmulNru",
        "outputId": "f4a9ad9d-a73e-4aba-e614-73f081228a0f"
      },
      "source": [
        "model_FT_lstm_50 = tf.keras.Sequential([\n",
        "    tf.keras.layers.Embedding(vocab_size, 100,weights = [FT_embedding_matrix] ,input_length=max_length),\n",
        "    tf.keras.layers.LSTM(units=50),\n",
        "    \n",
        "    tf.keras.layers.Dense(8, activation='softmax')\n",
        "])\n",
        "\n",
        "# compile model\n",
        "model_FT_lstm_50.compile(loss='sparse_categorical_crossentropy',\n",
        "              optimizer='adam',\n",
        "              metrics=['accuracy'])\n",
        "\n",
        "# model summary\n",
        "print(model_FT_lstm_50.summary())\n",
        "\n",
        "early_stopping = tf.keras.callbacks.EarlyStopping(monitor='val_loss', min_delta=0.001, patience=5, \n",
        "                   verbose=1, mode='min', baseline=None, restore_best_weights=True)\n",
        "# fit model\n",
        "num_epochs = 20\n",
        "history = model_FT_lstm_50.fit(train_padded, y_train, \n",
        "                    epochs=num_epochs, verbose=2, batch_size = 256,\n",
        "                    validation_split=0.2, callbacks = [early_stopping])"
      ],
      "execution_count": null,
      "outputs": [
        {
          "output_type": "stream",
          "text": [
            "Model: \"sequential_10\"\n",
            "_________________________________________________________________\n",
            "Layer (type)                 Output Shape              Param #   \n",
            "=================================================================\n",
            "embedding_10 (Embedding)     (None, 212, 100)          6316200   \n",
            "_________________________________________________________________\n",
            "lstm_14 (LSTM)               (None, 50)                30200     \n",
            "_________________________________________________________________\n",
            "dense_10 (Dense)             (None, 8)                 408       \n",
            "=================================================================\n",
            "Total params: 6,346,808\n",
            "Trainable params: 6,346,808\n",
            "Non-trainable params: 0\n",
            "_________________________________________________________________\n",
            "None\n",
            "Epoch 1/20\n",
            "260/260 - 23s - loss: 2.0416 - accuracy: 0.1803 - val_loss: 2.0373 - val_accuracy: 0.1860\n",
            "Epoch 2/20\n",
            "260/260 - 20s - loss: 2.0386 - accuracy: 0.1812 - val_loss: 2.0370 - val_accuracy: 0.1854\n",
            "Epoch 3/20\n",
            "260/260 - 20s - loss: 2.0379 - accuracy: 0.1813 - val_loss: 2.0340 - val_accuracy: 0.1867\n",
            "Epoch 4/20\n",
            "260/260 - 20s - loss: 2.0353 - accuracy: 0.1820 - val_loss: 2.0320 - val_accuracy: 0.1880\n",
            "Epoch 5/20\n",
            "260/260 - 20s - loss: 2.0263 - accuracy: 0.1879 - val_loss: 2.0098 - val_accuracy: 0.2178\n",
            "Epoch 6/20\n",
            "260/260 - 20s - loss: 1.9235 - accuracy: 0.2480 - val_loss: 1.7863 - val_accuracy: 0.3063\n",
            "Epoch 7/20\n",
            "260/260 - 20s - loss: 1.7030 - accuracy: 0.3234 - val_loss: 1.6402 - val_accuracy: 0.3590\n",
            "Epoch 8/20\n",
            "260/260 - 20s - loss: 1.6067 - accuracy: 0.3668 - val_loss: 1.5259 - val_accuracy: 0.4046\n",
            "Epoch 9/20\n",
            "260/260 - 20s - loss: 1.3618 - accuracy: 0.4571 - val_loss: 1.3535 - val_accuracy: 0.4631\n",
            "Epoch 10/20\n",
            "260/260 - 20s - loss: 1.1471 - accuracy: 0.5453 - val_loss: 1.2527 - val_accuracy: 0.5132\n",
            "Epoch 11/20\n",
            "260/260 - 20s - loss: 0.9608 - accuracy: 0.6241 - val_loss: 1.2522 - val_accuracy: 0.5236\n",
            "Epoch 12/20\n",
            "260/260 - 20s - loss: 0.8352 - accuracy: 0.6772 - val_loss: 1.2087 - val_accuracy: 0.5457\n",
            "Epoch 13/20\n",
            "260/260 - 20s - loss: 0.7191 - accuracy: 0.7256 - val_loss: 1.1787 - val_accuracy: 0.5731\n",
            "Epoch 14/20\n",
            "260/260 - 20s - loss: 0.6317 - accuracy: 0.7580 - val_loss: 1.2172 - val_accuracy: 0.5785\n",
            "Epoch 15/20\n",
            "260/260 - 20s - loss: 0.5680 - accuracy: 0.7806 - val_loss: 1.2029 - val_accuracy: 0.5888\n",
            "Epoch 16/20\n",
            "260/260 - 20s - loss: 0.5228 - accuracy: 0.7956 - val_loss: 1.2532 - val_accuracy: 0.5897\n",
            "Epoch 17/20\n",
            "260/260 - 20s - loss: 0.5109 - accuracy: 0.8020 - val_loss: 1.2866 - val_accuracy: 0.5921\n",
            "Epoch 18/20\n",
            "260/260 - 20s - loss: 0.4627 - accuracy: 0.8158 - val_loss: 1.3417 - val_accuracy: 0.5887\n",
            "Restoring model weights from the end of the best epoch.\n",
            "Epoch 00018: early stopping\n"
          ],
          "name": "stdout"
        }
      ]
    },
    {
      "cell_type": "markdown",
      "metadata": {
        "id": "FIE_EXJWXKVh"
      },
      "source": [
        "#### unit 128"
      ]
    },
    {
      "cell_type": "code",
      "metadata": {
        "id": "bze-iQgXzddj",
        "colab": {
          "base_uri": "https://localhost:8080/"
        },
        "outputId": "2c10cc3f-f6d4-48d4-c9e8-062186c5efba"
      },
      "source": [
        "model_FT_lstm_128 = tf.keras.Sequential([\n",
        "    tf.keras.layers.Embedding(vocab_size, 100,weights = [FT_embedding_matrix] ,input_length=max_length),\n",
        "    tf.keras.layers.LSTM(units=128),\n",
        "    tf.keras.layers.Dense(8, activation='softmax')\n",
        "])\n",
        "\n",
        "# compile model\n",
        "model_FT_lstm_128.compile(loss='sparse_categorical_crossentropy',\n",
        "              optimizer='adam',\n",
        "              metrics=['accuracy'])\n",
        "\n",
        "# model summary\n",
        "print(model_FT_lstm_128.summary())\n",
        "\n",
        "early_stopping = tf.keras.callbacks.EarlyStopping(monitor='val_loss', min_delta=0.001, patience=5, \n",
        "                   verbose=1, mode='min', baseline=None, restore_best_weights=True)\n",
        "# fit model\n",
        "num_epochs = 1000\n",
        "history = model_FT_lstm_128.fit(train_padded, y_train, \n",
        "                    epochs=num_epochs, verbose=2, batch_size = 256,\n",
        "                    validation_split=0.2, callbacks = [early_stopping])"
      ],
      "execution_count": null,
      "outputs": [
        {
          "output_type": "stream",
          "text": [
            "Model: \"sequential\"\n",
            "_________________________________________________________________\n",
            "Layer (type)                 Output Shape              Param #   \n",
            "=================================================================\n",
            "embedding (Embedding)        (None, 212, 100)          6316200   \n",
            "_________________________________________________________________\n",
            "lstm (LSTM)                  (None, 128)               117248    \n",
            "_________________________________________________________________\n",
            "dense (Dense)                (None, 8)                 1032      \n",
            "=================================================================\n",
            "Total params: 6,434,480\n",
            "Trainable params: 6,434,480\n",
            "Non-trainable params: 0\n",
            "_________________________________________________________________\n",
            "None\n",
            "Epoch 1/1000\n",
            "260/260 - 58s - loss: 2.0455 - accuracy: 0.1789 - val_loss: 2.0371 - val_accuracy: 0.1852\n",
            "Epoch 2/1000\n",
            "260/260 - 28s - loss: 2.0400 - accuracy: 0.1805 - val_loss: 2.0382 - val_accuracy: 0.1854\n",
            "Epoch 3/1000\n",
            "260/260 - 28s - loss: 2.0381 - accuracy: 0.1807 - val_loss: 2.0337 - val_accuracy: 0.1864\n",
            "Epoch 4/1000\n",
            "260/260 - 25s - loss: 1.9994 - accuracy: 0.1911 - val_loss: 1.8830 - val_accuracy: 0.2377\n",
            "Epoch 5/1000\n",
            "260/260 - 27s - loss: 1.7918 - accuracy: 0.2648 - val_loss: 1.7396 - val_accuracy: 0.3044\n",
            "Epoch 6/1000\n",
            "260/260 - 25s - loss: 1.5808 - accuracy: 0.3746 - val_loss: 1.5492 - val_accuracy: 0.3819\n",
            "Epoch 7/1000\n",
            "260/260 - 27s - loss: 1.3801 - accuracy: 0.4552 - val_loss: 1.4110 - val_accuracy: 0.4471\n",
            "Epoch 8/1000\n",
            "260/260 - 26s - loss: 1.1963 - accuracy: 0.5268 - val_loss: 1.3698 - val_accuracy: 0.4782\n",
            "Epoch 9/1000\n",
            "260/260 - 27s - loss: 1.0406 - accuracy: 0.5922 - val_loss: 1.2074 - val_accuracy: 0.5349\n",
            "Epoch 10/1000\n",
            "260/260 - 26s - loss: 0.8659 - accuracy: 0.6659 - val_loss: 1.1691 - val_accuracy: 0.5551\n",
            "Epoch 11/1000\n",
            "260/260 - 27s - loss: 0.7776 - accuracy: 0.6978 - val_loss: 1.0969 - val_accuracy: 0.5908\n",
            "Epoch 12/1000\n",
            "260/260 - 25s - loss: 0.6353 - accuracy: 0.7507 - val_loss: 1.0540 - val_accuracy: 0.6142\n",
            "Epoch 13/1000\n",
            "260/260 - 27s - loss: 0.5419 - accuracy: 0.7844 - val_loss: 1.1605 - val_accuracy: 0.6135\n",
            "Epoch 14/1000\n",
            "260/260 - 27s - loss: 0.4832 - accuracy: 0.8049 - val_loss: 1.1715 - val_accuracy: 0.6181\n",
            "Epoch 15/1000\n",
            "260/260 - 28s - loss: 0.4452 - accuracy: 0.8175 - val_loss: 1.2415 - val_accuracy: 0.6269\n",
            "Epoch 16/1000\n",
            "260/260 - 28s - loss: 0.4139 - accuracy: 0.8275 - val_loss: 1.2971 - val_accuracy: 0.6216\n",
            "Epoch 17/1000\n",
            "260/260 - 28s - loss: 0.3968 - accuracy: 0.8313 - val_loss: 1.3524 - val_accuracy: 0.6251\n",
            "Restoring model weights from the end of the best epoch.\n",
            "Epoch 00017: early stopping\n"
          ],
          "name": "stdout"
        }
      ]
    },
    {
      "cell_type": "code",
      "metadata": {
        "id": "7mxOHII3zdTf",
        "colab": {
          "base_uri": "https://localhost:8080/",
          "height": 633
        },
        "outputId": "877736ba-1d13-4f9c-dde1-3a80814f441b"
      },
      "source": [
        "import matplotlib.pyplot as plt\n",
        "\n",
        "\n",
        "def plot_model_perfomance(history,name):\n",
        "    plt.style.use('fivethirtyeight')\n",
        "    plt.figure(1)\n",
        "    plt.plot(history.history['loss'], lw=2.0, color='b', label='train')\n",
        "    plt.plot(history.history['val_loss'], lw=2.0, color='r', label='val')\n",
        "    plt.title(name)\n",
        "    plt.xlabel('Epochs')\n",
        "    plt.ylabel('Loss')\n",
        "    plt.legend(loc='upper right')\n",
        "\n",
        "    plt.figure(2)\n",
        "    plt.plot(history.history['accuracy'], lw=2.0, color='b', label='train')\n",
        "    plt.plot(history.history['val_accuracy'], lw=2.0, color='r', label='val')\n",
        "    plt.title(name)\n",
        "    plt.xlabel('Epochs')\n",
        "    plt.ylabel('Accuracy')\n",
        "    plt.legend(loc='upper left')\n",
        "    plt.show()\n",
        "\n",
        "plot_model_perfomance(history,'FastText + LSTM(128)')"
      ],
      "execution_count": null,
      "outputs": [
        {
          "output_type": "display_data",
          "data": {
            "image/png": "[encoded data removed]",
            "text/plain": [
              "<Figure size 432x288 with 1 Axes>"
            ]
          },
          "metadata": {
            "tags": []
          }
        },
        {
          "output_type": "display_data",
          "data": {
            "image/png": "[encoded data removed]",
            "text/plain": [
              "<Figure size 432x288 with 1 Axes>"
            ]
          },
          "metadata": {
            "tags": []
          }
        }
      ]
    },
    {
      "cell_type": "markdown",
      "metadata": {
        "id": "o7Q27zwtNJ2V"
      },
      "source": [
        "        1. 첫번째 실험\n",
        "        unit 수를 늘리면 성능이 올라갈까?\n",
        "        unit128일 경우에 가장 성능이 좋았으나 val_loss, val_acc의 성능이 train과 차이가 많이 남\n",
        "\n",
        "        번외)\n",
        "        batch수를 1024, 512, 256, 64 등으로 맞춰서 진행해본 결과 batch수가 너무 클 경우 학습이 금방끝났지만 성능이 좋지 못했고,\n",
        "        batch가 작을 경우 시간이 오래걸렸으나 batch수가 큰 경우보다 약간의 성능이 높았다.\n",
        "        이번 실험에서는 256을 사용하여 실험을 해보았다.\n",
        "\n",
        "        adam / batch 256 / val_split 0.2 / unit 30,50,128"
      ]
    },
    {
      "cell_type": "markdown",
      "metadata": {
        "id": "GzyxwemOuKZ4"
      },
      "source": [
        "#### lstm-cnn 사용하기"
      ]
    },
    {
      "cell_type": "code",
      "metadata": {
        "colab": {
          "base_uri": "https://localhost:8080/"
        },
        "id": "JRMWiyrKuKco",
        "outputId": "fb89addc-32b4-4180-f2f3-ab67cf16bbef"
      },
      "source": [
        "model_FT_lstm_cnn = tf.keras.Sequential([\n",
        "    tf.keras.layers.Embedding(vocab_size, 100,weights = [FT_embedding_matrix] ,input_length=max_length),\n",
        "    tf.keras.layers.Conv1D(filters=128, kernel_size=3, padding='same', activation='relu'),\n",
        "    tf.keras.layers.MaxPooling1D(pool_size=2, padding=\"same\"),\n",
        "    tf.keras.layers.LSTM(units=128),\n",
        "    tf.keras.layers.Dropout(0.5),\n",
        "    tf.keras.layers.Dense(8, activation='softmax')\n",
        "])\n",
        "\n",
        "\n",
        "# compile model\n",
        "model_FT_lstm_cnn.compile(loss='sparse_categorical_crossentropy',\n",
        "              optimizer='adam',\n",
        "              metrics=['accuracy'])\n",
        "\n",
        "# model summary\n",
        "print(model_FT_lstm_cnn.summary())\n",
        "\n",
        "early_stopping = tf.keras.callbacks.EarlyStopping(monitor='val_loss', min_delta=0.001, patience=7 ,\n",
        "                   verbose=1, mode='min', baseline=None, restore_best_weights=True)\n",
        "# fit model\n",
        "num_epochs = 100\n",
        "history = model_FT_lstm_cnn.fit(train_padded, y_train, \n",
        "                    epochs=num_epochs, verbose=2, batch_size = 64,\n",
        "                    validation_split=0.2, callbacks = [early_stopping])"
      ],
      "execution_count": null,
      "outputs": [
        {
          "output_type": "stream",
          "text": [
            "Model: \"sequential_1\"\n",
            "_________________________________________________________________\n",
            "Layer (type)                 Output Shape              Param #   \n",
            "=================================================================\n",
            "embedding_1 (Embedding)      (None, 212, 100)          6316200   \n",
            "_________________________________________________________________\n",
            "conv1d (Conv1D)              (None, 212, 128)          38528     \n",
            "_________________________________________________________________\n",
            "max_pooling1d (MaxPooling1D) (None, 106, 128)          0         \n",
            "_________________________________________________________________\n",
            "lstm_1 (LSTM)                (None, 128)               131584    \n",
            "_________________________________________________________________\n",
            "dropout (Dropout)            (None, 128)               0         \n",
            "_________________________________________________________________\n",
            "dense_1 (Dense)              (None, 8)                 1032      \n",
            "=================================================================\n",
            "Total params: 6,487,344\n",
            "Trainable params: 6,487,344\n",
            "Non-trainable params: 0\n",
            "_________________________________________________________________\n",
            "None\n",
            "Epoch 1/100\n",
            "1040/1040 - 72s - loss: 2.0280 - accuracy: 0.1830 - val_loss: 1.9338 - val_accuracy: 0.2452\n",
            "Epoch 2/100\n",
            "1040/1040 - 75s - loss: 1.9223 - accuracy: 0.2337 - val_loss: 1.8897 - val_accuracy: 0.2547\n",
            "Epoch 3/100\n",
            "1040/1040 - 69s - loss: 1.8292 - accuracy: 0.2798 - val_loss: 1.8959 - val_accuracy: 0.2728\n",
            "Epoch 4/100\n",
            "1040/1040 - 67s - loss: 1.6859 - accuracy: 0.3383 - val_loss: 1.9331 - val_accuracy: 0.2790\n",
            "Epoch 5/100\n",
            "1040/1040 - 69s - loss: 1.5493 - accuracy: 0.4092 - val_loss: 1.5916 - val_accuracy: 0.3959\n",
            "Epoch 6/100\n",
            "1040/1040 - 76s - loss: 1.3814 - accuracy: 0.4690 - val_loss: 1.4273 - val_accuracy: 0.4755\n",
            "Epoch 7/100\n",
            "1040/1040 - 71s - loss: 1.2217 - accuracy: 0.5371 - val_loss: 1.4491 - val_accuracy: 0.4781\n",
            "Epoch 8/100\n",
            "1040/1040 - 71s - loss: 1.1271 - accuracy: 0.5784 - val_loss: 1.4756 - val_accuracy: 0.4802\n",
            "Epoch 9/100\n",
            "1040/1040 - 69s - loss: 1.0269 - accuracy: 0.6216 - val_loss: 1.4426 - val_accuracy: 0.5031\n",
            "Epoch 10/100\n",
            "1040/1040 - 68s - loss: 0.9521 - accuracy: 0.6545 - val_loss: 1.6049 - val_accuracy: 0.4775\n",
            "Epoch 11/100\n",
            "1040/1040 - 67s - loss: 0.8668 - accuracy: 0.6911 - val_loss: 1.3699 - val_accuracy: 0.5502\n",
            "Epoch 12/100\n",
            "1040/1040 - 73s - loss: 0.8140 - accuracy: 0.7136 - val_loss: 1.3236 - val_accuracy: 0.5565\n",
            "Epoch 13/100\n",
            "1040/1040 - 69s - loss: 0.7765 - accuracy: 0.7332 - val_loss: 1.3336 - val_accuracy: 0.5662\n",
            "Epoch 14/100\n",
            "1040/1040 - 69s - loss: 0.7552 - accuracy: 0.7427 - val_loss: 1.5241 - val_accuracy: 0.5320\n",
            "Epoch 15/100\n",
            "1040/1040 - 69s - loss: 0.7267 - accuracy: 0.7533 - val_loss: 1.3320 - val_accuracy: 0.5759\n",
            "Epoch 16/100\n",
            "1040/1040 - 69s - loss: 0.7229 - accuracy: 0.7538 - val_loss: 1.5818 - val_accuracy: 0.5091\n",
            "Epoch 17/100\n",
            "1040/1040 - 69s - loss: 0.9148 - accuracy: 0.6852 - val_loss: 1.3481 - val_accuracy: 0.5617\n",
            "Epoch 18/100\n",
            "1040/1040 - 70s - loss: 0.7918 - accuracy: 0.7296 - val_loss: 1.3762 - val_accuracy: 0.5706\n",
            "Epoch 19/100\n",
            "1040/1040 - 67s - loss: 0.7618 - accuracy: 0.7332 - val_loss: 1.4199 - val_accuracy: 0.5522\n",
            "Restoring model weights from the end of the best epoch.\n",
            "Epoch 00019: early stopping\n"
          ],
          "name": "stdout"
        }
      ]
    },
    {
      "cell_type": "code",
      "metadata": {
        "colab": {
          "base_uri": "https://localhost:8080/",
          "height": 633
        },
        "id": "ilmyTXqjuKhE",
        "outputId": "326cc8a8-2916-4779-d8ff-3bdc16743700"
      },
      "source": [
        "import matplotlib.pyplot as plt\n",
        "\n",
        "\n",
        "def plot_model_perfomance(history,name):\n",
        "    plt.style.use('fivethirtyeight')\n",
        "    plt.figure(1)\n",
        "    plt.plot(history.history['loss'], lw=2.0, color='b', label='train')\n",
        "    plt.plot(history.history['val_loss'], lw=2.0, color='r', label='val')\n",
        "    plt.title(name)\n",
        "    plt.xlabel('Epochs')\n",
        "    plt.ylabel('Loss')\n",
        "    plt.legend(loc='upper right')\n",
        "\n",
        "    plt.figure(2)\n",
        "    plt.plot(history.history['accuracy'], lw=2.0, color='b', label='train')\n",
        "    plt.plot(history.history['val_accuracy'], lw=2.0, color='r', label='val')\n",
        "    plt.title(name)\n",
        "    plt.xlabel('Epochs')\n",
        "    plt.ylabel('Accuracy')\n",
        "    plt.legend(loc='upper left')\n",
        "    plt.show()\n",
        "\n",
        "plot_model_perfomance(history,'FastText + LSTM-CNN')"
      ],
      "execution_count": null,
      "outputs": [
        {
          "output_type": "display_data",
          "data": {
            "image/png": "[encoded data removed]",
            "text/plain": [
              "<Figure size 432x288 with 1 Axes>"
            ]
          },
          "metadata": {
            "tags": []
          }
        },
        {
          "output_type": "display_data",
          "data": {
            "image/png": "[encoded data removed]",
            "text/plain": [
              "<Figure size 432x288 with 1 Axes>"
            ]
          },
          "metadata": {
            "tags": []
          }
        }
      ]
    },
    {
      "cell_type": "markdown",
      "metadata": {
        "id": "ARVUYVYWpvK0"
      },
      "source": [
        "        LSTM-CNN모델\n",
        "\n",
        "        Embedding > conv > maxpooling> LSTM > Dropout > Dense\n",
        "\n",
        "        adam / FastText / batch = 64 / dropout = 0.5 / filter = 128\n",
        "    \n",
        "\n",
        "        단일층의 unit 128모델과 비교했을때, acc는 약 3% 오르고 loss는 10 % 줄어든 성능을 보였다.\n",
        "        하지만 val_loss의 경우 unit128보다 높으며 train과 성능 차이가 좀 더 났음을 확인했다.\n",
        "\n",
        "        아 그렇다면 CNN의 츨을 높인다면 어떨까? 실험해보았지만 성능이 좋지않아 결과에서 제외시켰습니다. (논문과 별개로 개인적인 실험)"
      ]
    },
    {
      "cell_type": "code",
      "metadata": {
        "id": "-aKaTl2mUnPP"
      },
      "source": [
        ""
      ],
      "execution_count": null,
      "outputs": []
    },
    {
      "cell_type": "markdown",
      "metadata": {
        "id": "vfc6wYHbuXs8"
      },
      "source": [
        "### 2. Glove 사용"
      ]
    },
    {
      "cell_type": "markdown",
      "metadata": {
        "id": "KR5mLFQQXaR4"
      },
      "source": [
        "#### unit 30"
      ]
    },
    {
      "cell_type": "code",
      "metadata": {
        "id": "InD5-SChuX0F",
        "colab": {
          "base_uri": "https://localhost:8080/"
        },
        "outputId": "11315c77-a150-4db4-fdc9-fb0ce84c0740"
      },
      "source": [
        "model_G_lstm = tf.keras.Sequential([\n",
        "    tf.keras.layers.Embedding(vocab_size+1, 50,weights = [glove_embedding_matrix] ,input_length=max_length),\n",
        "\n",
        "    tf.keras.layers.LSTM(units=30),\n",
        "\n",
        "    tf.keras.layers.Dense(8, activation='softmax')\n",
        "])\n",
        "\n",
        "# compile model\n",
        "model_G_lstm.compile(loss='sparse_categorical_crossentropy',\n",
        "              optimizer='adam',\n",
        "              metrics=['accuracy'])\n",
        "\n",
        "# model summary\n",
        "print(model_G_lstm.summary())\n",
        "\n",
        "\n",
        "early_stopping = tf.keras.callbacks.EarlyStopping(monitor='val_loss', min_delta=0.001, patience=5, \n",
        "                   verbose=1, mode='min', baseline=None, restore_best_weights=True)\n",
        "# fit model\n",
        "num_epochs = 30\n",
        "history = model_G_lstm.fit(train_padded, y_train, \n",
        "                    epochs=num_epochs, verbose=2, batch_size = 256,\n",
        "                    validation_split=0.2, callbacks = [early_stopping])"
      ],
      "execution_count": null,
      "outputs": [
        {
          "output_type": "stream",
          "text": [
            "Model: \"sequential_23\"\n",
            "_________________________________________________________________\n",
            "Layer (type)                 Output Shape              Param #   \n",
            "=================================================================\n",
            "embedding_23 (Embedding)     (None, 212, 50)           3158150   \n",
            "_________________________________________________________________\n",
            "lstm_29 (LSTM)               (None, 30)                9720      \n",
            "_________________________________________________________________\n",
            "dense_23 (Dense)             (None, 8)                 248       \n",
            "=================================================================\n",
            "Total params: 3,168,118\n",
            "Trainable params: 3,168,118\n",
            "Non-trainable params: 0\n",
            "_________________________________________________________________\n",
            "None\n",
            "Epoch 1/30\n",
            "260/260 - 13s - loss: 2.0428 - accuracy: 0.1797 - val_loss: 2.0382 - val_accuracy: 0.1850\n",
            "Epoch 2/30\n",
            "260/260 - 11s - loss: 2.0403 - accuracy: 0.1802 - val_loss: 2.0375 - val_accuracy: 0.1852\n",
            "Epoch 3/30\n",
            "260/260 - 11s - loss: 2.0394 - accuracy: 0.1801 - val_loss: 2.0336 - val_accuracy: 0.1867\n",
            "Epoch 4/30\n",
            "260/260 - 11s - loss: 2.0364 - accuracy: 0.1816 - val_loss: 2.0286 - val_accuracy: 0.1883\n",
            "Epoch 5/30\n",
            "260/260 - 11s - loss: 2.0234 - accuracy: 0.1885 - val_loss: 1.9607 - val_accuracy: 0.2243\n",
            "Epoch 6/30\n",
            "260/260 - 11s - loss: 1.8586 - accuracy: 0.2525 - val_loss: 1.7961 - val_accuracy: 0.2783\n",
            "Epoch 7/30\n",
            "260/260 - 11s - loss: 1.7396 - accuracy: 0.2952 - val_loss: 1.6995 - val_accuracy: 0.3104\n",
            "Epoch 8/30\n",
            "260/260 - 11s - loss: 1.6057 - accuracy: 0.3631 - val_loss: 1.5979 - val_accuracy: 0.3840\n",
            "Epoch 9/30\n",
            "260/260 - 11s - loss: 1.5329 - accuracy: 0.3965 - val_loss: 1.6035 - val_accuracy: 0.3446\n",
            "Epoch 10/30\n",
            "260/260 - 11s - loss: 1.4111 - accuracy: 0.4465 - val_loss: 1.4362 - val_accuracy: 0.4579\n",
            "Epoch 11/30\n",
            "260/260 - 11s - loss: 1.2346 - accuracy: 0.5326 - val_loss: 1.3301 - val_accuracy: 0.4953\n",
            "Epoch 12/30\n",
            "260/260 - 11s - loss: 1.0988 - accuracy: 0.5861 - val_loss: 1.2771 - val_accuracy: 0.5182\n",
            "Epoch 13/30\n",
            "260/260 - 11s - loss: 1.1550 - accuracy: 0.5655 - val_loss: 1.2881 - val_accuracy: 0.5176\n",
            "Epoch 14/30\n",
            "260/260 - 11s - loss: 0.9773 - accuracy: 0.6335 - val_loss: 1.2582 - val_accuracy: 0.5333\n",
            "Epoch 15/30\n",
            "260/260 - 11s - loss: 0.8834 - accuracy: 0.6719 - val_loss: 1.2580 - val_accuracy: 0.5372\n",
            "Epoch 16/30\n",
            "260/260 - 11s - loss: 0.8131 - accuracy: 0.6991 - val_loss: 1.2628 - val_accuracy: 0.5522\n",
            "Epoch 17/30\n",
            "260/260 - 11s - loss: 0.7549 - accuracy: 0.7216 - val_loss: 1.3028 - val_accuracy: 0.5370\n",
            "Epoch 18/30\n",
            "260/260 - 11s - loss: 0.7061 - accuracy: 0.7416 - val_loss: 1.2839 - val_accuracy: 0.5551\n",
            "Epoch 19/30\n",
            "260/260 - 11s - loss: 0.6682 - accuracy: 0.7542 - val_loss: 1.3197 - val_accuracy: 0.5590\n",
            "Restoring model weights from the end of the best epoch.\n",
            "Epoch 00019: early stopping\n"
          ],
          "name": "stdout"
        }
      ]
    },
    {
      "cell_type": "markdown",
      "metadata": {
        "id": "Z0oBgpchzZcV"
      },
      "source": [
        "unit 50"
      ]
    },
    {
      "cell_type": "code",
      "metadata": {
        "id": "cdV8jPlWuRjt",
        "colab": {
          "base_uri": "https://localhost:8080/"
        },
        "outputId": "399e9891-98c2-488b-d627-82e1d420018c"
      },
      "source": [
        "model_G_lstm_50 = tf.keras.Sequential([\n",
        "    tf.keras.layers.Embedding(vocab_size+1, 50,weights = [glove_embedding_matrix] ,input_length=max_length),\n",
        "\n",
        "    tf.keras.layers.LSTM(units=50),\n",
        "\n",
        "    tf.keras.layers.Dense(8, activation='softmax')\n",
        "])\n",
        "\n",
        "# compile model\n",
        "model_G_lstm_50.compile(loss='sparse_categorical_crossentropy',\n",
        "              optimizer='adam',\n",
        "              metrics=['accuracy'])\n",
        "\n",
        "# model summary\n",
        "print(model_G_lstm_50.summary())\n",
        "\n",
        "\n",
        "early_stopping = tf.keras.callbacks.EarlyStopping(monitor='val_loss', min_delta=0.001, patience=5,\n",
        "                       verbose=1, mode='min', baseline=None, restore_best_weights=True)\n",
        "\n",
        "# fit model\n",
        "num_epochs = 20\n",
        "history = model_G_lstm_50.fit(train_padded, y_train, \n",
        "                    epochs=num_epochs, verbose=2,batch_size = 256,\n",
        "                    validation_split=0.2, callbacks = [early_stopping])"
      ],
      "execution_count": null,
      "outputs": [
        {
          "output_type": "stream",
          "text": [
            "Model: \"sequential_25\"\n",
            "_________________________________________________________________\n",
            "Layer (type)                 Output Shape              Param #   \n",
            "=================================================================\n",
            "embedding_25 (Embedding)     (None, 212, 50)           3158150   \n",
            "_________________________________________________________________\n",
            "lstm_31 (LSTM)               (None, 50)                20200     \n",
            "_________________________________________________________________\n",
            "dense_25 (Dense)             (None, 8)                 408       \n",
            "=================================================================\n",
            "Total params: 3,178,758\n",
            "Trainable params: 3,178,758\n",
            "Non-trainable params: 0\n",
            "_________________________________________________________________\n",
            "None\n",
            "Epoch 1/20\n",
            "260/260 - 13s - loss: 2.0420 - accuracy: 0.1794 - val_loss: 2.0376 - val_accuracy: 0.1851\n",
            "Epoch 2/20\n",
            "260/260 - 10s - loss: 2.0407 - accuracy: 0.1800 - val_loss: 2.0372 - val_accuracy: 0.1852\n",
            "Epoch 3/20\n",
            "260/260 - 10s - loss: 2.0390 - accuracy: 0.1806 - val_loss: 2.0332 - val_accuracy: 0.1861\n",
            "Epoch 4/20\n",
            "260/260 - 10s - loss: 1.9654 - accuracy: 0.2037 - val_loss: 1.8276 - val_accuracy: 0.2529\n",
            "Epoch 5/20\n",
            "260/260 - 11s - loss: 1.7573 - accuracy: 0.2687 - val_loss: 1.7104 - val_accuracy: 0.2914\n",
            "Epoch 6/20\n",
            "260/260 - 10s - loss: 1.6018 - accuracy: 0.3529 - val_loss: 1.5634 - val_accuracy: 0.3846\n",
            "Epoch 7/20\n",
            "260/260 - 11s - loss: 1.4105 - accuracy: 0.4471 - val_loss: 1.4739 - val_accuracy: 0.4331\n",
            "Epoch 8/20\n",
            "260/260 - 10s - loss: 1.2662 - accuracy: 0.5179 - val_loss: 1.4196 - val_accuracy: 0.4675\n",
            "Epoch 9/20\n",
            "260/260 - 11s - loss: 1.1362 - accuracy: 0.5726 - val_loss: 1.3463 - val_accuracy: 0.5000\n",
            "Epoch 10/20\n",
            "260/260 - 10s - loss: 1.3310 - accuracy: 0.5109 - val_loss: 1.3296 - val_accuracy: 0.5066\n",
            "Epoch 11/20\n",
            "260/260 - 11s - loss: 1.0228 - accuracy: 0.6204 - val_loss: 1.2816 - val_accuracy: 0.5243\n",
            "Epoch 12/20\n",
            "260/260 - 10s - loss: 0.8989 - accuracy: 0.6701 - val_loss: 1.2665 - val_accuracy: 0.5465\n",
            "Epoch 13/20\n",
            "260/260 - 11s - loss: 0.9192 - accuracy: 0.6547 - val_loss: 1.2837 - val_accuracy: 0.5323\n",
            "Epoch 14/20\n",
            "260/260 - 11s - loss: 0.7710 - accuracy: 0.7171 - val_loss: 1.2868 - val_accuracy: 0.5497\n",
            "Epoch 15/20\n",
            "260/260 - 11s - loss: 0.7032 - accuracy: 0.7427 - val_loss: 1.2852 - val_accuracy: 0.5491\n",
            "Epoch 16/20\n",
            "260/260 - 11s - loss: 0.6522 - accuracy: 0.7602 - val_loss: 1.3555 - val_accuracy: 0.5558\n",
            "Epoch 17/20\n",
            "260/260 - 11s - loss: 0.6083 - accuracy: 0.7740 - val_loss: 1.3739 - val_accuracy: 0.5521\n",
            "Restoring model weights from the end of the best epoch.\n",
            "Epoch 00017: early stopping\n"
          ],
          "name": "stdout"
        }
      ]
    },
    {
      "cell_type": "markdown",
      "metadata": {
        "id": "Ue_6FX4osRXy"
      },
      "source": [
        "unit 128"
      ]
    },
    {
      "cell_type": "code",
      "metadata": {
        "id": "ormSSL5xe27D",
        "colab": {
          "base_uri": "https://localhost:8080/"
        },
        "outputId": "280c4a17-02fc-4687-d0fc-3a09dfa87c9d"
      },
      "source": [
        "model_G_lstm_128 = tf.keras.Sequential([\n",
        "    tf.keras.layers.Embedding(vocab_size+1, 50,weights = [glove_embedding_matrix] ,input_length=max_length),\n",
        "    tf.keras.layers.LSTM(units=128),\n",
        "    tf.keras.layers.Dense(8, activation='softmax')\n",
        "])\n",
        "\n",
        "# compile model\n",
        "model_G_lstm_128.compile(loss='sparse_categorical_crossentropy',\n",
        "              optimizer='adam',\n",
        "              metrics=['accuracy'])\n",
        "\n",
        "# model summary\n",
        "print(model_G_lstm_128.summary())\n",
        "\n",
        "early_stopping = tf.keras.callbacks.EarlyStopping(monitor='val_loss', min_delta=0.001, patience=5, \n",
        "                   verbose=1, mode='min', baseline=None, restore_best_weights=True)\n",
        "# fit model\n",
        "num_epochs = 1000\n",
        "history = model_G_lstm_128.fit(train_padded, y_train, \n",
        "                    epochs=num_epochs, verbose=2, batch_size = 256,\n",
        "                    validation_split=0.2, callbacks = [early_stopping])"
      ],
      "execution_count": null,
      "outputs": [
        {
          "output_type": "stream",
          "text": [
            "Model: \"sequential_2\"\n",
            "_________________________________________________________________\n",
            "Layer (type)                 Output Shape              Param #   \n",
            "=================================================================\n",
            "embedding_2 (Embedding)      (None, 212, 50)           3158150   \n",
            "_________________________________________________________________\n",
            "lstm_2 (LSTM)                (None, 128)               91648     \n",
            "_________________________________________________________________\n",
            "dense_2 (Dense)              (None, 8)                 1032      \n",
            "=================================================================\n",
            "Total params: 3,250,830\n",
            "Trainable params: 3,250,830\n",
            "Non-trainable params: 0\n",
            "_________________________________________________________________\n",
            "None\n",
            "Epoch 1/1000\n",
            "260/260 - 18s - loss: 2.0487 - accuracy: 0.1776 - val_loss: 2.0373 - val_accuracy: 0.1852\n",
            "Epoch 2/1000\n",
            "260/260 - 18s - loss: 2.0475 - accuracy: 0.1802 - val_loss: 2.0378 - val_accuracy: 0.1850\n",
            "Epoch 3/1000\n",
            "260/260 - 19s - loss: 2.0404 - accuracy: 0.1796 - val_loss: 2.0378 - val_accuracy: 0.1851\n",
            "Epoch 4/1000\n",
            "260/260 - 19s - loss: 2.0401 - accuracy: 0.1803 - val_loss: 2.0379 - val_accuracy: 0.1852\n",
            "Epoch 5/1000\n",
            "260/260 - 18s - loss: 2.0394 - accuracy: 0.1808 - val_loss: 2.0373 - val_accuracy: 0.1852\n",
            "Epoch 6/1000\n",
            "260/260 - 19s - loss: 2.0394 - accuracy: 0.1807 - val_loss: 2.0365 - val_accuracy: 0.1857\n",
            "Restoring model weights from the end of the best epoch.\n",
            "Epoch 00006: early stopping\n"
          ],
          "name": "stdout"
        }
      ]
    },
    {
      "cell_type": "code",
      "metadata": {
        "id": "qGcdsUZlsRas",
        "colab": {
          "base_uri": "https://localhost:8080/",
          "height": 633
        },
        "outputId": "4bb76bd4-1626-417a-e871-df4af243d86e"
      },
      "source": [
        "#에포크에 따른 loss와 accuracy 변화 그래프\n",
        "def plot_model_perfomance(history,name):\n",
        "    plt.style.use('fivethirtyeight')\n",
        "    plt.figure(1)\n",
        "\n",
        "    plt.plot(history.history['loss'], lw=2.0, color='b', label='train')\n",
        "    plt.plot(history.history['val_loss'], lw=2.0, color='r', label='val')\n",
        "    plt.title(name)\n",
        "    plt.xlabel('Epochs')\n",
        "    plt.ylabel('Loss')\n",
        "    plt.legend(loc='upper right')\n",
        "    plt.figure(2)\n",
        "\n",
        "    plt.plot(history.history['accuracy'], lw=2.0, color='b', label='train')\n",
        "    plt.plot(history.history['val_accuracy'], lw=2.0, color='r', label='val')\n",
        "    plt.title(name)\n",
        "    plt.xlabel('Epochs')\n",
        "    plt.ylabel('Accuracy')\n",
        "    plt.legend(loc='upper left')\n",
        "    plt.show()\n",
        "\n",
        "plot_model_perfomance(history,'Glove + LSTM(128)')"
      ],
      "execution_count": null,
      "outputs": [
        {
          "output_type": "display_data",
          "data": {
            "image/png": "[encoded data removed]",
            "text/plain": [
              "<Figure size 432x288 with 1 Axes>"
            ]
          },
          "metadata": {
            "tags": []
          }
        },
        {
          "output_type": "display_data",
          "data": {
            "image/png": "[encoded data removed]",
            "text/plain": [
              "<Figure size 432x288 with 1 Axes>"
            ]
          },
          "metadata": {
            "tags": []
          }
        }
      ]
    },
    {
      "cell_type": "markdown",
      "metadata": {
        "id": "qsZfnuJ6uv0B"
      },
      "source": [
        "    1. 첫번째 실험\n",
        "    unit 수를 늘리면 성능이 올라갈까?\n",
        "    FastText와 마찬가지로 Glove 임베딩을 사용한 단일층 unit128일 경우에 82.6%로 가장 성능이 좋았다\n",
        "    하지만 여기서도 val_loss, val_acc의 성능이 train과 차이가 많이 났음을 알 수 있다.\n",
        " \n",
        " \n",
        "    adam / batch 256 / val_split 0.2 / unit 30,50,128"
      ]
    },
    {
      "cell_type": "markdown",
      "metadata": {
        "id": "0W-IYoSQe2_X"
      },
      "source": [
        "#### lstm-cnn 사용하기"
      ]
    },
    {
      "cell_type": "code",
      "metadata": {
        "id": "xoNfxvQ9e3CR",
        "colab": {
          "base_uri": "https://localhost:8080/"
        },
        "outputId": "bc8cd967-e05d-4522-af4b-7d01c2e58d40"
      },
      "source": [
        "model_FT_lstm_2 = tf.keras.Sequential([\n",
        "    tf.keras.layers.Embedding(vocab_size+1, 50,weights = [glove_embedding_matrix] ,input_length=max_length),\n",
        "    tf.keras.layers.Conv1D(filters=128, kernel_size=3, padding='same', activation='relu'),\n",
        "    tf.keras.layers.MaxPooling1D(pool_size=2, padding=\"same\"),\n",
        "    tf.keras.layers.LSTM(units=128),\n",
        "    tf.keras.layers.Dropout(0.5),\n",
        "    tf.keras.layers.Dense(8, activation='softmax')\n",
        "])\n",
        "\n",
        "\n",
        "# compile model\n",
        "model_FT_lstm_2.compile(loss='sparse_categorical_crossentropy',\n",
        "              optimizer='adam',\n",
        "              metrics=['accuracy'])\n",
        "\n",
        "# model summary\n",
        "print(model_FT_lstm_2.summary())\n",
        "\n",
        "early_stopping = tf.keras.callbacks.EarlyStopping(monitor='val_loss', min_delta=0.001, patience=7 ,\n",
        "                   verbose=1, mode='min', baseline=None, restore_best_weights=True)\n",
        "# fit model\n",
        "num_epochs = 100\n",
        "history = model_FT_lstm_2.fit(train_padded, y_train, \n",
        "                    epochs=num_epochs, verbose=2, batch_size = 64,\n",
        "                    validation_split=0.2, callbacks = [early_stopping])"
      ],
      "execution_count": null,
      "outputs": [
        {
          "output_type": "stream",
          "text": [
            "Model: \"sequential_3\"\n",
            "_________________________________________________________________\n",
            "Layer (type)                 Output Shape              Param #   \n",
            "=================================================================\n",
            "embedding_3 (Embedding)      (None, 212, 50)           3158150   \n",
            "_________________________________________________________________\n",
            "conv1d_1 (Conv1D)            (None, 212, 128)          19328     \n",
            "_________________________________________________________________\n",
            "max_pooling1d_1 (MaxPooling1 (None, 106, 128)          0         \n",
            "_________________________________________________________________\n",
            "lstm_3 (LSTM)                (None, 128)               131584    \n",
            "_________________________________________________________________\n",
            "dropout_1 (Dropout)          (None, 128)               0         \n",
            "_________________________________________________________________\n",
            "dense_3 (Dense)              (None, 8)                 1032      \n",
            "=================================================================\n",
            "Total params: 3,310,094\n",
            "Trainable params: 3,310,094\n",
            "Non-trainable params: 0\n",
            "_________________________________________________________________\n",
            "None\n",
            "Epoch 1/100\n",
            "1040/1040 - 39s - loss: 2.0413 - accuracy: 0.1764 - val_loss: 2.0314 - val_accuracy: 0.1858\n",
            "Epoch 2/100\n",
            "1040/1040 - 50s - loss: 1.9714 - accuracy: 0.2002 - val_loss: 1.8130 - val_accuracy: 0.2609\n",
            "Epoch 3/100\n",
            "1040/1040 - 38s - loss: 1.7467 - accuracy: 0.2731 - val_loss: 1.6810 - val_accuracy: 0.3142\n",
            "Epoch 4/100\n",
            "1040/1040 - 43s - loss: 1.5029 - accuracy: 0.3895 - val_loss: 1.3474 - val_accuracy: 0.4849\n",
            "Epoch 5/100\n",
            "1040/1040 - 38s - loss: 1.1507 - accuracy: 0.5528 - val_loss: 1.1318 - val_accuracy: 0.5680\n",
            "Epoch 6/100\n",
            "1040/1040 - 42s - loss: 0.8842 - accuracy: 0.6433 - val_loss: 1.0416 - val_accuracy: 0.6059\n",
            "Epoch 7/100\n",
            "1040/1040 - 36s - loss: 0.7251 - accuracy: 0.7059 - val_loss: 0.9883 - val_accuracy: 0.6402\n",
            "Epoch 8/100\n",
            "1040/1040 - 42s - loss: 0.6100 - accuracy: 0.7562 - val_loss: 0.9911 - val_accuracy: 0.6495\n",
            "Epoch 9/100\n",
            "1040/1040 - 42s - loss: 0.5303 - accuracy: 0.7852 - val_loss: 0.9949 - val_accuracy: 0.6468\n",
            "Epoch 10/100\n",
            "1040/1040 - 42s - loss: 0.4670 - accuracy: 0.8086 - val_loss: 1.0222 - val_accuracy: 0.6470\n",
            "Epoch 11/100\n",
            "1040/1040 - 42s - loss: 0.4244 - accuracy: 0.8232 - val_loss: 1.1100 - val_accuracy: 0.6503\n",
            "Epoch 12/100\n",
            "1040/1040 - 41s - loss: 0.3910 - accuracy: 0.8351 - val_loss: 1.1770 - val_accuracy: 0.6427\n",
            "Epoch 13/100\n",
            "1040/1040 - 44s - loss: 0.3606 - accuracy: 0.8451 - val_loss: 1.3054 - val_accuracy: 0.6447\n",
            "Epoch 14/100\n",
            "1040/1040 - 42s - loss: 0.3390 - accuracy: 0.8531 - val_loss: 1.2650 - val_accuracy: 0.6377\n",
            "Restoring model weights from the end of the best epoch.\n",
            "Epoch 00014: early stopping\n"
          ],
          "name": "stdout"
        }
      ]
    },
    {
      "cell_type": "code",
      "metadata": {
        "id": "CS6IJiq7e3EV"
      },
      "source": [
        ""
      ],
      "execution_count": null,
      "outputs": []
    },
    {
      "cell_type": "code",
      "metadata": {
        "id": "TinhIBiOe3HY",
        "colab": {
          "base_uri": "https://localhost:8080/",
          "height": 633
        },
        "outputId": "5e91ffe1-851f-4a76-b432-dd0257893ab7"
      },
      "source": [
        "def plot_model_perfomance(history,name):\n",
        "    plt.style.use('fivethirtyeight')\n",
        "    plt.figure(1)\n",
        "\n",
        "    plt.plot(history.history['loss'], lw=2.0, color='b', label='train')\n",
        "    plt.plot(history.history['val_loss'], lw=2.0, color='r', label='val')\n",
        "    plt.title(name)\n",
        "    plt.xlabel('Epochs')\n",
        "    plt.ylabel('Loss')\n",
        "    plt.legend(loc='upper right')\n",
        "    plt.figure(2)\n",
        "\n",
        "    plt.plot(history.history['accuracy'], lw=2.0, color='b', label='train')\n",
        "    plt.plot(history.history['val_accuracy'], lw=2.0, color='r', label='val')\n",
        "    plt.title(name)\n",
        "    plt.xlabel('Epochs')\n",
        "    plt.ylabel('Accuracy')\n",
        "    plt.legend(loc='upper left')\n",
        "    plt.show()\n",
        "\n",
        "plot_model_perfomance(history,'Glove + LSTM-CNN')"
      ],
      "execution_count": null,
      "outputs": [
        {
          "output_type": "display_data",
          "data": {
            "image/png": "[encoded data removed]",
            "text/plain": [
              "<Figure size 432x288 with 1 Axes>"
            ]
          },
          "metadata": {
            "tags": []
          }
        },
        {
          "output_type": "display_data",
          "data": {
            "image/png": "[encoded data removed]",
            "text/plain": [
              "<Figure size 432x288 with 1 Axes>"
            ]
          },
          "metadata": {
            "tags": []
          }
        }
      ]
    },
    {
      "cell_type": "markdown",
      "metadata": {
        "id": "tayRNVIu4Xqa"
      },
      "source": [
        "        LSTM-CNN모델\n",
        "\n",
        "        Embedding > conv > maxpooling> LSTM > Dropout > Dense\n",
        "\n",
        "        adam / FastText / batch = 64 / dropout = 0.5 / filter = 128\n",
        "    \n",
        "\n",
        "        단일층의 unit 128모델과 비교했을때, acc는 약 3% 오르고 loss는 8 % 줄어든 성능을 보였다.\n",
        "        하지만 val_loss의 경우 unit128보다 높았으며, train과 성능 차이가 좀 더 났음을 확인했다.\n",
        "\n"
      ]
    },
    {
      "cell_type": "markdown",
      "metadata": {
        "id": "JnOE_KdW4X83"
      },
      "source": [
        "        결국 LSTM-CNN 모델의 성능이 좋았는데\n",
        "        이번 결과에서는 FastText를 사용하는게 acc와 loss 측면에서 더 좋은 결과를 얻었다.\n",
        "        (acc=87%, loss=28%)\n",
        "\n",
        "        하지만 validation과의 차이가 좀 있기 때문에 줄일수 있는 방법을 강구해야할 것 같다.\n",
        "        하이퍼 파라미터의 조정, 층을 늘리기, 다른 모델과의 결합등을 고려해서 실험해볼 수 있을 것 같다.\n"
      ]
    },
    {
      "cell_type": "markdown",
      "metadata": {
        "id": "O8QbgAaTuUa6"
      },
      "source": [
        "#### 테스트 진행"
      ]
    },
    {
      "cell_type": "code",
      "metadata": {
        "colab": {
          "base_uri": "https://localhost:8080/",
          "height": 399
        },
        "id": "ESgZaOyv9Ut1",
        "outputId": "fd99f115-7200-4e7e-9476-6a77629a60cb"
      },
      "source": [
        "sample_submission"
      ],
      "execution_count": null,
      "outputs": [
        {
          "output_type": "execute_result",
          "data": {
            "text/html": [
              "<div>\n",
              "<style scoped>\n",
              "    .dataframe tbody tr th:only-of-type {\n",
              "        vertical-align: middle;\n",
              "    }\n",
              "\n",
              "    .dataframe tbody tr th {\n",
              "        vertical-align: top;\n",
              "    }\n",
              "\n",
              "    .dataframe thead th {\n",
              "        text-align: right;\n",
              "    }\n",
              "</style>\n",
              "<table border=\"1\" class=\"dataframe\">\n",
              "  <thead>\n",
              "    <tr style=\"text-align: right;\">\n",
              "      <th></th>\n",
              "      <th>Unnamed: 0</th>\n",
              "      <th>index</th>\n",
              "      <th>0</th>\n",
              "      <th>1</th>\n",
              "      <th>2</th>\n",
              "      <th>3</th>\n",
              "      <th>4</th>\n",
              "      <th>5</th>\n",
              "      <th>6</th>\n",
              "      <th>7</th>\n",
              "    </tr>\n",
              "  </thead>\n",
              "  <tbody>\n",
              "    <tr>\n",
              "      <th>0</th>\n",
              "      <td>0</td>\n",
              "      <td>0</td>\n",
              "      <td>0</td>\n",
              "      <td>0</td>\n",
              "      <td>0</td>\n",
              "      <td>0</td>\n",
              "      <td>0</td>\n",
              "      <td>0</td>\n",
              "      <td>0</td>\n",
              "      <td>0</td>\n",
              "    </tr>\n",
              "    <tr>\n",
              "      <th>1</th>\n",
              "      <td>1</td>\n",
              "      <td>1</td>\n",
              "      <td>0</td>\n",
              "      <td>0</td>\n",
              "      <td>0</td>\n",
              "      <td>0</td>\n",
              "      <td>0</td>\n",
              "      <td>0</td>\n",
              "      <td>0</td>\n",
              "      <td>0</td>\n",
              "    </tr>\n",
              "    <tr>\n",
              "      <th>2</th>\n",
              "      <td>2</td>\n",
              "      <td>2</td>\n",
              "      <td>0</td>\n",
              "      <td>0</td>\n",
              "      <td>0</td>\n",
              "      <td>0</td>\n",
              "      <td>0</td>\n",
              "      <td>0</td>\n",
              "      <td>0</td>\n",
              "      <td>0</td>\n",
              "    </tr>\n",
              "    <tr>\n",
              "      <th>3</th>\n",
              "      <td>3</td>\n",
              "      <td>3</td>\n",
              "      <td>0</td>\n",
              "      <td>0</td>\n",
              "      <td>0</td>\n",
              "      <td>0</td>\n",
              "      <td>0</td>\n",
              "      <td>0</td>\n",
              "      <td>0</td>\n",
              "      <td>0</td>\n",
              "    </tr>\n",
              "    <tr>\n",
              "      <th>4</th>\n",
              "      <td>4</td>\n",
              "      <td>4</td>\n",
              "      <td>0</td>\n",
              "      <td>0</td>\n",
              "      <td>0</td>\n",
              "      <td>0</td>\n",
              "      <td>0</td>\n",
              "      <td>0</td>\n",
              "      <td>0</td>\n",
              "      <td>0</td>\n",
              "    </tr>\n",
              "    <tr>\n",
              "      <th>...</th>\n",
              "      <td>...</td>\n",
              "      <td>...</td>\n",
              "      <td>...</td>\n",
              "      <td>...</td>\n",
              "      <td>...</td>\n",
              "      <td>...</td>\n",
              "      <td>...</td>\n",
              "      <td>...</td>\n",
              "      <td>...</td>\n",
              "      <td>...</td>\n",
              "    </tr>\n",
              "    <tr>\n",
              "      <th>27313</th>\n",
              "      <td>27313</td>\n",
              "      <td>27313</td>\n",
              "      <td>0</td>\n",
              "      <td>0</td>\n",
              "      <td>0</td>\n",
              "      <td>0</td>\n",
              "      <td>0</td>\n",
              "      <td>0</td>\n",
              "      <td>0</td>\n",
              "      <td>0</td>\n",
              "    </tr>\n",
              "    <tr>\n",
              "      <th>27314</th>\n",
              "      <td>27314</td>\n",
              "      <td>27314</td>\n",
              "      <td>0</td>\n",
              "      <td>0</td>\n",
              "      <td>0</td>\n",
              "      <td>0</td>\n",
              "      <td>0</td>\n",
              "      <td>0</td>\n",
              "      <td>0</td>\n",
              "      <td>0</td>\n",
              "    </tr>\n",
              "    <tr>\n",
              "      <th>27315</th>\n",
              "      <td>27315</td>\n",
              "      <td>27315</td>\n",
              "      <td>0</td>\n",
              "      <td>0</td>\n",
              "      <td>0</td>\n",
              "      <td>0</td>\n",
              "      <td>0</td>\n",
              "      <td>0</td>\n",
              "      <td>0</td>\n",
              "      <td>0</td>\n",
              "    </tr>\n",
              "    <tr>\n",
              "      <th>27316</th>\n",
              "      <td>27316</td>\n",
              "      <td>27316</td>\n",
              "      <td>0</td>\n",
              "      <td>0</td>\n",
              "      <td>0</td>\n",
              "      <td>0</td>\n",
              "      <td>0</td>\n",
              "      <td>0</td>\n",
              "      <td>0</td>\n",
              "      <td>0</td>\n",
              "    </tr>\n",
              "    <tr>\n",
              "      <th>27317</th>\n",
              "      <td>27317</td>\n",
              "      <td>27317</td>\n",
              "      <td>0</td>\n",
              "      <td>0</td>\n",
              "      <td>0</td>\n",
              "      <td>0</td>\n",
              "      <td>0</td>\n",
              "      <td>0</td>\n",
              "      <td>0</td>\n",
              "      <td>0</td>\n",
              "    </tr>\n",
              "  </tbody>\n",
              "</table>\n",
              "<p>27318 rows × 10 columns</p>\n",
              "</div>"
            ],
            "text/plain": [
              "       Unnamed: 0  index  0  1  2  3  4  5  6  7\n",
              "0               0      0  0  0  0  0  0  0  0  0\n",
              "1               1      1  0  0  0  0  0  0  0  0\n",
              "2               2      2  0  0  0  0  0  0  0  0\n",
              "3               3      3  0  0  0  0  0  0  0  0\n",
              "4               4      4  0  0  0  0  0  0  0  0\n",
              "...           ...    ... .. .. .. .. .. .. .. ..\n",
              "27313       27313  27313  0  0  0  0  0  0  0  0\n",
              "27314       27314  27314  0  0  0  0  0  0  0  0\n",
              "27315       27315  27315  0  0  0  0  0  0  0  0\n",
              "27316       27316  27316  0  0  0  0  0  0  0  0\n",
              "27317       27317  27317  0  0  0  0  0  0  0  0\n",
              "\n",
              "[27318 rows x 10 columns]"
            ]
          },
          "metadata": {
            "tags": []
          },
          "execution_count": 46
        }
      ]
    },
    {
      "cell_type": "code",
      "metadata": {
        "colab": {
          "base_uri": "https://localhost:8080/"
        },
        "id": "JL1R3UhmuUdC",
        "outputId": "1e7d2f5f-ae57-40af-9658-99fc2d26c169"
      },
      "source": [
        "pred_FT_128 = model_FT_lstm_128.predict(test_padded)\n",
        "pred_FT_128"
      ],
      "execution_count": null,
      "outputs": [
        {
          "output_type": "execute_result",
          "data": {
            "text/plain": [
              "array([[7.1802796e-03, 5.9519794e-02, 1.0558590e-02, ..., 6.8579817e-01,\n",
              "        1.8825267e-01, 1.3612258e-02],\n",
              "       [3.4382206e-04, 4.2951632e-02, 5.0385419e-04, ..., 9.5343834e-01,\n",
              "        8.1937597e-04, 1.5186310e-03],\n",
              "       [2.1104661e-03, 2.4650526e-01, 1.3975509e-03, ..., 7.4528551e-01,\n",
              "        3.6738114e-04, 2.3646562e-03],\n",
              "       ...,\n",
              "       [7.9944311e-03, 9.8469824e-01, 4.4701676e-04, ..., 3.6994424e-03,\n",
              "        2.8827869e-06, 6.4790656e-05],\n",
              "       [7.9357978e-03, 9.8449928e-01, 4.6248146e-04, ..., 3.7465072e-03,\n",
              "        3.0600108e-06, 6.5168613e-05],\n",
              "       [1.0862062e-02, 5.0930289e-06, 2.6215479e-05, ..., 7.7429868e-06,\n",
              "        1.8635967e-04, 9.8884881e-01]], dtype=float32)"
            ]
          },
          "metadata": {
            "tags": []
          },
          "execution_count": 27
        }
      ]
    },
    {
      "cell_type": "code",
      "metadata": {
        "colab": {
          "base_uri": "https://localhost:8080/"
        },
        "id": "QT7jpgR39Mll",
        "outputId": "dff0870b-3c6a-4ab4-cfa6-bee06c5bb3a7"
      },
      "source": [
        "len(pred_FT_128)"
      ],
      "execution_count": null,
      "outputs": [
        {
          "output_type": "execute_result",
          "data": {
            "text/plain": [
              "27318"
            ]
          },
          "metadata": {
            "tags": []
          },
          "execution_count": 33
        }
      ]
    },
    {
      "cell_type": "code",
      "metadata": {
        "id": "mW74aODI6Uws"
      },
      "source": [
        "sample_submission[['0','1','2','3','4','5','6','7']] = pred_FT_128\n",
        "sample_submission.to_csv('submission_FT_128.csv', index = False)"
      ],
      "execution_count": null,
      "outputs": []
    },
    {
      "cell_type": "code",
      "metadata": {
        "colab": {
          "base_uri": "https://localhost:8080/"
        },
        "id": "pyGO1E_ouUhQ",
        "outputId": "036beb6b-b7ea-4411-9f32-1c160d341bbd"
      },
      "source": [
        "pred_FT_cnn = model_FT_lstm_cnn.predict(test_padded)\n",
        "pred_FT_cnn"
      ],
      "execution_count": null,
      "outputs": [
        {
          "output_type": "execute_result",
          "data": {
            "text/plain": [
              "array([[3.3333901e-02, 1.0812887e-01, 4.4248659e-02, ..., 2.8458515e-01,\n",
              "        2.4149300e-01, 1.1512893e-01],\n",
              "       [5.2333800e-03, 1.2624253e-01, 9.4579160e-02, ..., 2.7886689e-01,\n",
              "        2.8084314e-01, 4.3254856e-02],\n",
              "       [7.2327536e-04, 2.4251144e-01, 1.0800808e-03, ..., 7.5186402e-01,\n",
              "        8.7356434e-04, 1.9605558e-03],\n",
              "       ...,\n",
              "       [5.1681004e-03, 9.9203217e-01, 6.9521158e-04, ..., 1.2658454e-03,\n",
              "        1.6840557e-05, 4.1827156e-05],\n",
              "       [1.0851536e-02, 9.8607630e-01, 1.0942775e-03, ..., 7.2759268e-04,\n",
              "        1.9158884e-05, 5.7271769e-05],\n",
              "       [4.1877840e-02, 1.5277258e-03, 1.5737818e-03, ..., 3.0353931e-03,\n",
              "        1.4939275e-02, 9.3383074e-01]], dtype=float32)"
            ]
          },
          "metadata": {
            "tags": []
          },
          "execution_count": 48
        }
      ]
    },
    {
      "cell_type": "code",
      "metadata": {
        "id": "fnCRNVtI-TO0"
      },
      "source": [
        "sample_submission = pd.read_csv('/content/drive/MyDrive/Novelist_Classification/datasets/new_sample_submission.csv', encoding = 'utf-8')"
      ],
      "execution_count": null,
      "outputs": []
    },
    {
      "cell_type": "code",
      "metadata": {
        "id": "yi4wEXKK6VJ5"
      },
      "source": [
        "sample_submission[['0','1','2','3','4','5','6','7']] = pred_FT_cnn\n",
        "sample_submission.to_csv('submission_FT_cnn.csv', index = False)"
      ],
      "execution_count": null,
      "outputs": []
    },
    {
      "cell_type": "code",
      "metadata": {
        "colab": {
          "base_uri": "https://localhost:8080/"
        },
        "id": "sDR26-nPuUio",
        "outputId": "330ae65e-d4d4-4e6b-83d2-5abf0219c684"
      },
      "source": [
        "pred_G_128 = model_G_lstm_128.predict(test_padded)\n",
        "pred_G_128"
      ],
      "execution_count": null,
      "outputs": [
        {
          "output_type": "execute_result",
          "data": {
            "text/plain": [
              "array([[0.01750951, 0.09280887, 0.0298206 , ..., 0.3438935 , 0.42461947,\n",
              "        0.02314765],\n",
              "       [0.1554916 , 0.0861906 , 0.1352335 , ..., 0.08800144, 0.10384267,\n",
              "        0.15995173],\n",
              "       [0.15549092, 0.0861913 , 0.1352333 , ..., 0.08800189, 0.10384335,\n",
              "        0.1599511 ],\n",
              "       ...,\n",
              "       [0.15549092, 0.0861913 , 0.1352333 , ..., 0.08800189, 0.10384335,\n",
              "        0.1599511 ],\n",
              "       [0.15549092, 0.0861913 , 0.1352333 , ..., 0.08800189, 0.10384335,\n",
              "        0.1599511 ],\n",
              "       [0.15549092, 0.0861913 , 0.1352333 , ..., 0.08800189, 0.10384335,\n",
              "        0.1599511 ]], dtype=float32)"
            ]
          },
          "metadata": {
            "tags": []
          },
          "execution_count": 53
        }
      ]
    },
    {
      "cell_type": "code",
      "metadata": {
        "id": "eWPQNezl6Vgk"
      },
      "source": [
        "sample_submission[['0','1','2','3','4','5','6','7']] = pred_G_128\n",
        "sample_submission.to_csv('submission_G_128.csv', index = False)"
      ],
      "execution_count": null,
      "outputs": []
    },
    {
      "cell_type": "code",
      "metadata": {
        "colab": {
          "base_uri": "https://localhost:8080/"
        },
        "id": "cgpO9WIh4TZA",
        "outputId": "1f6774da-1fbf-4b6c-e3a2-0836a550a506"
      },
      "source": [
        "pred_G_cnn = model_FT_lstm_2.predict(test_padded)\n",
        "pred_G_cnn"
      ],
      "execution_count": null,
      "outputs": [
        {
          "output_type": "execute_result",
          "data": {
            "text/plain": [
              "array([[4.1665707e-02, 2.4673013e-01, 8.4210090e-02, ..., 3.9300770e-01,\n",
              "        8.9864232e-02, 3.2006562e-02],\n",
              "       [9.2443719e-04, 3.3385196e-01, 5.5370590e-04, ..., 6.6116250e-01,\n",
              "        1.2769245e-03, 1.6869067e-03],\n",
              "       [1.7114145e-03, 4.9232084e-01, 1.4868027e-03, ..., 4.9536091e-01,\n",
              "        4.9755634e-03, 3.0130665e-03],\n",
              "       ...,\n",
              "       [3.1380146e-03, 9.9454749e-01, 6.3926727e-04, ..., 9.7871339e-04,\n",
              "        4.9235401e-05, 7.8142129e-06],\n",
              "       [2.5092922e-03, 9.9515641e-01, 7.0697861e-04, ..., 9.8816084e-04,\n",
              "        6.1592327e-05, 6.7113015e-06],\n",
              "       [4.5687139e-01, 8.6204219e-04, 7.6862925e-04, ..., 2.9795588e-04,\n",
              "        4.6375368e-04, 5.3314763e-01]], dtype=float32)"
            ]
          },
          "metadata": {
            "tags": []
          },
          "execution_count": 56
        }
      ]
    },
    {
      "cell_type": "code",
      "metadata": {
        "id": "lcK-f-7l4Tbw"
      },
      "source": [
        "sample_submission[['0','1','2','3','4','5','6','7']] = pred_G_cnn\n",
        "sample_submission.to_csv('submission_G_cnn.csv', index = False)"
      ],
      "execution_count": null,
      "outputs": []
    },
    {
      "cell_type": "code",
      "metadata": {
        "id": "JnNVDjW7-t4c"
      },
      "source": [
        ""
      ],
      "execution_count": null,
      "outputs": []
    }
  ]
}