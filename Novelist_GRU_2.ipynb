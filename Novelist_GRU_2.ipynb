{
  "nbformat": 4,
  "nbformat_minor": 0,
  "metadata": {
    "accelerator": "GPU",
    "colab": {
      "name": "Novelist_GRU.ipynb",
      "provenance": [],
      "collapsed_sections": [],
      "include_colab_link": true
    },
    "kernelspec": {
      "display_name": "Python 3",
      "name": "python3"
    },
    "language_info": {
      "name": "python"
    }
  },
  "cells": [
    {
      "cell_type": "markdown",
      "metadata": {
        "id": "view-in-github",
        "colab_type": "text"
      },
      "source": [
        "<a href=\"https://colab.research.google.com/github/TitusChoi/Novelist_Classification/blob/titus/Novelist_GRU_2.ipynb\" target=\"_parent\"><img src=\"https://colab.research.google.com/assets/colab-badge.svg\" alt=\"Open In Colab\"/></a>"
      ]
    },
    {
      "cell_type": "code",
      "metadata": {
        "colab": {
          "base_uri": "https://localhost:8080/"
        },
        "id": "PJZJ7Yr-FUOn",
        "outputId": "fc6705e3-1b3d-4e19-b211-41dea43dc6b7"
      },
      "source": [
        "from google.colab import drive\n",
        "drive.mount('/content/drive')"
      ],
      "execution_count": null,
      "outputs": [
        {
          "output_type": "stream",
          "text": [
            "Mounted at /content/drive\n"
          ],
          "name": "stdout"
        }
      ]
    },
    {
      "cell_type": "code",
      "metadata": {
        "id": "Pv_Wml_wFeJD"
      },
      "source": [
        "import pandas as pd\n",
        "import warnings \n",
        "warnings.filterwarnings(action='ignore')\n",
        "import numpy as np\n",
        "import tensorflow as tf\n",
        "from tensorflow.keras.preprocessing.sequence import pad_sequences\n",
        "from tensorflow.keras.preprocessing.text import Tokenizer\n",
        "import re\n",
        "import random\n",
        "import matplotlib.pyplot as plt\n"
      ],
      "execution_count": null,
      "outputs": []
    },
    {
      "cell_type": "code",
      "metadata": {
        "id": "OoX1-VGQFfg1"
      },
      "source": [
        "#경로 설정\n",
        "import os\n",
        "os.chdir('./')"
      ],
      "execution_count": null,
      "outputs": []
    },
    {
      "cell_type": "code",
      "metadata": {
        "id": "OEZtMdB5CaDG"
      },
      "source": [
        "#파일 불러오기\n",
        "train = pd.read_csv('/content/drive/MyDrive/Novelist_Classification/datasets/new_train.csv', encoding = 'utf-8')\n",
        "test = pd.read_csv('/content/drive/MyDrive/Novelist_Classification/datasets/new_test.csv', encoding = 'utf-8')\n",
        "sample_submission = pd.read_csv('/content/drive/MyDrive/Novelist_Classification/datasets/new_sample_submission.csv', encoding = 'utf-8')"
      ],
      "execution_count": null,
      "outputs": []
    },
    {
      "cell_type": "code",
      "metadata": {
        "colab": {
          "base_uri": "https://localhost:8080/",
          "height": 419
        },
        "id": "SvX_U2ETC7vA",
        "outputId": "b7c8084e-a118-4bff-a4ba-572700a29fcc"
      },
      "source": [
        "#train 데이터 살펴보기\n",
        "train"
      ],
      "execution_count": null,
      "outputs": [
        {
          "output_type": "execute_result",
          "data": {
            "text/html": [
              "<div>\n",
              "<style scoped>\n",
              "    .dataframe tbody tr th:only-of-type {\n",
              "        vertical-align: middle;\n",
              "    }\n",
              "\n",
              "    .dataframe tbody tr th {\n",
              "        vertical-align: top;\n",
              "    }\n",
              "\n",
              "    .dataframe thead th {\n",
              "        text-align: right;\n",
              "    }\n",
              "</style>\n",
              "<table border=\"1\" class=\"dataframe\">\n",
              "  <thead>\n",
              "    <tr style=\"text-align: right;\">\n",
              "      <th></th>\n",
              "      <th>Unnamed: 0</th>\n",
              "      <th>text</th>\n",
              "      <th>author</th>\n",
              "    </tr>\n",
              "  </thead>\n",
              "  <tbody>\n",
              "    <tr>\n",
              "      <th>0</th>\n",
              "      <td>0</td>\n",
              "      <td>It is hard to forget repulsive things. I remem...</td>\n",
              "      <td>6</td>\n",
              "    </tr>\n",
              "    <tr>\n",
              "      <th>1</th>\n",
              "      <td>1</td>\n",
              "      <td>It would be tedious if given in the beadle’s w...</td>\n",
              "      <td>7</td>\n",
              "    </tr>\n",
              "    <tr>\n",
              "      <th>2</th>\n",
              "      <td>2</td>\n",
              "      <td>“Very good. Shall we argue about it here in p...</td>\n",
              "      <td>2</td>\n",
              "    </tr>\n",
              "    <tr>\n",
              "      <th>3</th>\n",
              "      <td>3</td>\n",
              "      <td>“What! and I as high as a tree and as big as a...</td>\n",
              "      <td>6</td>\n",
              "    </tr>\n",
              "    <tr>\n",
              "      <th>4</th>\n",
              "      <td>4</td>\n",
              "      <td>\"Isn't it enough, Vanya?\" she cried, seeing hi...</td>\n",
              "      <td>3</td>\n",
              "    </tr>\n",
              "    <tr>\n",
              "      <th>...</th>\n",
              "      <td>...</td>\n",
              "      <td>...</td>\n",
              "      <td>...</td>\n",
              "    </tr>\n",
              "    <tr>\n",
              "      <th>83215</th>\n",
              "      <td>83215</td>\n",
              "      <td>What with the birthday visitors, and what with...</td>\n",
              "      <td>7</td>\n",
              "    </tr>\n",
              "    <tr>\n",
              "      <th>83216</th>\n",
              "      <td>83216</td>\n",
              "      <td>It was an old rickety door and gave at once be...</td>\n",
              "      <td>2</td>\n",
              "    </tr>\n",
              "    <tr>\n",
              "      <th>83217</th>\n",
              "      <td>83217</td>\n",
              "      <td>“Well then you can go to the devil,” said odin...</td>\n",
              "      <td>3</td>\n",
              "    </tr>\n",
              "    <tr>\n",
              "      <th>83218</th>\n",
              "      <td>83218</td>\n",
              "      <td>“Don’t know?”</td>\n",
              "      <td>7</td>\n",
              "    </tr>\n",
              "    <tr>\n",
              "      <th>83219</th>\n",
              "      <td>83219</td>\n",
              "      <td>“Not go to town!” cried Mrs. Palmer, with a la...</td>\n",
              "      <td>5</td>\n",
              "    </tr>\n",
              "  </tbody>\n",
              "</table>\n",
              "<p>83220 rows × 3 columns</p>\n",
              "</div>"
            ],
            "text/plain": [
              "       Unnamed: 0                                               text  author\n",
              "0               0  It is hard to forget repulsive things. I remem...       6\n",
              "1               1  It would be tedious if given in the beadle’s w...       7\n",
              "2               2   “Very good. Shall we argue about it here in p...       2\n",
              "3               3  “What! and I as high as a tree and as big as a...       6\n",
              "4               4  \"Isn't it enough, Vanya?\" she cried, seeing hi...       3\n",
              "...           ...                                                ...     ...\n",
              "83215       83215  What with the birthday visitors, and what with...       7\n",
              "83216       83216  It was an old rickety door and gave at once be...       2\n",
              "83217       83217  “Well then you can go to the devil,” said odin...       3\n",
              "83218       83218                                      “Don’t know?”       7\n",
              "83219       83219  “Not go to town!” cried Mrs. Palmer, with a la...       5\n",
              "\n",
              "[83220 rows x 3 columns]"
            ]
          },
          "metadata": {
            "tags": []
          },
          "execution_count": 5
        }
      ]
    },
    {
      "cell_type": "code",
      "metadata": {
        "colab": {
          "base_uri": "https://localhost:8080/",
          "height": 419
        },
        "id": "8MxZsr6yCshr",
        "outputId": "22f55102-ffbf-4e95-f2ec-f7446dba6450"
      },
      "source": [
        "#test 데이터 살펴보기\n",
        "del test['Unnamed: 0']\n",
        "test"
      ],
      "execution_count": null,
      "outputs": [
        {
          "output_type": "execute_result",
          "data": {
            "text/html": [
              "<div>\n",
              "<style scoped>\n",
              "    .dataframe tbody tr th:only-of-type {\n",
              "        vertical-align: middle;\n",
              "    }\n",
              "\n",
              "    .dataframe tbody tr th {\n",
              "        vertical-align: top;\n",
              "    }\n",
              "\n",
              "    .dataframe thead th {\n",
              "        text-align: right;\n",
              "    }\n",
              "</style>\n",
              "<table border=\"1\" class=\"dataframe\">\n",
              "  <thead>\n",
              "    <tr style=\"text-align: right;\">\n",
              "      <th></th>\n",
              "      <th>index</th>\n",
              "      <th>text</th>\n",
              "    </tr>\n",
              "  </thead>\n",
              "  <tbody>\n",
              "    <tr>\n",
              "      <th>0</th>\n",
              "      <td>0</td>\n",
              "      <td>About thirty years ago Miss Maria Ward, of Hun...</td>\n",
              "    </tr>\n",
              "    <tr>\n",
              "      <th>1</th>\n",
              "      <td>1</td>\n",
              "      <td>Their homes were so distant, and the circles i...</td>\n",
              "    </tr>\n",
              "    <tr>\n",
              "      <th>2</th>\n",
              "      <td>2</td>\n",
              "      <td>The letter was not unproductive. It re-establi...</td>\n",
              "    </tr>\n",
              "    <tr>\n",
              "      <th>3</th>\n",
              "      <td>3</td>\n",
              "      <td>Such were its immediate effects, and within a ...</td>\n",
              "    </tr>\n",
              "    <tr>\n",
              "      <th>4</th>\n",
              "      <td>4</td>\n",
              "      <td>Sir Thomas could not give so instantaneous and...</td>\n",
              "    </tr>\n",
              "    <tr>\n",
              "      <th>...</th>\n",
              "      <td>...</td>\n",
              "      <td>...</td>\n",
              "    </tr>\n",
              "    <tr>\n",
              "      <th>27313</th>\n",
              "      <td>27313</td>\n",
              "      <td>At the end of another day or two, odin growing...</td>\n",
              "    </tr>\n",
              "    <tr>\n",
              "      <th>27314</th>\n",
              "      <td>27314</td>\n",
              "      <td>All afternoon we sat together, mostly in silen...</td>\n",
              "    </tr>\n",
              "    <tr>\n",
              "      <th>27315</th>\n",
              "      <td>27315</td>\n",
              "      <td>odin, having carried his thanks to odin, proc...</td>\n",
              "    </tr>\n",
              "    <tr>\n",
              "      <th>27316</th>\n",
              "      <td>27316</td>\n",
              "      <td>Soon after this, upon odin's leaving the room,...</td>\n",
              "    </tr>\n",
              "    <tr>\n",
              "      <th>27317</th>\n",
              "      <td>27317</td>\n",
              "      <td>And all the worse for the doomed man, that the...</td>\n",
              "    </tr>\n",
              "  </tbody>\n",
              "</table>\n",
              "<p>27318 rows × 2 columns</p>\n",
              "</div>"
            ],
            "text/plain": [
              "       index                                               text\n",
              "0          0  About thirty years ago Miss Maria Ward, of Hun...\n",
              "1          1  Their homes were so distant, and the circles i...\n",
              "2          2  The letter was not unproductive. It re-establi...\n",
              "3          3  Such were its immediate effects, and within a ...\n",
              "4          4  Sir Thomas could not give so instantaneous and...\n",
              "...      ...                                                ...\n",
              "27313  27313  At the end of another day or two, odin growing...\n",
              "27314  27314  All afternoon we sat together, mostly in silen...\n",
              "27315  27315   odin, having carried his thanks to odin, proc...\n",
              "27316  27316  Soon after this, upon odin's leaving the room,...\n",
              "27317  27317  And all the worse for the doomed man, that the...\n",
              "\n",
              "[27318 rows x 2 columns]"
            ]
          },
          "metadata": {
            "tags": []
          },
          "execution_count": 6
        }
      ]
    },
    {
      "cell_type": "code",
      "metadata": {
        "colab": {
          "base_uri": "https://localhost:8080/",
          "height": 419
        },
        "id": "WOpmyyX_77Op",
        "outputId": "66230d1c-bcce-459a-81cd-105515c9c6ed"
      },
      "source": [
        "#sample_submission\n",
        "del sample_submission['Unnamed: 0']\n",
        "sample_submission = sample_submission.drop(sample_submission.index[27318])\n",
        "sample_submission"
      ],
      "execution_count": null,
      "outputs": [
        {
          "output_type": "execute_result",
          "data": {
            "text/html": [
              "<div>\n",
              "<style scoped>\n",
              "    .dataframe tbody tr th:only-of-type {\n",
              "        vertical-align: middle;\n",
              "    }\n",
              "\n",
              "    .dataframe tbody tr th {\n",
              "        vertical-align: top;\n",
              "    }\n",
              "\n",
              "    .dataframe thead th {\n",
              "        text-align: right;\n",
              "    }\n",
              "</style>\n",
              "<table border=\"1\" class=\"dataframe\">\n",
              "  <thead>\n",
              "    <tr style=\"text-align: right;\">\n",
              "      <th></th>\n",
              "      <th>index</th>\n",
              "      <th>0</th>\n",
              "      <th>1</th>\n",
              "      <th>2</th>\n",
              "      <th>3</th>\n",
              "      <th>4</th>\n",
              "      <th>5</th>\n",
              "      <th>6</th>\n",
              "      <th>7</th>\n",
              "    </tr>\n",
              "  </thead>\n",
              "  <tbody>\n",
              "    <tr>\n",
              "      <th>0</th>\n",
              "      <td>0</td>\n",
              "      <td>0</td>\n",
              "      <td>0</td>\n",
              "      <td>0</td>\n",
              "      <td>0</td>\n",
              "      <td>0</td>\n",
              "      <td>0</td>\n",
              "      <td>0</td>\n",
              "      <td>0</td>\n",
              "    </tr>\n",
              "    <tr>\n",
              "      <th>1</th>\n",
              "      <td>1</td>\n",
              "      <td>0</td>\n",
              "      <td>0</td>\n",
              "      <td>0</td>\n",
              "      <td>0</td>\n",
              "      <td>0</td>\n",
              "      <td>0</td>\n",
              "      <td>0</td>\n",
              "      <td>0</td>\n",
              "    </tr>\n",
              "    <tr>\n",
              "      <th>2</th>\n",
              "      <td>2</td>\n",
              "      <td>0</td>\n",
              "      <td>0</td>\n",
              "      <td>0</td>\n",
              "      <td>0</td>\n",
              "      <td>0</td>\n",
              "      <td>0</td>\n",
              "      <td>0</td>\n",
              "      <td>0</td>\n",
              "    </tr>\n",
              "    <tr>\n",
              "      <th>3</th>\n",
              "      <td>3</td>\n",
              "      <td>0</td>\n",
              "      <td>0</td>\n",
              "      <td>0</td>\n",
              "      <td>0</td>\n",
              "      <td>0</td>\n",
              "      <td>0</td>\n",
              "      <td>0</td>\n",
              "      <td>0</td>\n",
              "    </tr>\n",
              "    <tr>\n",
              "      <th>4</th>\n",
              "      <td>4</td>\n",
              "      <td>0</td>\n",
              "      <td>0</td>\n",
              "      <td>0</td>\n",
              "      <td>0</td>\n",
              "      <td>0</td>\n",
              "      <td>0</td>\n",
              "      <td>0</td>\n",
              "      <td>0</td>\n",
              "    </tr>\n",
              "    <tr>\n",
              "      <th>...</th>\n",
              "      <td>...</td>\n",
              "      <td>...</td>\n",
              "      <td>...</td>\n",
              "      <td>...</td>\n",
              "      <td>...</td>\n",
              "      <td>...</td>\n",
              "      <td>...</td>\n",
              "      <td>...</td>\n",
              "      <td>...</td>\n",
              "    </tr>\n",
              "    <tr>\n",
              "      <th>27313</th>\n",
              "      <td>27313</td>\n",
              "      <td>0</td>\n",
              "      <td>0</td>\n",
              "      <td>0</td>\n",
              "      <td>0</td>\n",
              "      <td>0</td>\n",
              "      <td>0</td>\n",
              "      <td>0</td>\n",
              "      <td>0</td>\n",
              "    </tr>\n",
              "    <tr>\n",
              "      <th>27314</th>\n",
              "      <td>27314</td>\n",
              "      <td>0</td>\n",
              "      <td>0</td>\n",
              "      <td>0</td>\n",
              "      <td>0</td>\n",
              "      <td>0</td>\n",
              "      <td>0</td>\n",
              "      <td>0</td>\n",
              "      <td>0</td>\n",
              "    </tr>\n",
              "    <tr>\n",
              "      <th>27315</th>\n",
              "      <td>27315</td>\n",
              "      <td>0</td>\n",
              "      <td>0</td>\n",
              "      <td>0</td>\n",
              "      <td>0</td>\n",
              "      <td>0</td>\n",
              "      <td>0</td>\n",
              "      <td>0</td>\n",
              "      <td>0</td>\n",
              "    </tr>\n",
              "    <tr>\n",
              "      <th>27316</th>\n",
              "      <td>27316</td>\n",
              "      <td>0</td>\n",
              "      <td>0</td>\n",
              "      <td>0</td>\n",
              "      <td>0</td>\n",
              "      <td>0</td>\n",
              "      <td>0</td>\n",
              "      <td>0</td>\n",
              "      <td>0</td>\n",
              "    </tr>\n",
              "    <tr>\n",
              "      <th>27317</th>\n",
              "      <td>27317</td>\n",
              "      <td>0</td>\n",
              "      <td>0</td>\n",
              "      <td>0</td>\n",
              "      <td>0</td>\n",
              "      <td>0</td>\n",
              "      <td>0</td>\n",
              "      <td>0</td>\n",
              "      <td>0</td>\n",
              "    </tr>\n",
              "  </tbody>\n",
              "</table>\n",
              "<p>27318 rows × 9 columns</p>\n",
              "</div>"
            ],
            "text/plain": [
              "       index  0  1  2  3  4  5  6  7\n",
              "0          0  0  0  0  0  0  0  0  0\n",
              "1          1  0  0  0  0  0  0  0  0\n",
              "2          2  0  0  0  0  0  0  0  0\n",
              "3          3  0  0  0  0  0  0  0  0\n",
              "4          4  0  0  0  0  0  0  0  0\n",
              "...      ... .. .. .. .. .. .. .. ..\n",
              "27313  27313  0  0  0  0  0  0  0  0\n",
              "27314  27314  0  0  0  0  0  0  0  0\n",
              "27315  27315  0  0  0  0  0  0  0  0\n",
              "27316  27316  0  0  0  0  0  0  0  0\n",
              "27317  27317  0  0  0  0  0  0  0  0\n",
              "\n",
              "[27318 rows x 9 columns]"
            ]
          },
          "metadata": {
            "tags": []
          },
          "execution_count": 7
        }
      ]
    },
    {
      "cell_type": "markdown",
      "metadata": {
        "id": "PPq0vxJVDS3R"
      },
      "source": [
        "# **전처리**"
      ]
    },
    {
      "cell_type": "code",
      "metadata": {
        "id": "tMUMcInsD80p"
      },
      "source": [
        "#부호를 제거해주는 함수\n",
        "def alpha_num(text):\n",
        "    return re.sub(r'[^A-Za-z0-9 ]', '', text)\n",
        "\n",
        "train['text']=train['text'].apply(alpha_num)"
      ],
      "execution_count": null,
      "outputs": []
    },
    {
      "cell_type": "code",
      "metadata": {
        "id": "vf_TGrbKCaDK"
      },
      "source": [
        "# 불용어 제거해주는 함수\n",
        "def remove_stopwords(text):\n",
        "    final_text = []\n",
        "    for i in text.split():\n",
        "        if i.strip().lower() not in base_stopwords:\n",
        "            final_text.append(i.strip())\n",
        "    return \" \".join(final_text)\n",
        "\n",
        "# 불용어\n",
        "base_stopwords = [ \"a\", \"about\", \"above\", \"after\", \"again\", \"against\", \"all\", \"am\", \"an\", \"and\", \"any\", \"are\", \"as\", \n",
        "             \"at\", \"be\", \"because\", \"been\", \"before\", \"being\", \"below\", \"between\", \"both\", \"but\", \"by\", \"could\", \n",
        "             \"did\", \"do\", \"does\", \"doing\", \"down\", \"during\", \"each\", \"few\", \"for\", \"from\", \"further\", \"had\", \"has\", \n",
        "             \"have\", \"having\", \"he\", \"he'd\", \"he'll\", \"he's\", \"her\", \"here\", \"here's\", \"hers\", \"herself\", \"him\", \"himself\", \n",
        "             \"his\", \"how\", \"how's\", \"i\", \"i'd\", \"i'll\", \"i'm\", \"i've\", \"if\", \"in\", \"into\", \"is\", \"it\", \"it's\", \"its\", \"itself\", \n",
        "             \"let's\", \"me\", \"more\", \"most\", \"my\", \"myself\", \"nor\", \"of\", \"on\", \"once\", \"only\", \"or\", \"other\", \"ought\", \"our\", \"ours\", \n",
        "             \"ourselves\", \"out\", \"over\", \"own\", \"same\", \"she\", \"she'd\", \"she'll\", \"she's\", \"should\", \"so\", \"some\", \"such\", \"than\", \"that\", \n",
        "             \"that's\", \"the\", \"their\", \"theirs\", \"them\", \"themselves\", \"then\", \"there\", \"there's\", \"these\", \"they\", \"they'd\", \"they'll\", \n",
        "             \"they're\", \"they've\", \"this\", \"those\", \"through\", \"to\", \"too\", \"under\", \"until\", \"up\", \"very\", \"was\", \"we\", \"we'd\", \"we'll\", \n",
        "             \"we're\", \"we've\", \"were\", \"what\", \"what's\", \"when\", \"when's\", \"where\", \"where's\", \"which\", \"while\", \"who\", \"who's\", \"whom\", \n",
        "             \"why\", \"why's\", \"with\", \"would\", \"you\", \"you'd\", \"you'll\", \"you're\", \"you've\", \"your\", \"yours\", \"yourself\", \"yourselves\" ]"
      ],
      "execution_count": null,
      "outputs": []
    },
    {
      "cell_type": "code",
      "metadata": {
        "id": "sUgcc07ADiiU"
      },
      "source": [
        "#전처리 적용\n",
        "train['text'] = train['text'].str.lower()\n",
        "test['text'] = test['text'].str.lower()\n",
        "train['text'] = train['text'].apply(alpha_num).apply(remove_stopwords)\n",
        "test['text'] = test['text'].apply(alpha_num).apply(remove_stopwords)\n"
      ],
      "execution_count": null,
      "outputs": []
    },
    {
      "cell_type": "code",
      "metadata": {
        "id": "DZdWzRkCDovd"
      },
      "source": [
        "# train test 분리\n",
        "X_train = np.array([x for x in train['text']])\n",
        "X_test = np.array([x for x in test['text']])\n",
        "y_train = np.array([x for x in train['author']])\n"
      ],
      "execution_count": null,
      "outputs": []
    },
    {
      "cell_type": "markdown",
      "metadata": {
        "id": "Ks1FhSNUHrke"
      },
      "source": [
        "# **모델링**"
      ]
    },
    {
      "cell_type": "code",
      "metadata": {
        "id": "cJ54B-XsJY9y"
      },
      "source": [
        "# FastText 사용\n",
        "import gensim\n",
        "from gensim.models.keyedvectors import KeyedVectors"
      ],
      "execution_count": null,
      "outputs": []
    },
    {
      "cell_type": "code",
      "metadata": {
        "colab": {
          "base_uri": "https://localhost:8080/",
          "height": 326
        },
        "id": "APPwGz_k9bf0",
        "outputId": "10be3f67-944c-44c2-b9fb-03055e170574"
      },
      "source": [
        "pip install -U gensim"
      ],
      "execution_count": null,
      "outputs": [
        {
          "output_type": "stream",
          "text": [
            "Collecting gensim\n",
            "\u001b[?25l  Downloading https://files.pythonhosted.org/packages/44/52/f1417772965652d4ca6f901515debcd9d6c5430969e8c02ee7737e6de61c/gensim-4.0.1-cp37-cp37m-manylinux1_x86_64.whl (23.9MB)\n",
            "\u001b[K     |████████████████████████████████| 23.9MB 1.3MB/s \n",
            "\u001b[?25hRequirement already satisfied, skipping upgrade: numpy>=1.11.3 in /usr/local/lib/python3.7/dist-packages (from gensim) (1.19.5)\n",
            "Requirement already satisfied, skipping upgrade: scipy>=0.18.1 in /usr/local/lib/python3.7/dist-packages (from gensim) (1.4.1)\n",
            "Requirement already satisfied, skipping upgrade: smart-open>=1.8.1 in /usr/local/lib/python3.7/dist-packages (from gensim) (5.0.0)\n",
            "Installing collected packages: gensim\n",
            "  Found existing installation: gensim 3.6.0\n",
            "    Uninstalling gensim-3.6.0:\n",
            "      Successfully uninstalled gensim-3.6.0\n",
            "Successfully installed gensim-4.0.1\n"
          ],
          "name": "stdout"
        },
        {
          "output_type": "display_data",
          "data": {
            "application/vnd.colab-display-data+json": {
              "pip_warning": {
                "packages": [
                  "gensim"
                ]
              }
            }
          },
          "metadata": {
            "tags": []
          }
        }
      ]
    },
    {
      "cell_type": "code",
      "metadata": {
        "id": "-2jbc-II80YC"
      },
      "source": [
        "FastText = KeyedVectors.load_word2vec_format('/content/drive/MyDrive/Novelist_Classification/embedding/fasttext.vec')"
      ],
      "execution_count": null,
      "outputs": []
    },
    {
      "cell_type": "code",
      "metadata": {
        "id": "um6uZK5EDzAm"
      },
      "source": [
        "#파라미터 설정\n",
        "vocab_size = 63727\n",
        "embedding_dim = 16\n",
        "max_length = 500\n",
        "padding_type='post'\n",
        "#oov_tok = \"<OOV>\""
      ],
      "execution_count": null,
      "outputs": []
    },
    {
      "cell_type": "code",
      "metadata": {
        "id": "UvR9_VnTD8L9"
      },
      "source": [
        "#tokenizer에 fit\n",
        "tokenizer = Tokenizer(num_words = vocab_size)#, oov_token=oov_tok)\n",
        "tokenizer.fit_on_texts(X_train)\n",
        "word_index = tokenizer.word_index\n"
      ],
      "execution_count": null,
      "outputs": []
    },
    {
      "cell_type": "code",
      "metadata": {
        "id": "joBtTgCYavk1",
        "colab": {
          "base_uri": "https://localhost:8080/"
        },
        "outputId": "e1bb0962-40c6-47f2-9ca0-a2fd70fb322c"
      },
      "source": [
        "len(word_index)"
      ],
      "execution_count": null,
      "outputs": [
        {
          "output_type": "execute_result",
          "data": {
            "text/plain": [
              "63727"
            ]
          },
          "metadata": {
            "tags": []
          },
          "execution_count": 25
        }
      ]
    },
    {
      "cell_type": "code",
      "metadata": {
        "id": "Moj2gUdDPgxY"
      },
      "source": [
        "# Fasttext 임베딩 과정\n",
        "FT_embedding_matrix = np.zeros((vocab_size,100))\n",
        "\n",
        "def get_vector(word):\n",
        "    if word in FastText:\n",
        "        return FastText[word]\n",
        "    else:\n",
        "        return None\n",
        "\n",
        "# 작가8명\n",
        "for word, idx in word_index.items():\n",
        "    temp = get_vector(word)\n",
        "    if temp is not None:\n",
        "        FT_embedding_matrix[idx] = temp\n"
      ],
      "execution_count": null,
      "outputs": []
    },
    {
      "cell_type": "markdown",
      "metadata": {
        "id": "-doaEP6DVhql"
      },
      "source": [
        "## Glove 임베딩\n",
        "Glove 임베딩은 아래의 두 가지 장점을 섞은 [스탠포드](https://nlp.stanford.edu/projects/glove/)에서 개발한 NLP 임베딩 기법이다.\n",
        "1. 예측 기반 기법\n",
        "Word2Vec에 사용되는 기법\n",
        "2. 카운트 기반 기법\n",
        "LSA에 사용되는 기법\n",
        "\n",
        "Word2Vec은 실제값과 예측값에 대한 오차를 손실 함수를 통해 줄여나가며 학습하는 예측 기반 기법이다. 이와 반대로 LSA는 문서에서 각 단어의 빈도수를 세어 전체적인 통계 정보를 입력으로 받아 차원을 축소시켜가며 잠재된 의미를 끌어내는 방법론이었다.<br>\n",
        "<br>\n",
        "우선 Word2Vec의 경우 단어간 유추 작업에는 상당한 성능을 보이지만, 임베딩 벡터가 한정된 크기 내에서 주변 단어를 고려하기 때문에 전체적인 통계 흐름을 반영하지 못한다.<br>\n",
        "<br>\n",
        "반면 LSA의 경우 카운트 기반으로 전체 통계 정보를 고려하지만 왕:남자 = 여왕 : X와 같은 단어를 찾는 유추 방식에서 성능이 떨어진다.<br>\n",
        "<br>\n",
        "이러한 점을 보완하기 위해 윈도우 기반 동시 등장 행렬과 동시 등장 확률 매커니즘을 활용한다. 그러나 Glove 임베딩이 절대적인 것은 아니다. Word2Vec과 성능 비교 후 더 효과적인 것을 활용하면 된다."
      ]
    },
    {
      "cell_type": "code",
      "metadata": {
        "id": "2q36KuG3Ona8"
      },
      "source": [
        "# 사전 학습된 glove 불러오고 임베딩 층에 적용시키기 \n",
        "embedding_dict= dict()\n",
        "f = open('/content/drive/MyDrive/Novelist_Classification/embedding/glove.txt', encoding='utf8')\n",
        "\n",
        "for line in f:\n",
        "    word_vector = line.split()\n",
        "    word = word_vector[0]\n",
        "    word_vector_arr = np.asarray(word_vector[1:], dtype='float32')\n",
        "    embedding_dict[word] = word_vector_arr\n",
        "f.close\n",
        "\n",
        "g_embedding_matrix = np.zeros((vocab_size+1, 50))\n",
        "\n",
        "# 작가8명\n",
        "for word, i in word_index.items():\n",
        "    temp = embedding_dict.get(word)\n",
        "    if temp is not None:\n",
        "        g_embedding_matrix[i] = temp"
      ],
      "execution_count": null,
      "outputs": []
    },
    {
      "cell_type": "markdown",
      "metadata": {
        "id": "jdevBGS8bDzE"
      },
      "source": [
        "#GRU 모델 <br>\n",
        "설명 참고 reference : https://yjjo.tistory.com/18\n",
        "\n",
        "![GRU_1.JPG](data:image/jpeg;base64,/9j/4AAQSkZJRgABAQEAeAB4AAD/4RDsRXhpZgAATU0AKgAAAAgABAE7AAIAAAALAAAISodpAAQAAAABAAAIVpydAAEAAAAWAAAQzuocAAcAAAgMAAAAPgAAAAAc6gAAAAgAAAAAAAAAAAAAAAAAAAAAAAAAAAAAAAAAAAAAAAAAAAAAAAAAAAAAAAAAAAAAAAAAAAAAAAAAAAAAAAAAAAAAAAAAAAAAAAAAAAAAAAAAAAAAAAAAAAAAAAAAAAAAAAAAAAAAAAAAAAAAAAAAAAAAAAAAAAAAAAAAAAAAAAAAAAAAAAAAAAAAAAAAAAAAAAAAAAAAAAAAAAAAAAAAAAAAAAAAAAAAAAAAAAAAAAAAAAAAAAAAAAAAAAAAAAAAAAAAAAAAAAAAAAAAAAAAAAAAAAAAAAAAAAAAAAAAAAAAAAAAAAAAAAAAAAAAAAAAAAAAAAAAAAAAAAAAAAAAAAAAAAAAAAAAAAAAAAAAAAAAAAAAAAAAAAAAAAAAAAAAAAAAAAAAAAAAAAAAAAAAAAAAAAAAAAAAAAAAAAAAAAAAAAAAAAAAAAAAAAAAAAAAAAAAAAAAAAAAAAAAAAAAAAAAAAAAAAAAAAAAAAAAAAAAAAAAAAAAAAAAAAAAAAAAAAAAAAAAAAAAAAAAAAAAAAAAAAAAAAAAAAAAAAAAAAAAAAAAAAAAAAAAAAAAAAAAAAAAAAAAAAAAAAAAAAAAAAAAAAAAAAAAAAAAAAAAAAAAAAAAAAAAAAAAAAAAAAAAAAAAAAAAAAAAAAAAAAAAAAAAAAAAAAAAAAAAAAAAAAAAAAAAAAAAAAAAAAAAAAAAAAAAAAAAAAAAAAAAAAAAAAAAAAAAAAAAAAAAAAAAAAAAAAAAAAAAAAAAAAAAAAAAAAAAAAAAAAAAAAAAAAAAAAAAAAAAAAAAAAAAAAAAAAAAAAAAAAAAAAAAAAAAAAAAAAAAAAAAAAAAAAAAAAAAAAAAAAAAAAAAAAAAAAAAAAAAAAAAAAAAAAAAAAAAAAAAAAAAAAAAAAAAAAAAAAAAAAAAAAAAAAAAAAAAAAAAAAAAAAAAAAAAAAAAAAAAAAAAAAAAAAAAAAAAAAAAAAAAAAAAAAAAAAAAAAAAAAAAAAAAAAAAAAAAAAAAAAAAAAAAAAAAAAAAAAAAAAAAAAAAAAAAAAAAAAAAAAAAAAAAAAAAAAAAAAAAAAAAAAAAAAAAAAAAAAAAAAAAAAAAAAAAAAAAAAAAAAAAAAAAAAAAAAAAAAAAAAAAAAAAAAAAAAAAAAAAAAAAAAAAAAAAAAAAAAAAAAAAAAAAAAAAAAAAAAAAAAAAAAAAAAAAAAAAAAAAAAAAAAAAAAAAAAAAAAAAAAAAAAAAAAAAAAAAAAAAAAAAAAAAAAAAAAAAAAAAAAAAAAAAAAAAAAAAAAAAAAAAAAAAAAAAAAAAAAAAAAAAAAAAAAAAAAAAAAAAAAAAAAAAAAAAAAAAAAAAAAAAAAAAAAAAAAAAAAAAAAAAAAAAAAAAAAAAAAAAAAAAAAAAAAAAAAAAAAAAAAAAAAAAAAAAAAAAAAAAAAAAAAAAAAAAAAAAAAAAAAAAAAAAAAAAAAAAAAAAAAAAAAAAAAAAAAAAAAAAAAAAAAAAAAAAAAAAAAAAAAAAAAAAAAAAAAAAAAAAAAAAAAAAAAAAAAAAAAAAAAAAAAAAAAAAAAAAAAAAAAAAAAAAAAAAAAAAAAAAAAAAAAAAAAAAAAAAAAAAAAAAAAAAAAAAAAAAAAAAAAAAAAAAAAAAAAAAAAAAAAAAAAAAAAAAAAAAAAAAAAAAAAAAAAAAAAAAAAAAAAAAAAAAAAAAAAAAAAAAAAAAAAAAAAAAAAAAAAAAAAAAAAAAAAAAAAAAAAAAAAAAAAAAAAAAAAAAAAAAAAAAAAAAAAAAAAAAAAAAAAAAAAAAAAAAAAAAAAAAAAAAAAAAAAAAAAAAAAAAAAAAAAAAAAAAAAAAAAAAAAAAAAAAAAAAAAAAAAAAAAAAAAAAAAAAAAAAAAAAAAAAAAAAAAAAAAAAAAAAAAAAAAAAAAAAAAAAAAAAAAAAAAAAAAAAAAAAAAAAAAAAAAAAAAAAAAAAAAAAAAAAAAAAAAAAAAAAAAAAAAAAAAAAAAAAAAAAAAAAAAAAAAAAAAAAAAAAAAAAAAAAAAAAAAAAAAAAAAAAAAAAAAAAAAAAAAAAAAAAAAAAAAAAAAAAAAAAAAAAAAAAAAAAAAAAAAAAAAAAAAAAAAAAAAAAAAAAAAAAAAAAAAAAAAAAAAAAAAAAAAAAAAAAAAAAAAAAAAAAAAAAAAAAAAAAAAAAAAAAAAAAAAAAAAAAAAAAAAAAAAAAAAAAAAAAAAAAAAAAAAAAAAAAAAAAAAAAAAAAAAAAAAAAAAAAAAAAAAAAAAAAAAAAAAAAAAAAAAAAAAAAAAAAAAAAAAAAAAAAAAAAAAAAAAAAAAAAAAAAAAAAAAAAAAAAAAAAAAAAAAAAAAAAAAAAAAAAAAAAAAAAAAAAAAAAAAAAAAAAAAAAAAAAAAAAAAAAAAAAAAAAAAAAAAAAAAAAAAAAAAAAAAAAAAAAAAAAAAAAAAAAAAAAAAAAAAAAAAAAAAAAAAAAAAAAAAAAAAAAAAAAAAAAAAAAAAAAAAAAAAAAAAAAAAAAAAAAAAAAAAAAAAAAAAAAAAAAAAAAAAAAAAAAAAAAAAAAAAAAAAAAAAAAAAAAAAAAAAAAAAAAAAAAAAAAAAAAAAAAAAAAAAAAAAAAAAAAAAAAAAAAAAAAAAAAAAAAAAAAAAAAAAAAAAAAAAAAAAAAAAAAAAAAAAAAAAAAAAAAAAAAAAAAAAAAAAAAAAAAAAAAAAAAAAAAAAAAAAAAAAAAAHRpdHVzIGNob2kAAAAFkAMAAgAAABQAABCkkAQAAgAAABQAABC4kpEAAgAAAAM1OQAAkpIAAgAAAAM1OQAA6hwABwAACAwAAAiYAAAAABzqAAAACAAAAAAAAAAAAAAAAAAAAAAAAAAAAAAAAAAAAAAAAAAAAAAAAAAAAAAAAAAAAAAAAAAAAAAAAAAAAAAAAAAAAAAAAAAAAAAAAAAAAAAAAAAAAAAAAAAAAAAAAAAAAAAAAAAAAAAAAAAAAAAAAAAAAAAAAAAAAAAAAAAAAAAAAAAAAAAAAAAAAAAAAAAAAAAAAAAAAAAAAAAAAAAAAAAAAAAAAAAAAAAAAAAAAAAAAAAAAAAAAAAAAAAAAAAAAAAAAAAAAAAAAAAAAAAAAAAAAAAAAAAAAAAAAAAAAAAAAAAAAAAAAAAAAAAAAAAAAAAAAAAAAAAAAAAAAAAAAAAAAAAAAAAAAAAAAAAAAAAAAAAAAAAAAAAAAAAAAAAAAAAAAAAAAAAAAAAAAAAAAAAAAAAAAAAAAAAAAAAAAAAAAAAAAAAAAAAAAAAAAAAAAAAAAAAAAAAAAAAAAAAAAAAAAAAAAAAAAAAAAAAAAAAAAAAAAAAAAAAAAAAAAAAAAAAAAAAAAAAAAAAAAAAAAAAAAAAAAAAAAAAAAAAAAAAAAAAAAAAAAAAAAAAAAAAAAAAAAAAAAAAAAAAAAAAAAAAAAAAAAAAAAAAAAAAAAAAAAAAAAAAAAAAAAAAAAAAAAAAAAAAAAAAAAAAAAAAAAAAAAAAAAAAAAAAAAAAAAAAAAAAAAAAAAAAAAAAAAAAAAAAAAAAAAAAAAAAAAAAAAAAAAAAAAAAAAAAAAAAAAAAAAAAAAAAAAAAAAAAAAAAAAAAAAAAAAAAAAAAAAAAAAAAAAAAAAAAAAAAAAAAAAAAAAAAAAAAAAAAAAAAAAAAAAAAAAAAAAAAAAAAAAAAAAAAAAAAAAAAAAAAAAAAAAAAAAAAAAAAAAAAAAAAAAAAAAAAAAAAAAAAAAAAAAAAAAAAAAAAAAAAAAAAAAAAAAAAAAAAAAAAAAAAAAAAAAAAAAAAAAAAAAAAAAAAAAAAAAAAAAAAAAAAAAAAAAAAAAAAAAAAAAAAAAAAAAAAAAAAAAAAAAAAAAAAAAAAAAAAAAAAAAAAAAAAAAAAAAAAAAAAAAAAAAAAAAAAAAAAAAAAAAAAAAAAAAAAAAAAAAAAAAAAAAAAAAAAAAAAAAAAAAAAAAAAAAAAAAAAAAAAAAAAAAAAAAAAAAAAAAAAAAAAAAAAAAAAAAAAAAAAAAAAAAAAAAAAAAAAAAAAAAAAAAAAAAAAAAAAAAAAAAAAAAAAAAAAAAAAAAAAAAAAAAAAAAAAAAAAAAAAAAAAAAAAAAAAAAAAAAAAAAAAAAAAAAAAAAAAAAAAAAAAAAAAAAAAAAAAAAAAAAAAAAAAAAAAAAAAAAAAAAAAAAAAAAAAAAAAAAAAAAAAAAAAAAAAAAAAAAAAAAAAAAAAAAAAAAAAAAAAAAAAAAAAAAAAAAAAAAAAAAAAAAAAAAAAAAAAAAAAAAAAAAAAAAAAAAAAAAAAAAAAAAAAAAAAAAAAAAAAAAAAAAAAAAAAAAAAAAAAAAAAAAAAAAAAAAAAAAAAAAAAAAAAAAAAAAAAAAAAAAAAAAAAAAAAAAAAAAAAAAAAAAAAAAAAAAAAAAAAAAAAAAAAAAAAAAAAAAAAAAAAAAAAAAAAAAAAAAAAAAAAAAAAAAAAAAAAAAAAAAAAAAAAAAAAAAAAAAAAAAAAAAAAAAAAAAAAAAAAAAAAAAAAAAAAAAAAAAAAAAAAAAAAAAAAAAAAAAAAAAAAAAAAAAAAAAAAAAAAAAAAAAAAAAAAAAAAAAAAAAAAAAAAAAAAAAAAAAAAAAAAAAAAAAAAAAAAAAAAAAAAAAAAAAAAAAAAAAAAAAAAAAAAAAAAAAAAAAAAAAAAAAAAAAAAAAAAAAAAAAAAAAAAAAAAAAAAAAAAAAAAAAAAAAAAAAAAAAAAAAAAAAAAAAAAAAAAAAAAAAAAAAAAAAAAAAAAAAAAAAAAAAAAAAAAAAAAAAAAAAAAAAAAAAAAAAAAAAAAAAAAAAAAAAAAAAAAAAAAAAAAAAAAAAAAAAAAAAAAAAAAAAAAAAAAAAAAAAAAAAAAAAAAAAAAAAAAAAAAAAAAAAAAAAAAAAAAAAAAAAAAAAAAAAAAAAAAAAAAAAAAAAAAAAAAAAAAAAAAAAAAAAAAAAAAAAAAAAAAAAAAAAAAAAAAAAAAAAAAAAAAAAAAAAAAAAAAAAAAAAAAAAAAAAAAAAAAAAAAAAAAAAAAAAAAAAAAAAAAAAAAAAAAAAAAAAAAAAAAAAAAAAAAAAAAAAAAAAAAAAAAAAAAAAAAAAAAAAAAAAAAAAAAAAAAAAAAAAAAAAAAAAAAAAAAAAAAAAAAAAAAAAAAAAAAAAAAAAAAAAAAAAAAAAAAAAAAAAAAAAAAAAAAAAAAAAAAAAAAAAAAAAAAAAAAAAAAAAAAAAAAAAAAAAAAAAAAAAAAAAAAAAAAAAAAAAAAAAAAAAAAAAAAAAAAAAAAAAAAAAAAAAAAAAAAAAAAAAAAAAAAAAAAAAAAAAAAAAAAAAAAAAAAAAAAAAAAAAAAAAAAAAAAAAAAAAAAAAAAAAAAAAAAAAAAAAAAAAAAAAAAAAAAAAAAAAAAAAAAAAAAAAAAAAAAAAAAAAAAAAAAAAAAAAAAAAAAAAAAAAAAAAAAAAAAAAAAAAAAAAAAAAAAAAAAAAAAAAAAAAAAAAAAAAAAAAAAAAAAAAAAAAAAAAAAAAAAAAAAAAAAAAAAAAAAAAAAAAAAAAAAAAAAAAAAAAAAAMjAyMTowNDozMCAwMDo1NjozNAAyMDIxOjA0OjMwIDAwOjU2OjM0AAAAdABpAHQAdQBzACAAYwBoAG8AaQAAAP/hCx1odHRwOi8vbnMuYWRvYmUuY29tL3hhcC8xLjAvADw/eHBhY2tldCBiZWdpbj0n77u/JyBpZD0nVzVNME1wQ2VoaUh6cmVTek5UY3prYzlkJz8+DQo8eDp4bXBtZXRhIHhtbG5zOng9ImFkb2JlOm5zOm1ldGEvIj48cmRmOlJERiB4bWxuczpyZGY9Imh0dHA6Ly93d3cudzMub3JnLzE5OTkvMDIvMjItcmRmLXN5bnRheC1ucyMiPjxyZGY6RGVzY3JpcHRpb24gcmRmOmFib3V0PSJ1dWlkOmZhZjViZGQ1LWJhM2QtMTFkYS1hZDMxLWQzM2Q3NTE4MmYxYiIgeG1sbnM6ZGM9Imh0dHA6Ly9wdXJsLm9yZy9kYy9lbGVtZW50cy8xLjEvIi8+PHJkZjpEZXNjcmlwdGlvbiByZGY6YWJvdXQ9InV1aWQ6ZmFmNWJkZDUtYmEzZC0xMWRhLWFkMzEtZDMzZDc1MTgyZjFiIiB4bWxuczp4bXA9Imh0dHA6Ly9ucy5hZG9iZS5jb20veGFwLzEuMC8iPjx4bXA6Q3JlYXRlRGF0ZT4yMDIxLTA0LTMwVDAwOjU2OjM0LjU4OTwveG1wOkNyZWF0ZURhdGU+PC9yZGY6RGVzY3JpcHRpb24+PHJkZjpEZXNjcmlwdGlvbiByZGY6YWJvdXQ9InV1aWQ6ZmFmNWJkZDUtYmEzZC0xMWRhLWFkMzEtZDMzZDc1MTgyZjFiIiB4bWxuczpkYz0iaHR0cDovL3B1cmwub3JnL2RjL2VsZW1lbnRzLzEuMS8iPjxkYzpjcmVhdG9yPjxyZGY6U2VxIHhtbG5zOnJkZj0iaHR0cDovL3d3dy53My5vcmcvMTk5OS8wMi8yMi1yZGYtc3ludGF4LW5zIyI+PHJkZjpsaT50aXR1cyBjaG9pPC9yZGY6bGk+PC9yZGY6U2VxPg0KCQkJPC9kYzpjcmVhdG9yPjwvcmRmOkRlc2NyaXB0aW9uPjwvcmRmOlJERj48L3g6eG1wbWV0YT4NCiAgICAgICAgICAgICAgICAgICAgICAgICAgICAgICAgICAgICAgICAgICAgICAgICAgICAgICAgICAgICAgICAgICAgICAgICAgICAgICAgICAgICAgICAgICAgICAgICAgICAKICAgICAgICAgICAgICAgICAgICAgICAgICAgICAgICAgICAgICAgICAgICAgICAgICAgICAgICAgICAgICAgICAgICAgICAgICAgICAgICAgICAgICAgICAgICAgICAgICAgIAogICAgICAgICAgICAgICAgICAgICAgICAgICAgICAgICAgICAgICAgICAgICAgICAgICAgICAgICAgICAgICAgICAgICAgICAgICAgICAgICAgICAgICAgICAgICAgICAgICAgCiAgICAgICAgICAgICAgICAgICAgICAgICAgICAgICAgICAgICAgICAgICAgICAgICAgICAgICAgICAgICAgICAgICAgICAgICAgICAgICAgICAgICAgICAgICAgICAgICAgICAKICAgICAgICAgICAgICAgICAgICAgICAgICAgICAgICAgICAgICAgICAgICAgICAgICAgICAgICAgICAgICAgICAgICAgICAgICAgICAgICAgICAgICAgICAgICAgICAgICAgIAogICAgICAgICAgICAgICAgICAgICAgICAgICAgICAgICAgICAgICAgICAgICAgICAgICAgICAgICAgICAgICAgICAgICAgICAgICAgICAgICAgICAgICAgICAgICAgICAgICAgCiAgICAgICAgICAgICAgICAgICAgICAgICAgICAgICAgICAgICAgICAgICAgICAgICAgICAgICAgICAgICAgICAgICAgICAgICAgICAgICAgICAgICAgICAgICAgICAgICAgICAKICAgICAgICAgICAgICAgICAgICAgICAgICAgICAgICAgICAgICAgICAgICAgICAgICAgICAgICAgICAgICAgICAgICAgICAgICAgICAgICAgICAgICAgICAgICAgICAgICAgIAogICAgICAgICAgICAgICAgICAgICAgICAgICAgICAgICAgICAgICAgICAgICAgICAgICAgICAgICAgICAgICAgICAgICAgICAgICAgICAgICAgICAgICAgICAgICAgICAgICAgCiAgICAgICAgICAgICAgICAgICAgICAgICAgICAgICAgICAgICAgICAgICAgICAgICAgICAgICAgICAgICAgICAgICAgICAgICAgICAgICAgICAgICAgICAgICAgICAgICAgICAKICAgICAgICAgICAgICAgICAgICAgICAgICAgICAgICAgICAgICAgICAgICAgICAgICAgICAgICAgICAgICAgICAgICAgICAgICAgICAgICAgICAgICAgICAgICAgICAgICAgIAogICAgICAgICAgICAgICAgICAgICAgICAgICAgICAgICAgICAgICAgICAgICAgICAgICAgICAgICAgICAgICAgICAgICAgICAgICAgICAgICAgICAgICAgICAgICAgICAgICAgCiAgICAgICAgICAgICAgICAgICAgICAgICAgICAgICAgICAgICAgICAgICAgICAgICAgICAgICAgICAgICAgICAgICAgICAgICAgICAgICAgICAgICAgICAgICAgICAgICAgICAKICAgICAgICAgICAgICAgICAgICAgICAgICAgICAgICAgICAgICAgICAgICAgICAgICAgICAgICAgICAgICAgICAgICAgICAgICAgICAgICAgICAgICAgICAgICAgICAgICAgIAogICAgICAgICAgICAgICAgICAgICAgICAgICAgICAgICAgICAgICAgICAgICAgICAgICAgICAgICAgICAgICAgICAgICAgICAgICAgICAgICAgICAgICAgICAgICAgICAgICAgCiAgICAgICAgICAgICAgICAgICAgICAgICAgICAgICAgICAgICAgICAgICAgICAgICAgICAgICAgICAgICAgICAgICAgICAgICAgICAgICAgICAgICAgICAgICAgICAgICAgICAKICAgICAgICAgICAgICAgICAgICAgICAgICAgICAgICAgICAgICAgICAgICAgICAgICAgICAgICAgICAgICAgICAgICAgICAgICAgICAgICAgICAgICAgICAgICAgICAgICAgIAogICAgICAgICAgICAgICAgICAgICAgICAgICAgICAgICAgICAgICAgICAgICAgICAgICAgICAgICAgICAgICAgICAgICAgICAgICAgICAgICAgICAgICAgICAgICAgICAgICAgCiAgICAgICAgICAgICAgICAgICAgICAgICAgICAgICAgICAgICAgICAgICAgICAgICAgICAgICAgICAgICAgICAgICAgICAgICAgICAgICAgICAgICAgICAgICAgICAgICAgICAKICAgICAgICAgICAgICAgICAgICAgICAgICAgICAgICAgICAgICAgICAgICAgICAgICAgICAgICAgICAgICAgICAgICAgICAgICAgICAgICAgICAgICAgICAgICAgICAgICAgIAogICAgICAgICAgICAgICAgICAgICAgICAgICAgPD94cGFja2V0IGVuZD0ndyc/Pv/bAEMABwUFBgUEBwYFBggHBwgKEQsKCQkKFQ8QDBEYFRoZGBUYFxseJyEbHSUdFxgiLiIlKCkrLCsaIC8zLyoyJyorKv/bAEMBBwgICgkKFAsLFCocGBwqKioqKioqKioqKioqKioqKioqKioqKioqKioqKioqKioqKioqKioqKioqKioqKioqKv/AABEIATQDtgMBIgACEQEDEQH/xAAfAAABBQEBAQEBAQAAAAAAAAAAAQIDBAUGBwgJCgv/xAC1EAACAQMDAgQDBQUEBAAAAX0BAgMABBEFEiExQQYTUWEHInEUMoGRoQgjQrHBFVLR8CQzYnKCCQoWFxgZGiUmJygpKjQ1Njc4OTpDREVGR0hJSlNUVVZXWFlaY2RlZmdoaWpzdHV2d3h5eoOEhYaHiImKkpOUlZaXmJmaoqOkpaanqKmqsrO0tba3uLm6wsPExcbHyMnK0tPU1dbX2Nna4eLj5OXm5+jp6vHy8/T19vf4+fr/xAAfAQADAQEBAQEBAQEBAAAAAAAAAQIDBAUGBwgJCgv/xAC1EQACAQIEBAMEBwUEBAABAncAAQIDEQQFITEGEkFRB2FxEyIygQgUQpGhscEJIzNS8BVictEKFiQ04SXxFxgZGiYnKCkqNTY3ODk6Q0RFRkdISUpTVFVWV1hZWmNkZWZnaGlqc3R1dnd4eXqCg4SFhoeIiYqSk5SVlpeYmZqio6Slpqeoqaqys7S1tre4ubrCw8TFxsfIycrS09TV1tfY2dri4+Tl5ufo6ery8/T19vf4+fr/2gAMAwEAAhEDEQA/APpGiiigAooooAKKKKACiiigAooooAKKKKACiiigAooooAKKKKACiiigAooooAKKKKACiiigAooooAKKKKACiiigAooooAKKKKACiiigAooooAKKKKACiiigAooooAKKKKACiiigAooooAKKKKACiiigAooooAKKKKACiiigAooooAKKKKACiiigAooooAKKKKACiiigAooooAKKKKACiiigAooooAKKKKACiiigAooooAKKKKACiiigAooooAKKKKACiiigAooooAKKKKACiiigAooooAKKKKACiiigAooooAKKKKACiiigAooooAKKKKACiiigAooooAKKKKACiiigAooooAKKKKACiiigAooooAKKKKACiiigAooooAKKKKACiiigAooooAKKKKACiiigAooooAKKKy5ddhh8SR6RIuHktzOJNwwMMFwfc54+hoA1KK5PUvE97bW+s3dpHFIun3CWcMDnaJJW2fMWwSB+8AAA7H141JPEMFlsi1NJIrnYGdIYnkUZ9GC80AbFFYS6nfT+KbnSsRwwfYhPDKvL5LEcgjH4c1a8P6lJqukrPMFEqSyQuVGAWRyhIHYErnFAGnRRRQAUUUUAFFFFABRRRQAUUUUAFFFFABRRRQAUUUUAFFFFABRRRQAUUUUAFFFFABRRRQAUUUUAFFFFABRRRQAUUhOFJrn4PFkF14PuNcihZBFHI/ksRuwjMoP0O3I9jQB0NFcxDqusyeIF0VUhfy7MTXV5uwYnckIFTGCPlbqew/HU8Pam+raMlxOoWZZJIZAvTdHIyEj2JXP40AadFFFABRRRQAUUUUAFFFFABRRRQAUUUUAFFFFABRRRQAUUUUAFFFFABRRRQAUUUUAFFFFABRRRQAUUUUAFFFFABRQTgE1gReKoJ/C13rCREfZ45XERYZbYWGfoSvBoA36K5mDWtVj12x02SGC4R7M3N3cBypjJYYCrg5HXHPanaP4vh1u+1O0tIHE1nMY4vMV1WQeWj5JK/Ly2Me2e9AHSUVyln4iv5tBsdVuPLTdeNb3EKDKkeaYwQeuQcfr+HVjmgAooooAKKKKACiiigAooooAKKKKACiiigAooooAKKKKACiiigAooooAKKKKACiiigAooooAKKKKACiiigAooooAKKKKACiiigAooooAKKKKACvMfFXhybVNZ1nVLjT5LjEtna2uE3GONTuklUdz85AI9DXp1FAGJ/wAI5aXX2j7TGWtr3ZLPbP8A89V24cEHg/KvQ/wjHfOvFBFBCkMMapHGoVFA4UDgAVJWdea9p1hrFlpd3crHd3277PGesm3k4/OgBZtHtmv31CBPLv2i8oTFmIA9NucYzzUul6dFpWnpawFmCkszN1ZmJLMfckk1booAKKKKACiiigAooooAKKKKACiiigAooooAKKKKACiiigAooooAKKKKACiiigAooooAKKKKACiiigAooooAKKKKAM/XpbiHw7qEtlE01yltI0Uajl3CnAH1NcT4c8IQWGuyW8+nyiObR4rWWUjImJJLlm9RhVA7DtivRqKAMi38PwwN9qJV9SWHyVu2U5IGdpYZwSMnn3PTNXNL06HSdNjs7csUTcSzdWZmLMx9yST+NQw67p1xr9xosVypv7aJJpIe4Vs4P6fqK0aACiiigAooooAKKKKACiiigAooooAKKKKACiiigAooooAKKKKACiiigAooooAKKKKACiiigAooooAKKKKACiiigClrE89rot5PZxNNPHCzRxqMlmxwK4Hwt4NTR9YTTrnT3aKbREguboD/AFsjM2/c3fACgd/m9K9LooAyrTQLWGe3urlRc3ttH5SXLcNtGcZ7E4PX3PTNXItPtYGuWhhWNrp98xXgu20Ln8lA/CrJOBzWfpOu6drf2r+zLlZ/slw1vNt/hdeo/WgCsvhmzijtra1HkWcE32gwglt75yMkk8ZOceuPx2aKKACiiigAooooAKKKKACiiigAooooAKKKKACiqj6lEjspV8qccAU3+1If7r/kKALtFUv7Uh/uv+Qo/tSH+6/5CgC7RVL+1If7r/kKP7Uh/uv+QoAu0VS/tSH+6/5Cj+1If7r/AJCgC7RVL+1If7r/AJCj+1If7r/kKALtFUv7Uh/uv+Qo/tSH+6/5CgC7RVL+1If7r/kKP7Uh/uv+QoAu0VS/tSH+6/5Cj+1If7r/AJCgC7RVL+1If7r/AJCj+1If7r/kKALtFUv7Uh/uv+Qo/tSH+6/5CgC7RVL+1If7r/kKP7Uh/uv+QoAu0VS/tSH+6/5Cj+1If7r/AJCgC7RVL+1If7r/AJCj+1If7r/kKALtFUv7Uh/uv+Qo/tSH+6/5CgC7RVL+1If7r/kKP7Uh/uv+QoAu15L4+8M2+ofGzwddS3d2kkvm4EcgAj8tdw2jHc9eua9Vt7hbiMsgIAOOa4Pxf/yV7wR/29f+i6APQQMDFFFFABRRRQAUUjNsQsegGaof2zb/ANyT8h/jQBoUVn/2zb/3JPyH+NH9s2/9yT8h/jQBoUVn/wBs2/8Ack/If40f2zb/ANyT8h/jQBoUVn/2zb/3JPyH+NH9s2/9yT8h/jQBoUVn/wBs2/8Ack/If40f2zb/ANyT8h/jQBoUVn/2zb/3JPyH+NH9s2/9yT8h/jQBoUVn/wBs2/8Ack/If40f2zb/ANyT8h/jQBoUVn/2zb/3JPyH+NH9s2/9yT8h/jQBoUVn/wBs2/8Ack/If40f2zb/ANyT8h/jQBoUVn/2zb/3JPyH+NH9s2/9yT8h/jQBoUVn/wBs2/8Ack/If40f2zb/ANyT8h/jQBoUVn/2zb/3JPyH+NH9s2/9yT8h/jQBoUVn/wBs2/8Ack/If40f2zb/ANyT8h/jQBoUVn/2zb/3JPyH+NH9s2/9yT8h/jQBoUVn/wBs2/8Ack/If40f2zb/ANyT8h/jQBoUVn/2zb/3JPyH+NXYZRNCsi5AYZGaAPKNA8M29t+0Zr16t5ePKllFP88gIbzCwKnj7o2jA7Yr1qvP9J/5L14h/wCwVa/zevQKACiiigAoopk0qwxGRgSB6UAPoql/akP91/yFH9qQ/wB1/wAhQBdoql/akP8Adf8AIUf2pD/df8hQBdoql/akP91/yFH9qQ/3X/IUAXaKpf2pD/df8hR/akP91/yFAF2iqX9qQ/3X/IUf2pD/AHX/ACFAF2iqX9qQ/wB1/wAhR/akP91/yFAF2iqX9qQ/3X/IUf2pD/df8hQBdoql/akP91/yFH9qQ/3X/IUAXaKpf2pD/df8hR/akP8Adf8AIUAXaKpf2pD/AHX/ACFH9qQ/3X/IUAXaKpf2pD/df8hR/akP91/yFAF2iqX9qQ/3X/IUf2pD/df8hQBdoql/akP91/yFH9qQ/wB1/wAhQBdoql/akP8Adf8AIUf2pD/df8hQBdoql/akP91/yFH9qQn+F/yFAFmePzreSMO0e5SN6dV9xXlvwR8OW+jv4plt7m6k26xLa7ZZAwKoFIY8fe+c5NeqnlT9K4H4Uf6rxX/2MVz/AOgR0Ad/RRRQAUUUUAFFFFABRRRQAUUUUAFFFFABRRSFlDbSRk9BmgDCuP8Aj5k/3jUdSXH/AB8yf7xqOgAooooAKKKKACiiigAooooAKKKKACiiigAoopksgiiZz2FADycdaQEHpWW5aU7pTknt2FIoKHMZ2kelAGtRUVvL50IboehHvUtABRRRQAUUUUAFJuHrVC5naWQopIRTg47moNi+nPrQBr0VStJ2EnlSHcD90nr9Ku0AFFFFAGrpf/Hs3+//AEFcX4v/AOSveCP+3r/0XXaaX/x7N/v/ANBXF+L/APkr3gj/ALev/RdAHoNFFFABRRRQAyb/AFD/AO6a5c9a6edgInBIztPGa5g9aACiiigAooooAKKKKACiiigAooooAKKKKACiiigApryJGMuwX6mszxDqsml6ept1VrmdxFCG+6GIJyfoAT+FcgbGOVjJfM15M3LSTndk+w6D6DigD0MMGGVII9qWvPYWn0iT7VpTldvL25Y+XKvcY7H0I/UV3lndR3tlDdQHMc0ayIfUEZFAE1FFFABRRRQAUhIAyeKR3WONnc4VQSSewrgrm7m1+T7TdO4tWOYLdSVXb2ZvUkc4PTNAHeJLG5wjq30NPrzr+zrYcwJ5Djo8B2MD9RXT+GtWuLxZrO/Ia4t8YkHHmoejY7Hgg/TPegDeooooAK6Ow/48YvpXOV0dh/x4xfSgDh9J/wCS9eIf+wVa/wA3r0CvP9J/5L14h/7BVr/N69AoAKKKKACq2of8eT/h/OrNVb9gbOQAgkYyM+9AGPRRRQAUUUUAFFFFABRRRQAUUUUAFFFFABRRRQAUUVVu52TEcZwzck+goAskgdTS1kbAevJ9TzUkUzW7A5Jj/iBPT3oA06KKKACiiigAoopsjiONnboozQA4nHWkBB6Gst2aZt0pyf7vYUijYcxnaR6UAa1FRW83nQhiMEcEe9S0AFA6iigdRQB0P/LP8K4H4Uf6rxX/ANjFc/8AoEdd9/yz/CuB+FH+q8V/9jFc/wDoEdAHf0UUUAFFFFABRSKyt90g/Q0tABRRRQAVDewSXNhcQQzNbySxMiTJ96MkYDD3HWpqKAOB/wCEB8R/9D/rH/jn+FH/AAgHiP8A6H/WP/HP8K76igDgf+EA8R/9D/rH/jn+FYt98K/FVz4q06/j8dagIrVW3yvjzOSPlAGBg45zn6V6xRQByctjcLMwN/MxBwWOOfemfYp/+f2X9K0bj/j5k/3jUdAGXZRXFzarK15KC3YVP9in/wCf2X9KNJ/5Bsf4/wA6u0AUjZT/APP7L+lQWcNxc24ka8lBLEYHsSK0z0NVNL/48F/33/8AQjQAn2Kf/n9l/Sj7FP8A8/sv6VdooApfYp/+f2X9KPsU/wDz+y/pV2igCl9in/5/Zf0o+xT/APP7L+lXaKAKX2Kf/n9l/Sj7FP8A8/sv6VdooApfYp/+f2X9KjntJlhLG5kkAwSp781o0daAMeQEx/L17YNEQYKd/LZ5PrVqa08sM8TqqjkhugqO1gN1CsjOAjdl60AFvayyqzpcPErNwF/KpfsU/wDz+y/pVxVCqFUYA6CloApfYp/+f2X9KPsU/wDz+y/pV2igCl9in/5/Zf0o+xT/APP7L+lXaKAMhUMe6NySyk5J7+9MVZPPYlhjA/h+tac9qJjuB2uO/rVFY3a6a33x7lAJ5NAAsbSzIsblDydw6jirH2Kf/n9l/Sp4LdYAcHcx6samoApfYp/+f2X9KPsU/wDz+y/pV2igDJufCesarIJrHxZqOmoo2GKDbtY9d3I684/Csy5+FOqXmp2moXPjbVZLuz3fZ5SFzHuGDjjuK77S/wDj2b/f/oKuMcKT6CgDgv8AhAPEf/Q/6x/45/hTI/AuvyqTH8QtWcAkEqUPI6jpUeg+Mr3WdEv7VEu5by4tLq5sbpkRUdQxVFGMHIyvJHPqat2dlJca94dntPtn2CLTuDC2IzISpzJz14Oe/P1oAj/4QDxH/wBD/rH/AI5/hTD4G18OqH4h6sGbO1cpk4/Curii1gs41O4s3tSjBxbQyJJ07HecfhzXK6bHLbeCIIWimiv4tTb7OsysGw1ySMZ7eWT+FAGHq3wq8V3XiCyvovHeoCK2R98rn952+VQMDBxzn8qZ/wAIXr3/AEO+rf8Ajv8AhXrkv/Hu/wDun+VcuetAHmfivQ/EegeFNR1WDxnqkklpA0io23BI/CtCx8JeILrTre4bxtqoMsSuQNvGRn0rT+Jf/JNdd/69H/lW5o3/ACArD/r2j/8AQRQBy/8Awhevf9Dvq3/jv+FZ3iHw74i0fw5f6jF401R3tYHlVW24JAzjpXo1YHjr/kQ9a/68pf8A0E0Ac/pXhbxBf6PZ3j+NdVVriBJSBt4LKD6e9Wv+EL17/od9W/8AHf8ACui8N/8AIq6V/wBecX/oArToA4r/AIQvXv8Aod9W/wDHf8KP+EL17/od9W/8d/wrtaKAOK/4QvXv+h31b/x3/Cj/AIQvXv8Aod9W/wDHf8K7WigDiv8AhC9e/wCh31b/AMd/wo/4QvXv+h31b/x3/Cu1ooA4r/hC9e/6HfVv/Hf8KP8AhC9e/wCh31b/AMd/wrtaKAPOtS8Pano91ZXmo6/earD5pj2XONsZKnDcD2x/wKq2tQXs8cI0tvKuQxxKT8qjvkd8/wD169HvLSC/tJLa6jEkUi4ZT3rhPEtrceEtIl1B722lsosD/SiyScnAGVBDfkKAIrU/Z9IUzK0ZSM7xI24575Pep9K8Ga6+k2zr4s1OyDxhxbR7dsOedgyO3StTS/DT3qwXerXEM0XEiQW+fLbuCSeW9egFdZ0oA4r/AIQvXv8Aod9W/wDHf8KP+EL17/od9W/8d/wrtaKAOK/4QvXv+h31b/x3/Cj/AIQvXv8Aod9W/wDHf8K7WigDhLzwRr8ljcIPGeqSlomHlttw+R0PHQ1VtHabTI/JIjk2BcMudjDggj2PGK9FrnNT8Ls9zLd6TOlvLId0kUgJjdvXjlT9PyzQByGi22owXF617PG8bXLMqiEqWGFwQdx49quw6Nfa5rjtpmsXOli1hCSvbYyxY5CnPsM/jSeHxdeJZb2O3vbGNLK4a3maBmkbcMcgFQMc9ea7rTNMt9JsltrVTjO5nblnY9WJ7mgDlv8AhC9e/wCh31b/AMd/wo/4QvXv+h31b/x3/Cu1ooA4r/hC9e/6HfVv/Hf8K27PwF4ie0jYePtYUEdPk4/StqujsP8Ajxi+lAHnkfwp1SHWJ9Vj8baqt9cRrFLMAu5lXOB07ZNXf+EA8R/9D/rH/jn+Fd9WR4r1I6P4T1G/SQxPDAzI4AJDYwvBz3xQByzeA/EKKWf4g6uqgZJOzj9KafBGurGrt8RNVCNjaxKYOenanya9cax4dgguILqJ7O/tItQadVUyRkqWbCnAU5BI4wCcgVILJ11DxTd6iLtYSu223v8AuTGI127R67t1ADP+EA8R/wDQ/wCsf+Of4Vj6Z8NvEmk+MbvWr3xfeXNmyhfJY5M524y/YYPTjtXpGiG5OgWB1D/j6NtH53+/tG79c1LqH/Hk/wCH86AOZ+xT/wDP7L+lQXUVxB5W28lO+QKc1qVS1L/l2/67LQAfYp/+f2X9KPsU/wDz+y/pV2igDLu4bi3h3reSn5gOfrU/2Kf/AJ/Zf0pdU/49B/vr/OrlAFL7FP8A8/sv6UfYp/8An9l/SrtFAFL7FP8A8/sv6UfYp/8An9l/SrtFAFL7FP8A8/sv6UfYp/8An9l/SrtFAFL7FP8A8/sv6UfYp/8An9l/SrtFAFL7FP8A8/sv6VBLC8M/7yVpdy8Fu2K1KjmhWZNrfUEdqAMmVXLfJkDHPPWnOMxEAckYAqSeN7eSNC8Z8w4XORVuC02MHkbcw6Y6CgCMWU+B/psv6UfYp/8An9l/SrtFAFL7FP8A8/sv6UfYp/8An9l/SrtFAFL7FP8A8/sv6VHPZzCFibqSQDBKnvg1o0UAZJyV+Qge5GaZAHWMbz29KuTWezLROqr1IboKitYTdRCQuoQ9l60AFvbSyqzpcPEpbgLUv2Kf/n9l/SriqEUKowB0FLQBS+xT/wDP7L+lBsZyMC+mBPfirtA6igDDPgHxE3Tx9rAB7fJ/hVLTvhVqmkC5GneNtVgF1O1xNtC/PIwALHjrwK9KX7opaAOB/wCEA8R/9D/rH/jn+FH/AAgHiP8A6H/WP/HP8K76igDgf+EA8R/9D/rH/jn+FH/CAeI/+h/1j/xz/Cu+ooA86+HHw+8QeEry7uNY8T3F9FNK7LZ5zGMk4Yk9+5xj8a9FoooAKKKKACiiigAooooAKKKKAMG4/wCPmT/eNR1Jcf8AHzJ/vGo6AKWk/wDINj/H+dXapaT/AMg2P8f51doAQ9DVTS/+PBf99/8A0I1bPQ1U0v8A48F/33/9CNAFyiiigAooooAKKKKACiiigAooqOeTyoGcdQOKAIbyWEwvDISSw+6vWoNMeK3tUibKOeTu6ZqDcFkCnJZskn1pxweDzQBrUVWspC0RRjkocZ9qs0AFFFFABRRRQAVmw26LrkzDOQgbr3Oc1pVSi/5DFx/1zX+tAF2iiigAooooA1dL/wCPZv8Af/oKmvoHurCeCKUwvJGVWQDOwkdah0v/AI9m/wB/+gq7QBzmkeEV0bUbKe0u28i1sEsvJKD5gpJ3Z7E55+groIoY4VKwoqAksQoxknkmn0UAFMaGN5EkeNWdPusRyv0p9FADJv8AUP8A7prlz1rqJv8AUP8A7prlz1oA5b4l/wDJNdd/69H/AJVuaN/yArD/AK9o/wD0EVh/Ev8A5Jrrv/Xo/wDKtzRv+QFYf9e0f/oIoAu1geOv+RD1r/ryl/8AQTW/WB46/wCRD1r/AK8pf/QTQBc8N/8AIq6V/wBecX/oArTrM8N/8irpX/XnF/6AK06ACiiigAooooAKKKKACiiigArzj4pGw8S+Gp9JtFmvbyKRWRYM+WrA8hm+7kDPBrqfFt5Lb6ZFbwOYmvJhAZFPzKNpY498KRntmuVs7q3+2T6fBEYzaIhPGBhs4x/3yaAOm8LalpUem2ukWbTQvbxBEhugwcgDsW+8B7ZxXRV57cRR3URAYb1+ZHQ/MjDoQe3NdhoGoPqeh29zL/rsFJcf31O1v1BoA0qKKKACiiigApk0YlheNiwDKQSpwR9DT6Rvun6UAec/CbQbHS5PEktkjoV1aW1UGQkeWgUr175Y816PXF/Db/j38RN/e124P6JXaUAFFFFABXR2H/HjF9K5yujsP+PGL6UAWKy/EOiL4g0tbGWYxRefFLJhc7wjq+38SorUooAyNM0L7Bd6lJLP9oivpjKYmjHy5AGCe4wBWm1vC8SxvEjIuCqleBjpUlFABVbUP+PJ/wAP51ZqtqH/AB5P+H86AMaqWpf8u3/XZau1S1L/AJdv+uy0AXaKKKAKeqf8eg/31/nVyqeqf8eg/wB9f51coAKKKKACiiigAooooAKKKKACgnHWiqd85+SLoG5Pv7UAVdQ8m5uIWAZ9jfMV6Y9q0YZ45R8jcjqDwazUcMDjjacUuSuHj+8vIoA1qKajB0Vh0IzTqACiiigAooooAjnQSQOj52kc4NVdIjWPTkK5+bJPPvVyT/VN9KraZ/yDYfof5mgC3RRRQAUDqKKB1FAHQr90UtIv3RS0AFFFFABRRRQAUUUUAFFFFABRRRQAUUUUAFFFFAGDcf8AHzJ/vGo6kuP+PmT/AHjUdAFLSf8AkGx/j/OrtUtJ/wCQbH+P86uEhVJPAHWgAPSqml/8eC/77/8AoRqCSZ7g5YkIeijj86Yi+XzESh/2aANaioLafzozu4dThqnoAKKKKACiiigAooooAKjnj82BkHUjipKKAMfaGcM2Qy8Y9Kcdo5OB71fuLeORWcjDAcMOKr6dAklpFNIN7kZyaAJrKMpEXYYLnOPbtVmiigAooooAKKKKACqUP/IWuf8AcT+tNubhnkMcbFVXgkdzVcRqG3KMN6g80Aa9FVLS4Zm8qU5OMq3rVugAooooA1dL/wCPZv8Af/oKu1S0v/j2b/f/AKCrtABRRRQAUUUUAMm/1D/7prlz1rqJv9Q/+6a5c9aAOW+Jf/JNdd/69H/lW5o3/ICsP+vaP/0EVh/Ev/kmuu/9ej/yrc0b/kBWH/XtH/6CKALtYHjn/kQ9a/68pf8A0E1pavqUek6ZLdygttwEQdXcnCqPqSBXEXNvJqwL65Ibot/yxJIiT2C9D9Tk0Adj4b/5FXSv+vOL/wBAFadeeW0M2k4fRJDblf8AlgWJif2K9vqMGu30vUY9U0yG8jBQSDlG6owOCD9CCKALlFFFABRRRQAUUUUAFFFFAGD4ss5bjTIriCNpXs5RP5ajlhtKnHvhice1cra2to91LqNu5drlFVm35Vguccfia9Irg/iPpsGleFb/AFjSt1neqUJeI4DEuASV6ZweuKAK8zw2ceUQeZIdqIg+Z27ADua7LQNPbTNDt7aXHnAF5cdN7Hc2PbJNQaNoFhZRxXaxmW6eMZmlYswyOgz0/DFbNABRRRQAUUUUAFI33T9KRnVEZmIAUZJ9K4O7v7jxA7SyyvHYMf3MEbFd69mYjk5646YPIoAt/DUf8S/XW/va3cn/ANBrs683t9KtrFi+mBrGXOd9u23J9x0P4g113hzV5dSt5YbwAXdsQshUYEgI4YfX+YNAG1RRRQAV0dh/x4xfSucro7D/AI8YvpQBYooooAKKKKACq2of8eT/AIfzqzVbUP8Ajyf8P50AY1UtS/5dv+uy1dqlqX/Lt/12WgC7RRUF1OYYxt++3C/40ARan/x6D/fX+dXKyHTzDmUlz/tVJHM1uQQSU7qecfSgDTopAQQCOh6UtABRRRQAUUUUAFFFFABVO+Q/LKOQvB9verlHXrQBkKirnH8Rycml2kkJH95un+NS3kCRzQCLKCR8MAauxQRw52LyepPU0AORQiBR0AxTqKKACiiigAoopksgiiZ26AUAEv8AqX+hqDTf+QbD9P61Udnm5lOf9kHgUiZh5hO327H8KANaio4ZRNEHHHqPQ1JQAUDqKKB1FAHQr90UtIv3RS0AFFFFABRRRQAUUUUAFFFFABRRRQAUUUUAFFFFAGDcf8fMn+8ajqS4/wCPmT/eNR0AUtJ/5Bsf4/zqxcqXtpFXklTiq+k/8g2P8f51doAyGO6PIyeOMU2EOM+b1/Srs1mdxaEgA8lTVe2ikuow4IRSSPU8HFACLDPOkv2eXyzwM46/5zUsVneLEoN7ggdPLB/WrsUaxRhE6Cn0AUvsl5/z/f8AkIf40jWt4qk/bug/55D/ABq9TX/1bfQ0AQ2MrT2MUknLMvNWKqaX/wAgyD/dq3QAUUUUAFFFFADJf9S/0NZtjbXL2MTR3exSOF8sHFaUv+pf6Gq+mf8AIMg/3aAG/ZLz/n+/8hD/ABo+yXn/AD/f+Qh/jV2igCl9kvP+f7/yEP8AGj7Jef8AP9/5CH+NXaKAKX2S8/5/v/IQ/wAaieyvjcRsLzIHU7cfp3rSooAyQpQsr8sGOffmokEnm/NnZ2/+vWncWvmtvQ7X/Q1TjjlknkiAUNHjJJ45oAfbjN2mO2SfpWjUNvbiBTzuY9WqagAooooA1dL/AOPZv9/+gq7VLS/+PZv9/wDoKu0AFFFFABRRRQAyb/UP/umuXPWuom/1D/7prlz1oA5b4l/8k113/r0f+Vbmjf8AICsP+vaP/wBBFYfxL/5Jrrv/AF6P/KtzRv8AkBWH/XtH/wCgigDL8Zqf7FhlxlIbqN5PZc4z9ASD+FcrrAuns1/s7f8AaS37pgfkB9X/ANn/ACOa9HnhjuYHhnQPHIpV1PRgeoriNb0q88Oabd30Ei3djbRtL5cjESqoGSM4w3t0989aAKWkidbAC88z7Rk+YXOct3K/7Pp7VRv/AAv4p8QaHFP4c182NtJcF/s+3aHXd97cOSDjODwa6DTNCvNcs7a5vJEtrK4jWUxRMTI6sMhS2MAc8459xXZxRJBCkUShERQqqBgADtQBxg8KeMsD/ivP/KUn/wAXR/winjL/AKHz/wApUf8A8XXbUUAeZeKbXxl4V8NXetf8JiLz7IofyG01ED/MBjO44616WhzGpPcVyHxX/wCSX6z/ANch/wChrXXR/wCqX6CgB9FFFABRRRQAVxvxYBPw11IKcH93g+nzrXZVx3xW/wCSb6j9Y/8A0YtAFW28K+MGtISvjraDGpA/spOOP96pf+EU8Zf9D5/5So//AIuuvs/+PG3/AOuS/wAqnoA4n/hFPGX/AEPn/lKj/wDi6P8AhFPGX/Q+f+UqP/4uu2ooA4n/AIRTxl/0Pn/lKj/+Lo/4RTxl/wBD5/5So/8A4uu2ooA8uTwP43i1vU7qfxYZrWaBl2iEDzzsxjZnanpkc1ZjkSXRFZVkx5IBWLIcHHQd8jpXpFcxqXhmZLqS60eWNFkJeS3lztLdSVI6Enr1H0oA5PRF1JZZv7X3mTA8sg/IE7A4/j9fwxXT+FwZNbvZE+5HEkb/AO9ycfkR+dY+gx6j4nsXuLVYbKJZngZ5GLsCpwSAAB9Mmu30vTLfSbJba2BxksztyzserE9zQBdooooAK6Ow/wCPGL6VzldHYf8AHjF9KALFFFFABRRRQAVW1D/jyf8AD+dWarah/wAeT/h/OgDGqlqX/Lt/12WrtUtS/wCXb/rstAF2qV8CJIj25FXaZLEs0ZR+n8qAMiYSEjys57+lPziLnPTv1p9xFJapuOHXIAI4NWIbM7w0xBxyFFAEDWV40kLJdbUA6Y+7x6d6m+yXn/P9/wCQh/jV2igCl9kvP+f7/wAhD/Go2F1bXEG+581ZH2kbAK0ap33+vtf+uo/lQBcooooAKKKKACiiigChqas8lsqNsYycNjOOKd9kvP8An+/8hD/Gi+/4+LT/AK6f0q7QBS+yXn/P9/5CH+NH2S8/5/v/ACEP8au0UAUvsl5/z/f+Qh/jR9kvP+f7/wAhD/GrtFAFL7Jef8/3/kIf41VNndxRytNcb03Z24689fatekIBBB5BoAyJM+X8uc9sURbtp8z72efT8KsTWrQqzxkFAM7T1FJb273EaSMdiMM4HWgCewH+jk9ixxVqkVQihVGABgCloAKB1FFA6igDoV+6KWkX7opaACiiigAooooAKKKKACiiigAooooAKKKKACiiigDBuP8Aj5k/3jUdSXH/AB8yf7xqOgClpP8AyDY/x/nV2qWk/wDINj/H+dXaAEPQ1U0v/jwX/ff/ANCNWz0NVNL/AOPBf99//QjQBcpkxxC5HB2mn1HP/qH/AN00AQJCDGpLSZx/fNO8hf70n/fZqt5k3QLkKRjjtSJcTycIQeeTt6cUhFlbZEUKhdQOgDkYpfJX+9J/32arma5CjI98hT6dKZK05DqFI3egJz0osBetc+ScknDsOTnuamqC0/1J/wB9v/QjU9MZHOSLeQjg7TUQhXA+aT/vs1Lcf8e0n+6apPJN5mAuQpyDjjpSAseQp6s//fZpFtkRQqF1A6AORiqqXE8gOwg477fanma5A5XnPZSe3SgRY8lf70n/AH2afbf6nkk8nqc96oyNOYyu0jdnOATV+2/1P4n+dAEtFFFMYVVKb7iTLPwRgBiO1Wqrr/x8S/UfypMBPJX+9J/32aQW0YYsNwJ6neeaglEyzSFDJhgMYxgUgNydpYt/DkY6+tAiyIVPRn/7+GiJdl0VDMRtzgsTUNosqYV87dmcHsc9KnT/AI/D/uUdQLFFFFMZq6X/AMezf7/9BV2qWl/8ezf7/wDQVdoAKKKKACiiigBk3+of/dNcuetdRN/qH/3TXLnrQBy3xL/5Jrrv/Xo/8q3NG/5AVh/17R/+gisP4l/8k113/r0f+Vbmjf8AICsP+vaP/wBBFAF2sDx1/wAiHrX/AF5S/wDoJrfrA8df8iHrX/XlL/6CaALnhv8A5FXSv+vOL/0AVp1meG/+RV0r/rzi/wDQBWnQBl68pktLaISSRiS8t0YxOUbaZVBGRzyKvf8ACMWH/PW+/wDA6b/4qqOukrb2ZHUX1tjj/pqtYj654gjs2vrm2Ec0QZGlaBggBeMblUkEjBYgHk4x9Ykm3oRJnSXXg7SL22e3vFubiCQYeKW7lZWHuC2DUv8AwjFgP+Wt9/4HS/8AxVcxY+IPE+pWkVxZGF4tzDzDatiQecyZA3cfLhqsDWfFAuraGW2VshQ2LZsS/vGVzuzhMKAwB65qOWXci5qar4es4NIu5Yp75XSFmU/bpeCB/vVPprM+l2zOSzGJSSTkniuL1C5164t7a1ubaSC2gKvtWB/mXyW3Mz5wMMcbT9a7PS/+QTa/9cV/lWkU1uXEt1l68pktLaISSRiS9gRjFIUYqZACMjnpWpWVr5K2toV+8L63xxn/AJaCm9iy/wD8IxYf89b7/wADpv8A4qornwdpF7btBeLc3ELfejlu5WU9+QWxXLza94ghma8ntfK8u3ZGuJIG2rmWMZC5GRgkgHnipNO8ReKdTt457QQtC0iKJDathwZmQsOeMKA1Z8su5jc6geF9PVQFkvQAMAC+l4/8eqnrPh60t9EvJoZ75XSF2Ui+l4IH+9WSuueKnNvHNZrvYFWQWz4lG9lLbs4TCgHB65rLv7jXJ9Ps7e6gkgghtkZ41t3x/qDklyccMcbTzxRyvuO7O4tSTaQkkk7BknvxUtQ2v/HnD/1zX+VTVqahSN90/SlpG+6fpQBl6Loltf6Ulzcz3rSPJJki8lA4kYDgNgcCr/8AwjFgf+Wt9/4HTf8AxVO8M/8AIvw/78v/AKMauKmHinTre4hsH1KSZbqaQMwRkYb8ov3c4KnPbkY9qxV29zJtnWQ+EdGsICtv9ototxYhLyRFyTknhupqf/hGLD/nrff+B03/AMVXK6vbeJbuG6id7iaG4NwghKDagUgxkYGcnnvXT+GhqUUN5Bqskk3lT7YJZVAZ02g9gB1JFJppXuK7KWiRfZ7rV7dZZpI4b7bH5srSFR5MRxliTjJJ/GtaszS/+Qprn/YQ/wDaEVadbLY1WwV0dh/x4xfSucro7D/jxi+lMZYooooAKKKKACq2of8AHk/4fzqzVbUP+PJ/w/nQBjVS1L/l2/67LV2qWpf8u3/XZaALtFFFAFPVP+PQf76/zq5VPVP+PQf76/zq5QAVBcDc8a5YAk5wcdqnqtdll2FPvc449qADyV/vSf8AfZpDbRsQW3Eg5GXPFVmnlRSxGzJ5JHtTvNuWXK4HH932zSEWPJX+9J/32aZJHsKFWfO9R98+tRNLO24beMdNp/nTC0r3KFwQA4HTp8woA1KKKKYyC4G6WNcsBz0JHpTfJX+9J/32aLssrIU+9g44+lVGuJo9zEbAccsPakItNbRsQW3EqcjLnil8lf70n/fZqsJbphkAY5xlfbNI8twysCnbptPH40AWHj2bCrPneo5cnvVuszdI1ypcEAMBjGMfMK06YwooooAjnJFvIQcHaeR9KhWFSoJaTp/fNTXH/HtJ/uH+VRkEw4HB28YpMBDAhGCXI/3zSCCNFCguo6ABzVVDcL5YG/AABzj8aClwxQMWPRs46HnNAi35K/3pP++zUlt/x7jJJ5IyTnuajgLmFfM+93qS2/1A+rfzNCAloHUUUDqKYzoV+6KWkX7opaACiiigAooooAKKKKACiiigAooooAKKKKACiiigDBuP+PmT/eNR1Jcf8fMn+8ajoApaT/yDY/x/nV2qWkn/AIlsf4/zq5ketAAehqppf/Hgv++//oRq2SMdaqaWf9AX/ff/ANCNAFymSqWiZR1IIFOyPWjI9aAKy+cEAMPQf3qQeZGp224UdeCKtZHrSOR5bc9jSsBVhnknhWWOE7WGRkin7pv+eP8A48KZpZH9mQf7tW8j1osBHboyRYcYJZjj6nNS0mR60ZHrTAbKpeF1HUggVDmbGPJ/8eFWMj1oyPWgCrmSNTiAKBzwRSQzyTwrLHCdrDIyRVmUjyn57Gq+mf8AIMg/3aVgHbpv+eP/AI8KkgVliAcYOScfjUtFMAooooAKrMsqzOVj3BsYOas0UAVt03/PH/x6mJcSSSOiwnMZAbkVcqnaf8fl3/vj+VKwD903/PH/AMepYlkM5d02jbjrmrFFMAooooA1dL/49m/3/wCgq7VLS/8Aj2b/AH/6CrtABRRRQAUUUUAMm/1D/wC6a5c9a6ib/UP/ALprlz1oA5b4l/8AJNdd/wCvR/5VuaN/yArD/r2j/wDQRWH8S/8Akmuu/wDXo/8AKtrRnX+wrD5h/wAe0ff/AGRQBfrA8df8iHrX/XlL/wCgmt3ev94fnWB45df+ED1r5h/x5S9/9k0AXvDf/Iq6V/15xf8AoArTrL8Nuv8AwiulfMP+POLv/sCtLev94fnQBR1mG4mtIWtIhLJDcwzbC23cEkDEZ+gom1a/uYWiuPD/AJsbDDI8yMp+oNXt6/3h+dG9f7w/OpcU9xNJmFq/jCXwvoM1/daA8VnaqCywyJwM44H41pDXtTZQRob4Iz/x8JXNfFdlPwv1nBH+qHf/AG1rro3Xyl+YdB3pckRcqM6/1TVrvTri3TRWVpY2QE3C4GRir1jE0FhBFJjckaqceoFS71/vD86N6/3h+dUopbDSsOrO1qG4mtIWtIhNJDcxTbC23cFcEjP0FX96/wB4fnRvX+8PzpjKM+q311C0Nz4e86JvvJJKjKfqDVDV/GUvhnRJL270GSK0twoKwyp8oJAAA/Gt3ev94fnXHfFVlPw41HBHWPv/ANNFqORE8qOkj8QanJGrrob7WUMP36d6g1LU9WvdLubZNFZWmiZATcLgZGKv2f8Ax42//XJf5VPRyRDlRHbqUto0b7yoAfyqSiirKCkPKn6UtFAGRp19qmmWQtP7IMwR3IkWdQGBckdfY1aOu6p/0A3/APAhKu01vuH6VHIieVGLovja517S0v7DRJjA7Mq75kBypKnjPqDV/wDt3VP+gG//AIEJXN/Cz/kntkfV5T/5Eauxo5IhyozNHiuhJqNxewC3a6u/NSPeGIXy0Xkj3U1p0UVZQV0dh/x4xfSucro7D/jxi+lAFiiiigAooooAKrah/wAeT/h/OrNVtQ/48n/D+dAGNVLUv+Xb/rstXapal/y7f9dloAu0UmR60ZHrQBU1T/j0H++v86uVS1Mj7IP99f51cyPWgBahnVyyMi7tp5Gfapcj1oyPWgCswkb71uD9SKZJcPEyK0Jy7bVwR1q5ketU70jz7X/rqP5UrASbpv8Anj/48KRlmkKAxbQHBJz6GrOR60ZHrRYBaKTI9aMj1pgRTq5dGRd2M5GajYSN963B+pFWcj1oyPWgCnJcPEyK8JzIcLgipN03/PH/AMeFR3x/0i0/66f0q7SsBVYTSFQY9oDAk596tUUUwCiiigBkql4XVepUgVCDMAB5P/j1WaKAKkksscbO0PCjJ+aiOWWSNXWHhhkfMKkvf+PGf/cP8qW0/wCPOH/cH8qVgGbpv+eP/j1SwKyQgOMHJJH41JRTAKB1FFA6igDoV+6KWkX7opaACiiigAooooAKKKKACiiigAooooAKKKKACiiigDBuP+PmT/eNR1Jcf8fMn+8ajoAydOsLeaxR5FYsc5w5Hf61a/su0/uN/wB/G/xqrp2oW8NikcjEMM5+U+tWv7Vtf77f98mgAOl2uPuN/wB/G/xqtp+n28tmHdWJ3MOHI/iPvVg6ra4++3/fJqvYahbw2gSRmDbmP3T3JNAFn+y7T+43/fxv8aP7LtP7jf8Afxv8aP7Vtf77f98mj+1bX++3/fJoAP7LtP7jf9/G/wAaP7LtP7jf9/G/xo/tW1/vt/3yaP7Vtf77f98mgAGlWgGBGwH/AF0b/Gj+y7T+43/fxv8AGj+1bX++3/fJo/tW1/vt/wB8mgA/su0/uN/38b/Gj+y7T+43/fxv8aP7Vtf77f8AfJo/tW1/vt/3yaAD+y7T+43/AH8b/Gj+y7T+43/fxv8AGj+1bX++3/fJo/tW1/vt/wB8mgA/su0/uN/38b/GrUcaxRhIxtVegFVf7Vtf77f98mj+1bX++3/fJoAuUVT/ALVtf77f98mj+1bX++3/AHyaALlFU/7Vtf77f98mj+1bX++3/fJoAuUVT/tW1/vt/wB8mj+1bX++3/fJoAuVTs/+Pq7/AOun9KP7Vtf77f8AfJpunsJJLiVc7Hk+UkdaAL1FFFABRRRQBq6X/wAezf7/APQVdqlpf/Hs3+//AEFXaACiiigAooooAZN/qH/3TXLnrXUTf6h/901y560Act8S/wDkmuu/9ej/AMqzNL+F/habSLOWS0uy7wIzY1C4HJUdt9afxL/5Jprv/Xo/8qytL+KfhSDSLOKS8mDpAisPs0h5Cj2oAuf8Kq8J/wDPpd/+DG4/+LrH8W/DXwzYeD9Uura1ulmhtZHQtfzsAQpI4L4P41rf8LY8Jf8AP7P/AOAsn+FZHiv4l+GdS8JanZ2d1M889tJHGv2ZxlipAHSgC3oXwx8L3Ph3Tp5rW6MktrG7EahOASVBPAfAq9/wqrwn/wA+l3/4Mbj/AOLrP0T4oeFrTw/p9tPdzrLDbRo4+zSHBCgHtV7/AIWx4S/5/Z//AAFk/wAKAHf8Kq8J/wDPpd/+DG4/+Lo/4VV4T/59Lv8A8GNx/wDF03/hbHhL/n9n/wDAWT/Cj/hbHhL/AJ/Z/wDwFk/woAJPhN4QmjKS2NzIh6q2oXBB/DfTv+FVeE/+fS7/APBjcf8AxdN/4Wx4S/5/Z/8AwFk/wo/4Wx4S/wCf2f8A8BZP8KAHf8Kq8J/8+l3/AODG4/8Ai6P+FVeE/wDn0u//AAY3H/xdN/4Wx4S/5/Z//AWT/Cj/AIWx4S/5/Z//AAFk/wAKAHf8Kq8J/wDPpd/+DG4/+Lo/4VV4T/59Lv8A8GNx/wDF03/hbHhL/n9n/wDAWT/Cj/hbHhL/AJ/Z/wDwFk/woAd/wqrwn/z6Xf8A4Mbj/wCLpyfCzwmkiubCeTaQQst7O6n6qzkH8aj/AOFseEv+f2f/AMBZP8KP+FseEv8An9n/APAWT/CgDs1UIgVRgKMAUtcX/wALY8Jf8/s//gLJ/hR/wtjwl/z+z/8AgLJ/hQB2lFcX/wALY8Jf8/s//gLJ/hR/wtjwl/z+z/8AgLJ/hQB2lFcX/wALY8Jf8/s//gLJ/hR/wtjwl/z+z/8AgLJ/hQB2lNf/AFbfSuN/4Wx4S/5/Z/8AwFk/wpH+K/hMowF7Pkj/AJ9ZP8KAJPhV/wAk400+vmH/AMiNXY1yXwvglt/hvpCTxtG5iLbWGDgsSP0NdbQAUUUUAFdHYf8AHjF9K5yujsP+PGL6UAWKKKKACiiigAqtqH/Hk/4fzqzVbUP+PJ/w/nQBjVQ1RBJHArdDMAeav1Q1VxHHA7dFmBNAD/7Ltf7jf9/G/wAaP7LtP7jf9/G/xo/tW1/vt/3yaP7Vtf77f98mgCrf6fbxW4ZFYHcBy5Pf61a/su1/uN/38b/Gqt/qEE1uFjZidwP3T61a/tW1/vt/3yaAD+y7T+43/fxv8aP7LtP7jf8Afxv8aP7Vtf77f98mj+1bX++3/fJoAP7LtP7jf9/G/wAaDpVoesbf9/G/xo/tW1/vt/3yaP7Vtf77f98mgA/su0/uN/38b/Gj+y7T+43/AH8b/Gj+1bX++3/fJo/tW1/vt/3yaAD+y7T+43/fxv8AGj+y7T+43/fxv8aP7Vtf77f98mj+1bX++3/fJoAP7LtP7jf9/G/xo/su0/uN/wB/G/xo/tW1/vt/3yaP7Vtf77f98mgB8en20UgdEO4dMsTj86s1T/tW1/vt/wB8mj+1bX++3/fJoAuUVT/tW1/vt/3yaP7Vtf77f98mgC5RVP8AtW1/vt/3yaP7Vtf77f8AfJoAuUVT/tW1/vt/3yaP7Vtf77f98mgCW+/48J/+ubfyp1r/AMekX+4P5VSutRt5rSWONmLuhCjaeTir1uCtvGCMEKM0ASUUUUAFA6iigdRQB0K/dFLSL90UtABRRRQAUUUUAFFFFABRRRQAUUUUAFFFFABRRRQBg3H/AB8yf7xqOpLj/j5k/wB41HQBR0kA6bHkev8AOru0eg/Kqek/8g2P8f51doATaPQflRtHoPypaKAE2j0H5UbR6D8qWigBNo9B+VG0eg/KlooATaPQflRtHoPypaKAE2j0H5UbR6D8qWigBNo9B+VG0eg/KlooATaPQflRtHoPypaKAE2j0H5UbR6D8qWigBNo9B+VG0eg/KlooATaPQflRtHoPypaKAE2j0H5UvTpRRQAUUUUAFFFFAGrpf8Ax7N/v/0FXapaX/x7N/v/ANBV2gAooooAKKKKAGTf6h/901y5611E3+of/dNcuetAHLfEv/kmuu/9ej/yrY0eCI6HY5iT/j3j/hH90Vj/ABL/AOSa67/16P8Ayrc0b/kBWH/XtH/6CKALPkRf88k/75FHkRf88k/75FSUUAR+RF/zyT/vkUeRF/zyT/vkVJRQBH5EX/PJP++RR5EX/PJP++RUlFAEfkRf88k/75FHkRf88k/75FSUUAR+RF/zyT/vkUeRF/zyT/vkVJRQBH5EX/PJP++RR5EX/PJP++RUlFAEfkRf88k/75FHkRf88k/75FSUUAR+RF/zyT/vkUeRF/zyT/vkVJRQBH5EX/PJP++RR5EX/PJP++RUlFAEfkRf88k/75FHkRf88k/75FSUUAR+RF/zyT/vkUeRF/zyT/vkVJRQAgAAwBgUtFFABRRRQAV0dh/x4xfSucro7D/jxi+lAFiiiigAooooAKrah/x5P+H86s1W1D/jyf8AD+dAGNVLUulv/wBdlq7VLUv+Xb/rstAFzaPQflRtHoPypaKAE2j0H5UbR6D8qWigBNo9B+VG0eg/KlooATaPQflRtHoPypaKAE2j0H5UbR6D8qWigBNo9B+VG0eg/KlooATaPQflRtHoPypaKAE2j0H5UbR6D8qWigBNo9B+VG0eg/KlooATaPQflRtHoPypaKAE2j0H5UbR6D8qWigBMD0FLRRQAUUUUAFA6iigdRQB0K/dFLSL90UtABRRRQAUUUUAFFFFABRRRQAUUUUAFFFFABRRRQBQk0zfIzeZjcc9KYdLwpPm9v7taVI/3D9KAOJ+H11/wk3guz1Tb9n87d+7zuxhiOvHpXTf2V/01/8AHa5L4J/8ko0v/tp/6G1d9QBnf2V/01/8do/sr/pr/wCO1o0UAZ39lf8ATX/x2j+yv+mv/jtaNFAGd/ZX/TX/AMdo/sr/AKa/+O1o0UAZ39lf9Nf/AB2j+yv+mv8A47WjRQBnf2V/01/8do/sr/pr/wCO1o0UAZ39lf8ATX/x2j+yv+mv/jtaNFAGd/ZX/TX/AMdo/sr/AKa/+O1o0UAZ39lf9Nf/AB2j+yv+mv8A47WjRQBnf2V/01/8do/sr/pr/wCO1o0UAZ39lf8ATX/x2j+yv+mv/jtaNFAGd/ZX/TX/AMdo/sr/AKa/+O1o0UAZ39lf9Nf/AB2j+yv+mv8A47WjRQBnf2V/01/8do/sr/pr/wCO1o0UAQWtv9mjKbt2TnpU9FFABRRRQAUUUUAI6742XpkYrK/sT/pt/wCO1rUUAee/FLSfJ+F+vP5ucWb8bfat7RNG3eH9PbzuttGfu/7Iqn8Wf+SU+IP+vN/5V0Og/wDIu6d/16xf+gigCD+xP+m//jtH9if9N/8Ax2taigDJ/sT/AKb/APjtH9if9N//AB2taigDJ/sT/pv/AOO0f2J/03/8drWooAyf7E/6b/8AjtH9if8ATf8A8drWooAyf7E/6b/+O0f2J/03/wDHa1qKAMn+xP8Apv8A+O0f2J/03/8AHa1qKAMn+xP+m/8A47R/Yn/Tf/x2taigDJ/sT/pv/wCO0f2J/wBN/wDx2taigDJ/sT/pv/47R/Yn/Tf/AMdrWooAyf7E/wCm/wD47R/Yn/Tf/wAdrWooAyf7E/6b/wDjtH9if9N//Ha1qKAMn+xP+m//AI7R/Yn/AE3/APHa1qKAMn+xP+m//jtH9if9N/8Ax2taigDJ/sT/AKb/APjtaVvF5ECR5ztGM1JRQAUUUUAFFFFABUdxD58DR5xnvUlFAGd/ZX/TX/x2uY8aXf8AYH9jfL5323UorXrjZuz83v06V3FeffFf/mVf+w9b/wAmoA7D+yv+mv8A47R/ZX/TX/x2tGigDO/sr/pr/wCO0f2V/wBNf/Ha0aKAM7+yv+mv/jtH9lf9Nf8Ax2tGigDO/sr/AKa/+O0f2V/01/8AHa0aKAM7+yv+mv8A47R/ZX/TX/x2tGigDO/sr/pr/wCO0f2V/wBNf/Ha0aKAM7+yv+mv/jtH9lf9Nf8Ax2tGigDO/sr/AKa/+O0f2V/01/8AHa0aKAM7+yv+mv8A47R/ZX/TX/x2tGigDO/sr/pr/wCO0f2V/wBNf/Ha0aKAM7+yv+mv/jtH9lf9Nf8Ax2tGigDO/sr/AKa/+O0f2V/01/8AHa0aKAM7+yv+mv8A47R/ZX/TX/x2tGigDO/sr/pr/wCO0DSuf9b/AOO1o0UAA4FFFFABRRRQAUUUUAFFFFABRRRQAUUUUAFFFFABRRRQAUj/AHD9KWkIypHrQBwXwT/5JRpf/bT/ANDau+rn/BHhg+D/AAla6K1z9qNvu/e7Nu7LE9Mn1roKACiiigAooooAKKKKACiiigAooooAKKKKACiiigAooooAKKKKACiiigAooooAKKKKACiiigAooooAKKKKACiiigAooooA4/4s/wDJKfEH/Xm/8q6HQf8AkXdO/wCvWL/0EVV8W6CfE/hPUNGE/wBnN5C0Xm7d23PfGRmtGwtvsWm21ru3+REse7GM4GM/pQBYooooAKKKKACiiigAooooAKKKKACiiigAooooAKKKKACiiigAooooAKKKKACiiigAooooAKKKKACiiigAooooAKKKKACvPviv/wAyr/2Hrf8Ak1eg1z3i3wufE39k4uvs/wDZ+oR3h+Tdv25+XqMdetAHQ0UUUAFFFFABRRRQAUUUUAFFFFABRRRQAUUUUAFFFFABRRRQAUUUUAFFFFABRRRQAUUUUAFFFFABRRRQAUUUUAFFFFABRRRQAUUUUAFFFFABRRRQAVBe3aWNnJcyrI6xjJWNCzH2AHJqeqWrRX89l5elTRQTM4DSSLu2r3IHr6UAc7qfjG21Hw7PNoDzSfLAfPETKoWR1U4Yj7wViSO3em2d1qKeONSs7e5LWVjaxCCxK481ipJbefqoz9fSr/hjw02iaA+i3RhnsUZ1hULyUZi3ze/zY/DPfjeggS3iWNNxCgKCxJJHuTyaAMa8vdQm0a/NzbtpZjgZkmSZXOQPpWNYalc/2R4LvhO811fLDb3e45MgMDM5I9Qy5z9R3rtSoYYYAj0NQfYLY3iXXljzY1Koeyg9cD8BQBYooooAKKKKACiiigAooooAKKKKACiiigAooooAKKKKACiiigAooooAKKKKACiiigAooooAKKKKACiiigAooooAKydX8Sadodzbw6k8kX2gkJJ5bFcgE4yB1IU8e1a1cx4k8Panrd9bzR3UCQ2M0dxbQsn35AeS7em0kDA6nPpQBVutZlury/u4vPjjs9KW7tYnQgs7iTJKdSRsXjtk1Hplzepb+G7mfUWvLi8lMM8gTYHXy3bBXpwy9f8AGur+wRSzW9zcqrXUKFRIvHBxkfQ4HHsKc1jbveR3TpuliUrHk8JnqQOgPvQBYooooAKKKKACiiigAooooAKKKKACiiigAooooAKKKKACiiigAooooAKKKKACiiigAooooAKKKKACiiigAooooAKytW8Sadol1bQ6jI8X2ksEfy2K5ClsEgYBIU4HetWuX8UeHdS8QTRhLmCKC0liuLZChJMquCdx9MAgfXNAFe91p7rUluI1uI7eHTpLqKJ42VmcHGSnBJHof71UoNX8QWngHT7oSHVb2WSHzZ1xHt3OoK4xz1IzXZfYUme2uLsKbqFceZHleuNw6/dJHQ56D0q1tAXAAwO2KAOV1m/u4dd8OF55LX7TdNHcWocFSvlOck4z94L+lXPD88g1fWbEM0lta3C+USc7NyKSmfbOf+BVutGjkFlBI6EjpUVpZQWMbJbJtDuXc5yWY9ST3NAE9FFFABRRRQAUUUUAFFFFABRRRQAUUUUAFFFFABRRRQAUUUUAFFFFABRRRQAUUUUAFFFFABRRRQAUUUUAFFFFABRRRQAUUUUAFFFFABRRRQAUUUUAFFFFABRRRQAUUUUAFFFFABRRRQAUUUUAFFFFABRRRQAUUUUAFFFFABRRRQAUUUUAFFFFABRRRQAUUUUAFFFFABRRRQAUUUUAFFFFABRRRQAUUUUAFFFFABRRRQAUUUUAFFFFABRRRQAUUUUAFFFFABRRRQAUUUUAFFFFABRRRQAUUUUAFFFFABRRRQAUUUUAFFFFABRRRQAUUUUAFFFFABRRRQAUUUUAFFFFABRRRQAUUUUAFFFFABRRRQAUUUUAFFFFABRRRQAUUUUAFFFFABRRRQAUUUUAFFFFABRRRQAUUUUAFFFFABRRRQAUUUUAFFFFABRRRQAUUUUAFFFFABRRRQAUUUUAFFFFABRRRQAUUUUAFFFFABRRRQAUUUUAFFFFABRRRQAUUUUAFFFFABRRRQAUUUUAFFFFABRRRQAUUUUAFFFFADJ5Vgt5JnBKxqWIHXAGaxNI8TvrMFrc2uhamtrdAMlxIYAoU/xECUtj8M1q6l/yCrv/AK4v/wCgmuZ+H0Oqjwlo0kt9aNZfZVxAtmyyAY4/eeYR/wCO/lQt38v1B7L5/odJptxeXViJdRsfsM5ZgYfOEmACQDuHHIwfbNW68uhIbwVoEUkRu4JdYnSWxDBftQ8yY7ckhTgjOGIBxTr7w8mh+DtavTp0GnJdajBMkK7S0MIlj4ZlyOoZsAkDNC1/r0/zB6O39df8j0+iuQlu7e5+KSJbzxytHosu8IwO3MqEZx7c1y1tYR6b8KtN1C0QCe7aGK9upZmQiBpOVLgEonQcDgEmhbX/AK3a/QfX+u1z1isjxF4ktfDVit1e293NGWAJtoS4XJAyx4VeSOp+lZHhvSLnT/Ecs0EOlafYS2g32VhdtKGfd8su0xqBxkEjrxUnxKIHw/1AEjO6H/0alPqv66iWrsbt5qQs7qzh+yXU/wBrk2B4ItyxcZ3Of4R71JqOo2mk6fNfahMsFvCuXc9vw7ntiorrV7KwuLK3uptkt7J5UACM29gM4yBgcetYnj9WXRbK7ZGe1stRgubtVGf3St8xx3AyD+FL/MF+hf07xKL+8igfR9Ws1mBMU1zbYRsc8kEleP7wFVD41h238kWjapNbafO8FxcRpEVVk+8QvmbiB14WmX3iOeLxBo6afqOnXdjqc/liJELSKojZi4cPgjIH8PeuRM2r2mi+Jp7S5jj0063PHehLctPHEzAPIjbscA9Nvqc0en9ar/Men9fP/I9BtfEdje6xFp9qZJGmsVvo5gB5bRlto5znP4VPb6tBc61e6ZGkgmskjeRmA2kPnGOc/wAJzxXK20djofxA0tY5UisJdDFrZyu42yFJAcbu52kH3q5ot7bSeMfE+pLcRfYYkt4XuS48sMisX+bpxuGfSm7dPP8AN/8AAF/wP0/4J1hOBmsOXxfpkW9St6kwhklSOaxmh8wIu5sF0A6e9bCXEUtsLiGRZYWTerxncGXGcjHX8K469S51uLVdcubaW1s7fTp4LCKdCsj7ly8pU8qDtAAPOMnvUSbSZUUm0b2k+II9WvLmFYDEkNvBPvZuolUtgjtjHrUUficXUX2jTdI1K+tP4bmFI1Rx6qHdWYe4U57ZrnfBxgsJdUfVL7db/wBn2Jkmu2RFRTG3ykgKMDOOefc1l23ittK0bWLbSvE+kC20stHp8VyFllmRYwVCsJFB5O0fK3TvVyspNdiIXaXn/kek6dqNtqtjHeWMnmQyZAJUqQQcEEHkEEEEGrNYHg2XTG8PxR6Xfw3z4825dJlkbzZPmYtt6Eknjit+hqzsCd1cKKKKQwooooAKKKKACiiigAooooAKKKKACiiigAooooAKKKKACiiigAooooAKKKKACiiigAooooAKKKKACiiigAooooAKKKKACiiigAooooAKKKKACiiigAooooAKKKKACiiigAooooAKKKKACiiigAooooAKKKKACiiigAooooAKKKKACiiigAooooAKKKKACiiigAooooAKKKKACiiigAooooAKKKKACiiigAooooAKKKKACiiigAooooAKKKKACiiigAooooARlV1KuoZWGCCMgimW9vDaW6QWsMcMMY2pHGoVVHoAOBUlFAHO6/4b+2w2Een21i1taTtNJp1wmyC43A9dqnBBYt90jPamaF4WSxvr+6ubLT7SK8iSE6fZLmAKucs2VUMx3Y+6OB3rpaKNgepTtdI02xZTZafa25RDGpigVNqk5KjA6EgHFTRWdtDZi0ht4o7YLtEKIAgHpt6YqaigCpY6Tp2lhxpmn2tnv+/9nhWPd9cAZpl/omlapIj6nplneOgwrXFushUegJBxV6igCG0srXT7ZbewtobWBc7YoYwijPJwBxUxGRg8iiigCjZ6JpWn3DT2GmWdrM/3pIbdUZvqQM1OljaRRzRxWsKJcMzzKsYAkZvvFh3J7561PRQBTm0jTbiwSxn0+1ltIwAlu8KmNcdMKRgUy50mBtDm0zT4ra0ikjaNUFurRqD1+TgH6VfooeobFXS9Ph0nSrXT7Xd5NtEsSbjyQBjJ96muII7q2lt513xSoUdc4ypGCKkooeu4LTYoWOjWem3U09ojI00cURUtkBYwQoH4Gr9FFABRRRQAUUUUAFFFFABRRRQAUUUUAFFFFABRRRQAUUUUAFFFFABRRRQAUUUUAFFFFABRRRQAUUUUAFFFFABRRRQAUUUUAFFFFABRRRQAUUUUAFFFFABRRRQAUUUUAFFFFABRRRQAUUUUAFFFFABRRRQAUUUUAFFFFABRRRQAUUUUAFFFFABRRRQAUUUUAFFFFABRRRQAUUUUAFFFFABRRRQAUUUUAFFFFABRRRQAUUUUAFFFFABRRRQAUUUUAFFFFABRRRQAUUUUAFFFFABRRRQAUUUUAFFFFABRRRQAUUUUAFFFFABRRRQAUUUUAFFFFABRRRQAUUUUAFFFFABRRRQAUUUUAFFFFABRRRQAUUUUAFFFFABRRRQAUUUUAFFFFABRRRQAUUUUAFFFFABRRRQAUUUUAFFFFABRRRQAUUUUAFFFFABRRRQAUUUUAFFFFABRRRQAUUUUAf/Z)"
      ]
    },
    {
      "cell_type": "markdown",
      "metadata": {
        "id": "oHpYhWfsW7QD"
      },
      "source": [
        "GRU는 Reset gate, Update gate, Candidate, Hidden layer로 구성되어 있다. LSTM의 간소화 버전이라고 할 수 있다. GRU 셀에서 각 출력하는 결과 수식은 다음과 같다."
      ]
    },
    {
      "cell_type": "markdown",
      "metadata": {
        "id": "eBV7jFyMZkbU"
      },
      "source": [
        "![GRU_fomular.JPG](data:image/jpeg;base64,/9j/4AAQSkZJRgABAQEAeAB4AAD/4RDsRXhpZgAATU0AKgAAAAgABAE7AAIAAAALAAAISodpAAQAAAABAAAIVpydAAEAAAAWAAAQzuocAAcAAAgMAAAAPgAAAAAc6gAAAAgAAAAAAAAAAAAAAAAAAAAAAAAAAAAAAAAAAAAAAAAAAAAAAAAAAAAAAAAAAAAAAAAAAAAAAAAAAAAAAAAAAAAAAAAAAAAAAAAAAAAAAAAAAAAAAAAAAAAAAAAAAAAAAAAAAAAAAAAAAAAAAAAAAAAAAAAAAAAAAAAAAAAAAAAAAAAAAAAAAAAAAAAAAAAAAAAAAAAAAAAAAAAAAAAAAAAAAAAAAAAAAAAAAAAAAAAAAAAAAAAAAAAAAAAAAAAAAAAAAAAAAAAAAAAAAAAAAAAAAAAAAAAAAAAAAAAAAAAAAAAAAAAAAAAAAAAAAAAAAAAAAAAAAAAAAAAAAAAAAAAAAAAAAAAAAAAAAAAAAAAAAAAAAAAAAAAAAAAAAAAAAAAAAAAAAAAAAAAAAAAAAAAAAAAAAAAAAAAAAAAAAAAAAAAAAAAAAAAAAAAAAAAAAAAAAAAAAAAAAAAAAAAAAAAAAAAAAAAAAAAAAAAAAAAAAAAAAAAAAAAAAAAAAAAAAAAAAAAAAAAAAAAAAAAAAAAAAAAAAAAAAAAAAAAAAAAAAAAAAAAAAAAAAAAAAAAAAAAAAAAAAAAAAAAAAAAAAAAAAAAAAAAAAAAAAAAAAAAAAAAAAAAAAAAAAAAAAAAAAAAAAAAAAAAAAAAAAAAAAAAAAAAAAAAAAAAAAAAAAAAAAAAAAAAAAAAAAAAAAAAAAAAAAAAAAAAAAAAAAAAAAAAAAAAAAAAAAAAAAAAAAAAAAAAAAAAAAAAAAAAAAAAAAAAAAAAAAAAAAAAAAAAAAAAAAAAAAAAAAAAAAAAAAAAAAAAAAAAAAAAAAAAAAAAAAAAAAAAAAAAAAAAAAAAAAAAAAAAAAAAAAAAAAAAAAAAAAAAAAAAAAAAAAAAAAAAAAAAAAAAAAAAAAAAAAAAAAAAAAAAAAAAAAAAAAAAAAAAAAAAAAAAAAAAAAAAAAAAAAAAAAAAAAAAAAAAAAAAAAAAAAAAAAAAAAAAAAAAAAAAAAAAAAAAAAAAAAAAAAAAAAAAAAAAAAAAAAAAAAAAAAAAAAAAAAAAAAAAAAAAAAAAAAAAAAAAAAAAAAAAAAAAAAAAAAAAAAAAAAAAAAAAAAAAAAAAAAAAAAAAAAAAAAAAAAAAAAAAAAAAAAAAAAAAAAAAAAAAAAAAAAAAAAAAAAAAAAAAAAAAAAAAAAAAAAAAAAAAAAAAAAAAAAAAAAAAAAAAAAAAAAAAAAAAAAAAAAAAAAAAAAAAAAAAAAAAAAAAAAAAAAAAAAAAAAAAAAAAAAAAAAAAAAAAAAAAAAAAAAAAAAAAAAAAAAAAAAAAAAAAAAAAAAAAAAAAAAAAAAAAAAAAAAAAAAAAAAAAAAAAAAAAAAAAAAAAAAAAAAAAAAAAAAAAAAAAAAAAAAAAAAAAAAAAAAAAAAAAAAAAAAAAAAAAAAAAAAAAAAAAAAAAAAAAAAAAAAAAAAAAAAAAAAAAAAAAAAAAAAAAAAAAAAAAAAAAAAAAAAAAAAAAAAAAAAAAAAAAAAAAAAAAAAAAAAAAAAAAAAAAAAAAAAAAAAAAAAAAAAAAAAAAAAAAAAAAAAAAAAAAAAAAAAAAAAAAAAAAAAAAAAAAAAAAAAAAAAAAAAAAAAAAAAAAAAAAAAAAAAAAAAAAAAAAAAAAAAAAAAAAAAAAAAAAAAAAAAAAAAAAAAAAAAAAAAAAAAAAAAAAAAAAAAAAAAAAAAAAAAAAAAAAAAAAAAAAAAAAAAAAAAAAAAAAAAAAAAAAAAAAAAAAAAAAAAAAAAAAAAAAAAAAAAAAAAAAAAAAAAAAAAAAAAAAAAAAAAAAAAAAAAAAAAAAAAAAAAAAAAAAAAAAAAAAAAAAAAAAAAAAAAAAAAAAAAAAAAAAAAAAAAAAAAAAAAAAAAAAAAAAAAAAAAAAAAAAAAAAAAAAAAAAAAAAAAAAAAAAAAAAAAAAAAAAAAAAAAAAAAAAAAAAAAAAAAAAAAAAAAAAAAAAAAAAAAAAAAAAAAAAAAAAAAAAAAAAAAAAAAAAAAAAAAAAAAAAAAAAAAAAAAAAAAAAAAAAAAAAAAAAAAAAAAAAAAAAAAAAAAAAAAAAAAAAAAAAAAAAAAAAAAAAAAAAAAAAAAAAAAAAAAAAAAAAAAAAAAAAAAAAAAAAAAAAAAAAAAAAAAAAAAAAAAAAAAAAAAAAAAAAAAAAAAAAAAAAAAAAAAAAAAAAAAAAAAAAAAAAAAAAAAAAAAAAAAAAAAAAAAAAAAAAAAAAAAAAAAAAAAAAAAAAAAAAAAAAAAAAAAAAAAAAAAAAAAAAAAAAAAAAAAAAAAAAAAAAAAAAAAAAAAAAAAAAAAAAAAAAAAAAAAAAAAAAAAAAAAAAAAAAAAAAAAAAAAAAAAAAAAAAAAAAAAAAAAAAAAAAAAAAAAAAAAAAAAAAAAAAAAAAAAAAAAAAAAAAAAAAAAAAAAAAAAAAAAAAAAAAAAAAAAAAAAAAAAAAAAAAAAAAAAAAAAAAAAAAAAAAAAAAAAAAAAAAAAAAAAAAAAAAAAAAAAAAAAAAAAAAAAAAAAAAAAAAAAAAAAAAAAAAAAAAAAAAAAAAAAAAAAAAAAAAAAAAAAAAAAAAAAAAAAAAAAAAAAAAAAAAAAAAAAAAAAAAAAAAAAAAAAAAAAAAAAAAAAAAAAAAAAAAAAAAAAAAAAAAAAAAAAAAAAAAAAAAAAAAAAAAAAAAAAAAAAAAAAAAAAAAAAAAAAAAAAAAAAAAAAAAAAHRpdHVzIGNob2kAAAAFkAMAAgAAABQAABCkkAQAAgAAABQAABC4kpEAAgAAAAM5NgAAkpIAAgAAAAM5NgAA6hwABwAACAwAAAiYAAAAABzqAAAACAAAAAAAAAAAAAAAAAAAAAAAAAAAAAAAAAAAAAAAAAAAAAAAAAAAAAAAAAAAAAAAAAAAAAAAAAAAAAAAAAAAAAAAAAAAAAAAAAAAAAAAAAAAAAAAAAAAAAAAAAAAAAAAAAAAAAAAAAAAAAAAAAAAAAAAAAAAAAAAAAAAAAAAAAAAAAAAAAAAAAAAAAAAAAAAAAAAAAAAAAAAAAAAAAAAAAAAAAAAAAAAAAAAAAAAAAAAAAAAAAAAAAAAAAAAAAAAAAAAAAAAAAAAAAAAAAAAAAAAAAAAAAAAAAAAAAAAAAAAAAAAAAAAAAAAAAAAAAAAAAAAAAAAAAAAAAAAAAAAAAAAAAAAAAAAAAAAAAAAAAAAAAAAAAAAAAAAAAAAAAAAAAAAAAAAAAAAAAAAAAAAAAAAAAAAAAAAAAAAAAAAAAAAAAAAAAAAAAAAAAAAAAAAAAAAAAAAAAAAAAAAAAAAAAAAAAAAAAAAAAAAAAAAAAAAAAAAAAAAAAAAAAAAAAAAAAAAAAAAAAAAAAAAAAAAAAAAAAAAAAAAAAAAAAAAAAAAAAAAAAAAAAAAAAAAAAAAAAAAAAAAAAAAAAAAAAAAAAAAAAAAAAAAAAAAAAAAAAAAAAAAAAAAAAAAAAAAAAAAAAAAAAAAAAAAAAAAAAAAAAAAAAAAAAAAAAAAAAAAAAAAAAAAAAAAAAAAAAAAAAAAAAAAAAAAAAAAAAAAAAAAAAAAAAAAAAAAAAAAAAAAAAAAAAAAAAAAAAAAAAAAAAAAAAAAAAAAAAAAAAAAAAAAAAAAAAAAAAAAAAAAAAAAAAAAAAAAAAAAAAAAAAAAAAAAAAAAAAAAAAAAAAAAAAAAAAAAAAAAAAAAAAAAAAAAAAAAAAAAAAAAAAAAAAAAAAAAAAAAAAAAAAAAAAAAAAAAAAAAAAAAAAAAAAAAAAAAAAAAAAAAAAAAAAAAAAAAAAAAAAAAAAAAAAAAAAAAAAAAAAAAAAAAAAAAAAAAAAAAAAAAAAAAAAAAAAAAAAAAAAAAAAAAAAAAAAAAAAAAAAAAAAAAAAAAAAAAAAAAAAAAAAAAAAAAAAAAAAAAAAAAAAAAAAAAAAAAAAAAAAAAAAAAAAAAAAAAAAAAAAAAAAAAAAAAAAAAAAAAAAAAAAAAAAAAAAAAAAAAAAAAAAAAAAAAAAAAAAAAAAAAAAAAAAAAAAAAAAAAAAAAAAAAAAAAAAAAAAAAAAAAAAAAAAAAAAAAAAAAAAAAAAAAAAAAAAAAAAAAAAAAAAAAAAAAAAAAAAAAAAAAAAAAAAAAAAAAAAAAAAAAAAAAAAAAAAAAAAAAAAAAAAAAAAAAAAAAAAAAAAAAAAAAAAAAAAAAAAAAAAAAAAAAAAAAAAAAAAAAAAAAAAAAAAAAAAAAAAAAAAAAAAAAAAAAAAAAAAAAAAAAAAAAAAAAAAAAAAAAAAAAAAAAAAAAAAAAAAAAAAAAAAAAAAAAAAAAAAAAAAAAAAAAAAAAAAAAAAAAAAAAAAAAAAAAAAAAAAAAAAAAAAAAAAAAAAAAAAAAAAAAAAAAAAAAAAAAAAAAAAAAAAAAAAAAAAAAAAAAAAAAAAAAAAAAAAAAAAAAAAAAAAAAAAAAAAAAAAAAAAAAAAAAAAAAAAAAAAAAAAAAAAAAAAAAAAAAAAAAAAAAAAAAAAAAAAAAAAAAAAAAAAAAAAAAAAAAAAAAAAAAAAAAAAAAAAAAAAAAAAAAAAAAAAAAAAAAAAAAAAAAAAAAAAAAAAAAAAAAAAAAAAAAAAAAAAAAAAAAAAAAAAAAAAAAAAAAAAAAAAAAAAAAAAAAAAAAAAAAAAAAAAAAAAAAAAAAAAAAAAAAAAAAAAAAAAAAAAAAAAAAAAAAAAAAAAAAAAAAAAAAAAAAAAAAAAAAAAAAAAAAAAAAAAAAAAAAAAAAAAAAAAAAAAAAAAAAAAAAAAAAAAAAAAAAAAAAAAAAAAAAAAAAAAAAAAAAAAAAAAAAAAAAAAAAAAAAAAAAAAAAAAAAAAAAAAAAAAAAAAAAAAAAAAAAAAAAAAAAAAAAAAAAAAAAAAAAAAAAAAAAAAAAAAAAAAAAAAAAAAAAAAAAAAAAAAAAAAAAAAAAAAAAAAAAAAAAAAAAAAAAAAAAAAAAAAAAAAAAAAAAAAAAAAAAAAAAAAAAAAAAAAAAAAAAAAAAAAAAAAAAAAAAAAAAAAAAAAAAAAAAAAAAAAAAAAAAAAAAAAAAAAAAAAAAAAAAAAAAAAAAAAAAAAAAAAAAAAAAAAAAAAAAAAAAAAAAAAAAAAAAAAAAAAAAAAAAAAAAAAAAAAAAAAAAAAAAAAAAAAAAAAAAAAAAAAAAAAAAAAAAAAAAAAAAAAAAAAAAAAAAAAAAAAAAAAAAAAAAAAAAAAAAAAAAAAAAAAAAAAAAAAAAAAAAAAAAAAAAAAAAAAAAAAAAAAAAAAAAAAAAAAAAAAAAAAAAAAAAAAAAAAAAAAAAAAAAAAAAAAAAAAAAAAAAAAAAAAAAAAAAAAAAAAAAAAAAAAAAAAAAAAAAAAAAAAAAAAAAAAAAAAAAAAAAAAAAAAAAAAAAAAAAAAAAAAAAAAAAAAAAAAAAAAAAAAAAAAAAAAAAAAAAAAAAAAAAAAAAAAAAAAAAAAAAAAAAAAAAAAAAAAAAAAAAAAAAAAAAAAAAAAAAAAAAAAAAAAAAAAAAAAAAAAAAAAAAAAAAAAAAAAAAAAAAAAAAAAAAAAAAAAAAAAAAAAAAAAAAMjAyMTowNDozMCAwMDo1ODoxMwAyMDIxOjA0OjMwIDAwOjU4OjEzAAAAdABpAHQAdQBzACAAYwBoAG8AaQAAAP/hCx1odHRwOi8vbnMuYWRvYmUuY29tL3hhcC8xLjAvADw/eHBhY2tldCBiZWdpbj0n77u/JyBpZD0nVzVNME1wQ2VoaUh6cmVTek5UY3prYzlkJz8+DQo8eDp4bXBtZXRhIHhtbG5zOng9ImFkb2JlOm5zOm1ldGEvIj48cmRmOlJERiB4bWxuczpyZGY9Imh0dHA6Ly93d3cudzMub3JnLzE5OTkvMDIvMjItcmRmLXN5bnRheC1ucyMiPjxyZGY6RGVzY3JpcHRpb24gcmRmOmFib3V0PSJ1dWlkOmZhZjViZGQ1LWJhM2QtMTFkYS1hZDMxLWQzM2Q3NTE4MmYxYiIgeG1sbnM6ZGM9Imh0dHA6Ly9wdXJsLm9yZy9kYy9lbGVtZW50cy8xLjEvIi8+PHJkZjpEZXNjcmlwdGlvbiByZGY6YWJvdXQ9InV1aWQ6ZmFmNWJkZDUtYmEzZC0xMWRhLWFkMzEtZDMzZDc1MTgyZjFiIiB4bWxuczp4bXA9Imh0dHA6Ly9ucy5hZG9iZS5jb20veGFwLzEuMC8iPjx4bXA6Q3JlYXRlRGF0ZT4yMDIxLTA0LTMwVDAwOjU4OjEzLjk1NjwveG1wOkNyZWF0ZURhdGU+PC9yZGY6RGVzY3JpcHRpb24+PHJkZjpEZXNjcmlwdGlvbiByZGY6YWJvdXQ9InV1aWQ6ZmFmNWJkZDUtYmEzZC0xMWRhLWFkMzEtZDMzZDc1MTgyZjFiIiB4bWxuczpkYz0iaHR0cDovL3B1cmwub3JnL2RjL2VsZW1lbnRzLzEuMS8iPjxkYzpjcmVhdG9yPjxyZGY6U2VxIHhtbG5zOnJkZj0iaHR0cDovL3d3dy53My5vcmcvMTk5OS8wMi8yMi1yZGYtc3ludGF4LW5zIyI+PHJkZjpsaT50aXR1cyBjaG9pPC9yZGY6bGk+PC9yZGY6U2VxPg0KCQkJPC9kYzpjcmVhdG9yPjwvcmRmOkRlc2NyaXB0aW9uPjwvcmRmOlJERj48L3g6eG1wbWV0YT4NCiAgICAgICAgICAgICAgICAgICAgICAgICAgICAgICAgICAgICAgICAgICAgICAgICAgICAgICAgICAgICAgICAgICAgICAgICAgICAgICAgICAgICAgICAgICAgICAgICAgICAKICAgICAgICAgICAgICAgICAgICAgICAgICAgICAgICAgICAgICAgICAgICAgICAgICAgICAgICAgICAgICAgICAgICAgICAgICAgICAgICAgICAgICAgICAgICAgICAgICAgIAogICAgICAgICAgICAgICAgICAgICAgICAgICAgICAgICAgICAgICAgICAgICAgICAgICAgICAgICAgICAgICAgICAgICAgICAgICAgICAgICAgICAgICAgICAgICAgICAgICAgCiAgICAgICAgICAgICAgICAgICAgICAgICAgICAgICAgICAgICAgICAgICAgICAgICAgICAgICAgICAgICAgICAgICAgICAgICAgICAgICAgICAgICAgICAgICAgICAgICAgICAKICAgICAgICAgICAgICAgICAgICAgICAgICAgICAgICAgICAgICAgICAgICAgICAgICAgICAgICAgICAgICAgICAgICAgICAgICAgICAgICAgICAgICAgICAgICAgICAgICAgIAogICAgICAgICAgICAgICAgICAgICAgICAgICAgICAgICAgICAgICAgICAgICAgICAgICAgICAgICAgICAgICAgICAgICAgICAgICAgICAgICAgICAgICAgICAgICAgICAgICAgCiAgICAgICAgICAgICAgICAgICAgICAgICAgICAgICAgICAgICAgICAgICAgICAgICAgICAgICAgICAgICAgICAgICAgICAgICAgICAgICAgICAgICAgICAgICAgICAgICAgICAKICAgICAgICAgICAgICAgICAgICAgICAgICAgICAgICAgICAgICAgICAgICAgICAgICAgICAgICAgICAgICAgICAgICAgICAgICAgICAgICAgICAgICAgICAgICAgICAgICAgIAogICAgICAgICAgICAgICAgICAgICAgICAgICAgICAgICAgICAgICAgICAgICAgICAgICAgICAgICAgICAgICAgICAgICAgICAgICAgICAgICAgICAgICAgICAgICAgICAgICAgCiAgICAgICAgICAgICAgICAgICAgICAgICAgICAgICAgICAgICAgICAgICAgICAgICAgICAgICAgICAgICAgICAgICAgICAgICAgICAgICAgICAgICAgICAgICAgICAgICAgICAKICAgICAgICAgICAgICAgICAgICAgICAgICAgICAgICAgICAgICAgICAgICAgICAgICAgICAgICAgICAgICAgICAgICAgICAgICAgICAgICAgICAgICAgICAgICAgICAgICAgIAogICAgICAgICAgICAgICAgICAgICAgICAgICAgICAgICAgICAgICAgICAgICAgICAgICAgICAgICAgICAgICAgICAgICAgICAgICAgICAgICAgICAgICAgICAgICAgICAgICAgCiAgICAgICAgICAgICAgICAgICAgICAgICAgICAgICAgICAgICAgICAgICAgICAgICAgICAgICAgICAgICAgICAgICAgICAgICAgICAgICAgICAgICAgICAgICAgICAgICAgICAKICAgICAgICAgICAgICAgICAgICAgICAgICAgICAgICAgICAgICAgICAgICAgICAgICAgICAgICAgICAgICAgICAgICAgICAgICAgICAgICAgICAgICAgICAgICAgICAgICAgIAogICAgICAgICAgICAgICAgICAgICAgICAgICAgICAgICAgICAgICAgICAgICAgICAgICAgICAgICAgICAgICAgICAgICAgICAgICAgICAgICAgICAgICAgICAgICAgICAgICAgCiAgICAgICAgICAgICAgICAgICAgICAgICAgICAgICAgICAgICAgICAgICAgICAgICAgICAgICAgICAgICAgICAgICAgICAgICAgICAgICAgICAgICAgICAgICAgICAgICAgICAKICAgICAgICAgICAgICAgICAgICAgICAgICAgICAgICAgICAgICAgICAgICAgICAgICAgICAgICAgICAgICAgICAgICAgICAgICAgICAgICAgICAgICAgICAgICAgICAgICAgIAogICAgICAgICAgICAgICAgICAgICAgICAgICAgICAgICAgICAgICAgICAgICAgICAgICAgICAgICAgICAgICAgICAgICAgICAgICAgICAgICAgICAgICAgICAgICAgICAgICAgCiAgICAgICAgICAgICAgICAgICAgICAgICAgICAgICAgICAgICAgICAgICAgICAgICAgICAgICAgICAgICAgICAgICAgICAgICAgICAgICAgICAgICAgICAgICAgICAgICAgICAKICAgICAgICAgICAgICAgICAgICAgICAgICAgICAgICAgICAgICAgICAgICAgICAgICAgICAgICAgICAgICAgICAgICAgICAgICAgICAgICAgICAgICAgICAgICAgICAgICAgIAogICAgICAgICAgICAgICAgICAgICAgICAgICAgPD94cGFja2V0IGVuZD0ndyc/Pv/bAEMABwUFBgUEBwYFBggHBwgKEQsKCQkKFQ8QDBEYFRoZGBUYFxseJyEbHSUdFxgiLiIlKCkrLCsaIC8zLyoyJyorKv/bAEMBBwgICgkKFAsLFCocGBwqKioqKioqKioqKioqKioqKioqKioqKioqKioqKioqKioqKioqKioqKioqKioqKioqKv/AABEIAL8BXgMBIgACEQEDEQH/xAAfAAABBQEBAQEBAQAAAAAAAAAAAQIDBAUGBwgJCgv/xAC1EAACAQMDAgQDBQUEBAAAAX0BAgMABBEFEiExQQYTUWEHInEUMoGRoQgjQrHBFVLR8CQzYnKCCQoWFxgZGiUmJygpKjQ1Njc4OTpDREVGR0hJSlNUVVZXWFlaY2RlZmdoaWpzdHV2d3h5eoOEhYaHiImKkpOUlZaXmJmaoqOkpaanqKmqsrO0tba3uLm6wsPExcbHyMnK0tPU1dbX2Nna4eLj5OXm5+jp6vHy8/T19vf4+fr/xAAfAQADAQEBAQEBAQEBAAAAAAAAAQIDBAUGBwgJCgv/xAC1EQACAQIEBAMEBwUEBAABAncAAQIDEQQFITEGEkFRB2FxEyIygQgUQpGhscEJIzNS8BVictEKFiQ04SXxFxgZGiYnKCkqNTY3ODk6Q0RFRkdISUpTVFVWV1hZWmNkZWZnaGlqc3R1dnd4eXqCg4SFhoeIiYqSk5SVlpeYmZqio6Slpqeoqaqys7S1tre4ubrCw8TFxsfIycrS09TV1tfY2dri4+Tl5ufo6ery8/T19vf4+fr/2gAMAwEAAhEDEQA/APpGiiigAooozQAUUZooAKKKKACiiigAoopk88VtbyT3EixQxKXd3OAqgZJJ9MUN21YD6KxPDGr3ev2L6tJCLewuiGsImUiRou0j+m/qFxwMZ5Jxt0Wa3AKKKKACiiigAoozRQAUUUZx1oAKKKKACiiigAooooAKKKKACiijOelABRR1HFYOha9Lc6te6Fq6pFqtiBJ8gwlzAxISZASeMgqwzww9CCTrYOlzeooooAKKKKACiiigAooooAKKKKACiis7XWvxpEg0qRYZ2ZVM74PkpuG9wDwSFyQCCM4zxSbshrU0a82h8RXNn8OvEfjSGOKa8lmuinmyFNkUTvFEi/K3I2g7cAFmbkZzVXwHqfj7xToWha8dVtmsp72Tzo5oEjaSzVmCsQqnMjY6qUUDHB5resvCKzaFq3hTU/tEdk1815a3MJHKPN5wGSCMrJkFSCCAPWhq6a/rp/XyYJ2a9f8AP+vuKeqPqmh+DfDes6wynWNOubWC5lSUyedHM6RShiVXOdwfGMBlXrjNeg1yuvaDJqFtpWhQ+fNbC8jvLy6mYnKxSCTBboWaQKNowAM9AAK6qrbvd+b/AE/W5KVrLy/zCism5ufEK3Mi2el6ZLAD8jy6lIjMPdRAwH5mo/tXin/oD6R/4Npf/kapGbVFAzjng968zufFPinxPpOt614Tv9O0fR9LaeO3lu7Q3D3zQg72zvURx7gQDhjwT7VLkldvpqNK56ZXAfFi5kutP0TwtbsVbxHqcdpMQcEW6/PN+arj/gVaHw3u/EGreFbPW/EWrQXw1K1iuIYIrD7P9n3Lkgne2/qOcDp71h+L/wB/8ffAELk7Ibe/mUdi3lgVo42movv+WtvwsTzLlcvL89F+LO71e4utL0GefR7K3uZbaPclvNOYEKr1G4I+OBx8v5da5Lwn8QNY8V/DmTxbBoOn2sTI8lvBLqr/ADKjMsm9vIwmNpIwGz3213U6eZbyJ/eUj8xXhfwdX/hIfhbZeEFwbeC4uW1UHtEJWKQnuC7dQf4Vb1FZtu0l1tdfqXZJJ9LnoHgjx3qfjLwE/ij+x7Cwhkjd7WKTU2bcUZlbzW8keWMr1Afg9BW14S1jWdd0aPUNc0WDR/PVXghS9M7lT3fMabT0OOevODxXlHwVkOt/DfTvCiD9xa3c8mqf7MQmJSE+hduo/uq3qK90rWVr3Wz2I1Ts902cp8QfGF54J0S31Kz0uDUxLcx2xhe8MDl5GCrsxG4bknOcYA710OpXo07R7u+kXItoHmZf91ScfpXnfxPhudf8deB/DVhKsT/bn1WZ2TeI0gXg7e5y2BnjOK0fCmqajrfifxn4e1K8fUdK054rWG6ljRZCzxZlQ7FVTtyOwIzzmsneUHbfW34L87l6KSvtpf73+hmajf61pfwm0mTRzE2seIJLcS3TTGNxPcMpLL8jZwCw7bVUYzjFegtqtrZxxR6teWdpclAzxNcjg+xbaSM55wK5rTPCjah4W0XS9amvLa98OzKsVzAQvmlIzGsg3KQQyNnplSexFdjBClvbxwxZ2RqFXLEnAGOp5NaStd276eltDNXsr9tfXqVUvbTVIZodO1OMybcGS1kR2jz0OCGH5giuS8B+d4k8Fava67czX+/Vb+1MkzZbYs7KuMYxgAYxjGOK7eeNpbeSOOZ4GZSBLGFLIfUbgRn6giua0fw7/wAIPomof2bd6lqxmlluUt5xESZpHLHBSNcAs3OTgD0AqH1v2/yL10t3JvAWq3Gs+B9Ou72TzrpVaCeUjHmPG5jZvxKk/jXRVj+E9Ebw74UsNLlkEs0MeZpF6PIxLOR7Fias6hrNrpkqR3MV87Ou4G2sJ5x+JjRgD7Gqe+pK2LiTRSSSJHIjvEwWRVYEocA4PocEH8afXB+HvE1hH4l8VO0GqESX8TLt0i6Yj/RYRyBHlTx0OOOehrtrO7jvrVLiFZlR84E0LxP1xyrgMPxFFtPuKejOJ1nx5rlh8SLXwhp3h7T72a8tnuoZ31Z4gkS8EyKLdtuSCBgt9a0/FHiTXNEvtHtdM0Sx1F9Um+zgS6k0Bjk2M5OBC2UCoeev+zXMeEV/t34+eMtbYZi0m3g0m3Y+uN8n/jw/WunuD/aPxStIQcxaPpzzuPSWdwifjtjl/wC+qUdVHz1/Nr71YT3l5f8AAX4M6W3aZraNrqOOOcqDIkbl1VscgMQCRnvgfQVJRXnHjfXPFOh/2ZNZX8cF5qmspp1pYGFJIRExYeY5xvL7Rv4YAcDBwSTd27hsr9jofH2oTWXhpILWRoZtSvbewEikhkEsqoxBHQ7S2D64rN1a+1e1+IXhzw7oMFtDp8MEt1Oi3DJuhQCMKVEZAwzggZ529qZP4e8Wal4V1G11y8tru+ttTS80l0IVnSJ1eNZSqKoLFSDheA3etweHrTVNdt/EjSX9tcPaxxPbFtisquXUOCNwIY8gEA45yKI9L9/wtp9zuD2/rvr+BT0Of7B8Q9e0OLi1e3g1OFB0jeRpEkA9AWjDfVmPesn4lS/2BrPhfxbEdn2PUFsbtum62uPkIPsHCN+Fb+i6bNJ4s1jxBdRND9pSKztUcEN5MRY7iO253bHsFPeuc+Pag/BPXX5DReRIpHYidMGldLlb6W+6/wDloUo80nFddPnb/PU9FoqCxkM2n28rdXiVj+IFT1TVnYhO6uFFFFIYUUUUAFFFFABRRRQAVQ1zTpNX8P3+nQXRtJLu2kgW4CbjEWUjdjIzjPrV+ik0mrMabTujO8P6Nb+HfDmn6PZkmCxt0gRiOWCjGT7nrWjRRVNtu7JSSVkFFFFIZk3PhTw9eXMlxeaDpk88h3PLLZxszH1JIyaj/wCEL8L/APQt6R/4ARf/ABNbVFACAALgDAxjFcRbfDg23huXwvFqxj8NySyM1rHb7ZzG7l2iM27GwliOEDbeM967iigL6WI7e3itLaK3to1ihhQJHGgwFUDAAHpivOvHcbWXxf8Ah5qxO2Fp7uwkPvJFlB+amvSa5f4heHJ/EnhN49N2jVLGaO/09mOMTxNuUZ7Z5X/gVHNZqT/pdfwuCV04rt/w34nUVz/g/wAG6Z4J0mex0lWIuLmS5mlkxukd2zzgdAMAewq94e1u38RaBaapahkWdMvG4w0Tjh0YdmVgQR6itKhqzFe6Of8AB/g3TPBOlT2Wkhj9puZLqaWTG53c55wOgGAPYVzln4FtNU+IWv6lqtjcLbxy2otHaR0MsiEzNICCCQGcJ6YTb0r0OihaNNdBvVNdzn18Kr/wsWTxXNdmRv7NFhBbeXgRDzC7PuzyW+UdBjHeqHhfwEPDerXl0dSa6invbi9ji8rYRJMRuaRtx3kAbV4XAzwTzXX0ULT+u7v+YPXf+rK35BRRRQAUUUUAFFFFAGNo2mXFjrmv3U4Xyr+8jmhwckqtvFGc+nzIa2aKKBt3OUXwfeaZ4j1LVvDGqw2I1d0lvre6szcIZFXbvjxIhRiMZzuHHStfTNCg02zuU86ae4vGL3V3IwEsrEYzkAAYGAAAAAOK1KKVlawutzgPh14JttPtI9avrCa01Jrm6kijZ2TyYZJCEQpnB+RVPI4LMepNRf8ACsNRGrWeonxVNcz6bfzXtkt7btMimUEMsgMgLYBAXaUC4PBzXolFPqn2Dv5/1+pQ0fTDpdo6S3Ul3cTStNPPJxvdvQdFUAAAdgB1OSb9FFABXnXx1DXHwrudNh/12qXlrZxDH3maZf8AA16LXCavAfF3xO0yyj+fTfDL/brt+zXbLiGP6qpLn0ynrRvJeq+5asabSbX9Pp+J3EMYhgjiXoihR+Ap9FFG5KVlYKKKKBhRRRQAUUUUAFFFFABRRRQAUUVn22s2t1dahFFu8vT2CTznAjD7dxUHPJUEZ4wM4zkEAA0KKyR4k09n0po3aS21Yf6JdKB5btt3KueoLKCRxg7TznAOtQAUUUUAFFFFABRRWP4r8RQeFPC97rFyhlFun7uFTzNIx2og92YgfjSbshpXZdtNOsrK8u5rSMRS3biWdVY4ZsY37egJA5IHOOelW6w/Cuj3GmaV5+rSCfWL3E1/OB1kI+4voiD5VHoM9STW5VNW0JWuoUUUUhhRRRQAUVR/tWA65/ZUavJcLB58pUDbEpOF3HPViGwBn7pqWx1G01KOWSwuEnSKZ4HZDkK6HDL9QRigCzRRWbD4i0i411tGt9Qhm1FImle3jbcUVWCndjgHLAYPNHWwGlRVHTdXg1OW8hjWSKeynME8MgAZTgFTwSCGUhgfQ9iCBeoAKKKKACiiigAooooAKKKoxarBPrc+mQq8kttEsk7gDZGW+6pOfvEAnHYdcZGQC9VTTtOs9JtvsthGIlLNIwLFmdmOWZieWJJ5JqlL4o0xLG1vo5vOsbm5+yi6jwY43LFBuPoXGzIzyR25qt4w0u7udMGp6Hhda0wNNZnoJeMtC3qjgYPodp6gUrpK72Ha+h0NFZnhvXrTxP4bsda08n7PewiRVPVD3U+4OQfcVp1TTTsyU7q4UUUUhhRRRQAUUUUAFFFFABVS/wBV0/So0k1S/trJJH2I1zMsYZvQFiMn2q3XmnxksUutL0+1XeJdcvrbRnmJ4hgkk3yY9C2wD3wKOqXd2+8fRvsejPcwR3EcDzRrNMCY4y4DPjrgd8V5PPK6/ATWpGkljvJb69jeSOV49kz3bx7mKkHaN2TnjA54qxFqlldfH+d/M8y30HToNLgji+bFzcOWP5InPoAfSvRNO0ePS9Qv5rWQrBey+e8BHCSkYZlPYNgEj1ye5pWUo36O/wCf6rX5oLuLt1Vn+H9L7zi/EltZ2Hww0mDQjO0VvqVglm0sjuzFbqNQVLEnaQDjttPHFei1nX+kJqWpWFxdSFobGQzRwAcNLjCuT32gnA9TnsK0aq7ad+9/y/yJslZLsFFcnqVnv1Kdv7D8TT5c/vLXWvKjb3VPtS7R7bR9KrfYf+pd8X/+D/8A+7KS1GdrUF1fWliqte3UNurHCmaQICfxqYcIOD06E5NeIwWmj678NPEHjHxvp0Op6vfzXVvbQXUYkktirtFDbQqfuNkD7vJJzUybSduhUVe1z2e11Gyviwsby3udmN3kyq+3Prg1wHxImXUPHfgHw45zHdam99KmeGFvGXAPqNxB/Ctz4c+E7bwp4L0y3/syystTNlCt/JbW6RtLIF53lR8xBJ5PvXP+Kzt/aC8B7zhWs78KCep2KTj8K05UqiXZ/km/zRnzfu3Ly/PT9TutfsBqWg3dqZrmEtESslrcyQSKwGQQ8ZDDkDvz0ORXk3w8vWuf2ezrGr6hrmoaneCSIsNWufOlmWZliSM+Z8hJ2g7cAj72RXtLKGQqehGDXjHwH0a8uPDC/wBqQlLDSL67jsQx/wBdKzsry47bQWQe7P7VnvzR7r8v+H/I0ukk+z/R/wCRN8K9Rab4FJrGsX2r6lqWoGS2fzdUuGlll850jSMl/wB0TlRlNp7npXovhHw23hrRo7e41LUNTu3VTcXF9ey3G5++0Ox2jnoMds5PNeafATR76Xw4h1KIpYaNf3aWIb/ltKzkNLjttG5B7s/tXfXvxC0fT7jV47mK8A0m2+0zOIgRIu8phOc53KQMgZxxkc1pKSk+ZdVf5Wv/AF8iOWza7N/nY3Nckt4fD9/LevJHbx28jyvFM0TKoUkkOhDKcDqCDXEfBvWkm+H+k2+r6+t7rV4j3bQXN951wqMxZRhmL4CFetWvjDfyw/Cu/t7QEXWrGLT4EPBLTuEx+RNc74lt9N0Lxh4J8P2sYttO8N2s2rz+SvzFUXykVQOrO79OpJ96mO787L7rt/crMb1ireb/AEX3u6Oj0qQrrvxBkvRKxini2iF3STyhaIVClSGHO/GD1zUXwqgW1+HNm+lf6Xd3Ci4u2mu5TEZpP3j7WO4cF8HaOuc8g11qaQi+IP7Zt3aGWe3ENzEVyJQpJQnnhlLMM9wxHoRpULRfd+H+YPX+v62KMc2rGVRNZWax5+ZlvHYgew8oZ/MVxM2taWP2greA6lZiYaE8Bj89d3mm4UhMZ+9jt1r0SihfEn2v+Ka/UHrFr0/O5yGnFh8YtdWL/VNpFm0uOnmeZOB+O3+ldfWdpekJp1xe3TSGe7vpvNnmIxkAbUUDsqqAMfU9SatXiXb2rLp80MFxxtknhMqjnnKhlJ/MUdEG7b/rsVr7VRZatpliYi51CSRA+7GzbGX6d84xWhXDa1beJB4q8NiTVtKZzPPsYaZIAp8h85H2jnj3FdVp8OrxO51W9srlSPkFtZvCQfctK+f0oJT1ZwPx1ubm18FWn9k39/Y6veahDZWMlneywfPIwzkIwDfKp+8DjPGM1va/plp4d+GmqqbvVpFt7Z5/NOq3JnaRV4xKZN4ywHyggc4xyawfiTC9z8TvhzHe4TSl1CeV5G+79oWPMKk+pIOK6LxXImuXtl4Zsn82VrqG5v8AY2fs9vG4k+f03sgUDqQWPQGkleFu7/DT/gv8S27ST7L9X/wxoeE9BPh/QLe2mvb++ujGhuJ769luGeTaAxBkY7RnsuB7VrXNzBZ2z3F3NHBBGNzyyuFVR6kngVh3vjXTNP1+TSblLlXitZrp5xGPKVYlVnGc54DrzjHOM5GKq6l4i8O3EPhm81d54RqEguLCCSJuW8otmQAEDapzknAOD2pylf3v61/4YlLlVjZi8R6JPJapBrGnyPeZ+zKl0hM+OuzB+b8K4u1u/snh34i3swme4ttRuZGW3kdJCEt4zGAUIYfKF6Guc+HmmeHtd0ePxDrcLT3Wu+J59QsY42ZWLRuwjLKpGVQIzHPAz716xBo8drr9zqdrJ5f2yNRcw7ciR14WTPY7flPqAvpScbp36q3pez/DYq9pej++11/wTzp9Ps9M/Zw1G106ea4MOlt++aV5FkuNgO6MsSMeZ028ZzivUbYyNaRGbiQou/645qnrGjx61HbwXUh+yRzrNLCF/wBcUO5FJ/uhgCR3wB0znRq5S5m2QlZJHnXwplNlqPjLw5uHl6XrkrwKP4IpgJFX8y1ei15l8Pw5+NHxMfJMXn2IHPG4QHPH5V6bStaMfRfkh/al6v8AMKKKKQwooooAKKKKACiiigAqC9sbTUrR7XUbWG7t3+/DPGHRvqDwanooAoW+g6PaXUNza6VYwXEEflRSx2yK0af3VIGQOeg4q/RRQAUUUUAFFFFABVFdD0lNUbUk0uzW/b710LdBKeMffxn9avUUAFedfE+H+zvEPgrxQR+70zVhb3D5+5FcL5ZY+wbb+dei1n69otp4i0G80jUVLW15EYnwcEZ6EHsQcEH1FLVNNdP6/HYa6rvp95oUiIsahUUKo6ADArD8Jz6oulf2dr8bHUNPxDJchCI7tQPllU9PmHUdVOR6E7tUyUIiLGoVFCqOgAwK4nxF8PrjXL7VJodYS3i1KW0lljktPNI+zsGVNwdfkJGSMZyTzzXb0UhlFNKgfT7O31JU1F7TY6zXMau3mqOJOejdTkdM0+50rT7y9t7y7sLWe6tTmCeWFWeI/wCyxGV/CrdFHW4BRRRQAUUUUAFFFFAFW5063u7+zu5gxlsmd4SDgAspU59eCatUUUAQXtjaalZyWmo2sN3bSDDwzxh0Ye6ng0zTtMsNItFtdJsbaxt1ORDbQrGg/wCAqAKtUUAcf4r8CzeJLzUJoNX+xjUNLOmSq1v5pRN5Ysh3rtJ3YPXIA6YrYtvDdm2i2mn63Dbat9mO9WubdWVWycFVbO0AHA5JA71sUULRW/rv+oPV3/rt+hStdF0uxvp72y02ztrq4/108MCo8vf5mAyfxq7RRQAUE4GTwBRXO+MDqV7po0TRFkjutTBie8CnZZw9Hk3dN2DhV6knPQEhO/Qa8znfhHEb2DxL4mOCmu61PNbtj70EZ8tD/wCOk/jXolVNK0u00TR7TTNOiEVraQrDEg7KowKt1TstFstPu0J1d2+uv3hRRRSGFFFFABRRRQAUUUUAFFFZut3up2VmraLpQ1O5d8CJ7kQIo6ks5Bx0wMA5JHQZIANKq0Oo2s97c2kMu+a02+eADiMsMgE9M45x1AIPcVT0PVb/AFWOaTUNDutHEbBUS7liZ5D/ABECNmAX0JOTzwO/np1C6i+CGt6lBdS2+pXd7eLuj2Fnme5eFIzuU8fcXjBAHBFJ3Q1Z2PS21axW7tLc3Cl71Wa3IyVl2jJAbpnHOM5IBI4BxcrznX7OLQfhjosWnXrXraTqNjFbztszlbhImUbVA+6XTpnBOc16NVNLW3e35f5kq9lcKKKKQwooooAKKK47x1q1y91pPhTSpmgvtdlZZJozhre1QbpnB7MRhQexbPajyQep1dreW99CZbOeOeMOyb423DcpwRkehBH4VNUNlZ2+nWMFnZQrDb28YjijQYCKBgAVNR6AFFFFABRRWDD4rtH0bVdanXytK05pQLjJJlWLIkYLjoGVgOucZ7igaTexvUVFa3CXlnDcxBgk0ayKHGCARkZHY0+SQRRPIwYqiliFUsePQDkn2FD03Etdh1FYujeJrbxFbak+jxTGSwuHtWW6Qw7pVVWxyNwHzAZIz14qzoWsw69o0N/bo0e8skkT/eikVirofdWBH4UAaNFFFABRRVPVtTt9G0i51G9JEFtGZH2jJOOwHck8AepoegblyisiXX4rCPSI9XiNvearMIIreM+Ztk2M5BOBwApycU/TtaW81nUdKni8i7sSjFd24SQvnZIOB12sCOxU9Rgl2A1KKKKQBRRRQAUUUUAFFFYtr4kt7mDVr0qE03TXeNrndnzDGD5pAx0UgrnPJDegym0tx2bNqoVu7d7x7RZ4zcxoJHhDDcqkkBiOuCQefY1kN4ogB0ScwOLDWQFhnf5WjkZd8asuONwBGc8NgY5qh8QLa6tdGHiXRkzqmhhrhFH/AC8QjmWE+oZRx6MqntTfu7/1/X5CXvbHWUVU0rUrbWdItNSsH8y2vIUmib1Vhkfzq3TaadmJNNXQUUUUhhRRRQAVxXxfv/7L+Fes3sdxdW9xFEBbSWlzJA4mYhUw0bAn5mHHQ9xXa15x8WIE17UPCPhKRfMi1XVhNdRkZDwQKZHB9idoqWua0e7X9fLcqLtr2Oo8IX9m+g2WmR63Dqt/Y2sUd24uxNLvCgMz8k5JB606x8NQWh1Synht7vSb+c3Qtp0DBJHOZF2kYKlhvHoWPtXFQX1tJ8fLy42mK30ewt9Gt4ol/wBZNOfNIA/uqi5PYAE16lVt83v97/n/AMMyEuX3e1vy/wCHRjaloK6jcaXDiKHTNPlW48iNcb5E/wBWuMYCqfm+qr2rZoopDCiuT1Lw79q1Kef/AIQ3wzeb3J+0XU2JJPdh9mbn8TVb/hFv+pC8I/8Af/8A+5aFqB2tctqnxN8FaLqUun6p4l0+3u4TtlhaXLIfQ46H2rqAPkAxjjGAelcHP9l/4WzoHhzTYEhtdIsLjU5UReFdz5KHPqd0pz1PWj7Vv67h0udXoXiHSfE2nfb9Av4r+13mPzoTldw6j9a4rS3Gq/tF67K5JGi6Lb2sYOcK0zGRj9cAV6PXmXg5TF8ffiEj8NJBp8i8dV8ojP50K3OvR/lb9WO3uS+X5oP2gtHtNR+DurXU1pDNdWKpJbzPGC8P71N21jyuR1x1rlPjDZ6QPgfa2Gh6Fp4lWzjv1MduifY4Syb5FwOGdiBjgt83XBr0v4qWEupfCjxHaW0LzzSWEhjijXczsBkAAdTkVyN54U1OP9nvV4tVgabXbvRkWSGJCzJ5cYEcKjk8Y6f3mb1rOSfJO3k/z/yRUX70Pn+n/BNW88PaBr/hLQfCVto1iLS9hjvpo47ZVW2iABaRQB8ruW2AjB+Zj2NRfFi2t/DHwle08MK+jzC4ht9PTTJ3tAkskgXP7ornhmJByCeSM1u/DbQr7SPCNlNrwA1e4tYUuFA/1KogVIh/ujJP+0zHvWJ8RrSHxL4+8FeFrmJZ7U3M2qXcbDKlIUwoI7gs+K2qJOfL3f8AX3L/AIBlTbUFJ9F+P/BZ2mi6lp17pwtdL1e31KW0iWKWSK5WZgwXGXIJOTjPPWvNW0xtW/Z+0jTW09r+UTw212FtzO8G242XDhQC2QBIDgZ5NX/D+oQXPxx8Rai6uqRiDQbRI1z5jojTysR2VcgZ9x6ivRLLS7fT7i7ltNyLdy+dJFn5BIR8zAdi3BPbPOMkkz8VpPrZ/jf8V/kUvd93t/l+jKtlbXEel2qaRBa6RbiPi0ktM+Xk5xhHUL9OeatQi+g3yX9zBNGqk7YLV1b/ANDbP0AzVyigDhPhtK4v/FKzWWoW32nWp7uE3dhNAskRVAGBdADyDx146Ve+HoZrLXJl/wBRNrt48HHBXzNpI9i6sa6m4iM9tJEJXhLqV8yMgMuR1GQeajsLG30ywhsrGIRW8CBI0HYD+f1oWlvJW/L/ACB6/ff8/wDMW9vYNOsLi8vH2QW8TSysFLEKoyTgcngdqLK8g1CxgvLR98FxEssbYIyrDIODyOPWuJ+Knhu91/RC+nWlt5trbTub7dIbqEbP9XCkeCxfGCC2OBlW6Uvws8N33h/RSdTtLUy3NvA4vg0n2mYbP9XMr527M4ADbeThV6UR1vfpb9Qlpa3n+h2V5qun6dLBHqF9bWsly+yBJ5lQyt/dUE/MfYVyHxB1Oy1TwTcvpeoW10llf2b3n2eZZPLRLmNnDYPGFBJz6Gsf4w6RbaxcaDpBQy3Gvajb2coJyFtomM0uB2ztXPrgeldtZ+DtCsbvVLiCwXdq0aQ3auzOjxopVUCk4VQCeAAOaI7c3Z/lZg9Hby/zRzfifRob/wCKehXd3oH2+2t7KUiYWYkVpmdFUM5GFCKXYbiOpxk8VpQhpPjLdND9yHQoknIHG5p3KD64Vz+NdNY2i2FjDaJJLKkKBFaVtzEDpk9+OMnn1yaisdMt7Ca6mi3PPdy+bNK5yzHGAPoAAAPb1yaFZNeV/wAb/wCYnqn52/Cz/T8S5WZeapLb+JdM05UQx3kU7uxzuUx7MY/76NW762lu7YxQXs9i5IPnW6xlh7fOrD9K4/UtFvx440ND4m1Vma3uyHMVrlceVwP3OOfcHpUtlHcV5L8e9Nsta0/w1or2VvNf6trENrFO0SmWGLO6Qq2MgcLnB5r0zTrC5sjJ9p1a81HfjAuUhXZ9PLjTr756VwXjy3Fp8WfBev6u3laFp6XSyXTcRW0zoArSN0UHGATgZHWq05o37/lr+O3zFryu3b+v8zU8b6BoWm/C3UtLstF06K3kQRWtqtogjFxIRHG4XGN25gc9a29M0zw74D8PJBbJp+jWMe3zJPkgR3wBuZuMscDk8ms28uofGeq6XBpDrdaTZXK3t1epzDKyAmOONujnftYkZAC4PJpvi3xJ4f0HVxPqcsh1Oz0y5u7aLy2ZFQAbmzjaGJAUEnPJA68py5U33/JK/wDn+Y0rtJf02/8AhjooNb0q5vEs7bU7Oa5kiEqQx3CM7IejBQclffpXmL6dLqfwEudMFg99dfbZ7adFg8ySJjeMksgUAnKqzNwM+lO+FfhrQbTw74LnvYWm15rSfUomjdtqedy8jqDjo6oCR7CvTrTS7eyvru6ttyG8YSTRg/IXAxvA7EgAH12jvmqlGzs/6syU76o4zxXaQxeCNEstH08aYX1mxFrarGsZQLcK5O0dDsVmI69c9672SNZYnjkAZHUqwPcGqs+mW9zqltfXG6SS0DeQhPyIzDBcD+9jjPYE46mrlD1i0+rb/JfoCVnp2/z/AMzzv4ITuPh4+lyMznR9RutPBbrtSU7fyDAfhXoleZfBCMjS/Fk4IMdx4ovnjI7jKj+lem0PZPyX5IFu/V/mwooopDCiiigAqCSxtJb2G8ltYXuoFZYp2jBeMNjcFbqAcDOOuKnooAqLpWnLqjamthai/ZPLa7EK+aV/ul8Zx7Zq3RRQAUUUUAFFFFABRRRQAV57exHQvj5p+oN8tr4h0t7EtjgXELeYoJ9ShbH+6a9CrF8VeHY/Eui/ZfNNtdwSpc2d0oybedDlHHqM8EdwSO9GzT7f5W/UN01/Xf8AM2qKp6TPe3GlwyaraC0vNu2aJXDqGHBKkdVPUZwcEZAPFXKb0YBUBsbRr9b5rWE3axmJbgxjzAhOSobrjIBx0qeikBUh0rTrfUptQgsLWK9nAWW5SFRJIB0DMBk9B1q3RRQAUUUUAFFFFABRRRQBDLZ2011BczW0Mk9vu8mV4wWi3DDbT1GRwcdamoooAKKKKACoZLSCW8hupIlaeBWWOQ9VDY3AfXA/KpqKACiiigAqpdaTp19dQXN9YWtzPbHMEs0Ku0R9VJGV6Dp6VbooApado2maQJRpOnWliJm3SC2gWPefU7QMmrtFFABVDXdWg0Lw/f6rdsFhsrd53J9FUn+lX65rxNot14ovrTSbmLy9Djdbm9YsP9LKtlIAOu3IDMTjIAAzk4TTashqyd2UfhLolxoXwy0qG/DLeXSteXIYYIkmYyEH3G4D8K7OgcdKKptN6Eq9tQooopDCiiigAooqpqer6botmbvWdQtdPtgwUzXcyxICeg3MQM0AW6Kitbq3vrSK6sp4ri3mUPFNC4dHU9CCOCPcVz0PjG2Wx1jWL+e2tdIsZ5LaCSRwrTPFkSHJOOXBUKOflJzzgJu17jSvsdNRXJQ+NkudH8Pa7AITpWqyRwTgOHe3klwI/mBxw+EYY6sDkYIPW1TTW5KaewUUUUhhRRVK91a0sbyztJnJub1ykEKKWZsDLN7KB1J46DqQCAXaKRmVQCxCgnAye9LQAUUUUAFFFFABRWPrWsS2eo6XpliqNeajMQpkBKxxIN0jkAjPGFHuwqlB4003U/Ft/wCGtLvLZ761tBN5vmq67yzrs2g5JXZlhxjI6UegHS0VhaN4mTUPCz6rc27pLatLFeQQqZGjliYpIFA5YZUkdyMcVr2d3b39lDd2UyT286CSKWM5V1IyCDTAmooopAFFVNT1fTdFszd6zqFrp9sGCma7mWJAT0G5iBmprW6t760iurKeK4t5lDxTQuHR1PQgjgj3FAEtFczD4xtlsdY1i/ntrXSLGeS2gkkcK0zxZEhyTjlwVCjn5Sc84Gn4c1y38S+HLHV7PaIruFZdiyK/lkjJUkcZHQ+9C1/ruD0dn/VjTopCcKSASQOg71geHvFDeIdQ1uy/s+bT5dJuEt2E7o7FmiWTJCEjjcOjGgDoKKx/DWtSazYTi7jSK+sbl7S7RPu+Yn8S552spVgD0DY7VsUAFFFFABRRUF7eQ6fYXF5duI4LeJpZXP8ACqjJP5Ck2krsaTbsieiuOvvH1v4f8J2OreImt4LnUJIvIsvNWNlSR1Vc7jztVwWbpwelaya6yeLo9Jn8p7e+tDdWE8f8QQqJFJzg/fRgR1BPpk1Z3t/XcXS5t0UUUgCio7jzBbS+Q6RybDseQZVTjgkZGR+IrkPC91qGqX++x8e6X4h023fNwLW3iabcQcIXjfYq9x8m7jG48mhauwPRXOgvdZW312w0mCLzrq7V5mG7AihTAZzwe7KAO5PsaYuvx3c2sWmkxG6vtKKpJE5MaNIyBwgfB7Ec44zWOimP4zT+efkuNBQQA9DsnbzMf9/I8/UVn/DLR4tOOsTyaB/Zt5c39xJJK1oIcR+aVjjU4G5QiK2RleepOaS1Xyf4Ow3o/u/FXOx0bVrbXdFtdTsS3kXMYdQ4wy+qkdiDkEeoNXa5D4YpIPBhkb/VT6hezQf9cnuZGQj2IOfxrr6p7koK4H426o2l/CPWBFnzr5UsogoJJMrBDgDk/KTwK76uF8d6Xe694y8GafHaTS6db6g+o3k4QmNDCn7tWOMAlm4HfBqWua0X1/Lr+BSfL73b+l+Jd8M+INPs7yw8HfYL3TrqDTVltY7lEAlgTCZG1mxjj5W2nnpXOWuk6lf/AAe1vw5YRNLqCX91aTxeYFco9yWYgsQMtC+4ZIzuHNT29vrB+OOq6lLpU7AW9tYWM7xN5CWvMk8nmfd3bsKFznOOMZNehR2VvFfTXccQWeZVWVwSN4XOMjoSM9etU25LmfW/5/5b+fpYlLldl0t+X+f9anHeNYrm78HaZprW6213eapZxw26vuKKk6ydR3WOMk444OCetdxUD2VvJfRXkkQaeFGSNySdgbGcDoCcDnrU9F9Pnf8AL/IfoZNz4ksbW5kglg1NnjOCYtKupFP0ZYyD9Qaj/wCEs07/AJ99X/8ABLef/GqkudHvp7mSWLxHqdsjHIhijtSqew3Qk/mTUf8AYWo/9DXq/wD36s//AIxSXmBtA5AI7+orhvC8x1n4oeLdRmO5dMMOlWoJzsAQSyEe7M65/wBweldyBgAZz7nvXC+DYv7M+JHjfTZRta5uYNTh/wBuOSIIT+DxsKFfm+T/AE/S4P4fu/r77GH8UtOhtfGPge9ikujLdeI4RIr3crx4CH7sbMUToPugc816tXmnxJsfEGs+IvDTaP4Y1C8g0XVo76a4W4tUWVApyEDzBs5OPmCjjrXotnPJc2cU01rNZyOuWt5yheM+hKMy5+hIoj8Hz/RCfx/Jfmyaisq58K+Hr25e5vNB0y4nkOXlls42Zj6kkZNNh8JeHLadJ7fw/pcUsbBkkjso1ZSOhBA4NAy9qF/b6Xp817eOUhhXcxCkk+wA5JJ4AHUmueg+IejP4f1zV7qO6s4tBleG+inRS8bqobA2MytncOh68cV080SzQlHRH7gOMjI5B/MA14NLo2sH4QweG7nRNVe/vdbFx4gdbJyFjNzvd1IH73ICYEe4464xS1bt/WrWvotb/Ielr/1sz0nUZBL8QvCGs4dLW6srq2TeMbZJFjlQEdiVif8AKpvDOm6vZeLvEd3qFlsi1C8Ekdy0ysGiSJEjVVByOjk7gME8ZzmtiyhbWdAg/tqwWBnIlFvkhocNmPnqHACnjoa0biBLm3kgmBMcilGCsVJB4PI5H4VW23n+Lv8AmStUrnL/AA9Rm0zVr7BEN/rF3cQZPWPftDD2OzcPrVL4eTGz1rxb4cB/caVqnmWy5+5FOglCj2DM+K7aGGK2gjht41jijUIiIMBQOAAPSuH8Awm68XeN9cUfuLzVEtoWHRxbxLGxH/A9w/4DSja9l0j+Tige1+7/ADuzoPE3ivTfCtmJtTl8ppEcwGRWWJ3UZCNLgqhY8Dcee2ah8I+MdP8AF2mxzWLZnFvFJcpGGeOF3XJjEu0KzL0IHI7gUnjHwu/inSXtDf3UMXlSBrSKXy4rpiuFErAbtoPUAgHPII4qDwH4Rl8I6FbWj39zIotYUeyabzYbeVVw5iYgMFJ7E4HYCiPW/l+v9fcOXS3n+hlfG3VG0v4R6wIs+dfKllEFBJJlYIcAcn5SeBWj4Z8QafZ3lh4O+wXunXUGmrLax3KIBLAmEyNrNjHHyttPPSqXjvS73XvGXgzT47SaXTrfUH1G8nCExoYU/dqxxgEs3A74NULe31g/HHVdSl0qdgLe2sLGd4m8hLXmSeTzPu7t2FC5znHGMmiH5v8ABLT8W/lcJbei/N6/giC10nUr/wCD2t+HLCJpdQS/urSeLzArlHuSzEFiBloX3DJGdw5rvre2vLjT7ffLNpboCPIgMb7Vz8oJZWGQMZxxnPJ61bjsreK+mu44gs8yqsrgkbwucZHQkZ69ano6B1+/8Spb2c9vJvk1G6uhj/VyLEB/46gP61yfgy01e08YeKrrUtDu7G21W8jubeWWWBhtWCOMghJGIOVPbGO9dvTXQSRsjZwwIO1iD+Y5FGzuG5yfgeFn1XxZqKn/AEe91ljD6MI4o4WI/wCBxsPwrrqitbWCxtIrWziWGCFQkcaDAUDtUGoaPpuroi6tp1pfLGSUFzAsgUnrjcDih7Jdkl9ysHV/Mzbe7uG+IuoWbTObaPS7WVIs/KrtLOC2PUhVH4Ct6uGt/Bvh/wD4WLqCt4c037KNLtSgNjHs3+bPux8uM425/CuvsNMsNKtzBpdlbWULNuMdtEsak+uFA54FPohy+J/L8kY19440vT/Elpo80dy0l1dCyW4RFMSzmPzPLPzbs7cHIUgZGSDWf4m1O38WaB4z8L6MZZNRsrBoJcLhfMliYqobucYz9RVHxJYTQfFrQNXudOuZ9JsrK5aNrO1ebbduVGWVASCUzhiMe9VfhXBrVtqGtvq+kXFlPqOpXN7ePdRlSmWVYI0b7rjYGJKkgcDvUpcyt5P87f5v7gvyS5l3X+f+S9bl/U4b/wAQad4L1HRLT7dZQSLeyoJlj+byGEW7cR8oducZIx0NXtWSS7+J3hmOMZaytLu5uCp4VWCRqPxYnH+6fSuntLK3sI3js4hEjyNKUUnG5jliB2ycnA7knvRDZW8F1PcxRAT3BXzZCSS20YA56Aeg45J7mqbvK/zISsrfIS/vodN0+e9uhKYYELv5UTStgeiqCx+gBrk9D+KGh63r93pkE8TstykNm1szTtcq0SuZCqrmNVLbSW4BHJHSur1C2lvdOntre8mspZUKrcwBS8RPcbgRn6g1w3hj4ZvoHivU9Vh1O9txNeRyxsl40rXkQiVWW4DggkuGORyM8EdKS+LXb+v6/wAyn8Om56CzBFLMcADJJ7V4t8OPGllo/hzW/Feq2d+bPWtflke/WNfKiVpBFECCwdh05VWAz7HHpfjq4v7bwDrcmj2011f/AGKRbeKBC7s7LhcAcnk5/CuD8R+F7zTfA3gPw1FYXVzplndW76p9kgaViIkLhSqgnDyAAnoO5FKOkrvyX3vX7rBLWNl5v7lp99z0+80y3vruzupNyXFm5eGWM4IBGGU+qsOo9geCARLe2ovrGa1eWWJZkKM8TbWAPXB7cd+vpTdNkvJdLtpNThjgvHjDTRRtuWNiOVB746ZqzTa6BfqRWttDZWkVraRLDBCgSONBgIoGAAKlooo3AKKKKACiiigAooooAKKKKACsy90OC71qy1aOR7e9swyCRAP3sTY3RsO6kgEdwQD6g6dFABRRRQAUUUUAFFFFABRRRQBBewS3VjNBBcPaySIVWeMAtHnuM8Z9M1FpOl2miaTb6dp0fl21umxFJyT6kk8kk5JJ6kk1cooAKKKKACiiigAooooAKKKKACiiigAooooAKKKKACiiigAooooAKKKKACiiigAooooA/9k=)"
      ]
    },
    {
      "cell_type": "markdown",
      "metadata": {
        "id": "zLFnQq3sZ_-N"
      },
      "source": [
        "수식을 순서대로 1, 2, 3, 4로 넘버링하여 설명하겠다.\n",
        "1. 과거의 정보를 적당히 리셋시키는 것을 목표로 sigmoid 함수를 출력으로 이용해 0, 1 값을 가진 은닉 층에 곱해주는 작업이다.\n",
        "2. 업데이트 게이트를 나타내는 수식이다. LSTM의 forget gate와 input gate를 합쳐놓은 느낌이다. 과거와 현재 정보의 최신화 비율을 결정한다.\n",
        "3. 후보군을 선정하는 단계이다. 과거 은닉층 정보를 그대로 이용하지 않고 리셋 게이트 결과를 곱해준다.\n",
        "4. 마지막으로 은닉층 계산 단계이다. 이 단계에서는 update gate 결과와 candidate 결과를 결합하여 현시점의 은닉층을 연산하는 과정이다."
      ]
    },
    {
      "cell_type": "markdown",
      "metadata": {
        "id": "LCp8dLGUWrnQ"
      },
      "source": [
        "1. 단방향 GRU - fasttext"
      ]
    },
    {
      "cell_type": "code",
      "metadata": {
        "id": "fBR6op5xzo4h"
      },
      "source": [
        "#데이터를 sequence로 변환해주고 padding 해줍니다.\n",
        "train_sequences = tokenizer.texts_to_sequences(X_train)\n",
        "train_padded = pad_sequences(train_sequences, padding=padding_type, maxlen=max_length)\n",
        "\n",
        "test_sequences = tokenizer.texts_to_sequences(X_test)\n",
        "test_padded = pad_sequences(test_sequences, padding=padding_type, maxlen=max_length)\n"
      ],
      "execution_count": null,
      "outputs": []
    },
    {
      "cell_type": "code",
      "metadata": {
        "id": "DJp2INTobDzJ"
      },
      "source": [
        "# 하이퍼파라미터 설정\n",
        "dropout_prob = 0.8\n",
        "EMB_SIZE = 128\n",
        "EPOCH = 30\n",
        "VOCAB_SIZE = vocab_size"
      ],
      "execution_count": null,
      "outputs": []
    },
    {
      "cell_type": "code",
      "metadata": {
        "id": "NLA15qZZSIKM",
        "colab": {
          "base_uri": "https://localhost:8080/"
        },
        "outputId": "027a2dce-51b8-4360-d678-5a6f55864ba6"
      },
      "source": [
        "# 단방향 GRU - fasttext\n",
        "from keras.optimizers import Adam\n",
        "model_using_GRU_fasttext_one = tf.keras.Sequential([\n",
        "  tf.keras.layers.Embedding(vocab_size, 100, weights = [FT_embedding_matrix], input_length=max_length),\n",
        "  tf.keras.layers.GRU(units=256, activation='tanh'),\n",
        "  tf.keras.layers.Dropout(dropout_prob),\n",
        "  tf.keras.layers.Dense(8, activation='softmax'),\n",
        "])\n",
        "\n",
        "model_using_GRU_fasttext_one.compile(optimizer='adam', loss='sparse_categorical_crossentropy', metrics=['accuracy'])\n",
        "model_using_GRU_fasttext_one.summary()"
      ],
      "execution_count": null,
      "outputs": [
        {
          "output_type": "stream",
          "text": [
            "Model: \"sequential_9\"\n",
            "_________________________________________________________________\n",
            "Layer (type)                 Output Shape              Param #   \n",
            "=================================================================\n",
            "embedding_9 (Embedding)      (None, 500, 100)          6372700   \n",
            "_________________________________________________________________\n",
            "gru_9 (GRU)                  (None, 256)               274944    \n",
            "_________________________________________________________________\n",
            "dropout_9 (Dropout)          (None, 256)               0         \n",
            "_________________________________________________________________\n",
            "dense_9 (Dense)              (None, 8)                 2056      \n",
            "=================================================================\n",
            "Total params: 6,649,700\n",
            "Trainable params: 6,649,700\n",
            "Non-trainable params: 0\n",
            "_________________________________________________________________\n"
          ],
          "name": "stdout"
        }
      ]
    },
    {
      "cell_type": "code",
      "metadata": {
        "id": "aZegZliLbDzL",
        "colab": {
          "base_uri": "https://localhost:8080/"
        },
        "outputId": "71fd53ce-8955-43b4-d231-574a63b9777d"
      },
      "source": [
        "# 단방향 GRU 학습 - fasttext\n",
        "early_stopping = tf.keras.callbacks.EarlyStopping(monitor='val_loss', mode='min', patience=5, verbose=1)\n",
        "\n",
        "# fit model\n",
        "num_epochs = 20\n",
        "hist_fast_gru_one = model_using_GRU_fasttext_one.fit(train_padded, y_train,epochs = num_epochs, verbose = 1, validation_split = 0.2, callbacks = [early_stopping])"
      ],
      "execution_count": null,
      "outputs": [
        {
          "output_type": "stream",
          "text": [
            "Epoch 1/20\n",
            "2081/2081 [==============================] - 186s 89ms/step - loss: 2.0458 - accuracy: 0.1734 - val_loss: 2.0397 - val_accuracy: 0.1849\n",
            "Epoch 2/20\n",
            "2081/2081 [==============================] - 184s 88ms/step - loss: 2.0442 - accuracy: 0.1770 - val_loss: 2.0385 - val_accuracy: 0.1849\n",
            "Epoch 3/20\n",
            "2081/2081 [==============================] - 184s 89ms/step - loss: 2.0432 - accuracy: 0.1769 - val_loss: 2.0382 - val_accuracy: 0.1849\n",
            "Epoch 4/20\n",
            "2081/2081 [==============================] - 185s 89ms/step - loss: 2.0432 - accuracy: 0.1808 - val_loss: 2.0379 - val_accuracy: 0.1849\n",
            "Epoch 5/20\n",
            "2081/2081 [==============================] - 184s 88ms/step - loss: 2.0435 - accuracy: 0.1766 - val_loss: 2.0377 - val_accuracy: 0.1849\n",
            "Epoch 6/20\n",
            "2081/2081 [==============================] - 183s 88ms/step - loss: 2.0473 - accuracy: 0.1750 - val_loss: 2.0385 - val_accuracy: 0.1849\n",
            "Epoch 7/20\n",
            "2081/2081 [==============================] - 183s 88ms/step - loss: 2.0468 - accuracy: 0.1701 - val_loss: 2.0381 - val_accuracy: 0.1849\n",
            "Epoch 8/20\n",
            "2081/2081 [==============================] - 183s 88ms/step - loss: 2.0416 - accuracy: 0.1782 - val_loss: 2.0381 - val_accuracy: 0.1849\n",
            "Epoch 9/20\n",
            "2081/2081 [==============================] - 184s 88ms/step - loss: 2.0423 - accuracy: 0.1743 - val_loss: 2.0382 - val_accuracy: 0.1849\n",
            "Epoch 10/20\n",
            "2081/2081 [==============================] - 184s 88ms/step - loss: 2.0422 - accuracy: 0.1779 - val_loss: 2.0380 - val_accuracy: 0.1849\n",
            "Epoch 00010: early stopping\n"
          ],
          "name": "stdout"
        }
      ]
    },
    {
      "cell_type": "code",
      "metadata": {
        "id": "j6qdu9VMbDzM",
        "colab": {
          "base_uri": "https://localhost:8080/",
          "height": 573
        },
        "outputId": "6f873296-896e-4827-9be3-f6028b9a003b"
      },
      "source": [
        "plt.plot(hist_fast_gru_one.history['accuracy'])\n",
        "plt.plot(hist_fast_gru_one.history['val_accuracy'])\n",
        "plt.title('Fasttext GRU one-direction accuracy')\n",
        "plt.xlabel('Epoch')\n",
        "plt.ylabel('Accuracy')\n",
        "plt.legend(['train', 'val'], loc='upper left')\n",
        "plt.show()\n",
        "\n",
        "plt.plot(hist_fast_gru_one.history['loss'])\n",
        "plt.plot(hist_fast_gru_one.history['val_loss'])\n",
        "plt.title('Fasttext GRU one-direction loss')\n",
        "plt.xlabel('Epoch')\n",
        "plt.ylabel('Loss')\n",
        "plt.legend(['train', 'val'], loc='upper left')\n",
        "plt.show()"
      ],
      "execution_count": null,
      "outputs": [
        {
          "output_type": "display_data",
          "data": {
            "image/png": "[encoded data removed]",
            "text/plain": [
              "<Figure size 432x288 with 1 Axes>"
            ]
          },
          "metadata": {
            "tags": [],
            "needs_background": "light"
          }
        },
        {
          "output_type": "display_data",
          "data": {
            "image/png": "[encoded data removed]",
            "text/plain": [
              "<Figure size 432x288 with 1 Axes>"
            ]
          },
          "metadata": {
            "tags": [],
            "needs_background": "light"
          }
        }
      ]
    },
    {
      "cell_type": "code",
      "metadata": {
        "id": "A0DFUrWUbDzM"
      },
      "source": [
        "# save GRU\n",
        "model_using_GRU_fasttext_one.save('/content/drive/MyDrive/Novelist_Classification/model/GRU/gru_fast_one.h5')"
      ],
      "execution_count": null,
      "outputs": []
    },
    {
      "cell_type": "markdown",
      "metadata": {
        "id": "HqYsCiW5WDbs"
      },
      "source": [
        "2. 단방향 GRU - glove"
      ]
    },
    {
      "cell_type": "code",
      "metadata": {
        "id": "KR_X8a6_ZeDn"
      },
      "source": [
        "# 하이퍼파라미터 설정\n",
        "dropout_prob = 0.5\n",
        "EMB_SIZE = 128\n",
        "EPOCH = 30\n",
        "VOCAB_SIZE = vocab_size"
      ],
      "execution_count": null,
      "outputs": []
    },
    {
      "cell_type": "code",
      "metadata": {
        "id": "AHSUGOFKZeD1",
        "colab": {
          "base_uri": "https://localhost:8080/"
        },
        "outputId": "0e077f71-bb72-45ff-8bf9-2475125cbb08"
      },
      "source": [
        "# 단방향 GRU - glove\n",
        "from keras.optimizers import Adam\n",
        "model_using_GRU_glove_one = tf.keras.Sequential([\n",
        "  tf.keras.layers.Embedding(vocab_size+1, 50, weights = [g_embedding_matrix], input_length=max_length),\n",
        "  tf.keras.layers.GRU(units=30), # relu를 활용한 GRU\n",
        "  tf.keras.layers.Dropout(dropout_prob),\n",
        "  tf.keras.layers.Dense(8, activation='softmax'),\n",
        "])\n",
        "\n",
        "model_using_GRU_glove_one.compile(optimizer = Adam(), loss='sparse_categorical_crossentropy', metrics=['accuracy'])\n",
        "model_using_GRU_glove_one.summary()"
      ],
      "execution_count": null,
      "outputs": [
        {
          "output_type": "stream",
          "text": [
            "Model: \"sequential_8\"\n",
            "_________________________________________________________________\n",
            "Layer (type)                 Output Shape              Param #   \n",
            "=================================================================\n",
            "embedding_8 (Embedding)      (None, 500, 50)           3186400   \n",
            "_________________________________________________________________\n",
            "gru_8 (GRU)                  (None, 30)                7380      \n",
            "_________________________________________________________________\n",
            "dropout_8 (Dropout)          (None, 30)                0         \n",
            "_________________________________________________________________\n",
            "dense_8 (Dense)              (None, 8)                 248       \n",
            "=================================================================\n",
            "Total params: 3,194,028\n",
            "Trainable params: 3,194,028\n",
            "Non-trainable params: 0\n",
            "_________________________________________________________________\n"
          ],
          "name": "stdout"
        }
      ]
    },
    {
      "cell_type": "code",
      "metadata": {
        "id": "Y00-uY2JZeD2",
        "colab": {
          "base_uri": "https://localhost:8080/"
        },
        "outputId": "f10cd167-9c39-4f2c-d6fe-526af9411a4f"
      },
      "source": [
        "# 단방향 GRU 학습 - glove\n",
        "early_stopping = tf.keras.callbacks.EarlyStopping(monitor='val_loss', mode='min', patience=5, verbose=1)\n",
        "\n",
        "# fit model\n",
        "num_epochs = 100\n",
        "hist_glove_gru_one = model_using_GRU_glove_one.fit(train_padded, y_train, \n",
        "                    epochs = num_epochs, verbose = 1,\n",
        "                    validation_split = 0.2, callbacks = [early_stopping])"
      ],
      "execution_count": null,
      "outputs": [
        {
          "output_type": "stream",
          "text": [
            "Epoch 1/100\n",
            "2081/2081 [==============================] - 101s 48ms/step - loss: 2.0464 - accuracy: 0.1724 - val_loss: 2.0395 - val_accuracy: 0.1849\n",
            "Epoch 2/100\n",
            "2081/2081 [==============================] - 99s 47ms/step - loss: 2.0408 - accuracy: 0.1785 - val_loss: 2.0375 - val_accuracy: 0.1849\n",
            "Epoch 3/100\n",
            "2081/2081 [==============================] - 99s 47ms/step - loss: 2.0393 - accuracy: 0.1812 - val_loss: 2.0380 - val_accuracy: 0.1849\n",
            "Epoch 4/100\n",
            "2081/2081 [==============================] - 99s 47ms/step - loss: 2.0403 - accuracy: 0.1806 - val_loss: 2.0379 - val_accuracy: 0.1849\n",
            "Epoch 5/100\n",
            "2081/2081 [==============================] - 99s 47ms/step - loss: 2.0392 - accuracy: 0.1802 - val_loss: 2.0377 - val_accuracy: 0.1849\n",
            "Epoch 6/100\n",
            "2081/2081 [==============================] - 98s 47ms/step - loss: 2.0398 - accuracy: 0.1810 - val_loss: 2.0377 - val_accuracy: 0.1849\n",
            "Epoch 7/100\n",
            "2081/2081 [==============================] - 98s 47ms/step - loss: 2.0388 - accuracy: 0.1807 - val_loss: 2.0377 - val_accuracy: 0.1849\n",
            "Epoch 00007: early stopping\n"
          ],
          "name": "stdout"
        }
      ]
    },
    {
      "cell_type": "code",
      "metadata": {
        "id": "8PFQJXleZeD3"
      },
      "source": [
        "plt.plot(hist_glove_gru_one.history['accuracy'])\n",
        "plt.plot(hist_glove_gru_one.history['val_accuracy'])\n",
        "plt.title('Glove GRU one-direction accuracy')\n",
        "plt.xlabel('Epoch')\n",
        "plt.ylabel('Accuracy')\n",
        "plt.legend(['train', 'val'], loc='upper left')\n",
        "plt.show()\n",
        "\n",
        "plt.plot(hist_glove_gru_one.history['loss'])\n",
        "plt.plot(hist_glove_gru_one.history['val_loss'])\n",
        "plt.title('Glove GRU one-direction loss')\n",
        "plt.xlabel('Epoch')\n",
        "plt.ylabel('Loss')\n",
        "plt.legend(['train', 'val'], loc='upper left')\n",
        "plt.show()"
      ],
      "execution_count": null,
      "outputs": []
    },
    {
      "cell_type": "code",
      "metadata": {
        "id": "np7c7-F_ZeD3"
      },
      "source": [
        "# save GRU\n",
        "model_using_GRU_glove_one.save('/content/drive/MyDrive/Novelist_Classification/model/GRU/gru_glove_one.h5')"
      ],
      "execution_count": null,
      "outputs": []
    },
    {
      "cell_type": "markdown",
      "metadata": {
        "id": "aKyFTORza-1k"
      },
      "source": [
        "3. 양방향 GRU - fasttext"
      ]
    },
    {
      "cell_type": "code",
      "metadata": {
        "id": "p3aiCEDUa3yO"
      },
      "source": [
        "# 하이퍼파라미터 설정\n",
        "dropout_prob = 0.5\n",
        "EMB_SIZE = 128\n",
        "EPOCH = 30\n",
        "VOCAB_SIZE = vocab_size"
      ],
      "execution_count": null,
      "outputs": []
    },
    {
      "cell_type": "code",
      "metadata": {
        "id": "nOwNNIdna3yP"
      },
      "source": [
        "# 양방향 GRU - fasttext\n",
        "from keras.optimizers import Adam\n",
        "model_using_GRU_fasttext_bi = Sequential([\n",
        "    Embedding(vocab_size, 100, weights = [FT_embedding_matrix] ,input_length = max_length),\n",
        "    Bidirectional(GRU(64, return_sequences=True)),\n",
        "    Bidirectional(GRU(64)),\n",
        "    tf.keras.layers.Dropout(dropout_prob),\n",
        "    Dense(8, activation='softmax')\n",
        "])\n",
        "    \n",
        "model_using_GRU_fasttext_bi.compile(loss='sparse_categorical_crossentropy', optimizer = Adam(learning_rate=0.01))\n",
        "model_using_GRU_fasttext_bi.summary()"
      ],
      "execution_count": null,
      "outputs": []
    },
    {
      "cell_type": "code",
      "metadata": {
        "id": "45sf6byka3yP"
      },
      "source": [
        "# 양방향 GRU 학습 - fasttext\n",
        "early_stopping = tf.keras.callbacks.EarlyStopping(monitor='val_loss', mode='min', patience=5, verbose=1)\n",
        "\n",
        "# fit model\n",
        "num_epochs = 20\n",
        "hist_fast_gru_bi = model_using_GRU_fasttext_bi.fit(train_padded_, y_train, \n",
        "                    epochs = num_epochs, verbose = 1,\n",
        "                    validation_split = 0.2, callbacks = [early_stopping])"
      ],
      "execution_count": null,
      "outputs": []
    },
    {
      "cell_type": "code",
      "metadata": {
        "id": "JtbtPWuQa3yQ"
      },
      "source": [
        "plt.plot(hist_fast_gru_bi.history['accuracy'])\n",
        "plt.plot(hist_fast_gru_bi.history['val_accuracy'])\n",
        "plt.title('Fasttext GRU bi-direction accuracy')\n",
        "plt.xlabel('Epoch')\n",
        "plt.ylabel('Accuracy')\n",
        "plt.legend(['train', 'val'], loc='upper left')\n",
        "plt.show()\n",
        "\n",
        "plt.plot(hist_fast_gru_bi.history['loss'])\n",
        "plt.plot(hist_fast_gru_bi.history['val_loss'])\n",
        "plt.title('Fasttext GRU bi-direction loss')\n",
        "plt.xlabel('Epoch')\n",
        "plt.ylabel('Loss')\n",
        "plt.legend(['train', 'val'], loc='upper left')\n",
        "plt.show()"
      ],
      "execution_count": null,
      "outputs": []
    },
    {
      "cell_type": "code",
      "metadata": {
        "id": "XwAcjZrUa3yQ"
      },
      "source": [
        "# save GRU\n",
        "model_using_GRU_fasttext_bi.save('/content/drive/MyDrive/Novelist_Classification/model/GRU/gru_fast_bi.h5')"
      ],
      "execution_count": null,
      "outputs": []
    },
    {
      "cell_type": "markdown",
      "metadata": {
        "id": "EX8MajPda3yS"
      },
      "source": [
        "4. 양방향 GRU - glove"
      ]
    },
    {
      "cell_type": "code",
      "metadata": {
        "id": "NAk_VMs5a3yT"
      },
      "source": [
        "# 하이퍼파라미터 설정\n",
        "dropout_prob = 0.5\n",
        "EMB_SIZE = 128\n",
        "EPOCH = 30\n",
        "VOCAB_SIZE = vocab_size\n",
        "VOCAB_SIZE_new = vocab_size_new"
      ],
      "execution_count": null,
      "outputs": []
    },
    {
      "cell_type": "code",
      "metadata": {
        "id": "i6GXDM1Ya3yT"
      },
      "source": [
        "# 단방향 GRU - glove\n",
        "from keras.optimizers import Adam\n",
        "model_using_GRU_glove_bi = Sequential([\n",
        "    Embedding(vocab_size+1, 50, weights = [g_embedding_matrix] ,input_length = max_length),\n",
        "    Bidirectional(GRU(64, return_sequences=True)),\n",
        "    Bidirectional(GRU(64)),\n",
        "    tf.keras.layers.Dropout(dropout_prob),\n",
        "    Dense(8, activation='softmax')\n",
        "])\n",
        "    \n",
        "model_using_GRU_glove_bi.compile(loss='sparse_categorical_crossentropy', optimizer = Adam(learning_rate=0.01))\n",
        "model_using_GRU_glove_bi.summary()"
      ],
      "execution_count": null,
      "outputs": []
    },
    {
      "cell_type": "code",
      "metadata": {
        "id": "ljLHxQfQa3yT"
      },
      "source": [
        "# 단방향 GRU 학습 - glove\n",
        "early_stopping = tf.keras.callbacks.EarlyStopping(monitor='val_loss', mode='min', patience=5, verbose=1)\n",
        "\n",
        "# fit model\n",
        "num_epochs = 20\n",
        "hist_glove_gru_bi = model_using_GRU_glove_bi.fit(train_padded, y_train, \n",
        "                    epochs = num_epochs, verbose = 2,\n",
        "                    validation_split = 0.2, callbacks = [early_stopping])"
      ],
      "execution_count": null,
      "outputs": []
    },
    {
      "cell_type": "code",
      "metadata": {
        "id": "eXp1V5b_a3yU"
      },
      "source": [
        "plt.plot(hist_glove_gru_bi.history['accuracy'])\n",
        "plt.plot(hist_glove_gru_bi.history['val_accuracy'])\n",
        "plt.title('Glove GRU one-direction accuracy')\n",
        "plt.xlabel('Epoch')\n",
        "plt.ylabel('Accuracy')\n",
        "plt.legend(['train', 'val'], loc='upper left')\n",
        "plt.show()\n",
        "\n",
        "plt.plot(hist_glove_gru_bi.history['loss'])\n",
        "plt.plot(hist_glove_gru_bi.history['val_loss'])\n",
        "plt.title('Glove GRU one-direction loss')\n",
        "plt.xlabel('Epoch')\n",
        "plt.ylabel('Loss')\n",
        "plt.legend(['train', 'val'], loc='upper left')\n",
        "plt.show()"
      ],
      "execution_count": null,
      "outputs": []
    },
    {
      "cell_type": "code",
      "metadata": {
        "id": "Jg3betgEa3yV"
      },
      "source": [
        "# save GRU\n",
        "model_using_GRU_glove_bi.save('/content/drive/MyDrive/Novelist_Classification/model/GRU/gru_glove_bi.h5')"
      ],
      "execution_count": null,
      "outputs": []
    },
    {
      "cell_type": "markdown",
      "metadata": {
        "id": "Tm6GNGUrVQtd"
      },
      "source": [
        "# 총평\n",
        "한국인 조경현 교수님이 연구하신 GRU에 대해서 알아보고 적용해보았다. 그러나 성능적인 면에서 20%가 넘어가지 않았다. 처음에 활성화 함수를 relu와 softmax로 선정했으나 에폭당 시간이 너무 많이 소요되었다.<br>\n",
        "<br>\n",
        "활성화 함수에 따라서 에폭 당 시간이 현저하게 달라질 수 있다는 것을 깨닫고 이를 보완하고자 GRU의 default 활성화 함수인 tanh를 활용했더니 시간 소요는 3분으로 상당히 줄어들었으나, 정확도를 크게 개선하지는 못했다. 일단 20% 미만의 정확도를 보인다는 것은 분명히 무언가 문제가 발생했다는 것인데, 본 실험에서는 해결 방법을 찾지는 못했다.<br>\n",
        "<br>\n",
        "본 실험에서는 총 4가지만을 확인했다. glove를 적용한 단방향 gru, fasttext를 적용한 단방향 gru, glove를 적용한 양방향 gru, fasttext를 적용한 양방향 gru이다. 결과적으로 전부 20% 미만의 정확도를 보였으므로 이 실험에서 의미있는 결과를 찾지는 못했다."
      ]
    },
    {
      "cell_type": "code",
      "metadata": {
        "id": "8EnZe1hPcHzw"
      },
      "source": [
        ""
      ],
      "execution_count": null,
      "outputs": []
    }
  ]
}