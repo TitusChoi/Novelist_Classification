{
  "nbformat": 4,
  "nbformat_minor": 0,
  "metadata": {
    "accelerator": "GPU",
    "colab": {
      "name": "Novelist_GRU.ipynb",
      "provenance": [],
      "collapsed_sections": [],
      "include_colab_link": true
    },
    "kernelspec": {
      "display_name": "Python 3",
      "name": "python3"
    },
    "language_info": {
      "name": "python"
    }
  },
  "cells": [
    {
      "cell_type": "markdown",
      "metadata": {
        "id": "view-in-github",
        "colab_type": "text"
      },
      "source": [
        "<a href=\"https://colab.research.google.com/github/TitusChoi/Novelist_Classification/blob/jsy/Novelist_GRU_2.ipynb\" target=\"_parent\"><img src=\"https://colab.research.google.com/assets/colab-badge.svg\" alt=\"Open In Colab\"/></a>"
      ]
    },
    {
      "cell_type": "code",
      "metadata": {
        "colab": {
          "base_uri": "https://localhost:8080/"
        },
        "id": "PJZJ7Yr-FUOn",
        "outputId": "fc6705e3-1b3d-4e19-b211-41dea43dc6b7"
      },
      "source": [
        "from google.colab import drive\n",
        "drive.mount('/content/drive')"
      ],
      "execution_count": 1,
      "outputs": [
        {
          "output_type": "stream",
          "text": [
            "Mounted at /content/drive\n"
          ],
          "name": "stdout"
        }
      ]
    },
    {
      "cell_type": "code",
      "metadata": {
        "id": "Pv_Wml_wFeJD"
      },
      "source": [
        "import pandas as pd\n",
        "import warnings \n",
        "warnings.filterwarnings(action='ignore')\n",
        "import numpy as np\n",
        "import tensorflow as tf\n",
        "from tensorflow.keras.preprocessing.sequence import pad_sequences\n",
        "from tensorflow.keras.preprocessing.text import Tokenizer\n",
        "import re\n",
        "import random\n",
        "import matplotlib.pyplot as plt\n"
      ],
      "execution_count": 2,
      "outputs": []
    },
    {
      "cell_type": "code",
      "metadata": {
        "id": "OoX1-VGQFfg1"
      },
      "source": [
        "#경로 설정\n",
        "import os\n",
        "os.chdir('./')"
      ],
      "execution_count": 3,
      "outputs": []
    },
    {
      "cell_type": "code",
      "metadata": {
        "id": "OEZtMdB5CaDG"
      },
      "source": [
        "#파일 불러오기\n",
        "train = pd.read_csv('/content/drive/MyDrive/Novelist_Classification/datasets/new_train.csv', encoding = 'utf-8')\n",
        "test = pd.read_csv('/content/drive/MyDrive/Novelist_Classification/datasets/new_test.csv', encoding = 'utf-8')\n",
        "sample_submission = pd.read_csv('/content/drive/MyDrive/Novelist_Classification/datasets/new_sample_submission.csv', encoding = 'utf-8')"
      ],
      "execution_count": 4,
      "outputs": []
    },
    {
      "cell_type": "code",
      "metadata": {
        "colab": {
          "base_uri": "https://localhost:8080/",
          "height": 419
        },
        "id": "SvX_U2ETC7vA",
        "outputId": "b7c8084e-a118-4bff-a4ba-572700a29fcc"
      },
      "source": [
        "#train 데이터 살펴보기\n",
        "train"
      ],
      "execution_count": 5,
      "outputs": [
        {
          "output_type": "execute_result",
          "data": {
            "text/html": [
              "<div>\n",
              "<style scoped>\n",
              "    .dataframe tbody tr th:only-of-type {\n",
              "        vertical-align: middle;\n",
              "    }\n",
              "\n",
              "    .dataframe tbody tr th {\n",
              "        vertical-align: top;\n",
              "    }\n",
              "\n",
              "    .dataframe thead th {\n",
              "        text-align: right;\n",
              "    }\n",
              "</style>\n",
              "<table border=\"1\" class=\"dataframe\">\n",
              "  <thead>\n",
              "    <tr style=\"text-align: right;\">\n",
              "      <th></th>\n",
              "      <th>Unnamed: 0</th>\n",
              "      <th>text</th>\n",
              "      <th>author</th>\n",
              "    </tr>\n",
              "  </thead>\n",
              "  <tbody>\n",
              "    <tr>\n",
              "      <th>0</th>\n",
              "      <td>0</td>\n",
              "      <td>It is hard to forget repulsive things. I remem...</td>\n",
              "      <td>6</td>\n",
              "    </tr>\n",
              "    <tr>\n",
              "      <th>1</th>\n",
              "      <td>1</td>\n",
              "      <td>It would be tedious if given in the beadle’s w...</td>\n",
              "      <td>7</td>\n",
              "    </tr>\n",
              "    <tr>\n",
              "      <th>2</th>\n",
              "      <td>2</td>\n",
              "      <td>“Very good. Shall we argue about it here in p...</td>\n",
              "      <td>2</td>\n",
              "    </tr>\n",
              "    <tr>\n",
              "      <th>3</th>\n",
              "      <td>3</td>\n",
              "      <td>“What! and I as high as a tree and as big as a...</td>\n",
              "      <td>6</td>\n",
              "    </tr>\n",
              "    <tr>\n",
              "      <th>4</th>\n",
              "      <td>4</td>\n",
              "      <td>\"Isn't it enough, Vanya?\" she cried, seeing hi...</td>\n",
              "      <td>3</td>\n",
              "    </tr>\n",
              "    <tr>\n",
              "      <th>...</th>\n",
              "      <td>...</td>\n",
              "      <td>...</td>\n",
              "      <td>...</td>\n",
              "    </tr>\n",
              "    <tr>\n",
              "      <th>83215</th>\n",
              "      <td>83215</td>\n",
              "      <td>What with the birthday visitors, and what with...</td>\n",
              "      <td>7</td>\n",
              "    </tr>\n",
              "    <tr>\n",
              "      <th>83216</th>\n",
              "      <td>83216</td>\n",
              "      <td>It was an old rickety door and gave at once be...</td>\n",
              "      <td>2</td>\n",
              "    </tr>\n",
              "    <tr>\n",
              "      <th>83217</th>\n",
              "      <td>83217</td>\n",
              "      <td>“Well then you can go to the devil,” said odin...</td>\n",
              "      <td>3</td>\n",
              "    </tr>\n",
              "    <tr>\n",
              "      <th>83218</th>\n",
              "      <td>83218</td>\n",
              "      <td>“Don’t know?”</td>\n",
              "      <td>7</td>\n",
              "    </tr>\n",
              "    <tr>\n",
              "      <th>83219</th>\n",
              "      <td>83219</td>\n",
              "      <td>“Not go to town!” cried Mrs. Palmer, with a la...</td>\n",
              "      <td>5</td>\n",
              "    </tr>\n",
              "  </tbody>\n",
              "</table>\n",
              "<p>83220 rows × 3 columns</p>\n",
              "</div>"
            ],
            "text/plain": [
              "       Unnamed: 0                                               text  author\n",
              "0               0  It is hard to forget repulsive things. I remem...       6\n",
              "1               1  It would be tedious if given in the beadle’s w...       7\n",
              "2               2   “Very good. Shall we argue about it here in p...       2\n",
              "3               3  “What! and I as high as a tree and as big as a...       6\n",
              "4               4  \"Isn't it enough, Vanya?\" she cried, seeing hi...       3\n",
              "...           ...                                                ...     ...\n",
              "83215       83215  What with the birthday visitors, and what with...       7\n",
              "83216       83216  It was an old rickety door and gave at once be...       2\n",
              "83217       83217  “Well then you can go to the devil,” said odin...       3\n",
              "83218       83218                                      “Don’t know?”       7\n",
              "83219       83219  “Not go to town!” cried Mrs. Palmer, with a la...       5\n",
              "\n",
              "[83220 rows x 3 columns]"
            ]
          },
          "metadata": {
            "tags": []
          },
          "execution_count": 5
        }
      ]
    },
    {
      "cell_type": "code",
      "metadata": {
        "colab": {
          "base_uri": "https://localhost:8080/",
          "height": 419
        },
        "id": "8MxZsr6yCshr",
        "outputId": "22f55102-ffbf-4e95-f2ec-f7446dba6450"
      },
      "source": [
        "#test 데이터 살펴보기\n",
        "del test['Unnamed: 0']\n",
        "test"
      ],
      "execution_count": 6,
      "outputs": [
        {
          "output_type": "execute_result",
          "data": {
            "text/html": [
              "<div>\n",
              "<style scoped>\n",
              "    .dataframe tbody tr th:only-of-type {\n",
              "        vertical-align: middle;\n",
              "    }\n",
              "\n",
              "    .dataframe tbody tr th {\n",
              "        vertical-align: top;\n",
              "    }\n",
              "\n",
              "    .dataframe thead th {\n",
              "        text-align: right;\n",
              "    }\n",
              "</style>\n",
              "<table border=\"1\" class=\"dataframe\">\n",
              "  <thead>\n",
              "    <tr style=\"text-align: right;\">\n",
              "      <th></th>\n",
              "      <th>index</th>\n",
              "      <th>text</th>\n",
              "    </tr>\n",
              "  </thead>\n",
              "  <tbody>\n",
              "    <tr>\n",
              "      <th>0</th>\n",
              "      <td>0</td>\n",
              "      <td>About thirty years ago Miss Maria Ward, of Hun...</td>\n",
              "    </tr>\n",
              "    <tr>\n",
              "      <th>1</th>\n",
              "      <td>1</td>\n",
              "      <td>Their homes were so distant, and the circles i...</td>\n",
              "    </tr>\n",
              "    <tr>\n",
              "      <th>2</th>\n",
              "      <td>2</td>\n",
              "      <td>The letter was not unproductive. It re-establi...</td>\n",
              "    </tr>\n",
              "    <tr>\n",
              "      <th>3</th>\n",
              "      <td>3</td>\n",
              "      <td>Such were its immediate effects, and within a ...</td>\n",
              "    </tr>\n",
              "    <tr>\n",
              "      <th>4</th>\n",
              "      <td>4</td>\n",
              "      <td>Sir Thomas could not give so instantaneous and...</td>\n",
              "    </tr>\n",
              "    <tr>\n",
              "      <th>...</th>\n",
              "      <td>...</td>\n",
              "      <td>...</td>\n",
              "    </tr>\n",
              "    <tr>\n",
              "      <th>27313</th>\n",
              "      <td>27313</td>\n",
              "      <td>At the end of another day or two, odin growing...</td>\n",
              "    </tr>\n",
              "    <tr>\n",
              "      <th>27314</th>\n",
              "      <td>27314</td>\n",
              "      <td>All afternoon we sat together, mostly in silen...</td>\n",
              "    </tr>\n",
              "    <tr>\n",
              "      <th>27315</th>\n",
              "      <td>27315</td>\n",
              "      <td>odin, having carried his thanks to odin, proc...</td>\n",
              "    </tr>\n",
              "    <tr>\n",
              "      <th>27316</th>\n",
              "      <td>27316</td>\n",
              "      <td>Soon after this, upon odin's leaving the room,...</td>\n",
              "    </tr>\n",
              "    <tr>\n",
              "      <th>27317</th>\n",
              "      <td>27317</td>\n",
              "      <td>And all the worse for the doomed man, that the...</td>\n",
              "    </tr>\n",
              "  </tbody>\n",
              "</table>\n",
              "<p>27318 rows × 2 columns</p>\n",
              "</div>"
            ],
            "text/plain": [
              "       index                                               text\n",
              "0          0  About thirty years ago Miss Maria Ward, of Hun...\n",
              "1          1  Their homes were so distant, and the circles i...\n",
              "2          2  The letter was not unproductive. It re-establi...\n",
              "3          3  Such were its immediate effects, and within a ...\n",
              "4          4  Sir Thomas could not give so instantaneous and...\n",
              "...      ...                                                ...\n",
              "27313  27313  At the end of another day or two, odin growing...\n",
              "27314  27314  All afternoon we sat together, mostly in silen...\n",
              "27315  27315   odin, having carried his thanks to odin, proc...\n",
              "27316  27316  Soon after this, upon odin's leaving the room,...\n",
              "27317  27317  And all the worse for the doomed man, that the...\n",
              "\n",
              "[27318 rows x 2 columns]"
            ]
          },
          "metadata": {
            "tags": []
          },
          "execution_count": 6
        }
      ]
    },
    {
      "cell_type": "code",
      "metadata": {
        "colab": {
          "base_uri": "https://localhost:8080/",
          "height": 419
        },
        "id": "WOpmyyX_77Op",
        "outputId": "66230d1c-bcce-459a-81cd-105515c9c6ed"
      },
      "source": [
        "#sample_submission\n",
        "del sample_submission['Unnamed: 0']\n",
        "sample_submission = sample_submission.drop(sample_submission.index[27318])\n",
        "sample_submission"
      ],
      "execution_count": 7,
      "outputs": [
        {
          "output_type": "execute_result",
          "data": {
            "text/html": [
              "<div>\n",
              "<style scoped>\n",
              "    .dataframe tbody tr th:only-of-type {\n",
              "        vertical-align: middle;\n",
              "    }\n",
              "\n",
              "    .dataframe tbody tr th {\n",
              "        vertical-align: top;\n",
              "    }\n",
              "\n",
              "    .dataframe thead th {\n",
              "        text-align: right;\n",
              "    }\n",
              "</style>\n",
              "<table border=\"1\" class=\"dataframe\">\n",
              "  <thead>\n",
              "    <tr style=\"text-align: right;\">\n",
              "      <th></th>\n",
              "      <th>index</th>\n",
              "      <th>0</th>\n",
              "      <th>1</th>\n",
              "      <th>2</th>\n",
              "      <th>3</th>\n",
              "      <th>4</th>\n",
              "      <th>5</th>\n",
              "      <th>6</th>\n",
              "      <th>7</th>\n",
              "    </tr>\n",
              "  </thead>\n",
              "  <tbody>\n",
              "    <tr>\n",
              "      <th>0</th>\n",
              "      <td>0</td>\n",
              "      <td>0</td>\n",
              "      <td>0</td>\n",
              "      <td>0</td>\n",
              "      <td>0</td>\n",
              "      <td>0</td>\n",
              "      <td>0</td>\n",
              "      <td>0</td>\n",
              "      <td>0</td>\n",
              "    </tr>\n",
              "    <tr>\n",
              "      <th>1</th>\n",
              "      <td>1</td>\n",
              "      <td>0</td>\n",
              "      <td>0</td>\n",
              "      <td>0</td>\n",
              "      <td>0</td>\n",
              "      <td>0</td>\n",
              "      <td>0</td>\n",
              "      <td>0</td>\n",
              "      <td>0</td>\n",
              "    </tr>\n",
              "    <tr>\n",
              "      <th>2</th>\n",
              "      <td>2</td>\n",
              "      <td>0</td>\n",
              "      <td>0</td>\n",
              "      <td>0</td>\n",
              "      <td>0</td>\n",
              "      <td>0</td>\n",
              "      <td>0</td>\n",
              "      <td>0</td>\n",
              "      <td>0</td>\n",
              "    </tr>\n",
              "    <tr>\n",
              "      <th>3</th>\n",
              "      <td>3</td>\n",
              "      <td>0</td>\n",
              "      <td>0</td>\n",
              "      <td>0</td>\n",
              "      <td>0</td>\n",
              "      <td>0</td>\n",
              "      <td>0</td>\n",
              "      <td>0</td>\n",
              "      <td>0</td>\n",
              "    </tr>\n",
              "    <tr>\n",
              "      <th>4</th>\n",
              "      <td>4</td>\n",
              "      <td>0</td>\n",
              "      <td>0</td>\n",
              "      <td>0</td>\n",
              "      <td>0</td>\n",
              "      <td>0</td>\n",
              "      <td>0</td>\n",
              "      <td>0</td>\n",
              "      <td>0</td>\n",
              "    </tr>\n",
              "    <tr>\n",
              "      <th>...</th>\n",
              "      <td>...</td>\n",
              "      <td>...</td>\n",
              "      <td>...</td>\n",
              "      <td>...</td>\n",
              "      <td>...</td>\n",
              "      <td>...</td>\n",
              "      <td>...</td>\n",
              "      <td>...</td>\n",
              "      <td>...</td>\n",
              "    </tr>\n",
              "    <tr>\n",
              "      <th>27313</th>\n",
              "      <td>27313</td>\n",
              "      <td>0</td>\n",
              "      <td>0</td>\n",
              "      <td>0</td>\n",
              "      <td>0</td>\n",
              "      <td>0</td>\n",
              "      <td>0</td>\n",
              "      <td>0</td>\n",
              "      <td>0</td>\n",
              "    </tr>\n",
              "    <tr>\n",
              "      <th>27314</th>\n",
              "      <td>27314</td>\n",
              "      <td>0</td>\n",
              "      <td>0</td>\n",
              "      <td>0</td>\n",
              "      <td>0</td>\n",
              "      <td>0</td>\n",
              "      <td>0</td>\n",
              "      <td>0</td>\n",
              "      <td>0</td>\n",
              "    </tr>\n",
              "    <tr>\n",
              "      <th>27315</th>\n",
              "      <td>27315</td>\n",
              "      <td>0</td>\n",
              "      <td>0</td>\n",
              "      <td>0</td>\n",
              "      <td>0</td>\n",
              "      <td>0</td>\n",
              "      <td>0</td>\n",
              "      <td>0</td>\n",
              "      <td>0</td>\n",
              "    </tr>\n",
              "    <tr>\n",
              "      <th>27316</th>\n",
              "      <td>27316</td>\n",
              "      <td>0</td>\n",
              "      <td>0</td>\n",
              "      <td>0</td>\n",
              "      <td>0</td>\n",
              "      <td>0</td>\n",
              "      <td>0</td>\n",
              "      <td>0</td>\n",
              "      <td>0</td>\n",
              "    </tr>\n",
              "    <tr>\n",
              "      <th>27317</th>\n",
              "      <td>27317</td>\n",
              "      <td>0</td>\n",
              "      <td>0</td>\n",
              "      <td>0</td>\n",
              "      <td>0</td>\n",
              "      <td>0</td>\n",
              "      <td>0</td>\n",
              "      <td>0</td>\n",
              "      <td>0</td>\n",
              "    </tr>\n",
              "  </tbody>\n",
              "</table>\n",
              "<p>27318 rows × 9 columns</p>\n",
              "</div>"
            ],
            "text/plain": [
              "       index  0  1  2  3  4  5  6  7\n",
              "0          0  0  0  0  0  0  0  0  0\n",
              "1          1  0  0  0  0  0  0  0  0\n",
              "2          2  0  0  0  0  0  0  0  0\n",
              "3          3  0  0  0  0  0  0  0  0\n",
              "4          4  0  0  0  0  0  0  0  0\n",
              "...      ... .. .. .. .. .. .. .. ..\n",
              "27313  27313  0  0  0  0  0  0  0  0\n",
              "27314  27314  0  0  0  0  0  0  0  0\n",
              "27315  27315  0  0  0  0  0  0  0  0\n",
              "27316  27316  0  0  0  0  0  0  0  0\n",
              "27317  27317  0  0  0  0  0  0  0  0\n",
              "\n",
              "[27318 rows x 9 columns]"
            ]
          },
          "metadata": {
            "tags": []
          },
          "execution_count": 7
        }
      ]
    },
    {
      "cell_type": "markdown",
      "metadata": {
        "id": "PPq0vxJVDS3R"
      },
      "source": [
        "# **전처리**"
      ]
    },
    {
      "cell_type": "code",
      "metadata": {
        "id": "tMUMcInsD80p"
      },
      "source": [
        "#부호를 제거해주는 함수\n",
        "def alpha_num(text):\n",
        "    return re.sub(r'[^A-Za-z0-9 ]', '', text)\n",
        "\n",
        "train['text']=train['text'].apply(alpha_num)"
      ],
      "execution_count": 8,
      "outputs": []
    },
    {
      "cell_type": "code",
      "metadata": {
        "id": "vf_TGrbKCaDK"
      },
      "source": [
        "# 불용어 제거해주는 함수\n",
        "def remove_stopwords(text):\n",
        "    final_text = []\n",
        "    for i in text.split():\n",
        "        if i.strip().lower() not in base_stopwords:\n",
        "            final_text.append(i.strip())\n",
        "    return \" \".join(final_text)\n",
        "\n",
        "# 불용어\n",
        "base_stopwords = [ \"a\", \"about\", \"above\", \"after\", \"again\", \"against\", \"all\", \"am\", \"an\", \"and\", \"any\", \"are\", \"as\", \n",
        "             \"at\", \"be\", \"because\", \"been\", \"before\", \"being\", \"below\", \"between\", \"both\", \"but\", \"by\", \"could\", \n",
        "             \"did\", \"do\", \"does\", \"doing\", \"down\", \"during\", \"each\", \"few\", \"for\", \"from\", \"further\", \"had\", \"has\", \n",
        "             \"have\", \"having\", \"he\", \"he'd\", \"he'll\", \"he's\", \"her\", \"here\", \"here's\", \"hers\", \"herself\", \"him\", \"himself\", \n",
        "             \"his\", \"how\", \"how's\", \"i\", \"i'd\", \"i'll\", \"i'm\", \"i've\", \"if\", \"in\", \"into\", \"is\", \"it\", \"it's\", \"its\", \"itself\", \n",
        "             \"let's\", \"me\", \"more\", \"most\", \"my\", \"myself\", \"nor\", \"of\", \"on\", \"once\", \"only\", \"or\", \"other\", \"ought\", \"our\", \"ours\", \n",
        "             \"ourselves\", \"out\", \"over\", \"own\", \"same\", \"she\", \"she'd\", \"she'll\", \"she's\", \"should\", \"so\", \"some\", \"such\", \"than\", \"that\", \n",
        "             \"that's\", \"the\", \"their\", \"theirs\", \"them\", \"themselves\", \"then\", \"there\", \"there's\", \"these\", \"they\", \"they'd\", \"they'll\", \n",
        "             \"they're\", \"they've\", \"this\", \"those\", \"through\", \"to\", \"too\", \"under\", \"until\", \"up\", \"very\", \"was\", \"we\", \"we'd\", \"we'll\", \n",
        "             \"we're\", \"we've\", \"were\", \"what\", \"what's\", \"when\", \"when's\", \"where\", \"where's\", \"which\", \"while\", \"who\", \"who's\", \"whom\", \n",
        "             \"why\", \"why's\", \"with\", \"would\", \"you\", \"you'd\", \"you'll\", \"you're\", \"you've\", \"your\", \"yours\", \"yourself\", \"yourselves\" ]"
      ],
      "execution_count": 9,
      "outputs": []
    },
    {
      "cell_type": "code",
      "metadata": {
        "id": "sUgcc07ADiiU"
      },
      "source": [
        "#전처리 적용\n",
        "train['text'] = train['text'].str.lower()\n",
        "test['text'] = test['text'].str.lower()\n",
        "train['text'] = train['text'].apply(alpha_num).apply(remove_stopwords)\n",
        "test['text'] = test['text'].apply(alpha_num).apply(remove_stopwords)\n"
      ],
      "execution_count": 10,
      "outputs": []
    },
    {
      "cell_type": "code",
      "metadata": {
        "id": "DZdWzRkCDovd"
      },
      "source": [
        "# train test 분리\n",
        "X_train = np.array([x for x in train['text']])\n",
        "X_test = np.array([x for x in test['text']])\n",
        "y_train = np.array([x for x in train['author']])\n"
      ],
      "execution_count": 11,
      "outputs": []
    },
    {
      "cell_type": "markdown",
      "metadata": {
        "id": "Ks1FhSNUHrke"
      },
      "source": [
        "# **모델링**"
      ]
    },
    {
      "cell_type": "code",
      "metadata": {
        "id": "cJ54B-XsJY9y"
      },
      "source": [
        "# FastText 사용\n",
        "import gensim\n",
        "from gensim.models.keyedvectors import KeyedVectors"
      ],
      "execution_count": 12,
      "outputs": []
    },
    {
      "cell_type": "code",
      "metadata": {
        "colab": {
          "base_uri": "https://localhost:8080/",
          "height": 326
        },
        "id": "APPwGz_k9bf0",
        "outputId": "10be3f67-944c-44c2-b9fb-03055e170574"
      },
      "source": [
        "pip install -U gensim"
      ],
      "execution_count": 13,
      "outputs": [
        {
          "output_type": "stream",
          "text": [
            "Collecting gensim\n",
            "\u001b[?25l  Downloading https://files.pythonhosted.org/packages/44/52/f1417772965652d4ca6f901515debcd9d6c5430969e8c02ee7737e6de61c/gensim-4.0.1-cp37-cp37m-manylinux1_x86_64.whl (23.9MB)\n",
            "\u001b[K     |████████████████████████████████| 23.9MB 1.3MB/s \n",
            "\u001b[?25hRequirement already satisfied, skipping upgrade: numpy>=1.11.3 in /usr/local/lib/python3.7/dist-packages (from gensim) (1.19.5)\n",
            "Requirement already satisfied, skipping upgrade: scipy>=0.18.1 in /usr/local/lib/python3.7/dist-packages (from gensim) (1.4.1)\n",
            "Requirement already satisfied, skipping upgrade: smart-open>=1.8.1 in /usr/local/lib/python3.7/dist-packages (from gensim) (5.0.0)\n",
            "Installing collected packages: gensim\n",
            "  Found existing installation: gensim 3.6.0\n",
            "    Uninstalling gensim-3.6.0:\n",
            "      Successfully uninstalled gensim-3.6.0\n",
            "Successfully installed gensim-4.0.1\n"
          ],
          "name": "stdout"
        },
        {
          "output_type": "display_data",
          "data": {
            "application/vnd.colab-display-data+json": {
              "pip_warning": {
                "packages": [
                  "gensim"
                ]
              }
            }
          },
          "metadata": {
            "tags": []
          }
        }
      ]
    },
    {
      "cell_type": "code",
      "metadata": {
        "id": "-2jbc-II80YC"
      },
      "source": [
        "FastText = KeyedVectors.load_word2vec_format('/content/drive/MyDrive/Novelist_Classification/embedding/fasttext.vec')"
      ],
      "execution_count": 14,
      "outputs": []
    },
    {
      "cell_type": "code",
      "metadata": {
        "id": "um6uZK5EDzAm"
      },
      "source": [
        "#파라미터 설정\n",
        "vocab_size = 63727\n",
        "embedding_dim = 16\n",
        "max_length = 500\n",
        "padding_type='post'\n",
        "#oov_tok = \"<OOV>\""
      ],
      "execution_count": 15,
      "outputs": []
    },
    {
      "cell_type": "code",
      "metadata": {
        "id": "UvR9_VnTD8L9"
      },
      "source": [
        "#tokenizer에 fit\n",
        "tokenizer = Tokenizer(num_words = vocab_size)#, oov_token=oov_tok)\n",
        "tokenizer.fit_on_texts(X_train)\n",
        "word_index = tokenizer.word_index\n"
      ],
      "execution_count": 16,
      "outputs": []
    },
    {
      "cell_type": "code",
      "metadata": {
        "id": "joBtTgCYavk1",
        "colab": {
          "base_uri": "https://localhost:8080/"
        },
        "outputId": "e1bb0962-40c6-47f2-9ca0-a2fd70fb322c"
      },
      "source": [
        "len(word_index)"
      ],
      "execution_count": 25,
      "outputs": [
        {
          "output_type": "execute_result",
          "data": {
            "text/plain": [
              "63727"
            ]
          },
          "metadata": {
            "tags": []
          },
          "execution_count": 25
        }
      ]
    },
    {
      "cell_type": "code",
      "metadata": {
        "id": "Moj2gUdDPgxY"
      },
      "source": [
        "# Fasttext 임베딩 과정\n",
        "FT_embedding_matrix = np.zeros((vocab_size,100))\n",
        "\n",
        "def get_vector(word):\n",
        "    if word in FastText:\n",
        "        return FastText[word]\n",
        "    else:\n",
        "        return None\n",
        "\n",
        "# 작가8명\n",
        "for word, idx in word_index.items():\n",
        "    temp = get_vector(word)\n",
        "    if temp is not None:\n",
        "        FT_embedding_matrix[idx] = temp\n"
      ],
      "execution_count": 17,
      "outputs": []
    },
    {
      "cell_type": "code",
      "metadata": {
        "id": "2q36KuG3Ona8"
      },
      "source": [
        "# 사전 학습된 glove 불러오고 임베딩 층에 적용시키기 \n",
        "embedding_dict= dict()\n",
        "f = open('/content/drive/MyDrive/Novelist_Classification/embedding/glove.txt', encoding='utf8')\n",
        "\n",
        "for line in f:\n",
        "    word_vector = line.split()\n",
        "    word = word_vector[0]\n",
        "    word_vector_arr = np.asarray(word_vector[1:], dtype='float32')\n",
        "    embedding_dict[word] = word_vector_arr\n",
        "f.close\n",
        "\n",
        "g_embedding_matrix = np.zeros((vocab_size+1, 50))\n",
        "\n",
        "# 작가8명\n",
        "for word, i in word_index.items():\n",
        "    temp = embedding_dict.get(word)\n",
        "    if temp is not None:\n",
        "        g_embedding_matrix[i] = temp\n",
        "\n"
      ],
      "execution_count": 19,
      "outputs": []
    },
    {
      "cell_type": "markdown",
      "metadata": {
        "id": "jdevBGS8bDzE"
      },
      "source": [
        "#GRU 모델 <br>\n",
        "1. 단방향 GRU - fasttext"
      ]
    },
    {
      "cell_type": "code",
      "metadata": {
        "id": "fBR6op5xzo4h"
      },
      "source": [
        "#데이터를 sequence로 변환해주고 padding 해줍니다.\n",
        "train_sequences = tokenizer.texts_to_sequences(X_train)\n",
        "train_padded = pad_sequences(train_sequences, padding=padding_type, maxlen=max_length)\n",
        "\n",
        "test_sequences = tokenizer.texts_to_sequences(X_test)\n",
        "test_padded = pad_sequences(test_sequences, padding=padding_type, maxlen=max_length)\n"
      ],
      "execution_count": 41,
      "outputs": []
    },
    {
      "cell_type": "code",
      "metadata": {
        "id": "DJp2INTobDzJ"
      },
      "source": [
        "# 하이퍼파라미터 설정\n",
        "dropout_prob = 0.8\n",
        "EMB_SIZE = 128\n",
        "EPOCH = 30\n",
        "VOCAB_SIZE = vocab_size"
      ],
      "execution_count": 42,
      "outputs": []
    },
    {
      "cell_type": "code",
      "metadata": {
        "id": "NLA15qZZSIKM",
        "colab": {
          "base_uri": "https://localhost:8080/"
        },
        "outputId": "027a2dce-51b8-4360-d678-5a6f55864ba6"
      },
      "source": [
        "# 단방향 GRU - fasttext\n",
        "from keras.optimizers import Adam\n",
        "model_using_GRU_fasttext_one = tf.keras.Sequential([\n",
        "  tf.keras.layers.Embedding(vocab_size, 100, weights = [FT_embedding_matrix], input_length=max_length),\n",
        "  tf.keras.layers.GRU(units=256, activation='tanh'),\n",
        "  tf.keras.layers.Dropout(dropout_prob),\n",
        "  tf.keras.layers.Dense(8, activation='softmax'),\n",
        "])\n",
        "\n",
        "model_using_GRU_fasttext_one.compile(optimizer='adam', loss='sparse_categorical_crossentropy', metrics=['accuracy'])\n",
        "model_using_GRU_fasttext_one.summary()"
      ],
      "execution_count": 43,
      "outputs": [
        {
          "output_type": "stream",
          "text": [
            "Model: \"sequential_9\"\n",
            "_________________________________________________________________\n",
            "Layer (type)                 Output Shape              Param #   \n",
            "=================================================================\n",
            "embedding_9 (Embedding)      (None, 500, 100)          6372700   \n",
            "_________________________________________________________________\n",
            "gru_9 (GRU)                  (None, 256)               274944    \n",
            "_________________________________________________________________\n",
            "dropout_9 (Dropout)          (None, 256)               0         \n",
            "_________________________________________________________________\n",
            "dense_9 (Dense)              (None, 8)                 2056      \n",
            "=================================================================\n",
            "Total params: 6,649,700\n",
            "Trainable params: 6,649,700\n",
            "Non-trainable params: 0\n",
            "_________________________________________________________________\n"
          ],
          "name": "stdout"
        }
      ]
    },
    {
      "cell_type": "code",
      "metadata": {
        "id": "aZegZliLbDzL",
        "colab": {
          "base_uri": "https://localhost:8080/"
        },
        "outputId": "71fd53ce-8955-43b4-d231-574a63b9777d"
      },
      "source": [
        "# 단방향 GRU 학습 - fasttext\n",
        "early_stopping = tf.keras.callbacks.EarlyStopping(monitor='val_loss', mode='min', patience=5, verbose=1)\n",
        "\n",
        "# fit model\n",
        "num_epochs = 20\n",
        "hist_fast_gru_one = model_using_GRU_fasttext_one.fit(train_padded, y_train,epochs = num_epochs, verbose = 1, validation_split = 0.2, callbacks = [early_stopping])"
      ],
      "execution_count": 44,
      "outputs": [
        {
          "output_type": "stream",
          "text": [
            "Epoch 1/20\n",
            "2081/2081 [==============================] - 186s 89ms/step - loss: 2.0458 - accuracy: 0.1734 - val_loss: 2.0397 - val_accuracy: 0.1849\n",
            "Epoch 2/20\n",
            "2081/2081 [==============================] - 184s 88ms/step - loss: 2.0442 - accuracy: 0.1770 - val_loss: 2.0385 - val_accuracy: 0.1849\n",
            "Epoch 3/20\n",
            "2081/2081 [==============================] - 184s 89ms/step - loss: 2.0432 - accuracy: 0.1769 - val_loss: 2.0382 - val_accuracy: 0.1849\n",
            "Epoch 4/20\n",
            "2081/2081 [==============================] - 185s 89ms/step - loss: 2.0432 - accuracy: 0.1808 - val_loss: 2.0379 - val_accuracy: 0.1849\n",
            "Epoch 5/20\n",
            "2081/2081 [==============================] - 184s 88ms/step - loss: 2.0435 - accuracy: 0.1766 - val_loss: 2.0377 - val_accuracy: 0.1849\n",
            "Epoch 6/20\n",
            "2081/2081 [==============================] - 183s 88ms/step - loss: 2.0473 - accuracy: 0.1750 - val_loss: 2.0385 - val_accuracy: 0.1849\n",
            "Epoch 7/20\n",
            "2081/2081 [==============================] - 183s 88ms/step - loss: 2.0468 - accuracy: 0.1701 - val_loss: 2.0381 - val_accuracy: 0.1849\n",
            "Epoch 8/20\n",
            "2081/2081 [==============================] - 183s 88ms/step - loss: 2.0416 - accuracy: 0.1782 - val_loss: 2.0381 - val_accuracy: 0.1849\n",
            "Epoch 9/20\n",
            "2081/2081 [==============================] - 184s 88ms/step - loss: 2.0423 - accuracy: 0.1743 - val_loss: 2.0382 - val_accuracy: 0.1849\n",
            "Epoch 10/20\n",
            "2081/2081 [==============================] - 184s 88ms/step - loss: 2.0422 - accuracy: 0.1779 - val_loss: 2.0380 - val_accuracy: 0.1849\n",
            "Epoch 00010: early stopping\n"
          ],
          "name": "stdout"
        }
      ]
    },
    {
      "cell_type": "code",
      "metadata": {
        "id": "j6qdu9VMbDzM",
        "colab": {
          "base_uri": "https://localhost:8080/",
          "height": 573
        },
        "outputId": "6f873296-896e-4827-9be3-f6028b9a003b"
      },
      "source": [
        "plt.plot(hist_fast_gru_one.history['accuracy'])\n",
        "plt.plot(hist_fast_gru_one.history['val_accuracy'])\n",
        "plt.title('Fasttext GRU one-direction accuracy')\n",
        "plt.xlabel('Epoch')\n",
        "plt.ylabel('Accuracy')\n",
        "plt.legend(['train', 'val'], loc='upper left')\n",
        "plt.show()\n",
        "\n",
        "plt.plot(hist_fast_gru_one.history['loss'])\n",
        "plt.plot(hist_fast_gru_one.history['val_loss'])\n",
        "plt.title('Fasttext GRU one-direction loss')\n",
        "plt.xlabel('Epoch')\n",
        "plt.ylabel('Loss')\n",
        "plt.legend(['train', 'val'], loc='upper left')\n",
        "plt.show()"
      ],
      "execution_count": 60,
      "outputs": [
        {
          "output_type": "display_data",
          "data": {
            "image/png": "[encoded data removed]",
            "text/plain": [
              "<Figure size 432x288 with 1 Axes>"
            ]
          },
          "metadata": {
            "tags": [],
            "needs_background": "light"
          }
        },
        {
          "output_type": "display_data",
          "data": {
            "image/png": "[encoded data removed]",
            "text/plain": [
              "<Figure size 432x288 with 1 Axes>"
            ]
          },
          "metadata": {
            "tags": [],
            "needs_background": "light"
          }
        }
      ]
    },
    {
      "cell_type": "code",
      "metadata": {
        "id": "A0DFUrWUbDzM"
      },
      "source": [
        "# save GRU\n",
        "model_using_GRU_fasttext_one.save('/content/drive/MyDrive/Novelist_Classification/model/GRU/gru_fast_one.h5')"
      ],
      "execution_count": null,
      "outputs": []
    },
    {
      "cell_type": "markdown",
      "metadata": {
        "id": "HqYsCiW5WDbs"
      },
      "source": [
        "2. 단방향 GRU - glove"
      ]
    },
    {
      "cell_type": "code",
      "metadata": {
        "id": "KR_X8a6_ZeDn"
      },
      "source": [
        "# 하이퍼파라미터 설정\n",
        "dropout_prob = 0.5\n",
        "EMB_SIZE = 128\n",
        "EPOCH = 30\n",
        "VOCAB_SIZE = vocab_size"
      ],
      "execution_count": null,
      "outputs": []
    },
    {
      "cell_type": "code",
      "metadata": {
        "id": "AHSUGOFKZeD1",
        "colab": {
          "base_uri": "https://localhost:8080/"
        },
        "outputId": "0e077f71-bb72-45ff-8bf9-2475125cbb08"
      },
      "source": [
        "# 단방향 GRU - glove\n",
        "from keras.optimizers import Adam\n",
        "model_using_GRU_glove_one = tf.keras.Sequential([\n",
        "  tf.keras.layers.Embedding(vocab_size+1, 50, weights = [g_embedding_matrix], input_length=max_length),\n",
        "  tf.keras.layers.GRU(units=30), # relu를 활용한 GRU\n",
        "  tf.keras.layers.Dropout(dropout_prob),\n",
        "  tf.keras.layers.Dense(8, activation='softmax'),\n",
        "])\n",
        "\n",
        "model_using_GRU_glove_one.compile(optimizer = Adam(), loss='sparse_categorical_crossentropy', metrics=['accuracy'])\n",
        "model_using_GRU_glove_one.summary()"
      ],
      "execution_count": 39,
      "outputs": [
        {
          "output_type": "stream",
          "text": [
            "Model: \"sequential_8\"\n",
            "_________________________________________________________________\n",
            "Layer (type)                 Output Shape              Param #   \n",
            "=================================================================\n",
            "embedding_8 (Embedding)      (None, 500, 50)           3186400   \n",
            "_________________________________________________________________\n",
            "gru_8 (GRU)                  (None, 30)                7380      \n",
            "_________________________________________________________________\n",
            "dropout_8 (Dropout)          (None, 30)                0         \n",
            "_________________________________________________________________\n",
            "dense_8 (Dense)              (None, 8)                 248       \n",
            "=================================================================\n",
            "Total params: 3,194,028\n",
            "Trainable params: 3,194,028\n",
            "Non-trainable params: 0\n",
            "_________________________________________________________________\n"
          ],
          "name": "stdout"
        }
      ]
    },
    {
      "cell_type": "code",
      "metadata": {
        "id": "Y00-uY2JZeD2",
        "colab": {
          "base_uri": "https://localhost:8080/"
        },
        "outputId": "f10cd167-9c39-4f2c-d6fe-526af9411a4f"
      },
      "source": [
        "# 단방향 GRU 학습 - glove\n",
        "early_stopping = tf.keras.callbacks.EarlyStopping(monitor='val_loss', mode='min', patience=5, verbose=1)\n",
        "\n",
        "# fit model\n",
        "num_epochs = 100\n",
        "hist_glove_gru_one = model_using_GRU_glove_one.fit(train_padded, y_train, \n",
        "                    epochs = num_epochs, verbose = 1,\n",
        "                    validation_split = 0.2, callbacks = [early_stopping])"
      ],
      "execution_count": 40,
      "outputs": [
        {
          "output_type": "stream",
          "text": [
            "Epoch 1/100\n",
            "2081/2081 [==============================] - 101s 48ms/step - loss: 2.0464 - accuracy: 0.1724 - val_loss: 2.0395 - val_accuracy: 0.1849\n",
            "Epoch 2/100\n",
            "2081/2081 [==============================] - 99s 47ms/step - loss: 2.0408 - accuracy: 0.1785 - val_loss: 2.0375 - val_accuracy: 0.1849\n",
            "Epoch 3/100\n",
            "2081/2081 [==============================] - 99s 47ms/step - loss: 2.0393 - accuracy: 0.1812 - val_loss: 2.0380 - val_accuracy: 0.1849\n",
            "Epoch 4/100\n",
            "2081/2081 [==============================] - 99s 47ms/step - loss: 2.0403 - accuracy: 0.1806 - val_loss: 2.0379 - val_accuracy: 0.1849\n",
            "Epoch 5/100\n",
            "2081/2081 [==============================] - 99s 47ms/step - loss: 2.0392 - accuracy: 0.1802 - val_loss: 2.0377 - val_accuracy: 0.1849\n",
            "Epoch 6/100\n",
            "2081/2081 [==============================] - 98s 47ms/step - loss: 2.0398 - accuracy: 0.1810 - val_loss: 2.0377 - val_accuracy: 0.1849\n",
            "Epoch 7/100\n",
            "2081/2081 [==============================] - 98s 47ms/step - loss: 2.0388 - accuracy: 0.1807 - val_loss: 2.0377 - val_accuracy: 0.1849\n",
            "Epoch 00007: early stopping\n"
          ],
          "name": "stdout"
        }
      ]
    },
    {
      "cell_type": "code",
      "metadata": {
        "id": "8PFQJXleZeD3"
      },
      "source": [
        "plt.plot(hist_glove_gru_one.history['accuracy'])\n",
        "plt.plot(hist_glove_gru_one.history['val_accuracy'])\n",
        "plt.title('Glove GRU one-direction accuracy')\n",
        "plt.xlabel('Epoch')\n",
        "plt.ylabel('Accuracy')\n",
        "plt.legend(['train', 'val'], loc='upper left')\n",
        "plt.show()\n",
        "\n",
        "plt.plot(hist_glove_gru_one.history['loss'])\n",
        "plt.plot(hist_glove_gru_one.history['val_loss'])\n",
        "plt.title('Glove GRU one-direction loss')\n",
        "plt.xlabel('Epoch')\n",
        "plt.ylabel('Loss')\n",
        "plt.legend(['train', 'val'], loc='upper left')\n",
        "plt.show()"
      ],
      "execution_count": null,
      "outputs": []
    },
    {
      "cell_type": "code",
      "metadata": {
        "id": "np7c7-F_ZeD3"
      },
      "source": [
        "# save GRU\n",
        "model_using_GRU_glove_one.save('/content/drive/MyDrive/Novelist_Classification/model/GRU/gru_glove_one.h5')"
      ],
      "execution_count": null,
      "outputs": []
    },
    {
      "cell_type": "markdown",
      "metadata": {
        "id": "aKyFTORza-1k"
      },
      "source": [
        "3. 양방향 GRU - fasttext"
      ]
    },
    {
      "cell_type": "code",
      "metadata": {
        "id": "p3aiCEDUa3yO"
      },
      "source": [
        "# 하이퍼파라미터 설정\n",
        "dropout_prob = 0.5\n",
        "EMB_SIZE = 128\n",
        "EPOCH = 30\n",
        "VOCAB_SIZE = vocab_size"
      ],
      "execution_count": null,
      "outputs": []
    },
    {
      "cell_type": "code",
      "metadata": {
        "id": "nOwNNIdna3yP"
      },
      "source": [
        "# 양방향 GRU - fasttext\n",
        "from keras.optimizers import Adam\n",
        "model_using_GRU_fasttext_bi = Sequential([\n",
        "    Embedding(vocab_size, 100, weights = [FT_embedding_matrix] ,input_length = max_length),\n",
        "    Bidirectional(GRU(64, return_sequences=True)),\n",
        "    Bidirectional(GRU(64)),\n",
        "    tf.keras.layers.Dropout(dropout_prob),\n",
        "    Dense(8, activation='softmax')\n",
        "])\n",
        "    \n",
        "model_using_GRU_fasttext_bi.compile(loss='sparse_categorical_crossentropy', optimizer = Adam(learning_rate=0.01))\n",
        "model_using_GRU_fasttext_bi.summary()"
      ],
      "execution_count": null,
      "outputs": []
    },
    {
      "cell_type": "code",
      "metadata": {
        "id": "45sf6byka3yP"
      },
      "source": [
        "# 양방향 GRU 학습 - fasttext\n",
        "early_stopping = tf.keras.callbacks.EarlyStopping(monitor='val_loss', mode='min', patience=5, verbose=1)\n",
        "\n",
        "# fit model\n",
        "num_epochs = 20\n",
        "hist_fast_gru_bi = model_using_GRU_fasttext_bi.fit(train_padded_, y_train, \n",
        "                    epochs = num_epochs, verbose = 1,\n",
        "                    validation_split = 0.2, callbacks = [early_stopping])"
      ],
      "execution_count": null,
      "outputs": []
    },
    {
      "cell_type": "code",
      "metadata": {
        "id": "JtbtPWuQa3yQ"
      },
      "source": [
        "plt.plot(hist_fast_gru_bi.history['accuracy'])\n",
        "plt.plot(hist_fast_gru_bi.history['val_accuracy'])\n",
        "plt.title('Fasttext GRU bi-direction accuracy')\n",
        "plt.xlabel('Epoch')\n",
        "plt.ylabel('Accuracy')\n",
        "plt.legend(['train', 'val'], loc='upper left')\n",
        "plt.show()\n",
        "\n",
        "plt.plot(hist_fast_gru_bi.history['loss'])\n",
        "plt.plot(hist_fast_gru_bi.history['val_loss'])\n",
        "plt.title('Fasttext GRU bi-direction loss')\n",
        "plt.xlabel('Epoch')\n",
        "plt.ylabel('Loss')\n",
        "plt.legend(['train', 'val'], loc='upper left')\n",
        "plt.show()"
      ],
      "execution_count": null,
      "outputs": []
    },
    {
      "cell_type": "code",
      "metadata": {
        "id": "XwAcjZrUa3yQ"
      },
      "source": [
        "# save GRU\n",
        "model_using_GRU_fasttext_bi.save('/content/drive/MyDrive/Novelist_Classification/model/GRU/gru_fast_bi.h5')"
      ],
      "execution_count": null,
      "outputs": []
    },
    {
      "cell_type": "markdown",
      "metadata": {
        "id": "EX8MajPda3yS"
      },
      "source": [
        "4. 양방향 GRU - glove"
      ]
    },
    {
      "cell_type": "code",
      "metadata": {
        "id": "NAk_VMs5a3yT"
      },
      "source": [
        "# 하이퍼파라미터 설정\n",
        "dropout_prob = 0.5\n",
        "EMB_SIZE = 128\n",
        "EPOCH = 30\n",
        "VOCAB_SIZE = vocab_size\n",
        "VOCAB_SIZE_new = vocab_size_new"
      ],
      "execution_count": null,
      "outputs": []
    },
    {
      "cell_type": "code",
      "metadata": {
        "id": "i6GXDM1Ya3yT"
      },
      "source": [
        "# 단방향 GRU - glove\n",
        "from keras.optimizers import Adam\n",
        "model_using_GRU_glove_bi = Sequential([\n",
        "    Embedding(vocab_size+1, 50, weights = [g_embedding_matrix] ,input_length = max_length),\n",
        "    Bidirectional(GRU(64, return_sequences=True)),\n",
        "    Bidirectional(GRU(64)),\n",
        "    tf.keras.layers.Dropout(dropout_prob),\n",
        "    Dense(8, activation='softmax')\n",
        "])\n",
        "    \n",
        "model_using_GRU_glove_bi.compile(loss='sparse_categorical_crossentropy', optimizer = Adam(learning_rate=0.01))\n",
        "model_using_GRU_glove_bi.summary()"
      ],
      "execution_count": null,
      "outputs": []
    },
    {
      "cell_type": "code",
      "metadata": {
        "id": "ljLHxQfQa3yT"
      },
      "source": [
        "# 단방향 GRU 학습 - glove\n",
        "early_stopping = tf.keras.callbacks.EarlyStopping(monitor='val_loss', mode='min', patience=5, verbose=1)\n",
        "\n",
        "# fit model\n",
        "num_epochs = 20\n",
        "hist_glove_gru_bi = model_using_GRU_glove_bi.fit(train_padded, y_train, \n",
        "                    epochs = num_epochs, verbose = 2,\n",
        "                    validation_split = 0.2, callbacks = [early_stopping])"
      ],
      "execution_count": null,
      "outputs": []
    },
    {
      "cell_type": "code",
      "metadata": {
        "id": "eXp1V5b_a3yU"
      },
      "source": [
        "plt.plot(hist_glove_gru_bi.history['accuracy'])\n",
        "plt.plot(hist_glove_gru_bi.history['val_accuracy'])\n",
        "plt.title('Glove GRU one-direction accuracy')\n",
        "plt.xlabel('Epoch')\n",
        "plt.ylabel('Accuracy')\n",
        "plt.legend(['train', 'val'], loc='upper left')\n",
        "plt.show()\n",
        "\n",
        "plt.plot(hist_glove_gru_bi.history['loss'])\n",
        "plt.plot(hist_glove_gru_bi.history['val_loss'])\n",
        "plt.title('Glove GRU one-direction loss')\n",
        "plt.xlabel('Epoch')\n",
        "plt.ylabel('Loss')\n",
        "plt.legend(['train', 'val'], loc='upper left')\n",
        "plt.show()"
      ],
      "execution_count": null,
      "outputs": []
    },
    {
      "cell_type": "code",
      "metadata": {
        "id": "Jg3betgEa3yV"
      },
      "source": [
        "# save GRU\n",
        "model_using_GRU_glove_bi.save('/content/drive/MyDrive/Novelist_Classification/model/GRU/gru_glove_bi.h5')"
      ],
      "execution_count": null,
      "outputs": []
    }
  ]
}